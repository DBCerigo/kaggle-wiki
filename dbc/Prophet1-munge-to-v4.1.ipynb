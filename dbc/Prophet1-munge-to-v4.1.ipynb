{
 "cells": [
  {
   "cell_type": "code",
   "execution_count": 3,
   "metadata": {
    "collapsed": true,
    "scrolled": false
   },
   "outputs": [],
   "source": [
    "%load_ext autoreload\n",
    "%autoreload 2 \n",
    "%matplotlib inline"
   ]
  },
  {
   "cell_type": "code",
   "execution_count": 4,
   "metadata": {
    "collapsed": true
   },
   "outputs": [],
   "source": [
    "import matplotlib.pyplot as plt\n",
    "plt.style.use('ggplot')\n",
    "import logging as lg\n",
    "lg.basicConfig(format='%(asctime)s : %(levelname)s : %(message)s', level=lg.INFO)\n",
    "import os\n",
    "import pandas as pd\n",
    "import numpy as np \n",
    "import pickle as pk\n",
    "import glob\n",
    "from fbprophet import Prophet\n",
    "import sys\n",
    "sys.path.append('../')\n",
    "import wiki\n",
    "from wiki import utils \n",
    "import multiprocessing as mp\n",
    "total_proc = None\n",
    "from tqdm import tqdm\n",
    "from IPython.display import clear_output"
   ]
  },
  {
   "cell_type": "markdown",
   "metadata": {},
   "source": [
    "# General column meanings\n",
    "* y_org: what the orginal time series data is (should have missing values staying as missing!)\n",
    "* y: what the model was trained on (the y in val section is kinda irrelevant then)\n",
    "* yhat_org: original unchanged output of the models predict function\n",
    "* yhat: final predictions including post processing\n",
    "# Scoring\n",
    "* Should all be scored using y_org vs yhat\n",
    "* SHOULD MAKE SURE y_org HASN't HAD fillna(0)"
   ]
  },
  {
   "cell_type": "markdown",
   "metadata": {},
   "source": [
    "# AIM: Get new smape -> v2.6\n",
    "* series from pagedf into y_org"
   ]
  },
  {
   "cell_type": "markdown",
   "metadata": {},
   "source": [
    "## Version 4.1\n",
    "Should set version directory name in next cell. Should describe version specifics (outliers, holidays, validation period)\n",
    "\n",
    "* TRAINING\n",
    "   * Val indexing on -60\n",
    "   * Cut outliers out on upper 95% quartile `forecast.loc[forecast['yhat'] < 0,['yhat']] = 0.0`\n",
    "   * Linear growth\n",
    "   * Fill ALL other NaNs to 0 BUT KEEP y_org (get it from pagedf)\n",
    "   * Now with try:except: for the `RuntimeError': k initialized to invalid value (-nan)` which replaces first `y` with 0.001\n",
    "   * Set n changepoints evenly spaced change points -> `ds.ds[::n]`\n",
    "   \n",
    "* PREDICTIONS\n",
    "   * Truncating predictions at 0 \n",
    "   * Rounding to nearest int\n",
    "\n",
    "### Remarks\n",
    "* ?\n"
   ]
  },
  {
   "cell_type": "code",
   "execution_count": 5,
   "metadata": {
    "collapsed": true
   },
   "outputs": [],
   "source": [
    "PROPHET_PATH = '../data/prophet/'\n",
    "RESULTS_PATH = 'results/'"
   ]
  },
  {
   "cell_type": "code",
   "execution_count": 6,
   "metadata": {
    "scrolled": false
   },
   "outputs": [],
   "source": [
    "TARGET_VERSION = 'v4.1/'\n",
    "BASE_VERSION = 'v4/'\n",
    "os.makedirs(PROPHET_PATH+TARGET_VERSION)"
   ]
  },
  {
   "cell_type": "code",
   "execution_count": 7,
   "metadata": {
    "collapsed": true
   },
   "outputs": [],
   "source": [
    "pagedf = pd.read_feather(PROPHET_PATH+'pagedf.f')"
   ]
  },
  {
   "cell_type": "code",
   "execution_count": 8,
   "metadata": {
    "collapsed": true
   },
   "outputs": [],
   "source": [
    "forecast_files = [x.split('/')[-1] for x in glob.glob(PROPHET_PATH+BASE_VERSION+'*df.f')]"
   ]
  },
  {
   "cell_type": "code",
   "execution_count": 9,
   "metadata": {},
   "outputs": [
    {
     "data": {
      "text/plain": [
       "'20274df.f'"
      ]
     },
     "execution_count": 9,
     "metadata": {},
     "output_type": "execute_result"
    }
   ],
   "source": [
    "forecast_files[18284]"
   ]
  },
  {
   "cell_type": "code",
   "execution_count": 19,
   "metadata": {
    "scrolled": true
   },
   "outputs": [
    {
     "data": {
      "text/plain": [
       "0   NaN\n",
       "1   NaN\n",
       "2   NaN\n",
       "3   NaN\n",
       "4   NaN\n",
       "Name: 20274, dtype: float64"
      ]
     },
     "execution_count": 19,
     "metadata": {},
     "output_type": "execute_result"
    }
   ],
   "source": [
    "pagedf[forecast_files[18284][:-4]].head()"
   ]
  },
  {
   "cell_type": "code",
   "execution_count": 11,
   "metadata": {},
   "outputs": [
    {
     "data": {
      "text/plain": [
       "['61780', '88262']"
      ]
     },
     "execution_count": 11,
     "metadata": {},
     "output_type": "execute_result"
    }
   ],
   "source": [
    "[x[:-4] for x in forecast_files[:2]]"
   ]
  },
  {
   "cell_type": "code",
   "execution_count": 12,
   "metadata": {
    "collapsed": true
   },
   "outputs": [],
   "source": [
    "base_df = pd.read_feather(PROPHET_PATH+BASE_VERSION+forecast_files[18284])"
   ]
  },
  {
   "cell_type": "code",
   "execution_count": 18,
   "metadata": {},
   "outputs": [
    {
     "data": {
      "text/html": [
       "<div>\n",
       "<style>\n",
       "    .dataframe thead tr:only-child th {\n",
       "        text-align: right;\n",
       "    }\n",
       "\n",
       "    .dataframe thead th {\n",
       "        text-align: left;\n",
       "    }\n",
       "\n",
       "    .dataframe tbody tr th {\n",
       "        vertical-align: top;\n",
       "    }\n",
       "</style>\n",
       "<table border=\"1\" class=\"dataframe\">\n",
       "  <thead>\n",
       "    <tr style=\"text-align: right;\">\n",
       "      <th></th>\n",
       "      <th>ds</th>\n",
       "      <th>t</th>\n",
       "      <th>trend</th>\n",
       "      <th>seasonal_lower</th>\n",
       "      <th>seasonal_upper</th>\n",
       "      <th>trend_lower</th>\n",
       "      <th>trend_upper</th>\n",
       "      <th>yhat_lower</th>\n",
       "      <th>yhat_upper</th>\n",
       "      <th>weekly</th>\n",
       "      <th>...</th>\n",
       "      <th>weekly_upper</th>\n",
       "      <th>yearly</th>\n",
       "      <th>yearly_lower</th>\n",
       "      <th>yearly_upper</th>\n",
       "      <th>seasonal</th>\n",
       "      <th>yhat</th>\n",
       "      <th>yhat_org</th>\n",
       "      <th>y</th>\n",
       "      <th>y_org</th>\n",
       "      <th>train</th>\n",
       "    </tr>\n",
       "  </thead>\n",
       "  <tbody>\n",
       "    <tr>\n",
       "      <th>0</th>\n",
       "      <td>2015-07-01</td>\n",
       "      <td>0.000000</td>\n",
       "      <td>4.717449</td>\n",
       "      <td>-1.708587</td>\n",
       "      <td>-1.708587</td>\n",
       "      <td>4.717449</td>\n",
       "      <td>4.717449</td>\n",
       "      <td>0.251579</td>\n",
       "      <td>5.687724</td>\n",
       "      <td>-0.277639</td>\n",
       "      <td>...</td>\n",
       "      <td>-0.277639</td>\n",
       "      <td>-1.430948</td>\n",
       "      <td>-1.430948</td>\n",
       "      <td>-1.430948</td>\n",
       "      <td>-1.708587</td>\n",
       "      <td>3</td>\n",
       "      <td>3.008862</td>\n",
       "      <td>3.0</td>\n",
       "      <td>3.0</td>\n",
       "      <td>1.0</td>\n",
       "    </tr>\n",
       "    <tr>\n",
       "      <th>1</th>\n",
       "      <td>2015-07-02</td>\n",
       "      <td>0.002045</td>\n",
       "      <td>4.717523</td>\n",
       "      <td>-1.675377</td>\n",
       "      <td>-1.675377</td>\n",
       "      <td>4.717523</td>\n",
       "      <td>4.717523</td>\n",
       "      <td>0.339266</td>\n",
       "      <td>5.860680</td>\n",
       "      <td>-0.328690</td>\n",
       "      <td>...</td>\n",
       "      <td>-0.328690</td>\n",
       "      <td>-1.346687</td>\n",
       "      <td>-1.346687</td>\n",
       "      <td>-1.346687</td>\n",
       "      <td>-1.675377</td>\n",
       "      <td>3</td>\n",
       "      <td>3.042146</td>\n",
       "      <td>2.0</td>\n",
       "      <td>2.0</td>\n",
       "      <td>1.0</td>\n",
       "    </tr>\n",
       "    <tr>\n",
       "      <th>2</th>\n",
       "      <td>2015-07-03</td>\n",
       "      <td>0.004090</td>\n",
       "      <td>4.717596</td>\n",
       "      <td>-1.107914</td>\n",
       "      <td>-1.107914</td>\n",
       "      <td>4.717596</td>\n",
       "      <td>4.717596</td>\n",
       "      <td>0.816130</td>\n",
       "      <td>6.144053</td>\n",
       "      <td>0.147018</td>\n",
       "      <td>...</td>\n",
       "      <td>0.147018</td>\n",
       "      <td>-1.254931</td>\n",
       "      <td>-1.254931</td>\n",
       "      <td>-1.254931</td>\n",
       "      <td>-1.107914</td>\n",
       "      <td>4</td>\n",
       "      <td>3.609683</td>\n",
       "      <td>5.0</td>\n",
       "      <td>5.0</td>\n",
       "      <td>1.0</td>\n",
       "    </tr>\n",
       "    <tr>\n",
       "      <th>3</th>\n",
       "      <td>2015-07-04</td>\n",
       "      <td>0.006135</td>\n",
       "      <td>4.717670</td>\n",
       "      <td>-0.773410</td>\n",
       "      <td>-0.773410</td>\n",
       "      <td>4.717670</td>\n",
       "      <td>4.717670</td>\n",
       "      <td>1.041049</td>\n",
       "      <td>6.637009</td>\n",
       "      <td>0.383704</td>\n",
       "      <td>...</td>\n",
       "      <td>0.383704</td>\n",
       "      <td>-1.157115</td>\n",
       "      <td>-1.157115</td>\n",
       "      <td>-1.157115</td>\n",
       "      <td>-0.773410</td>\n",
       "      <td>4</td>\n",
       "      <td>3.944260</td>\n",
       "      <td>5.0</td>\n",
       "      <td>5.0</td>\n",
       "      <td>1.0</td>\n",
       "    </tr>\n",
       "    <tr>\n",
       "      <th>4</th>\n",
       "      <td>2015-07-05</td>\n",
       "      <td>0.008180</td>\n",
       "      <td>4.717744</td>\n",
       "      <td>-0.702107</td>\n",
       "      <td>-0.702107</td>\n",
       "      <td>4.717744</td>\n",
       "      <td>4.717744</td>\n",
       "      <td>1.280959</td>\n",
       "      <td>6.809764</td>\n",
       "      <td>0.352651</td>\n",
       "      <td>...</td>\n",
       "      <td>0.352651</td>\n",
       "      <td>-1.054758</td>\n",
       "      <td>-1.054758</td>\n",
       "      <td>-1.054758</td>\n",
       "      <td>-0.702107</td>\n",
       "      <td>4</td>\n",
       "      <td>4.015637</td>\n",
       "      <td>3.0</td>\n",
       "      <td>3.0</td>\n",
       "      <td>1.0</td>\n",
       "    </tr>\n",
       "  </tbody>\n",
       "</table>\n",
       "<p>5 rows × 21 columns</p>\n",
       "</div>"
      ],
      "text/plain": [
       "          ds         t     trend  seasonal_lower  seasonal_upper  trend_lower  \\\n",
       "0 2015-07-01  0.000000  4.717449       -1.708587       -1.708587     4.717449   \n",
       "1 2015-07-02  0.002045  4.717523       -1.675377       -1.675377     4.717523   \n",
       "2 2015-07-03  0.004090  4.717596       -1.107914       -1.107914     4.717596   \n",
       "3 2015-07-04  0.006135  4.717670       -0.773410       -0.773410     4.717670   \n",
       "4 2015-07-05  0.008180  4.717744       -0.702107       -0.702107     4.717744   \n",
       "\n",
       "   trend_upper  yhat_lower  yhat_upper    weekly  ...    weekly_upper  \\\n",
       "0     4.717449    0.251579    5.687724 -0.277639  ...       -0.277639   \n",
       "1     4.717523    0.339266    5.860680 -0.328690  ...       -0.328690   \n",
       "2     4.717596    0.816130    6.144053  0.147018  ...        0.147018   \n",
       "3     4.717670    1.041049    6.637009  0.383704  ...        0.383704   \n",
       "4     4.717744    1.280959    6.809764  0.352651  ...        0.352651   \n",
       "\n",
       "     yearly  yearly_lower  yearly_upper  seasonal  yhat  yhat_org    y  y_org  \\\n",
       "0 -1.430948     -1.430948     -1.430948 -1.708587     3  3.008862  3.0    3.0   \n",
       "1 -1.346687     -1.346687     -1.346687 -1.675377     3  3.042146  2.0    2.0   \n",
       "2 -1.254931     -1.254931     -1.254931 -1.107914     4  3.609683  5.0    5.0   \n",
       "3 -1.157115     -1.157115     -1.157115 -0.773410     4  3.944260  5.0    5.0   \n",
       "4 -1.054758     -1.054758     -1.054758 -0.702107     4  4.015637  3.0    3.0   \n",
       "\n",
       "   train  \n",
       "0    1.0  \n",
       "1    1.0  \n",
       "2    1.0  \n",
       "3    1.0  \n",
       "4    1.0  \n",
       "\n",
       "[5 rows x 21 columns]"
      ]
     },
     "execution_count": 18,
     "metadata": {},
     "output_type": "execute_result"
    }
   ],
   "source": [
    "base_df.head()"
   ]
  },
  {
   "cell_type": "code",
   "execution_count": 15,
   "metadata": {},
   "outputs": [
    {
     "name": "stderr",
     "output_type": "stream",
     "text": [
      "100%|██████████| 145063/145063 [29:33<00:00, 81.79it/s]\n"
     ]
    }
   ],
   "source": [
    "val_results = []\n",
    "for file in tqdm(forecast_files):\n",
    "    base_df = pd.read_feather(PROPHET_PATH+BASE_VERSION+file)\n",
    "    # y_org to be the orginal timeseries data\n",
    "    base_df.loc[:,'y_org'] = pagedf[file[:-4]]\n",
    "    base_df.to_feather(PROPHET_PATH+TARGET_VERSION+file)\n",
    "    full_smape = wiki.val.smape(base_df.y_org, base_df.yhat)\n",
    "    val_smape = wiki.val.smape(base_df[base_df['train'] == 0].y_org,base_df[base_df['train'] == 0].yhat)\n",
    "    val_results.append((file[:-4], full_smape, val_smape))\n",
    "val_results = pd.DataFrame(val_results, columns=['page_index',TARGET_VERSION[:-1]+'_full',TARGET_VERSION[:-1]+'_val'])\n",
    "val_results.to_feather(PROPHET_PATH+RESULTS_PATH+TARGET_VERSION[:-1]+'df.f')"
   ]
  },
  {
   "cell_type": "code",
   "execution_count": 16,
   "metadata": {
    "collapsed": true
   },
   "outputs": [],
   "source": [
    "resultsdf = pd.read_feather(PROPHET_PATH+RESULTS_PATH+TARGET_VERSION[:-1]+'df.f')"
   ]
  },
  {
   "cell_type": "code",
   "execution_count": 17,
   "metadata": {},
   "outputs": [
    {
     "data": {
      "text/plain": [
       "57.112413202609467"
      ]
     },
     "execution_count": 17,
     "metadata": {},
     "output_type": "execute_result"
    }
   ],
   "source": [
    "resultsdf['v4.1_val'].mean()\n",
    "# base was v4 at 55.696"
   ]
  }
 ],
 "metadata": {
  "kernelspec": {
   "display_name": "Python 3",
   "language": "python",
   "name": "python3"
  },
  "language_info": {
   "codemirror_mode": {
    "name": "ipython",
    "version": 3
   },
   "file_extension": ".py",
   "mimetype": "text/x-python",
   "name": "python",
   "nbconvert_exporter": "python",
   "pygments_lexer": "ipython3",
   "version": "3.6.2"
  }
 },
 "nbformat": 4,
 "nbformat_minor": 2
}
