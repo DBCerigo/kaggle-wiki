{
 "cells": [
  {
   "cell_type": "code",
   "execution_count": 10,
   "metadata": {},
   "outputs": [
    {
     "name": "stdout",
     "output_type": "stream",
     "text": [
      "The autoreload extension is already loaded. To reload it, use:\n",
      "  %reload_ext autoreload\n"
     ]
    }
   ],
   "source": [
    "%load_ext autoreload\n",
    "%autoreload 2 \n",
    "%matplotlib inline"
   ]
  },
  {
   "cell_type": "code",
   "execution_count": 11,
   "metadata": {
    "collapsed": true
   },
   "outputs": [],
   "source": [
    "import matplotlib.pyplot as plt\n",
    "plt.rcParams[\"figure.figsize\"] = [16,9]\n",
    "plt.style.use('ggplot')\n",
    "import os\n",
    "import pandas as pd\n",
    "import numpy as np \n",
    "import pickle as pk\n",
    "import glob\n",
    "from fbprophet import Prophet\n",
    "import sys\n",
    "sys.path.append('../')\n",
    "import wiki\n",
    "from wiki import utils \n",
    "import multiprocessing as mp\n",
    "total_proc = None\n",
    "from tqdm import tqdm\n",
    "from IPython.display import clear_output"
   ]
  },
  {
   "cell_type": "code",
   "execution_count": 12,
   "metadata": {
    "collapsed": true
   },
   "outputs": [],
   "source": [
    "PROPHET_PATH = '../data/prophet/'\n",
    "DATA_PATH = '../data/'\n",
    "RESULTS_PATH = 'results/'"
   ]
  },
  {
   "cell_type": "code",
   "execution_count": 13,
   "metadata": {
    "collapsed": true
   },
   "outputs": [],
   "source": [
    "train = pd.read_csv(DATA_PATH+'train_2.csv')"
   ]
  },
  {
   "cell_type": "code",
   "execution_count": 14,
   "metadata": {},
   "outputs": [
    {
     "data": {
      "text/html": [
       "<div>\n",
       "<style>\n",
       "    .dataframe thead tr:only-child th {\n",
       "        text-align: right;\n",
       "    }\n",
       "\n",
       "    .dataframe thead th {\n",
       "        text-align: left;\n",
       "    }\n",
       "\n",
       "    .dataframe tbody tr th {\n",
       "        vertical-align: top;\n",
       "    }\n",
       "</style>\n",
       "<table border=\"1\" class=\"dataframe\">\n",
       "  <thead>\n",
       "    <tr style=\"text-align: right;\">\n",
       "      <th></th>\n",
       "      <th>page_index</th>\n",
       "      <th>Page</th>\n",
       "    </tr>\n",
       "  </thead>\n",
       "  <tbody>\n",
       "    <tr>\n",
       "      <th>0</th>\n",
       "      <td>0</td>\n",
       "      <td>2NE1_zh.wikipedia.org_all-access_spider</td>\n",
       "    </tr>\n",
       "    <tr>\n",
       "      <th>1</th>\n",
       "      <td>1</td>\n",
       "      <td>2PM_zh.wikipedia.org_all-access_spider</td>\n",
       "    </tr>\n",
       "    <tr>\n",
       "      <th>2</th>\n",
       "      <td>2</td>\n",
       "      <td>3C_zh.wikipedia.org_all-access_spider</td>\n",
       "    </tr>\n",
       "    <tr>\n",
       "      <th>3</th>\n",
       "      <td>3</td>\n",
       "      <td>4minute_zh.wikipedia.org_all-access_spider</td>\n",
       "    </tr>\n",
       "    <tr>\n",
       "      <th>4</th>\n",
       "      <td>4</td>\n",
       "      <td>52_Hz_I_Love_You_zh.wikipedia.org_all-access_s...</td>\n",
       "    </tr>\n",
       "  </tbody>\n",
       "</table>\n",
       "</div>"
      ],
      "text/plain": [
       "   page_index                                               Page\n",
       "0           0            2NE1_zh.wikipedia.org_all-access_spider\n",
       "1           1             2PM_zh.wikipedia.org_all-access_spider\n",
       "2           2              3C_zh.wikipedia.org_all-access_spider\n",
       "3           3         4minute_zh.wikipedia.org_all-access_spider\n",
       "4           4  52_Hz_I_Love_You_zh.wikipedia.org_all-access_s..."
      ]
     },
     "execution_count": 14,
     "metadata": {},
     "output_type": "execute_result"
    }
   ],
   "source": [
    "median_df = train.loc[:,['Page']].reset_index()\n",
    "median_df.columns = ['page_index', 'Page']; median_df.head()"
   ]
  },
  {
   "cell_type": "code",
   "execution_count": 15,
   "metadata": {
    "collapsed": true
   },
   "outputs": [],
   "source": [
    "def prevYear_shift(period):\n",
    "    year = 365\n",
    "    assert period[0]\n",
    "    new1 = period[0] - year\n",
    "    if not period[1]:\n",
    "        new2 = -year\n",
    "    else:\n",
    "        new2 = period[1] - year\n",
    "    return (new1,new2)"
   ]
  },
  {
   "cell_type": "code",
   "execution_count": 16,
   "metadata": {},
   "outputs": [
    {
     "data": {
      "text/html": [
       "<div>\n",
       "<style>\n",
       "    .dataframe thead tr:only-child th {\n",
       "        text-align: right;\n",
       "    }\n",
       "\n",
       "    .dataframe thead th {\n",
       "        text-align: left;\n",
       "    }\n",
       "\n",
       "    .dataframe tbody tr th {\n",
       "        vertical-align: top;\n",
       "    }\n",
       "</style>\n",
       "<table border=\"1\" class=\"dataframe\">\n",
       "  <thead>\n",
       "    <tr style=\"text-align: right;\">\n",
       "      <th></th>\n",
       "      <th>2017-07-03</th>\n",
       "      <th>2017-07-04</th>\n",
       "      <th>2017-07-05</th>\n",
       "      <th>2017-07-06</th>\n",
       "      <th>2017-07-07</th>\n",
       "      <th>2017-07-08</th>\n",
       "      <th>2017-07-09</th>\n",
       "      <th>2017-07-10</th>\n",
       "      <th>2017-07-11</th>\n",
       "      <th>2017-07-12</th>\n",
       "      <th>...</th>\n",
       "      <th>2017-08-22</th>\n",
       "      <th>2017-08-23</th>\n",
       "      <th>2017-08-24</th>\n",
       "      <th>2017-08-25</th>\n",
       "      <th>2017-08-26</th>\n",
       "      <th>2017-08-27</th>\n",
       "      <th>2017-08-28</th>\n",
       "      <th>2017-08-29</th>\n",
       "      <th>2017-08-30</th>\n",
       "      <th>2017-08-31</th>\n",
       "    </tr>\n",
       "  </thead>\n",
       "  <tbody>\n",
       "    <tr>\n",
       "      <th>0</th>\n",
       "      <td>26.0</td>\n",
       "      <td>15.0</td>\n",
       "      <td>14.0</td>\n",
       "      <td>15.0</td>\n",
       "      <td>19.0</td>\n",
       "      <td>29.0</td>\n",
       "      <td>22.0</td>\n",
       "      <td>25.0</td>\n",
       "      <td>20.0</td>\n",
       "      <td>19.0</td>\n",
       "      <td>...</td>\n",
       "      <td>37.0</td>\n",
       "      <td>58.0</td>\n",
       "      <td>25.0</td>\n",
       "      <td>23.0</td>\n",
       "      <td>25.0</td>\n",
       "      <td>47.0</td>\n",
       "      <td>44.0</td>\n",
       "      <td>26.0</td>\n",
       "      <td>24.0</td>\n",
       "      <td>21.0</td>\n",
       "    </tr>\n",
       "    <tr>\n",
       "      <th>1</th>\n",
       "      <td>16.0</td>\n",
       "      <td>23.0</td>\n",
       "      <td>19.0</td>\n",
       "      <td>16.0</td>\n",
       "      <td>816.0</td>\n",
       "      <td>20.0</td>\n",
       "      <td>76.0</td>\n",
       "      <td>24.0</td>\n",
       "      <td>15.0</td>\n",
       "      <td>12.0</td>\n",
       "      <td>...</td>\n",
       "      <td>14.0</td>\n",
       "      <td>34.0</td>\n",
       "      <td>16.0</td>\n",
       "      <td>31.0</td>\n",
       "      <td>34.0</td>\n",
       "      <td>33.0</td>\n",
       "      <td>32.0</td>\n",
       "      <td>29.0</td>\n",
       "      <td>34.0</td>\n",
       "      <td>25.0</td>\n",
       "    </tr>\n",
       "    <tr>\n",
       "      <th>2</th>\n",
       "      <td>7.0</td>\n",
       "      <td>1.0</td>\n",
       "      <td>1.0</td>\n",
       "      <td>1.0</td>\n",
       "      <td>10.0</td>\n",
       "      <td>1.0</td>\n",
       "      <td>2.0</td>\n",
       "      <td>6.0</td>\n",
       "      <td>5.0</td>\n",
       "      <td>1.0</td>\n",
       "      <td>...</td>\n",
       "      <td>6.0</td>\n",
       "      <td>23.0</td>\n",
       "      <td>11.0</td>\n",
       "      <td>8.0</td>\n",
       "      <td>6.0</td>\n",
       "      <td>13.0</td>\n",
       "      <td>12.0</td>\n",
       "      <td>8.0</td>\n",
       "      <td>12.0</td>\n",
       "      <td>9.0</td>\n",
       "    </tr>\n",
       "    <tr>\n",
       "      <th>3</th>\n",
       "      <td>16.0</td>\n",
       "      <td>10.0</td>\n",
       "      <td>17.0</td>\n",
       "      <td>15.0</td>\n",
       "      <td>22.0</td>\n",
       "      <td>6.0</td>\n",
       "      <td>6.0</td>\n",
       "      <td>18.0</td>\n",
       "      <td>12.0</td>\n",
       "      <td>16.0</td>\n",
       "      <td>...</td>\n",
       "      <td>21.0</td>\n",
       "      <td>42.0</td>\n",
       "      <td>23.0</td>\n",
       "      <td>17.0</td>\n",
       "      <td>11.0</td>\n",
       "      <td>21.0</td>\n",
       "      <td>20.0</td>\n",
       "      <td>20.0</td>\n",
       "      <td>110.0</td>\n",
       "      <td>15.0</td>\n",
       "    </tr>\n",
       "    <tr>\n",
       "      <th>4</th>\n",
       "      <td>6.0</td>\n",
       "      <td>16.0</td>\n",
       "      <td>18.0</td>\n",
       "      <td>12.0</td>\n",
       "      <td>14.0</td>\n",
       "      <td>11.0</td>\n",
       "      <td>16.0</td>\n",
       "      <td>15.0</td>\n",
       "      <td>9.0</td>\n",
       "      <td>12.0</td>\n",
       "      <td>...</td>\n",
       "      <td>23.0</td>\n",
       "      <td>41.0</td>\n",
       "      <td>25.0</td>\n",
       "      <td>22.0</td>\n",
       "      <td>20.0</td>\n",
       "      <td>24.0</td>\n",
       "      <td>29.0</td>\n",
       "      <td>20.0</td>\n",
       "      <td>17.0</td>\n",
       "      <td>24.0</td>\n",
       "    </tr>\n",
       "  </tbody>\n",
       "</table>\n",
       "<p>5 rows × 60 columns</p>\n",
       "</div>"
      ],
      "text/plain": [
       "   2017-07-03  2017-07-04  2017-07-05  2017-07-06  2017-07-07  2017-07-08  \\\n",
       "0        26.0        15.0        14.0        15.0        19.0        29.0   \n",
       "1        16.0        23.0        19.0        16.0       816.0        20.0   \n",
       "2         7.0         1.0         1.0         1.0        10.0         1.0   \n",
       "3        16.0        10.0        17.0        15.0        22.0         6.0   \n",
       "4         6.0        16.0        18.0        12.0        14.0        11.0   \n",
       "\n",
       "   2017-07-09  2017-07-10  2017-07-11  2017-07-12     ...      2017-08-22  \\\n",
       "0        22.0        25.0        20.0        19.0     ...            37.0   \n",
       "1        76.0        24.0        15.0        12.0     ...            14.0   \n",
       "2         2.0         6.0         5.0         1.0     ...             6.0   \n",
       "3         6.0        18.0        12.0        16.0     ...            21.0   \n",
       "4        16.0        15.0         9.0        12.0     ...            23.0   \n",
       "\n",
       "   2017-08-23  2017-08-24  2017-08-25  2017-08-26  2017-08-27  2017-08-28  \\\n",
       "0        58.0        25.0        23.0        25.0        47.0        44.0   \n",
       "1        34.0        16.0        31.0        34.0        33.0        32.0   \n",
       "2        23.0        11.0         8.0         6.0        13.0        12.0   \n",
       "3        42.0        23.0        17.0        11.0        21.0        20.0   \n",
       "4        41.0        25.0        22.0        20.0        24.0        29.0   \n",
       "\n",
       "   2017-08-29  2017-08-30  2017-08-31  \n",
       "0        26.0        24.0        21.0  \n",
       "1        29.0        34.0        25.0  \n",
       "2         8.0        12.0         9.0  \n",
       "3        20.0       110.0        15.0  \n",
       "4        20.0        17.0        24.0  \n",
       "\n",
       "[5 rows x 60 columns]"
      ]
     },
     "execution_count": 16,
     "metadata": {},
     "output_type": "execute_result"
    }
   ],
   "source": [
    "period = (-60,None)\n",
    "train.iloc[:,period[0]:period[1]].head()"
   ]
  },
  {
   "cell_type": "code",
   "execution_count": 17,
   "metadata": {
    "scrolled": false
   },
   "outputs": [
    {
     "data": {
      "text/html": [
       "<div>\n",
       "<style>\n",
       "    .dataframe thead tr:only-child th {\n",
       "        text-align: right;\n",
       "    }\n",
       "\n",
       "    .dataframe thead th {\n",
       "        text-align: left;\n",
       "    }\n",
       "\n",
       "    .dataframe tbody tr th {\n",
       "        vertical-align: top;\n",
       "    }\n",
       "</style>\n",
       "<table border=\"1\" class=\"dataframe\">\n",
       "  <thead>\n",
       "    <tr style=\"text-align: right;\">\n",
       "      <th></th>\n",
       "      <th>2016-07-03</th>\n",
       "      <th>2016-07-04</th>\n",
       "      <th>2016-07-05</th>\n",
       "      <th>2016-07-06</th>\n",
       "      <th>2016-07-07</th>\n",
       "      <th>2016-07-08</th>\n",
       "      <th>2016-07-09</th>\n",
       "      <th>2016-07-10</th>\n",
       "      <th>2016-07-11</th>\n",
       "      <th>2016-07-12</th>\n",
       "      <th>...</th>\n",
       "      <th>2016-08-22</th>\n",
       "      <th>2016-08-23</th>\n",
       "      <th>2016-08-24</th>\n",
       "      <th>2016-08-25</th>\n",
       "      <th>2016-08-26</th>\n",
       "      <th>2016-08-27</th>\n",
       "      <th>2016-08-28</th>\n",
       "      <th>2016-08-29</th>\n",
       "      <th>2016-08-30</th>\n",
       "      <th>2016-08-31</th>\n",
       "    </tr>\n",
       "  </thead>\n",
       "  <tbody>\n",
       "    <tr>\n",
       "      <th>0</th>\n",
       "      <td>15.0</td>\n",
       "      <td>16.0</td>\n",
       "      <td>18.0</td>\n",
       "      <td>21.0</td>\n",
       "      <td>15.0</td>\n",
       "      <td>30.0</td>\n",
       "      <td>115.0</td>\n",
       "      <td>56.0</td>\n",
       "      <td>45.0</td>\n",
       "      <td>17.0</td>\n",
       "      <td>...</td>\n",
       "      <td>20.0</td>\n",
       "      <td>33.0</td>\n",
       "      <td>20.0</td>\n",
       "      <td>14.0</td>\n",
       "      <td>40.0</td>\n",
       "      <td>15.0</td>\n",
       "      <td>18.0</td>\n",
       "      <td>26.0</td>\n",
       "      <td>8.0</td>\n",
       "      <td>25.0</td>\n",
       "    </tr>\n",
       "    <tr>\n",
       "      <th>1</th>\n",
       "      <td>12.0</td>\n",
       "      <td>28.0</td>\n",
       "      <td>28.0</td>\n",
       "      <td>17.0</td>\n",
       "      <td>27.0</td>\n",
       "      <td>48.0</td>\n",
       "      <td>184.0</td>\n",
       "      <td>64.0</td>\n",
       "      <td>24.0</td>\n",
       "      <td>92.0</td>\n",
       "      <td>...</td>\n",
       "      <td>29.0</td>\n",
       "      <td>10.0</td>\n",
       "      <td>14.0</td>\n",
       "      <td>23.0</td>\n",
       "      <td>15.0</td>\n",
       "      <td>12.0</td>\n",
       "      <td>25.0</td>\n",
       "      <td>22.0</td>\n",
       "      <td>144.0</td>\n",
       "      <td>31.0</td>\n",
       "    </tr>\n",
       "    <tr>\n",
       "      <th>2</th>\n",
       "      <td>2.0</td>\n",
       "      <td>4.0</td>\n",
       "      <td>3.0</td>\n",
       "      <td>4.0</td>\n",
       "      <td>2.0</td>\n",
       "      <td>0.0</td>\n",
       "      <td>1.0</td>\n",
       "      <td>3.0</td>\n",
       "      <td>12.0</td>\n",
       "      <td>4.0</td>\n",
       "      <td>...</td>\n",
       "      <td>4.0</td>\n",
       "      <td>4.0</td>\n",
       "      <td>2.0</td>\n",
       "      <td>5.0</td>\n",
       "      <td>3.0</td>\n",
       "      <td>2.0</td>\n",
       "      <td>3.0</td>\n",
       "      <td>5.0</td>\n",
       "      <td>4.0</td>\n",
       "      <td>2.0</td>\n",
       "    </tr>\n",
       "    <tr>\n",
       "      <th>3</th>\n",
       "      <td>11.0</td>\n",
       "      <td>36.0</td>\n",
       "      <td>19.0</td>\n",
       "      <td>35.0</td>\n",
       "      <td>22.0</td>\n",
       "      <td>14.0</td>\n",
       "      <td>17.0</td>\n",
       "      <td>15.0</td>\n",
       "      <td>12.0</td>\n",
       "      <td>34.0</td>\n",
       "      <td>...</td>\n",
       "      <td>5.0</td>\n",
       "      <td>7.0</td>\n",
       "      <td>18.0</td>\n",
       "      <td>9.0</td>\n",
       "      <td>13.0</td>\n",
       "      <td>27.0</td>\n",
       "      <td>15.0</td>\n",
       "      <td>19.0</td>\n",
       "      <td>7.0</td>\n",
       "      <td>9.0</td>\n",
       "    </tr>\n",
       "    <tr>\n",
       "      <th>4</th>\n",
       "      <td>3.0</td>\n",
       "      <td>4.0</td>\n",
       "      <td>2.0</td>\n",
       "      <td>3.0</td>\n",
       "      <td>4.0</td>\n",
       "      <td>1.0</td>\n",
       "      <td>1.0</td>\n",
       "      <td>9.0</td>\n",
       "      <td>0.0</td>\n",
       "      <td>1.0</td>\n",
       "      <td>...</td>\n",
       "      <td>2.0</td>\n",
       "      <td>4.0</td>\n",
       "      <td>3.0</td>\n",
       "      <td>3.0</td>\n",
       "      <td>1.0</td>\n",
       "      <td>3.0</td>\n",
       "      <td>5.0</td>\n",
       "      <td>2.0</td>\n",
       "      <td>3.0</td>\n",
       "      <td>2.0</td>\n",
       "    </tr>\n",
       "  </tbody>\n",
       "</table>\n",
       "<p>5 rows × 60 columns</p>\n",
       "</div>"
      ],
      "text/plain": [
       "   2016-07-03  2016-07-04  2016-07-05  2016-07-06  2016-07-07  2016-07-08  \\\n",
       "0        15.0        16.0        18.0        21.0        15.0        30.0   \n",
       "1        12.0        28.0        28.0        17.0        27.0        48.0   \n",
       "2         2.0         4.0         3.0         4.0         2.0         0.0   \n",
       "3        11.0        36.0        19.0        35.0        22.0        14.0   \n",
       "4         3.0         4.0         2.0         3.0         4.0         1.0   \n",
       "\n",
       "   2016-07-09  2016-07-10  2016-07-11  2016-07-12     ...      2016-08-22  \\\n",
       "0       115.0        56.0        45.0        17.0     ...            20.0   \n",
       "1       184.0        64.0        24.0        92.0     ...            29.0   \n",
       "2         1.0         3.0        12.0         4.0     ...             4.0   \n",
       "3        17.0        15.0        12.0        34.0     ...             5.0   \n",
       "4         1.0         9.0         0.0         1.0     ...             2.0   \n",
       "\n",
       "   2016-08-23  2016-08-24  2016-08-25  2016-08-26  2016-08-27  2016-08-28  \\\n",
       "0        33.0        20.0        14.0        40.0        15.0        18.0   \n",
       "1        10.0        14.0        23.0        15.0        12.0        25.0   \n",
       "2         4.0         2.0         5.0         3.0         2.0         3.0   \n",
       "3         7.0        18.0         9.0        13.0        27.0        15.0   \n",
       "4         4.0         3.0         3.0         1.0         3.0         5.0   \n",
       "\n",
       "   2016-08-29  2016-08-30  2016-08-31  \n",
       "0        26.0         8.0        25.0  \n",
       "1        22.0       144.0        31.0  \n",
       "2         5.0         4.0         2.0  \n",
       "3        19.0         7.0         9.0  \n",
       "4         2.0         3.0         2.0  \n",
       "\n",
       "[5 rows x 60 columns]"
      ]
     },
     "execution_count": 17,
     "metadata": {},
     "output_type": "execute_result"
    }
   ],
   "source": [
    "period = (-60,None)\n",
    "period = prevYear_shift(period)\n",
    "train.iloc[:,period[0]:period[1]].head()"
   ]
  },
  {
   "cell_type": "markdown",
   "metadata": {},
   "source": [
    "# Median Preds"
   ]
  },
  {
   "cell_type": "code",
   "execution_count": 18,
   "metadata": {},
   "outputs": [
    {
     "name": "stderr",
     "output_type": "stream",
     "text": [
      "/home/ubuntu/miniconda3/envs/basev1/lib/python3.6/site-packages/numpy/lib/function_base.py:3858: RuntimeWarning: All-NaN slice encountered\n",
      "  r = func(a, **kwargs)\n"
     ]
    }
   ],
   "source": [
    "median_df['median_pred_60'] = np.nan_to_num(np.round(\n",
    "                        np.nanmedian(\n",
    "                        train.drop('Page', axis=1).iloc[:,:-60].values[:, -49:], axis=1)).reshape(-1,1)).astype(int)"
   ]
  },
  {
   "cell_type": "code",
   "execution_count": 19,
   "metadata": {
    "collapsed": true
   },
   "outputs": [],
   "source": [
    "def preds_period(train, period):\n",
    "    return np.nan_to_num(np.round(\n",
    "                        np.nanmedian(\n",
    "                        train.drop('Page', axis=1).iloc[:,:period[1]].values[:, -49:], axis=1)).reshape(-1,1)).astype(int)"
   ]
  },
  {
   "cell_type": "code",
   "execution_count": 20,
   "metadata": {},
   "outputs": [
    {
     "name": "stderr",
     "output_type": "stream",
     "text": [
      "/home/ubuntu/miniconda3/envs/basev1/lib/python3.6/site-packages/numpy/lib/function_base.py:3858: RuntimeWarning: All-NaN slice encountered\n",
      "  r = func(a, **kwargs)\n"
     ]
    },
    {
     "data": {
      "text/plain": [
       "145063"
      ]
     },
     "execution_count": 20,
     "metadata": {},
     "output_type": "execute_result"
    }
   ],
   "source": [
    "(preds_period(train, (999,-60)) == np.nan_to_num(np.round(\n",
    "                        np.nanmedian(\n",
    "                        train.drop('Page', axis=1).iloc[:,:-60].values[:, -49:], axis=1)).reshape(-1,1)).astype(int)).sum()"
   ]
  },
  {
   "cell_type": "code",
   "execution_count": 21,
   "metadata": {},
   "outputs": [
    {
     "name": "stderr",
     "output_type": "stream",
     "text": [
      "/home/ubuntu/miniconda3/envs/basev1/lib/python3.6/site-packages/numpy/lib/function_base.py:3858: RuntimeWarning: All-NaN slice encountered\n",
      "  r = func(a, **kwargs)\n"
     ]
    }
   ],
   "source": [
    "median_df['median_pred_60'] = preds_period(train, (999,-60))"
   ]
  },
  {
   "cell_type": "code",
   "execution_count": 22,
   "metadata": {},
   "outputs": [
    {
     "name": "stderr",
     "output_type": "stream",
     "text": [
      "/home/ubuntu/miniconda3/envs/basev1/lib/python3.6/site-packages/numpy/lib/function_base.py:3858: RuntimeWarning: All-NaN slice encountered\n",
      "  r = func(a, **kwargs)\n"
     ]
    }
   ],
   "source": [
    "median_df['median_pred_120'] = preds_period(train, (999,-120))"
   ]
  },
  {
   "cell_type": "code",
   "execution_count": 23,
   "metadata": {},
   "outputs": [
    {
     "name": "stderr",
     "output_type": "stream",
     "text": [
      "/home/ubuntu/miniconda3/envs/basev1/lib/python3.6/site-packages/numpy/lib/function_base.py:3858: RuntimeWarning: All-NaN slice encountered\n",
      "  r = func(a, **kwargs)\n"
     ]
    }
   ],
   "source": [
    "median_df['prevYear_median_pred_60'] = preds_period(train, prevYear_shift((999,-60)))"
   ]
  },
  {
   "cell_type": "code",
   "execution_count": 24,
   "metadata": {},
   "outputs": [
    {
     "name": "stderr",
     "output_type": "stream",
     "text": [
      "/home/ubuntu/miniconda3/envs/basev1/lib/python3.6/site-packages/numpy/lib/function_base.py:3858: RuntimeWarning: All-NaN slice encountered\n",
      "  r = func(a, **kwargs)\n"
     ]
    }
   ],
   "source": [
    "median_df['prevYear_median_pred_120'] = preds_period(train, prevYear_shift((999,-120)))"
   ]
  },
  {
   "cell_type": "code",
   "execution_count": 25,
   "metadata": {},
   "outputs": [
    {
     "data": {
      "text/html": [
       "<div>\n",
       "<style>\n",
       "    .dataframe thead tr:only-child th {\n",
       "        text-align: right;\n",
       "    }\n",
       "\n",
       "    .dataframe thead th {\n",
       "        text-align: left;\n",
       "    }\n",
       "\n",
       "    .dataframe tbody tr th {\n",
       "        vertical-align: top;\n",
       "    }\n",
       "</style>\n",
       "<table border=\"1\" class=\"dataframe\">\n",
       "  <thead>\n",
       "    <tr style=\"text-align: right;\">\n",
       "      <th></th>\n",
       "      <th>page_index</th>\n",
       "      <th>Page</th>\n",
       "      <th>median_pred_60</th>\n",
       "      <th>median_pred_120</th>\n",
       "      <th>prevYear_median_pred_60</th>\n",
       "      <th>prevYear_median_pred_120</th>\n",
       "    </tr>\n",
       "  </thead>\n",
       "  <tbody>\n",
       "    <tr>\n",
       "      <th>0</th>\n",
       "      <td>0</td>\n",
       "      <td>2NE1_zh.wikipedia.org_all-access_spider</td>\n",
       "      <td>24</td>\n",
       "      <td>23</td>\n",
       "      <td>16</td>\n",
       "      <td>17</td>\n",
       "    </tr>\n",
       "    <tr>\n",
       "      <th>1</th>\n",
       "      <td>1</td>\n",
       "      <td>2PM_zh.wikipedia.org_all-access_spider</td>\n",
       "      <td>24</td>\n",
       "      <td>22</td>\n",
       "      <td>14</td>\n",
       "      <td>17</td>\n",
       "    </tr>\n",
       "    <tr>\n",
       "      <th>2</th>\n",
       "      <td>2</td>\n",
       "      <td>3C_zh.wikipedia.org_all-access_spider</td>\n",
       "      <td>3</td>\n",
       "      <td>3</td>\n",
       "      <td>4</td>\n",
       "      <td>6</td>\n",
       "    </tr>\n",
       "    <tr>\n",
       "      <th>3</th>\n",
       "      <td>3</td>\n",
       "      <td>4minute_zh.wikipedia.org_all-access_spider</td>\n",
       "      <td>15</td>\n",
       "      <td>19</td>\n",
       "      <td>14</td>\n",
       "      <td>14</td>\n",
       "    </tr>\n",
       "    <tr>\n",
       "      <th>4</th>\n",
       "      <td>4</td>\n",
       "      <td>52_Hz_I_Love_You_zh.wikipedia.org_all-access_s...</td>\n",
       "      <td>14</td>\n",
       "      <td>14</td>\n",
       "      <td>3</td>\n",
       "      <td>5</td>\n",
       "    </tr>\n",
       "  </tbody>\n",
       "</table>\n",
       "</div>"
      ],
      "text/plain": [
       "   page_index                                               Page  \\\n",
       "0           0            2NE1_zh.wikipedia.org_all-access_spider   \n",
       "1           1             2PM_zh.wikipedia.org_all-access_spider   \n",
       "2           2              3C_zh.wikipedia.org_all-access_spider   \n",
       "3           3         4minute_zh.wikipedia.org_all-access_spider   \n",
       "4           4  52_Hz_I_Love_You_zh.wikipedia.org_all-access_s...   \n",
       "\n",
       "   median_pred_60  median_pred_120  prevYear_median_pred_60  \\\n",
       "0              24               23                       16   \n",
       "1              24               22                       14   \n",
       "2               3                3                        4   \n",
       "3              15               19                       14   \n",
       "4              14               14                        3   \n",
       "\n",
       "   prevYear_median_pred_120  \n",
       "0                        17  \n",
       "1                        17  \n",
       "2                         6  \n",
       "3                        14  \n",
       "4                         5  "
      ]
     },
     "execution_count": 25,
     "metadata": {},
     "output_type": "execute_result"
    }
   ],
   "source": [
    "median_df.head()"
   ]
  },
  {
   "cell_type": "markdown",
   "metadata": {
    "collapsed": true
   },
   "source": [
    "# Calculate SMAPES"
   ]
  },
  {
   "cell_type": "code",
   "execution_count": 26,
   "metadata": {},
   "outputs": [
    {
     "data": {
      "text/html": [
       "<div>\n",
       "<style>\n",
       "    .dataframe thead tr:only-child th {\n",
       "        text-align: right;\n",
       "    }\n",
       "\n",
       "    .dataframe thead th {\n",
       "        text-align: left;\n",
       "    }\n",
       "\n",
       "    .dataframe tbody tr th {\n",
       "        vertical-align: top;\n",
       "    }\n",
       "</style>\n",
       "<table border=\"1\" class=\"dataframe\">\n",
       "  <thead>\n",
       "    <tr style=\"text-align: right;\">\n",
       "      <th></th>\n",
       "      <th>2015-07-01</th>\n",
       "      <th>2015-07-02</th>\n",
       "      <th>2015-07-03</th>\n",
       "      <th>2015-07-04</th>\n",
       "      <th>2015-07-05</th>\n",
       "      <th>2015-07-06</th>\n",
       "      <th>2015-07-07</th>\n",
       "      <th>2015-07-08</th>\n",
       "      <th>2015-07-09</th>\n",
       "      <th>2015-07-10</th>\n",
       "      <th>...</th>\n",
       "      <th>2017-08-22</th>\n",
       "      <th>2017-08-23</th>\n",
       "      <th>2017-08-24</th>\n",
       "      <th>2017-08-25</th>\n",
       "      <th>2017-08-26</th>\n",
       "      <th>2017-08-27</th>\n",
       "      <th>2017-08-28</th>\n",
       "      <th>2017-08-29</th>\n",
       "      <th>2017-08-30</th>\n",
       "      <th>2017-08-31</th>\n",
       "    </tr>\n",
       "  </thead>\n",
       "  <tbody>\n",
       "    <tr>\n",
       "      <th>0</th>\n",
       "      <td>18.0</td>\n",
       "      <td>11.0</td>\n",
       "      <td>5.0</td>\n",
       "      <td>13.0</td>\n",
       "      <td>14.0</td>\n",
       "      <td>9.0</td>\n",
       "      <td>9.0</td>\n",
       "      <td>22.0</td>\n",
       "      <td>26.0</td>\n",
       "      <td>24.0</td>\n",
       "      <td>...</td>\n",
       "      <td>37.0</td>\n",
       "      <td>58.0</td>\n",
       "      <td>25.0</td>\n",
       "      <td>23.0</td>\n",
       "      <td>25.0</td>\n",
       "      <td>47.0</td>\n",
       "      <td>44.0</td>\n",
       "      <td>26.0</td>\n",
       "      <td>24.0</td>\n",
       "      <td>21.0</td>\n",
       "    </tr>\n",
       "    <tr>\n",
       "      <th>1</th>\n",
       "      <td>11.0</td>\n",
       "      <td>14.0</td>\n",
       "      <td>15.0</td>\n",
       "      <td>18.0</td>\n",
       "      <td>11.0</td>\n",
       "      <td>13.0</td>\n",
       "      <td>22.0</td>\n",
       "      <td>11.0</td>\n",
       "      <td>10.0</td>\n",
       "      <td>4.0</td>\n",
       "      <td>...</td>\n",
       "      <td>14.0</td>\n",
       "      <td>34.0</td>\n",
       "      <td>16.0</td>\n",
       "      <td>31.0</td>\n",
       "      <td>34.0</td>\n",
       "      <td>33.0</td>\n",
       "      <td>32.0</td>\n",
       "      <td>29.0</td>\n",
       "      <td>34.0</td>\n",
       "      <td>25.0</td>\n",
       "    </tr>\n",
       "    <tr>\n",
       "      <th>2</th>\n",
       "      <td>1.0</td>\n",
       "      <td>0.0</td>\n",
       "      <td>1.0</td>\n",
       "      <td>1.0</td>\n",
       "      <td>0.0</td>\n",
       "      <td>4.0</td>\n",
       "      <td>0.0</td>\n",
       "      <td>3.0</td>\n",
       "      <td>4.0</td>\n",
       "      <td>4.0</td>\n",
       "      <td>...</td>\n",
       "      <td>6.0</td>\n",
       "      <td>23.0</td>\n",
       "      <td>11.0</td>\n",
       "      <td>8.0</td>\n",
       "      <td>6.0</td>\n",
       "      <td>13.0</td>\n",
       "      <td>12.0</td>\n",
       "      <td>8.0</td>\n",
       "      <td>12.0</td>\n",
       "      <td>9.0</td>\n",
       "    </tr>\n",
       "    <tr>\n",
       "      <th>3</th>\n",
       "      <td>35.0</td>\n",
       "      <td>13.0</td>\n",
       "      <td>10.0</td>\n",
       "      <td>94.0</td>\n",
       "      <td>4.0</td>\n",
       "      <td>26.0</td>\n",
       "      <td>14.0</td>\n",
       "      <td>9.0</td>\n",
       "      <td>11.0</td>\n",
       "      <td>16.0</td>\n",
       "      <td>...</td>\n",
       "      <td>21.0</td>\n",
       "      <td>42.0</td>\n",
       "      <td>23.0</td>\n",
       "      <td>17.0</td>\n",
       "      <td>11.0</td>\n",
       "      <td>21.0</td>\n",
       "      <td>20.0</td>\n",
       "      <td>20.0</td>\n",
       "      <td>110.0</td>\n",
       "      <td>15.0</td>\n",
       "    </tr>\n",
       "    <tr>\n",
       "      <th>4</th>\n",
       "      <td>NaN</td>\n",
       "      <td>NaN</td>\n",
       "      <td>NaN</td>\n",
       "      <td>NaN</td>\n",
       "      <td>NaN</td>\n",
       "      <td>NaN</td>\n",
       "      <td>NaN</td>\n",
       "      <td>NaN</td>\n",
       "      <td>NaN</td>\n",
       "      <td>NaN</td>\n",
       "      <td>...</td>\n",
       "      <td>23.0</td>\n",
       "      <td>41.0</td>\n",
       "      <td>25.0</td>\n",
       "      <td>22.0</td>\n",
       "      <td>20.0</td>\n",
       "      <td>24.0</td>\n",
       "      <td>29.0</td>\n",
       "      <td>20.0</td>\n",
       "      <td>17.0</td>\n",
       "      <td>24.0</td>\n",
       "    </tr>\n",
       "  </tbody>\n",
       "</table>\n",
       "<p>5 rows × 793 columns</p>\n",
       "</div>"
      ],
      "text/plain": [
       "   2015-07-01  2015-07-02  2015-07-03  2015-07-04  2015-07-05  2015-07-06  \\\n",
       "0        18.0        11.0         5.0        13.0        14.0         9.0   \n",
       "1        11.0        14.0        15.0        18.0        11.0        13.0   \n",
       "2         1.0         0.0         1.0         1.0         0.0         4.0   \n",
       "3        35.0        13.0        10.0        94.0         4.0        26.0   \n",
       "4         NaN         NaN         NaN         NaN         NaN         NaN   \n",
       "\n",
       "   2015-07-07  2015-07-08  2015-07-09  2015-07-10     ...      2017-08-22  \\\n",
       "0         9.0        22.0        26.0        24.0     ...            37.0   \n",
       "1        22.0        11.0        10.0         4.0     ...            14.0   \n",
       "2         0.0         3.0         4.0         4.0     ...             6.0   \n",
       "3        14.0         9.0        11.0        16.0     ...            21.0   \n",
       "4         NaN         NaN         NaN         NaN     ...            23.0   \n",
       "\n",
       "   2017-08-23  2017-08-24  2017-08-25  2017-08-26  2017-08-27  2017-08-28  \\\n",
       "0        58.0        25.0        23.0        25.0        47.0        44.0   \n",
       "1        34.0        16.0        31.0        34.0        33.0        32.0   \n",
       "2        23.0        11.0         8.0         6.0        13.0        12.0   \n",
       "3        42.0        23.0        17.0        11.0        21.0        20.0   \n",
       "4        41.0        25.0        22.0        20.0        24.0        29.0   \n",
       "\n",
       "   2017-08-29  2017-08-30  2017-08-31  \n",
       "0        26.0        24.0        21.0  \n",
       "1        29.0        34.0        25.0  \n",
       "2         8.0        12.0         9.0  \n",
       "3        20.0       110.0        15.0  \n",
       "4        20.0        17.0        24.0  \n",
       "\n",
       "[5 rows x 793 columns]"
      ]
     },
     "execution_count": 26,
     "metadata": {},
     "output_type": "execute_result"
    }
   ],
   "source": [
    "train2 = train.iloc[:,1:]; train2.head()"
   ]
  },
  {
   "cell_type": "code",
   "execution_count": 27,
   "metadata": {
    "collapsed": true
   },
   "outputs": [],
   "source": [
    "def median_smape_period(train2, preds, period):\n",
    "    denominator = train2.iloc[:,period[0]:period[1]].add(preds, axis=0) / 200\n",
    "    diff = np.abs(train2.iloc[:,period[0]:period[1]].subtract(preds, axis=0)) / denominator\n",
    "    diff[denominator == 0] = 0.0\n",
    "    #return np.nanmean(diff, axis=0)\n",
    "    return diff.mean(axis=1, skipna=True)"
   ]
  },
  {
   "cell_type": "code",
   "execution_count": 28,
   "metadata": {
    "collapsed": true
   },
   "outputs": [],
   "source": [
    "def smape_60_to_0(train2, median_df):\n",
    "    denominator = train2.iloc[:,-60:].add(median_df.median_pred_60, axis=0) / 200\n",
    "    diff = np.abs(train2.iloc[:,-60:].subtract(median_df.median_pred_60, axis=0)) / denominator\n",
    "    diff[denominator == 0] = 0.0\n",
    "    #return np.nanmean(diff, axis=0)\n",
    "    return diff.mean(axis=1, skipna=True)"
   ]
  },
  {
   "cell_type": "code",
   "execution_count": 45,
   "metadata": {
    "scrolled": true
   },
   "outputs": [
    {
     "data": {
      "text/plain": [
       "144151"
      ]
     },
     "execution_count": 45,
     "metadata": {},
     "output_type": "execute_result"
    }
   ],
   "source": [
    "(smape_60_to_0(train2, median_df) == median_smape_period(train2, median_df.median_pred_60, (-60,None))).sum()"
   ]
  },
  {
   "cell_type": "code",
   "execution_count": 30,
   "metadata": {},
   "outputs": [],
   "source": [
    "median_df['smape_60_to_0'] = median_smape_period(train2, median_df.median_pred_60, (-60,None))"
   ]
  },
  {
   "cell_type": "code",
   "execution_count": 31,
   "metadata": {},
   "outputs": [
    {
     "data": {
      "text/plain": [
       "41.043204039840212"
      ]
     },
     "execution_count": 31,
     "metadata": {},
     "output_type": "execute_result"
    }
   ],
   "source": [
    "median_df['smape_60_to_0'].mean()"
   ]
  },
  {
   "cell_type": "code",
   "execution_count": 32,
   "metadata": {},
   "outputs": [],
   "source": [
    "median_df['smape_120_to_60'] = median_smape_period(train2, median_df.median_pred_120, (-120,-60))"
   ]
  },
  {
   "cell_type": "code",
   "execution_count": 33,
   "metadata": {},
   "outputs": [
    {
     "data": {
      "text/plain": [
       "40.059152930509576"
      ]
     },
     "execution_count": 33,
     "metadata": {},
     "output_type": "execute_result"
    }
   ],
   "source": [
    "median_df['smape_120_to_60'].mean()"
   ]
  },
  {
   "cell_type": "code",
   "execution_count": 34,
   "metadata": {},
   "outputs": [],
   "source": [
    "median_df['prevYear_smape_60_to_0'] = median_smape_period(train2, median_df.prevYear_median_pred_60,\n",
    "                                                          prevYear_shift((-60,None)))"
   ]
  },
  {
   "cell_type": "code",
   "execution_count": 35,
   "metadata": {},
   "outputs": [
    {
     "data": {
      "text/plain": [
       "50.551424330915339"
      ]
     },
     "execution_count": 35,
     "metadata": {},
     "output_type": "execute_result"
    }
   ],
   "source": [
    "median_df['prevYear_smape_60_to_0'].mean()"
   ]
  },
  {
   "cell_type": "code",
   "execution_count": 36,
   "metadata": {},
   "outputs": [],
   "source": [
    "median_df['prevYear_smape_120_to_60'] = median_smape_period(train2, median_df.prevYear_median_pred_120,\n",
    "                                                            prevYear_shift((-120,-60)))"
   ]
  },
  {
   "cell_type": "code",
   "execution_count": 37,
   "metadata": {},
   "outputs": [
    {
     "data": {
      "text/plain": [
       "47.544453115066389"
      ]
     },
     "execution_count": 37,
     "metadata": {},
     "output_type": "execute_result"
    }
   ],
   "source": [
    "median_df['prevYear_smape_120_to_60'].mean()"
   ]
  },
  {
   "cell_type": "markdown",
   "metadata": {},
   "source": [
    "# NaNs counts"
   ]
  },
  {
   "cell_type": "code",
   "execution_count": 38,
   "metadata": {
    "collapsed": true
   },
   "outputs": [],
   "source": [
    "period = (None,-120)\n",
    "median_df['nans_start_to_120'] = train2.iloc[:,period[0]:period[1]].shape[1] - train2.iloc[:,period[0]:period[1]].count(axis=1)"
   ]
  },
  {
   "cell_type": "code",
   "execution_count": 39,
   "metadata": {
    "collapsed": true
   },
   "outputs": [],
   "source": [
    "period = (-120,-60)\n",
    "median_df['nans_120_to_60'] = train2.iloc[:,period[0]:period[1]].shape[1] - train2.iloc[:,period[0]:period[1]].count(axis=1)"
   ]
  },
  {
   "cell_type": "code",
   "execution_count": 40,
   "metadata": {
    "collapsed": true
   },
   "outputs": [],
   "source": [
    "period = (-60,None)\n",
    "median_df['nans_60_to_0'] = train2.iloc[:,period[0]:period[1]].shape[1] - train2.iloc[:,period[0]:period[1]].count(axis=1)"
   ]
  },
  {
   "cell_type": "code",
   "execution_count": 41,
   "metadata": {},
   "outputs": [],
   "source": [
    "period = (-60,None)\n",
    "period = prevYear_shift(period)\n",
    "median_df['prevYear_nans_60_to_0'] = train2.iloc[:,period[0]:period[1]].shape[1] - train2.iloc[:,period[0]:period[1]].count(axis=1)"
   ]
  },
  {
   "cell_type": "code",
   "execution_count": 42,
   "metadata": {
    "collapsed": true
   },
   "outputs": [],
   "source": [
    "period = (-120,-60)\n",
    "period = prevYear_shift(period)\n",
    "median_df['prevYear_nans_120_to_60'] = train2.iloc[:,period[0]:period[1]].shape[1] - train2.iloc[:,period[0]:period[1]].count(axis=1)"
   ]
  },
  {
   "cell_type": "code",
   "execution_count": 43,
   "metadata": {},
   "outputs": [
    {
     "data": {
      "text/html": [
       "<div>\n",
       "<style>\n",
       "    .dataframe thead tr:only-child th {\n",
       "        text-align: right;\n",
       "    }\n",
       "\n",
       "    .dataframe thead th {\n",
       "        text-align: left;\n",
       "    }\n",
       "\n",
       "    .dataframe tbody tr th {\n",
       "        vertical-align: top;\n",
       "    }\n",
       "</style>\n",
       "<table border=\"1\" class=\"dataframe\">\n",
       "  <thead>\n",
       "    <tr style=\"text-align: right;\">\n",
       "      <th></th>\n",
       "      <th>page_index</th>\n",
       "      <th>Page</th>\n",
       "      <th>median_pred_60</th>\n",
       "      <th>median_pred_120</th>\n",
       "      <th>prevYear_median_pred_60</th>\n",
       "      <th>prevYear_median_pred_120</th>\n",
       "      <th>smape_60_to_0</th>\n",
       "      <th>smape_120_to_60</th>\n",
       "      <th>prevYear_smape_60_to_0</th>\n",
       "      <th>prevYear_smape_120_to_60</th>\n",
       "      <th>nans_start_to_120</th>\n",
       "      <th>nans_120_to_60</th>\n",
       "      <th>nans_60_to_0</th>\n",
       "      <th>prevYear_nans_60_to_0</th>\n",
       "      <th>prevYear_nans_120_to_60</th>\n",
       "    </tr>\n",
       "  </thead>\n",
       "  <tbody>\n",
       "    <tr>\n",
       "      <th>0</th>\n",
       "      <td>0</td>\n",
       "      <td>2NE1_zh.wikipedia.org_all-access_spider</td>\n",
       "      <td>24</td>\n",
       "      <td>23</td>\n",
       "      <td>16</td>\n",
       "      <td>17</td>\n",
       "      <td>32.278432</td>\n",
       "      <td>25.959053</td>\n",
       "      <td>40.870388</td>\n",
       "      <td>32.116348</td>\n",
       "      <td>0</td>\n",
       "      <td>0</td>\n",
       "      <td>0</td>\n",
       "      <td>0</td>\n",
       "      <td>0</td>\n",
       "    </tr>\n",
       "    <tr>\n",
       "      <th>1</th>\n",
       "      <td>1</td>\n",
       "      <td>2PM_zh.wikipedia.org_all-access_spider</td>\n",
       "      <td>24</td>\n",
       "      <td>22</td>\n",
       "      <td>14</td>\n",
       "      <td>17</td>\n",
       "      <td>42.847863</td>\n",
       "      <td>34.415304</td>\n",
       "      <td>60.431899</td>\n",
       "      <td>32.054860</td>\n",
       "      <td>0</td>\n",
       "      <td>0</td>\n",
       "      <td>0</td>\n",
       "      <td>0</td>\n",
       "      <td>0</td>\n",
       "    </tr>\n",
       "    <tr>\n",
       "      <th>2</th>\n",
       "      <td>2</td>\n",
       "      <td>3C_zh.wikipedia.org_all-access_spider</td>\n",
       "      <td>3</td>\n",
       "      <td>3</td>\n",
       "      <td>4</td>\n",
       "      <td>6</td>\n",
       "      <td>64.305367</td>\n",
       "      <td>65.870407</td>\n",
       "      <td>47.163640</td>\n",
       "      <td>56.748585</td>\n",
       "      <td>0</td>\n",
       "      <td>0</td>\n",
       "      <td>0</td>\n",
       "      <td>0</td>\n",
       "      <td>0</td>\n",
       "    </tr>\n",
       "    <tr>\n",
       "      <th>3</th>\n",
       "      <td>3</td>\n",
       "      <td>4minute_zh.wikipedia.org_all-access_spider</td>\n",
       "      <td>15</td>\n",
       "      <td>19</td>\n",
       "      <td>14</td>\n",
       "      <td>14</td>\n",
       "      <td>32.250349</td>\n",
       "      <td>33.896551</td>\n",
       "      <td>35.401843</td>\n",
       "      <td>49.278494</td>\n",
       "      <td>0</td>\n",
       "      <td>0</td>\n",
       "      <td>0</td>\n",
       "      <td>0</td>\n",
       "      <td>0</td>\n",
       "    </tr>\n",
       "    <tr>\n",
       "      <th>4</th>\n",
       "      <td>4</td>\n",
       "      <td>52_Hz_I_Love_You_zh.wikipedia.org_all-access_s...</td>\n",
       "      <td>14</td>\n",
       "      <td>14</td>\n",
       "      <td>3</td>\n",
       "      <td>5</td>\n",
       "      <td>48.547274</td>\n",
       "      <td>38.718059</td>\n",
       "      <td>54.426324</td>\n",
       "      <td>57.220372</td>\n",
       "      <td>291</td>\n",
       "      <td>0</td>\n",
       "      <td>0</td>\n",
       "      <td>0</td>\n",
       "      <td>0</td>\n",
       "    </tr>\n",
       "  </tbody>\n",
       "</table>\n",
       "</div>"
      ],
      "text/plain": [
       "   page_index                                               Page  \\\n",
       "0           0            2NE1_zh.wikipedia.org_all-access_spider   \n",
       "1           1             2PM_zh.wikipedia.org_all-access_spider   \n",
       "2           2              3C_zh.wikipedia.org_all-access_spider   \n",
       "3           3         4minute_zh.wikipedia.org_all-access_spider   \n",
       "4           4  52_Hz_I_Love_You_zh.wikipedia.org_all-access_s...   \n",
       "\n",
       "   median_pred_60  median_pred_120  prevYear_median_pred_60  \\\n",
       "0              24               23                       16   \n",
       "1              24               22                       14   \n",
       "2               3                3                        4   \n",
       "3              15               19                       14   \n",
       "4              14               14                        3   \n",
       "\n",
       "   prevYear_median_pred_120  smape_60_to_0  smape_120_to_60  \\\n",
       "0                        17      32.278432        25.959053   \n",
       "1                        17      42.847863        34.415304   \n",
       "2                         6      64.305367        65.870407   \n",
       "3                        14      32.250349        33.896551   \n",
       "4                         5      48.547274        38.718059   \n",
       "\n",
       "   prevYear_smape_60_to_0  prevYear_smape_120_to_60  nans_start_to_120  \\\n",
       "0               40.870388                 32.116348                  0   \n",
       "1               60.431899                 32.054860                  0   \n",
       "2               47.163640                 56.748585                  0   \n",
       "3               35.401843                 49.278494                  0   \n",
       "4               54.426324                 57.220372                291   \n",
       "\n",
       "   nans_120_to_60  nans_60_to_0  prevYear_nans_60_to_0  \\\n",
       "0               0             0                      0   \n",
       "1               0             0                      0   \n",
       "2               0             0                      0   \n",
       "3               0             0                      0   \n",
       "4               0             0                      0   \n",
       "\n",
       "   prevYear_nans_120_to_60  \n",
       "0                        0  \n",
       "1                        0  \n",
       "2                        0  \n",
       "3                        0  \n",
       "4                        0  "
      ]
     },
     "execution_count": 43,
     "metadata": {},
     "output_type": "execute_result"
    }
   ],
   "source": [
    "median_df.head()"
   ]
  },
  {
   "cell_type": "code",
   "execution_count": 46,
   "metadata": {
    "collapsed": true
   },
   "outputs": [],
   "source": [
    "median_df.to_feather('../data/median_for_120_60.f')"
   ]
  },
  {
   "cell_type": "code",
   "execution_count": null,
   "metadata": {
    "collapsed": true
   },
   "outputs": [],
   "source": []
  }
 ],
 "metadata": {
  "kernelspec": {
   "display_name": "Python 3",
   "language": "python",
   "name": "python3"
  },
  "language_info": {
   "codemirror_mode": {
    "name": "ipython",
    "version": 3
   },
   "file_extension": ".py",
   "mimetype": "text/x-python",
   "name": "python",
   "nbconvert_exporter": "python",
   "pygments_lexer": "ipython3",
   "version": "3.6.2"
  }
 },
 "nbformat": 4,
 "nbformat_minor": 2
}
