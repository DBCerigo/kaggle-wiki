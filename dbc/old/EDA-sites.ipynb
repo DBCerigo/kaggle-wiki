{
 "cells": [
  {
   "cell_type": "code",
   "execution_count": 2,
   "metadata": {},
   "outputs": [
    {
     "name": "stdout",
     "output_type": "stream",
     "text": [
      "The autoreload extension is already loaded. To reload it, use:\n",
      "  %reload_ext autoreload\n"
     ]
    }
   ],
   "source": [
    "%load_ext autoreload\n",
    "%autoreload 2 \n",
    "%matplotlib inline"
   ]
  },
  {
   "cell_type": "code",
   "execution_count": 3,
   "metadata": {
    "collapsed": true
   },
   "outputs": [],
   "source": [
    "import matplotlib.pyplot as plt\n",
    "plt.style.use('ggplot')\n",
    "import pandas as pd\n",
    "import numpy as np \n",
    "import glob"
   ]
  },
  {
   "cell_type": "markdown",
   "metadata": {},
   "source": [
    "train_*.csv - contains traffic data. This a csv file where each row corresponds to a particular article and each column correspond to a particular date. Some entries are missing data. The page names contain the Wikipedia project (e.g. en.wikipedia.org), type of access (e.g. desktop) and type of agent (e.g. spider). In other words, each article name has the following format: 'name_project_access_agent' (e.g. 'AKB48_zh.wikipedia.org_all-access_spider').\n",
    "\n",
    "key_*.csv - gives the mapping between the page names and the shortened Id column used for prediction"
   ]
  },
  {
   "cell_type": "code",
   "execution_count": 4,
   "metadata": {},
   "outputs": [
    {
     "data": {
      "text/plain": [
       "['../data/key_1.csv', '../data/sample_submission_1.csv', '../data/train_1.csv']"
      ]
     },
     "execution_count": 4,
     "metadata": {},
     "output_type": "execute_result"
    }
   ],
   "source": [
    "glob.glob('../data/*')"
   ]
  },
  {
   "cell_type": "code",
   "execution_count": 5,
   "metadata": {
    "collapsed": true
   },
   "outputs": [],
   "source": [
    "full_df = pd.read_csv('../data/train_1.csv')"
   ]
  },
  {
   "cell_type": "code",
   "execution_count": 6,
   "metadata": {},
   "outputs": [
    {
     "data": {
      "text/plain": [
       "(145063, 551)"
      ]
     },
     "execution_count": 6,
     "metadata": {},
     "output_type": "execute_result"
    }
   ],
   "source": [
    "full_df.shape #days between dates is 550 so right"
   ]
  },
  {
   "cell_type": "code",
   "execution_count": 12,
   "metadata": {
    "collapsed": true
   },
   "outputs": [],
   "source": [
    "pdf = pd.DataFrame()"
   ]
  },
  {
   "cell_type": "code",
   "execution_count": 13,
   "metadata": {},
   "outputs": [],
   "source": [
    "pdf['Page'] = full_df.Page"
   ]
  },
  {
   "cell_type": "code",
   "execution_count": 15,
   "metadata": {},
   "outputs": [
    {
     "data": {
      "text/html": [
       "<div>\n",
       "<style>\n",
       "    .dataframe thead tr:only-child th {\n",
       "        text-align: right;\n",
       "    }\n",
       "\n",
       "    .dataframe thead th {\n",
       "        text-align: left;\n",
       "    }\n",
       "\n",
       "    .dataframe tbody tr th {\n",
       "        vertical-align: top;\n",
       "    }\n",
       "</style>\n",
       "<table border=\"1\" class=\"dataframe\">\n",
       "  <thead>\n",
       "    <tr style=\"text-align: right;\">\n",
       "      <th></th>\n",
       "      <th>Page</th>\n",
       "      <th>agent</th>\n",
       "    </tr>\n",
       "  </thead>\n",
       "  <tbody>\n",
       "    <tr>\n",
       "      <th>0</th>\n",
       "      <td>2NE1_zh.wikipedia.org_all-access_spider</td>\n",
       "      <td>spider</td>\n",
       "    </tr>\n",
       "    <tr>\n",
       "      <th>1</th>\n",
       "      <td>2PM_zh.wikipedia.org_all-access_spider</td>\n",
       "      <td>spider</td>\n",
       "    </tr>\n",
       "    <tr>\n",
       "      <th>2</th>\n",
       "      <td>3C_zh.wikipedia.org_all-access_spider</td>\n",
       "      <td>spider</td>\n",
       "    </tr>\n",
       "    <tr>\n",
       "      <th>3</th>\n",
       "      <td>4minute_zh.wikipedia.org_all-access_spider</td>\n",
       "      <td>spider</td>\n",
       "    </tr>\n",
       "    <tr>\n",
       "      <th>4</th>\n",
       "      <td>52_Hz_I_Love_You_zh.wikipedia.org_all-access_s...</td>\n",
       "      <td>spider</td>\n",
       "    </tr>\n",
       "  </tbody>\n",
       "</table>\n",
       "</div>"
      ],
      "text/plain": [
       "                                                Page   agent\n",
       "0            2NE1_zh.wikipedia.org_all-access_spider  spider\n",
       "1             2PM_zh.wikipedia.org_all-access_spider  spider\n",
       "2              3C_zh.wikipedia.org_all-access_spider  spider\n",
       "3         4minute_zh.wikipedia.org_all-access_spider  spider\n",
       "4  52_Hz_I_Love_You_zh.wikipedia.org_all-access_s...  spider"
      ]
     },
     "execution_count": 15,
     "metadata": {},
     "output_type": "execute_result"
    }
   ],
   "source": [
    "pdf['agent'] = full_df.Page.map(lambda x: x.split('_')[-1]); pdf.head()"
   ]
  },
  {
   "cell_type": "code",
   "execution_count": 16,
   "metadata": {},
   "outputs": [
    {
     "data": {
      "text/html": [
       "<div>\n",
       "<style>\n",
       "    .dataframe thead tr:only-child th {\n",
       "        text-align: right;\n",
       "    }\n",
       "\n",
       "    .dataframe thead th {\n",
       "        text-align: left;\n",
       "    }\n",
       "\n",
       "    .dataframe tbody tr th {\n",
       "        vertical-align: top;\n",
       "    }\n",
       "</style>\n",
       "<table border=\"1\" class=\"dataframe\">\n",
       "  <thead>\n",
       "    <tr style=\"text-align: right;\">\n",
       "      <th></th>\n",
       "      <th>Page</th>\n",
       "      <th>agent</th>\n",
       "      <th>access</th>\n",
       "    </tr>\n",
       "  </thead>\n",
       "  <tbody>\n",
       "    <tr>\n",
       "      <th>0</th>\n",
       "      <td>2NE1_zh.wikipedia.org_all-access_spider</td>\n",
       "      <td>spider</td>\n",
       "      <td>all-access</td>\n",
       "    </tr>\n",
       "    <tr>\n",
       "      <th>1</th>\n",
       "      <td>2PM_zh.wikipedia.org_all-access_spider</td>\n",
       "      <td>spider</td>\n",
       "      <td>all-access</td>\n",
       "    </tr>\n",
       "    <tr>\n",
       "      <th>2</th>\n",
       "      <td>3C_zh.wikipedia.org_all-access_spider</td>\n",
       "      <td>spider</td>\n",
       "      <td>all-access</td>\n",
       "    </tr>\n",
       "    <tr>\n",
       "      <th>3</th>\n",
       "      <td>4minute_zh.wikipedia.org_all-access_spider</td>\n",
       "      <td>spider</td>\n",
       "      <td>all-access</td>\n",
       "    </tr>\n",
       "    <tr>\n",
       "      <th>4</th>\n",
       "      <td>52_Hz_I_Love_You_zh.wikipedia.org_all-access_s...</td>\n",
       "      <td>spider</td>\n",
       "      <td>all-access</td>\n",
       "    </tr>\n",
       "  </tbody>\n",
       "</table>\n",
       "</div>"
      ],
      "text/plain": [
       "                                                Page   agent      access\n",
       "0            2NE1_zh.wikipedia.org_all-access_spider  spider  all-access\n",
       "1             2PM_zh.wikipedia.org_all-access_spider  spider  all-access\n",
       "2              3C_zh.wikipedia.org_all-access_spider  spider  all-access\n",
       "3         4minute_zh.wikipedia.org_all-access_spider  spider  all-access\n",
       "4  52_Hz_I_Love_You_zh.wikipedia.org_all-access_s...  spider  all-access"
      ]
     },
     "execution_count": 16,
     "metadata": {},
     "output_type": "execute_result"
    }
   ],
   "source": [
    "pdf['access'] = full_df.Page.map(lambda x: x.split('_')[-2]); pdf.head()"
   ]
  },
  {
   "cell_type": "code",
   "execution_count": 17,
   "metadata": {},
   "outputs": [
    {
     "data": {
      "text/html": [
       "<div>\n",
       "<style>\n",
       "    .dataframe thead tr:only-child th {\n",
       "        text-align: right;\n",
       "    }\n",
       "\n",
       "    .dataframe thead th {\n",
       "        text-align: left;\n",
       "    }\n",
       "\n",
       "    .dataframe tbody tr th {\n",
       "        vertical-align: top;\n",
       "    }\n",
       "</style>\n",
       "<table border=\"1\" class=\"dataframe\">\n",
       "  <thead>\n",
       "    <tr style=\"text-align: right;\">\n",
       "      <th></th>\n",
       "      <th>Page</th>\n",
       "      <th>agent</th>\n",
       "      <th>access</th>\n",
       "      <th>project</th>\n",
       "    </tr>\n",
       "  </thead>\n",
       "  <tbody>\n",
       "    <tr>\n",
       "      <th>0</th>\n",
       "      <td>2NE1_zh.wikipedia.org_all-access_spider</td>\n",
       "      <td>spider</td>\n",
       "      <td>all-access</td>\n",
       "      <td>zh.wikipedia.org</td>\n",
       "    </tr>\n",
       "    <tr>\n",
       "      <th>1</th>\n",
       "      <td>2PM_zh.wikipedia.org_all-access_spider</td>\n",
       "      <td>spider</td>\n",
       "      <td>all-access</td>\n",
       "      <td>zh.wikipedia.org</td>\n",
       "    </tr>\n",
       "    <tr>\n",
       "      <th>2</th>\n",
       "      <td>3C_zh.wikipedia.org_all-access_spider</td>\n",
       "      <td>spider</td>\n",
       "      <td>all-access</td>\n",
       "      <td>zh.wikipedia.org</td>\n",
       "    </tr>\n",
       "    <tr>\n",
       "      <th>3</th>\n",
       "      <td>4minute_zh.wikipedia.org_all-access_spider</td>\n",
       "      <td>spider</td>\n",
       "      <td>all-access</td>\n",
       "      <td>zh.wikipedia.org</td>\n",
       "    </tr>\n",
       "    <tr>\n",
       "      <th>4</th>\n",
       "      <td>52_Hz_I_Love_You_zh.wikipedia.org_all-access_s...</td>\n",
       "      <td>spider</td>\n",
       "      <td>all-access</td>\n",
       "      <td>zh.wikipedia.org</td>\n",
       "    </tr>\n",
       "  </tbody>\n",
       "</table>\n",
       "</div>"
      ],
      "text/plain": [
       "                                                Page   agent      access  \\\n",
       "0            2NE1_zh.wikipedia.org_all-access_spider  spider  all-access   \n",
       "1             2PM_zh.wikipedia.org_all-access_spider  spider  all-access   \n",
       "2              3C_zh.wikipedia.org_all-access_spider  spider  all-access   \n",
       "3         4minute_zh.wikipedia.org_all-access_spider  spider  all-access   \n",
       "4  52_Hz_I_Love_You_zh.wikipedia.org_all-access_s...  spider  all-access   \n",
       "\n",
       "            project  \n",
       "0  zh.wikipedia.org  \n",
       "1  zh.wikipedia.org  \n",
       "2  zh.wikipedia.org  \n",
       "3  zh.wikipedia.org  \n",
       "4  zh.wikipedia.org  "
      ]
     },
     "execution_count": 17,
     "metadata": {},
     "output_type": "execute_result"
    }
   ],
   "source": [
    "pdf['project'] = full_df.Page.map(lambda x: x.split('_')[-3]); pdf.head()"
   ]
  },
  {
   "cell_type": "code",
   "execution_count": 23,
   "metadata": {},
   "outputs": [
    {
     "data": {
      "text/html": [
       "<div>\n",
       "<style>\n",
       "    .dataframe thead tr:only-child th {\n",
       "        text-align: right;\n",
       "    }\n",
       "\n",
       "    .dataframe thead th {\n",
       "        text-align: left;\n",
       "    }\n",
       "\n",
       "    .dataframe tbody tr th {\n",
       "        vertical-align: top;\n",
       "    }\n",
       "</style>\n",
       "<table border=\"1\" class=\"dataframe\">\n",
       "  <thead>\n",
       "    <tr style=\"text-align: right;\">\n",
       "      <th></th>\n",
       "      <th>Page</th>\n",
       "      <th>agent</th>\n",
       "      <th>access</th>\n",
       "      <th>project</th>\n",
       "      <th>site_name</th>\n",
       "    </tr>\n",
       "  </thead>\n",
       "  <tbody>\n",
       "    <tr>\n",
       "      <th>0</th>\n",
       "      <td>2NE1_zh.wikipedia.org_all-access_spider</td>\n",
       "      <td>spider</td>\n",
       "      <td>all-access</td>\n",
       "      <td>zh.wikipedia.org</td>\n",
       "      <td>2NE1</td>\n",
       "    </tr>\n",
       "    <tr>\n",
       "      <th>1</th>\n",
       "      <td>2PM_zh.wikipedia.org_all-access_spider</td>\n",
       "      <td>spider</td>\n",
       "      <td>all-access</td>\n",
       "      <td>zh.wikipedia.org</td>\n",
       "      <td>2PM</td>\n",
       "    </tr>\n",
       "    <tr>\n",
       "      <th>2</th>\n",
       "      <td>3C_zh.wikipedia.org_all-access_spider</td>\n",
       "      <td>spider</td>\n",
       "      <td>all-access</td>\n",
       "      <td>zh.wikipedia.org</td>\n",
       "      <td>3C</td>\n",
       "    </tr>\n",
       "    <tr>\n",
       "      <th>3</th>\n",
       "      <td>4minute_zh.wikipedia.org_all-access_spider</td>\n",
       "      <td>spider</td>\n",
       "      <td>all-access</td>\n",
       "      <td>zh.wikipedia.org</td>\n",
       "      <td>4minute</td>\n",
       "    </tr>\n",
       "    <tr>\n",
       "      <th>4</th>\n",
       "      <td>52_Hz_I_Love_You_zh.wikipedia.org_all-access_s...</td>\n",
       "      <td>spider</td>\n",
       "      <td>all-access</td>\n",
       "      <td>zh.wikipedia.org</td>\n",
       "      <td>52_Hz_I_Love_You</td>\n",
       "    </tr>\n",
       "  </tbody>\n",
       "</table>\n",
       "</div>"
      ],
      "text/plain": [
       "                                                Page   agent      access  \\\n",
       "0            2NE1_zh.wikipedia.org_all-access_spider  spider  all-access   \n",
       "1             2PM_zh.wikipedia.org_all-access_spider  spider  all-access   \n",
       "2              3C_zh.wikipedia.org_all-access_spider  spider  all-access   \n",
       "3         4minute_zh.wikipedia.org_all-access_spider  spider  all-access   \n",
       "4  52_Hz_I_Love_You_zh.wikipedia.org_all-access_s...  spider  all-access   \n",
       "\n",
       "            project         site_name  \n",
       "0  zh.wikipedia.org              2NE1  \n",
       "1  zh.wikipedia.org               2PM  \n",
       "2  zh.wikipedia.org                3C  \n",
       "3  zh.wikipedia.org           4minute  \n",
       "4  zh.wikipedia.org  52_Hz_I_Love_You  "
      ]
     },
     "execution_count": 23,
     "metadata": {},
     "output_type": "execute_result"
    }
   ],
   "source": [
    "pdf['site_name'] = full_df.Page.map(lambda x: '_'.join(x.split('_')[:-3])); pdf.head()"
   ]
  },
  {
   "cell_type": "code",
   "execution_count": 25,
   "metadata": {},
   "outputs": [
    {
     "data": {
      "text/plain": [
       "en.wikipedia.org         24108\n",
       "ja.wikipedia.org         20431\n",
       "de.wikipedia.org         18547\n",
       "fr.wikipedia.org         17802\n",
       "zh.wikipedia.org         17229\n",
       "ru.wikipedia.org         15022\n",
       "es.wikipedia.org         14069\n",
       "commons.wikimedia.org    10555\n",
       "www.mediawiki.org         7300\n",
       "Name: project, dtype: int64"
      ]
     },
     "execution_count": 25,
     "metadata": {},
     "output_type": "execute_result"
    }
   ],
   "source": [
    "pdf.project.value_counts()"
   ]
  },
  {
   "cell_type": "code",
   "execution_count": 26,
   "metadata": {},
   "outputs": [
    {
     "data": {
      "text/plain": [
       "all-agents    110150\n",
       "spider         34913\n",
       "Name: agent, dtype: int64"
      ]
     },
     "execution_count": 26,
     "metadata": {},
     "output_type": "execute_result"
    }
   ],
   "source": [
    "pdf.agent.value_counts()"
   ]
  },
  {
   "cell_type": "code",
   "execution_count": 28,
   "metadata": {},
   "outputs": [
    {
     "data": {
      "text/plain": [
       "all-access    74315\n",
       "mobile-web    35939\n",
       "desktop       34809\n",
       "Name: access, dtype: int64"
      ]
     },
     "execution_count": 28,
     "metadata": {},
     "output_type": "execute_result"
    }
   ],
   "source": [
    "pdf.access.value_counts()"
   ]
  },
  {
   "cell_type": "code",
   "execution_count": 31,
   "metadata": {
    "scrolled": true
   },
   "outputs": [
    {
     "data": {
      "text/plain": [
       "Special:Search                                    35\n",
       "Google                                            30\n",
       "YouTube                                           29\n",
       "Facebook                                          28\n",
       "IPhone                                            24\n",
       "Instagram                                         23\n",
       "Netflix                                           22\n",
       "PlayStation_4                                     22\n",
       "The_Beatles                                       20\n",
       "Lady_Gaga                                         20\n",
       "Red_Hot_Chili_Peppers                             20\n",
       "Ice_Cube                                          20\n",
       "Metallica                                         20\n",
       "Twenty_One_Pilots                                 20\n",
       "One_Direction                                     20\n",
       "WhatsApp                                          19\n",
       "AC/DC                                             19\n",
       "Snapchat                                          19\n",
       "Donald_Trump                                      19\n",
       "Eazy-E                                            19\n",
       "Pink_Floyd                                        19\n",
       "Dr._Dre                                           19\n",
       "Resident_Evil_7:_Biohazard                        19\n",
       "Android                                           18\n",
       "Barack_Obama                                      17\n",
       "Jason_Statham                                     16\n",
       "Mike_Pence                                        16\n",
       "Taylor_Swift                                      16\n",
       "Mick_Jagger                                       16\n",
       "Nettie_Stevens                                    16\n",
       "                                                  ..\n",
       "Marimar_Vega                                       1\n",
       "File:Denis_Sassou_Nguesso_with_Obamas_2014.jpg     1\n",
       "Shame_(Film)                                       1\n",
       "三叠字                                                1\n",
       "601                                                1\n",
       "Charlotte_Valandrey                                1\n",
       "Terrestrial_Ecosystem_Monitoring_Sites             1\n",
       "6月                                                 1\n",
       "List_of_Gulag_camps                                1\n",
       "Акмолинская_область                                1\n",
       "File:Ostrich_Ngorongoro_05.jpg                     1\n",
       "Category:Creative_Commons_licenses                 1\n",
       "Proposed_cabinet_of_Donald_Trump                   1\n",
       "International_Transgender_Day_of_Visibility        1\n",
       "8月19日                                              1\n",
       "Shri_Shiva_Anjaneya_Swamy_Temple                   1\n",
       "Old_Man_of_the_Lake                                1\n",
       "Ulmer_Münster                                      1\n",
       "Tiritiri_Matangi_Island                            1\n",
       "Mante_religieuse                                   1\n",
       "Haitian_constitutional_referendum,_1971            1\n",
       "Mad_Dog_Coll                                       1\n",
       "Маша_Распутина                                     1\n",
       "後藤まりこ                                              1\n",
       "Pindos_(municipality)                              1\n",
       "Jon_Lewis                                          1\n",
       "SM                                                 1\n",
       "Main_Page/                                         1\n",
       "4._April                                           1\n",
       "Kader_Khan                                         1\n",
       "Name: site_name, Length: 49174, dtype: int64"
      ]
     },
     "execution_count": 31,
     "metadata": {},
     "output_type": "execute_result"
    }
   ],
   "source": [
    "pdf.site_name.value_counts()"
   ]
  },
  {
   "cell_type": "code",
   "execution_count": 49,
   "metadata": {},
   "outputs": [
    {
     "data": {
      "text/plain": [
       "<matplotlib.axes._subplots.AxesSubplot at 0x1260dbc50>"
      ]
     },
     "execution_count": 49,
     "metadata": {},
     "output_type": "execute_result"
    },
    {
     "data": {
      "image/png": "[encoded data removed]",
      "text/plain": [
       "<matplotlib.figure.Figure at 0x1267aeda0>"
      ]
     },
     "metadata": {},
     "output_type": "display_data"
    }
   ],
   "source": [
    "pdf.site_name.value_counts().hist(bins=38, range=(-1,36), align='left')"
   ]
  },
  {
   "cell_type": "code",
   "execution_count": 50,
   "metadata": {},
   "outputs": [
    {
     "data": {
      "text/plain": [
       "<matplotlib.axes._subplots.AxesSubplot at 0x1269dd9e8>"
      ]
     },
     "execution_count": 50,
     "metadata": {},
     "output_type": "execute_result"
    },
    {
     "data": {
      "image/png": "[encoded data removed]",
      "text/plain": [
       "<matplotlib.figure.Figure at 0x12688c518>"
      ]
     },
     "metadata": {},
     "output_type": "display_data"
    }
   ],
   "source": [
    "pdf.site_name.value_counts().hist(log=True, bins=38, range=(-1,36), align='left')"
   ]
  },
  {
   "cell_type": "code",
   "execution_count": null,
   "metadata": {
    "collapsed": true
   },
   "outputs": [],
   "source": []
  }
 ],
 "metadata": {
  "kernelspec": {
   "display_name": "Python 3",
   "language": "python",
   "name": "python3"
  },
  "language_info": {
   "codemirror_mode": {
    "name": "ipython",
    "version": 3
   },
   "file_extension": ".py",
   "mimetype": "text/x-python",
   "name": "python",
   "nbconvert_exporter": "python",
   "pygments_lexer": "ipython3",
   "version": "3.6.2"
  }
 },
 "nbformat": 4,
 "nbformat_minor": 2
}
