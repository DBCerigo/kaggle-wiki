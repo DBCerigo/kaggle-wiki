{
 "cells": [
  {
   "cell_type": "code",
   "execution_count": 5,
   "metadata": {
    "scrolled": false
   },
   "outputs": [
    {
     "name": "stdout",
     "output_type": "stream",
     "text": [
      "The autoreload extension is already loaded. To reload it, use:\n",
      "  %reload_ext autoreload\n"
     ]
    }
   ],
   "source": [
    "%load_ext autoreload\n",
    "%autoreload 2 \n",
    "%matplotlib inline"
   ]
  },
  {
   "cell_type": "code",
   "execution_count": 6,
   "metadata": {},
   "outputs": [],
   "source": [
    "import matplotlib.pyplot as plt\n",
    "plt.style.use('ggplot')\n",
    "import logging as lg\n",
    "lg.basicConfig(format='%(asctime)s : %(levelname)s : %(message)s', level=lg.INFO)\n",
    "import os\n",
    "import pandas as pd\n",
    "import numpy as np \n",
    "import pickle as pk\n",
    "import glob\n",
    "from fbprophet import Prophet\n",
    "import sys\n",
    "sys.path.append('../')\n",
    "import wiki\n",
    "from wiki import utils \n",
    "import multiprocessing as mp\n",
    "total_proc = None\n",
    "from tqdm import tqdm\n",
    "from IPython.display import clear_output"
   ]
  },
  {
   "cell_type": "markdown",
   "metadata": {},
   "source": [
    "# General column meanings\n",
    "* y_org: what the orginal time series data is (should have missing values staying as missing!)\n",
    "* y: what the model was trained on (the y in val section is kinda irrelevant then)\n",
    "* yhat_org: original unchanged output of the models predict function\n",
    "* yhat: final predictions including post processing\n",
    "# Scoring\n",
    "* Should all be scored using y_org vs yhat\n",
    "* SHOULD MAKE SURE y_org HASN't HAD fillna(0)"
   ]
  },
  {
   "cell_type": "markdown",
   "metadata": {},
   "source": [
    "# AIM: Get new smape -> v1.9\n",
    "* series from pagedf into y_org"
   ]
  },
  {
   "cell_type": "markdown",
   "metadata": {},
   "source": [
    "## Version 1.9\n",
    "Should set version directory name in next cell. Should describe version specifics (outliers, holidays, validation period)\n",
    "\n",
    "* TRAINING\n",
    "   * Val indexing on -60\n",
    "   * Linear growth\n",
    "   * Fill ALL other NaNs to 0 BUT KEEP y_org (get it from pagedf)\n",
    "   * Now with try:except: for the `RuntimeError': k initialized to invalid value (-nan)` which replaces first `y` with 0.001\n",
    "   \n",
    "* PREDICTIONS\n",
    "   * Truncating predictions at 0 \n",
    "   * Rounding to nearest int\n",
    "\n",
    "### Remarks\n",
    "* ?\n"
   ]
  },
  {
   "cell_type": "code",
   "execution_count": 7,
   "metadata": {
    "collapsed": true
   },
   "outputs": [],
   "source": [
    "PROPHET_PATH = '../data/prophet/'\n",
    "RESULTS_PATH = 'results/'"
   ]
  },
  {
   "cell_type": "code",
   "execution_count": 8,
   "metadata": {
    "collapsed": true,
    "scrolled": false
   },
   "outputs": [],
   "source": [
    "TARGET_VERSION = 'v1.9/'\n",
    "BASE_VERSION = 'v1.6/'\n",
    "os.makedirs(PROPHET_PATH+TARGET_VERSION)"
   ]
  },
  {
   "cell_type": "code",
   "execution_count": 9,
   "metadata": {
    "collapsed": true
   },
   "outputs": [],
   "source": [
    "pagedf = pd.read_feather(PROPHET_PATH+'pagedf.f')"
   ]
  },
  {
   "cell_type": "code",
   "execution_count": 10,
   "metadata": {
    "collapsed": true
   },
   "outputs": [],
   "source": [
    "forecast_files = [x.split('/')[-1] for x in glob.glob(PROPHET_PATH+BASE_VERSION+'*df.f')]"
   ]
  },
  {
   "cell_type": "code",
   "execution_count": 11,
   "metadata": {},
   "outputs": [
    {
     "data": {
      "text/plain": [
       "'20274df.f'"
      ]
     },
     "execution_count": 11,
     "metadata": {},
     "output_type": "execute_result"
    }
   ],
   "source": [
    "forecast_files[18284]"
   ]
  },
  {
   "cell_type": "code",
   "execution_count": 12,
   "metadata": {
    "scrolled": true
   },
   "outputs": [
    {
     "data": {
      "text/plain": [
       "0   NaN\n",
       "1   NaN\n",
       "2   NaN\n",
       "3   NaN\n",
       "4   NaN\n",
       "Name: 20274, dtype: float64"
      ]
     },
     "execution_count": 12,
     "metadata": {},
     "output_type": "execute_result"
    }
   ],
   "source": [
    "pagedf[forecast_files[18284][:-4]].head()"
   ]
  },
  {
   "cell_type": "code",
   "execution_count": 13,
   "metadata": {},
   "outputs": [
    {
     "data": {
      "text/plain": [
       "['61780', '88262']"
      ]
     },
     "execution_count": 13,
     "metadata": {},
     "output_type": "execute_result"
    }
   ],
   "source": [
    "[x[:-4] for x in forecast_files[:2]]"
   ]
  },
  {
   "cell_type": "code",
   "execution_count": 14,
   "metadata": {
    "collapsed": true
   },
   "outputs": [],
   "source": [
    "base_df = pd.read_feather(PROPHET_PATH+BASE_VERSION+forecast_files[18284])"
   ]
  },
  {
   "cell_type": "code",
   "execution_count": 15,
   "metadata": {},
   "outputs": [
    {
     "data": {
      "text/html": [
       "<div>\n",
       "<style>\n",
       "    .dataframe thead tr:only-child th {\n",
       "        text-align: right;\n",
       "    }\n",
       "\n",
       "    .dataframe thead th {\n",
       "        text-align: left;\n",
       "    }\n",
       "\n",
       "    .dataframe tbody tr th {\n",
       "        vertical-align: top;\n",
       "    }\n",
       "</style>\n",
       "<table border=\"1\" class=\"dataframe\">\n",
       "  <thead>\n",
       "    <tr style=\"text-align: right;\">\n",
       "      <th></th>\n",
       "      <th>ds</th>\n",
       "      <th>t</th>\n",
       "      <th>trend</th>\n",
       "      <th>seasonal_lower</th>\n",
       "      <th>seasonal_upper</th>\n",
       "      <th>trend_lower</th>\n",
       "      <th>trend_upper</th>\n",
       "      <th>yhat_lower</th>\n",
       "      <th>yhat_upper</th>\n",
       "      <th>weekly</th>\n",
       "      <th>weekly_lower</th>\n",
       "      <th>weekly_upper</th>\n",
       "      <th>yearly</th>\n",
       "      <th>yearly_lower</th>\n",
       "      <th>yearly_upper</th>\n",
       "      <th>seasonal</th>\n",
       "      <th>yhat</th>\n",
       "      <th>yhat_org</th>\n",
       "      <th>y</th>\n",
       "      <th>train</th>\n",
       "    </tr>\n",
       "  </thead>\n",
       "  <tbody>\n",
       "    <tr>\n",
       "      <th>0</th>\n",
       "      <td>2015-07-01</td>\n",
       "      <td>0.000000</td>\n",
       "      <td>30.150998</td>\n",
       "      <td>-6.165501</td>\n",
       "      <td>-6.165501</td>\n",
       "      <td>30.150998</td>\n",
       "      <td>30.150998</td>\n",
       "      <td>1.740480</td>\n",
       "      <td>47.605795</td>\n",
       "      <td>15.717732</td>\n",
       "      <td>15.717732</td>\n",
       "      <td>15.717732</td>\n",
       "      <td>-21.883233</td>\n",
       "      <td>-21.883233</td>\n",
       "      <td>-21.883233</td>\n",
       "      <td>-6.165501</td>\n",
       "      <td>23.985497</td>\n",
       "      <td>23.985497</td>\n",
       "      <td>0.001</td>\n",
       "      <td>1.0</td>\n",
       "    </tr>\n",
       "    <tr>\n",
       "      <th>1</th>\n",
       "      <td>2015-07-02</td>\n",
       "      <td>0.002045</td>\n",
       "      <td>30.433296</td>\n",
       "      <td>-11.725479</td>\n",
       "      <td>-11.725479</td>\n",
       "      <td>30.433296</td>\n",
       "      <td>30.433296</td>\n",
       "      <td>-3.186984</td>\n",
       "      <td>40.510026</td>\n",
       "      <td>11.869730</td>\n",
       "      <td>11.869730</td>\n",
       "      <td>11.869730</td>\n",
       "      <td>-23.595208</td>\n",
       "      <td>-23.595208</td>\n",
       "      <td>-23.595208</td>\n",
       "      <td>-11.725479</td>\n",
       "      <td>18.707817</td>\n",
       "      <td>18.707817</td>\n",
       "      <td>0.000</td>\n",
       "      <td>1.0</td>\n",
       "    </tr>\n",
       "    <tr>\n",
       "      <th>2</th>\n",
       "      <td>2015-07-03</td>\n",
       "      <td>0.004090</td>\n",
       "      <td>30.715594</td>\n",
       "      <td>-22.109723</td>\n",
       "      <td>-22.109723</td>\n",
       "      <td>30.715594</td>\n",
       "      <td>30.715594</td>\n",
       "      <td>-12.304424</td>\n",
       "      <td>30.104955</td>\n",
       "      <td>3.091730</td>\n",
       "      <td>3.091730</td>\n",
       "      <td>3.091730</td>\n",
       "      <td>-25.201454</td>\n",
       "      <td>-25.201454</td>\n",
       "      <td>-25.201454</td>\n",
       "      <td>-22.109723</td>\n",
       "      <td>8.605870</td>\n",
       "      <td>8.605870</td>\n",
       "      <td>0.000</td>\n",
       "      <td>1.0</td>\n",
       "    </tr>\n",
       "    <tr>\n",
       "      <th>3</th>\n",
       "      <td>2015-07-04</td>\n",
       "      <td>0.006135</td>\n",
       "      <td>30.997892</td>\n",
       "      <td>-51.952387</td>\n",
       "      <td>-51.952387</td>\n",
       "      <td>30.997892</td>\n",
       "      <td>30.997892</td>\n",
       "      <td>-43.153771</td>\n",
       "      <td>1.080831</td>\n",
       "      <td>-25.275530</td>\n",
       "      <td>-25.275530</td>\n",
       "      <td>-25.275530</td>\n",
       "      <td>-26.676857</td>\n",
       "      <td>-26.676857</td>\n",
       "      <td>-26.676857</td>\n",
       "      <td>-51.952387</td>\n",
       "      <td>0.000000</td>\n",
       "      <td>-20.954495</td>\n",
       "      <td>0.000</td>\n",
       "      <td>1.0</td>\n",
       "    </tr>\n",
       "    <tr>\n",
       "      <th>4</th>\n",
       "      <td>2015-07-05</td>\n",
       "      <td>0.008180</td>\n",
       "      <td>31.280190</td>\n",
       "      <td>-51.841585</td>\n",
       "      <td>-51.841585</td>\n",
       "      <td>31.280190</td>\n",
       "      <td>31.280190</td>\n",
       "      <td>-43.427529</td>\n",
       "      <td>0.711774</td>\n",
       "      <td>-23.840906</td>\n",
       "      <td>-23.840906</td>\n",
       "      <td>-23.840906</td>\n",
       "      <td>-28.000678</td>\n",
       "      <td>-28.000678</td>\n",
       "      <td>-28.000678</td>\n",
       "      <td>-51.841585</td>\n",
       "      <td>0.000000</td>\n",
       "      <td>-20.561395</td>\n",
       "      <td>0.000</td>\n",
       "      <td>1.0</td>\n",
       "    </tr>\n",
       "  </tbody>\n",
       "</table>\n",
       "</div>"
      ],
      "text/plain": [
       "          ds         t      trend  seasonal_lower  seasonal_upper  \\\n",
       "0 2015-07-01  0.000000  30.150998       -6.165501       -6.165501   \n",
       "1 2015-07-02  0.002045  30.433296      -11.725479      -11.725479   \n",
       "2 2015-07-03  0.004090  30.715594      -22.109723      -22.109723   \n",
       "3 2015-07-04  0.006135  30.997892      -51.952387      -51.952387   \n",
       "4 2015-07-05  0.008180  31.280190      -51.841585      -51.841585   \n",
       "\n",
       "   trend_lower  trend_upper  yhat_lower  yhat_upper     weekly  weekly_lower  \\\n",
       "0    30.150998    30.150998    1.740480   47.605795  15.717732     15.717732   \n",
       "1    30.433296    30.433296   -3.186984   40.510026  11.869730     11.869730   \n",
       "2    30.715594    30.715594  -12.304424   30.104955   3.091730      3.091730   \n",
       "3    30.997892    30.997892  -43.153771    1.080831 -25.275530    -25.275530   \n",
       "4    31.280190    31.280190  -43.427529    0.711774 -23.840906    -23.840906   \n",
       "\n",
       "   weekly_upper     yearly  yearly_lower  yearly_upper   seasonal       yhat  \\\n",
       "0     15.717732 -21.883233    -21.883233    -21.883233  -6.165501  23.985497   \n",
       "1     11.869730 -23.595208    -23.595208    -23.595208 -11.725479  18.707817   \n",
       "2      3.091730 -25.201454    -25.201454    -25.201454 -22.109723   8.605870   \n",
       "3    -25.275530 -26.676857    -26.676857    -26.676857 -51.952387   0.000000   \n",
       "4    -23.840906 -28.000678    -28.000678    -28.000678 -51.841585   0.000000   \n",
       "\n",
       "    yhat_org      y  train  \n",
       "0  23.985497  0.001    1.0  \n",
       "1  18.707817  0.000    1.0  \n",
       "2   8.605870  0.000    1.0  \n",
       "3 -20.954495  0.000    1.0  \n",
       "4 -20.561395  0.000    1.0  "
      ]
     },
     "execution_count": 15,
     "metadata": {},
     "output_type": "execute_result"
    }
   ],
   "source": [
    "base_df.head()"
   ]
  },
  {
   "cell_type": "code",
   "execution_count": 16,
   "metadata": {},
   "outputs": [
    {
     "name": "stderr",
     "output_type": "stream",
     "text": [
      "100%|██████████| 145063/145063 [59:26<00:00, 40.67it/s] \n"
     ]
    }
   ],
   "source": [
    "val_results = []\n",
    "for file in tqdm(forecast_files):\n",
    "    base_df = pd.read_feather(PROPHET_PATH+BASE_VERSION+file)\n",
    "    # y_org to be the orginal timeseries data\n",
    "    base_df.loc[:,'y_org'] = pagedf[file[:-4]]\n",
    "    base_df.to_feather(PROPHET_PATH+TARGET_VERSION+file)\n",
    "    full_smape = wiki.val.smape(base_df.y_org, base_df.yhat)\n",
    "    val_smape = wiki.val.smape(base_df[base_df['train'] == 0].y_org,base_df[base_df['train'] == 0].yhat)\n",
    "    val_results.append((file[:-4], full_smape, val_smape))\n",
    "val_results = pd.DataFrame(val_results, columns=['page_index',TARGET_VERSION[:-1]+'_full',TARGET_VERSION[:-1]+'_val'])\n",
    "val_results.to_feather(PROPHET_PATH+RESULTS_PATH+TARGET_VERSION[:-1]+'df.f')"
   ]
  },
  {
   "cell_type": "code",
   "execution_count": 17,
   "metadata": {
    "collapsed": true
   },
   "outputs": [],
   "source": [
    "resultsdf = pd.read_feather(PROPHET_PATH+RESULTS_PATH+TARGET_VERSION[:-1]+'df.f')"
   ]
  },
  {
   "cell_type": "code",
   "execution_count": 18,
   "metadata": {},
   "outputs": [
    {
     "data": {
      "text/plain": [
       "81.696788490776427"
      ]
     },
     "execution_count": 18,
     "metadata": {},
     "output_type": "execute_result"
    }
   ],
   "source": [
    "resultsdf['v1.9_val'].mean()\n",
    "# base was v1.6 at 81.99"
   ]
  },
  {
   "cell_type": "code",
   "execution_count": null,
   "metadata": {
    "collapsed": true
   },
   "outputs": [],
   "source": []
  }
 ],
 "metadata": {
  "kernelspec": {
   "display_name": "Python 3",
   "language": "python",
   "name": "python3"
  },
  "language_info": {
   "codemirror_mode": {
    "name": "ipython",
    "version": 3
   },
   "file_extension": ".py",
   "mimetype": "text/x-python",
   "name": "python",
   "nbconvert_exporter": "python",
   "pygments_lexer": "ipython3",
   "version": "3.6.2"
  }
 },
 "nbformat": 4,
 "nbformat_minor": 2
}
