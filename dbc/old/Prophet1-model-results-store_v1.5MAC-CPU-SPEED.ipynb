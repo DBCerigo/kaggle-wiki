{
 "cells": [
  {
   "cell_type": "code",
   "execution_count": 1,
   "metadata": {
    "scrolled": true
   },
   "outputs": [
    {
     "name": "stdout",
     "output_type": "stream",
     "text": [
      "The autoreload extension is already loaded. To reload it, use:\n",
      "  %reload_ext autoreload\n"
     ]
    }
   ],
   "source": [
    "%load_ext autoreload\n",
    "%autoreload 2 \n",
    "%matplotlib inline"
   ]
  },
  {
   "cell_type": "code",
   "execution_count": 2,
   "metadata": {
    "collapsed": true
   },
   "outputs": [],
   "source": [
    "import matplotlib.pyplot as plt\n",
    "plt.style.use('ggplot')\n",
    "import os\n",
    "import pandas as pd\n",
    "import numpy as np \n",
    "import pickle as pk\n",
    "import glob\n",
    "from fbprophet import Prophet\n",
    "import sys\n",
    "sys.path.append('../')\n",
    "import wiki\n",
    "from wiki import utils \n",
    "import multiprocessing as mp\n",
    "total_proc = None\n",
    "from tqdm import tqdm\n",
    "from IPython.display import clear_output"
   ]
  },
  {
   "cell_type": "code",
   "execution_count": 3,
   "metadata": {
    "collapsed": true
   },
   "outputs": [],
   "source": [
    "PROPHET_PATH = '../data/prophet/'\n",
    "RESULTS_PATH = 'results/'"
   ]
  },
  {
   "cell_type": "code",
   "execution_count": 4,
   "metadata": {
    "collapsed": true
   },
   "outputs": [],
   "source": [
    "pagedf = pd.read_feather(PROPHET_PATH+'pagedf.f')\n",
    "ds = pd.read_feather(PROPHET_PATH+'ds.f')"
   ]
  },
  {
   "cell_type": "markdown",
   "metadata": {},
   "source": [
    "## Version 1.5\n",
    "Should set version directory name in next cell. Should describe version specifics (outliers, holidays, validation period)"
   ]
  },
  {
   "cell_type": "markdown",
   "metadata": {},
   "source": [
    "* Val indexing on -60\n",
    "* No outlier fixing\n",
    "* Linear growth\n",
    "* Truncating predictions at 0\n",
    "* Fill first NaNs with 0.0001\n",
    "* Fill ALL other NaNs to 0"
   ]
  },
  {
   "cell_type": "markdown",
   "metadata": {},
   "source": [
    "### Remarks\n",
    "* ?"
   ]
  },
  {
   "cell_type": "code",
   "execution_count": 5,
   "metadata": {
    "collapsed": true
   },
   "outputs": [],
   "source": [
    "# should break if the dir already exists - avoids accidental overwriting\n",
    "VERSION = 'v1.5/'\n",
    "val_lims = (0,-60)\n",
    "os.makedirs(PROPHET_PATH+VERSION)"
   ]
  },
  {
   "cell_type": "code",
   "execution_count": 10,
   "metadata": {},
   "outputs": [],
   "source": [
    "pagedf.loc[:0] = pagedf.loc[:0].fillna(0.001)"
   ]
  },
  {
   "cell_type": "code",
   "execution_count": 11,
   "metadata": {},
   "outputs": [
    {
     "data": {
      "text/html": [
       "<div>\n",
       "<style>\n",
       "    .dataframe thead tr:only-child th {\n",
       "        text-align: right;\n",
       "    }\n",
       "\n",
       "    .dataframe thead th {\n",
       "        text-align: left;\n",
       "    }\n",
       "\n",
       "    .dataframe tbody tr th {\n",
       "        vertical-align: top;\n",
       "    }\n",
       "</style>\n",
       "<table border=\"1\" class=\"dataframe\">\n",
       "  <thead>\n",
       "    <tr style=\"text-align: right;\">\n",
       "      <th></th>\n",
       "      <th>0</th>\n",
       "      <th>1</th>\n",
       "      <th>2</th>\n",
       "      <th>3</th>\n",
       "      <th>4</th>\n",
       "      <th>5</th>\n",
       "      <th>6</th>\n",
       "      <th>7</th>\n",
       "      <th>8</th>\n",
       "      <th>9</th>\n",
       "      <th>...</th>\n",
       "      <th>145053</th>\n",
       "      <th>145054</th>\n",
       "      <th>145055</th>\n",
       "      <th>145056</th>\n",
       "      <th>145057</th>\n",
       "      <th>145058</th>\n",
       "      <th>145059</th>\n",
       "      <th>145060</th>\n",
       "      <th>145061</th>\n",
       "      <th>145062</th>\n",
       "    </tr>\n",
       "  </thead>\n",
       "  <tbody>\n",
       "    <tr>\n",
       "      <th>0</th>\n",
       "      <td>18.0</td>\n",
       "      <td>11.0</td>\n",
       "      <td>1.0</td>\n",
       "      <td>35.0</td>\n",
       "      <td>0.001</td>\n",
       "      <td>12.0</td>\n",
       "      <td>0.001</td>\n",
       "      <td>118.0</td>\n",
       "      <td>5.0</td>\n",
       "      <td>6.0</td>\n",
       "      <td>...</td>\n",
       "      <td>0.001</td>\n",
       "      <td>0.001</td>\n",
       "      <td>0.001</td>\n",
       "      <td>0.001</td>\n",
       "      <td>0.001</td>\n",
       "      <td>0.001</td>\n",
       "      <td>0.001</td>\n",
       "      <td>0.001</td>\n",
       "      <td>0.001</td>\n",
       "      <td>0.001</td>\n",
       "    </tr>\n",
       "    <tr>\n",
       "      <th>1</th>\n",
       "      <td>11.0</td>\n",
       "      <td>14.0</td>\n",
       "      <td>0.0</td>\n",
       "      <td>13.0</td>\n",
       "      <td>0.000</td>\n",
       "      <td>7.0</td>\n",
       "      <td>0.000</td>\n",
       "      <td>26.0</td>\n",
       "      <td>23.0</td>\n",
       "      <td>3.0</td>\n",
       "      <td>...</td>\n",
       "      <td>0.000</td>\n",
       "      <td>0.000</td>\n",
       "      <td>0.000</td>\n",
       "      <td>0.000</td>\n",
       "      <td>0.000</td>\n",
       "      <td>0.000</td>\n",
       "      <td>0.000</td>\n",
       "      <td>0.000</td>\n",
       "      <td>0.000</td>\n",
       "      <td>0.000</td>\n",
       "    </tr>\n",
       "    <tr>\n",
       "      <th>2</th>\n",
       "      <td>5.0</td>\n",
       "      <td>15.0</td>\n",
       "      <td>1.0</td>\n",
       "      <td>10.0</td>\n",
       "      <td>0.000</td>\n",
       "      <td>4.0</td>\n",
       "      <td>0.000</td>\n",
       "      <td>30.0</td>\n",
       "      <td>14.0</td>\n",
       "      <td>5.0</td>\n",
       "      <td>...</td>\n",
       "      <td>0.000</td>\n",
       "      <td>0.000</td>\n",
       "      <td>0.000</td>\n",
       "      <td>0.000</td>\n",
       "      <td>0.000</td>\n",
       "      <td>0.000</td>\n",
       "      <td>0.000</td>\n",
       "      <td>0.000</td>\n",
       "      <td>0.000</td>\n",
       "      <td>0.000</td>\n",
       "    </tr>\n",
       "    <tr>\n",
       "      <th>3</th>\n",
       "      <td>13.0</td>\n",
       "      <td>18.0</td>\n",
       "      <td>1.0</td>\n",
       "      <td>94.0</td>\n",
       "      <td>0.000</td>\n",
       "      <td>5.0</td>\n",
       "      <td>0.000</td>\n",
       "      <td>24.0</td>\n",
       "      <td>12.0</td>\n",
       "      <td>12.0</td>\n",
       "      <td>...</td>\n",
       "      <td>0.000</td>\n",
       "      <td>0.000</td>\n",
       "      <td>0.000</td>\n",
       "      <td>0.000</td>\n",
       "      <td>0.000</td>\n",
       "      <td>0.000</td>\n",
       "      <td>0.000</td>\n",
       "      <td>0.000</td>\n",
       "      <td>0.000</td>\n",
       "      <td>0.000</td>\n",
       "    </tr>\n",
       "    <tr>\n",
       "      <th>4</th>\n",
       "      <td>14.0</td>\n",
       "      <td>11.0</td>\n",
       "      <td>0.0</td>\n",
       "      <td>4.0</td>\n",
       "      <td>0.000</td>\n",
       "      <td>20.0</td>\n",
       "      <td>0.000</td>\n",
       "      <td>29.0</td>\n",
       "      <td>9.0</td>\n",
       "      <td>6.0</td>\n",
       "      <td>...</td>\n",
       "      <td>0.000</td>\n",
       "      <td>0.000</td>\n",
       "      <td>0.000</td>\n",
       "      <td>0.000</td>\n",
       "      <td>0.000</td>\n",
       "      <td>0.000</td>\n",
       "      <td>0.000</td>\n",
       "      <td>0.000</td>\n",
       "      <td>0.000</td>\n",
       "      <td>0.000</td>\n",
       "    </tr>\n",
       "  </tbody>\n",
       "</table>\n",
       "<p>5 rows × 145063 columns</p>\n",
       "</div>"
      ],
      "text/plain": [
       "      0     1    2     3      4     5      6      7     8     9   ...    \\\n",
       "0  18.0  11.0  1.0  35.0  0.001  12.0  0.001  118.0   5.0   6.0   ...     \n",
       "1  11.0  14.0  0.0  13.0  0.000   7.0  0.000   26.0  23.0   3.0   ...     \n",
       "2   5.0  15.0  1.0  10.0  0.000   4.0  0.000   30.0  14.0   5.0   ...     \n",
       "3  13.0  18.0  1.0  94.0  0.000   5.0  0.000   24.0  12.0  12.0   ...     \n",
       "4  14.0  11.0  0.0   4.0  0.000  20.0  0.000   29.0   9.0   6.0   ...     \n",
       "\n",
       "   145053  145054  145055  145056  145057  145058  145059  145060  145061  \\\n",
       "0   0.001   0.001   0.001   0.001   0.001   0.001   0.001   0.001   0.001   \n",
       "1   0.000   0.000   0.000   0.000   0.000   0.000   0.000   0.000   0.000   \n",
       "2   0.000   0.000   0.000   0.000   0.000   0.000   0.000   0.000   0.000   \n",
       "3   0.000   0.000   0.000   0.000   0.000   0.000   0.000   0.000   0.000   \n",
       "4   0.000   0.000   0.000   0.000   0.000   0.000   0.000   0.000   0.000   \n",
       "\n",
       "   145062  \n",
       "0   0.001  \n",
       "1   0.000  \n",
       "2   0.000  \n",
       "3   0.000  \n",
       "4   0.000  \n",
       "\n",
       "[5 rows x 145063 columns]"
      ]
     },
     "execution_count": 11,
     "metadata": {},
     "output_type": "execute_result"
    }
   ],
   "source": [
    "pagedf = pagedf.fillna(0); pagedf.head()"
   ]
  },
  {
   "cell_type": "markdown",
   "metadata": {},
   "source": [
    "# WARNING:\n",
    "Turned off the chained assignment warning - when slicing dfs they can return copies sometimes instead,\n",
    "which will mean your assignment wont be done on the actual base df.\n",
    "Not sure why it's still compaining at me when I'm using .loc for assignations everywhere... shitty"
   ]
  },
  {
   "cell_type": "code",
   "execution_count": 12,
   "metadata": {
    "collapsed": true
   },
   "outputs": [],
   "source": [
    "pd.options.mode.chained_assignment = None"
   ]
  },
  {
   "cell_type": "code",
   "execution_count": 17,
   "metadata": {
    "collapsed": true
   },
   "outputs": [],
   "source": [
    "def process_page(page):\n",
    "    df = ds.join(testpagedf[page])\n",
    "    df.columns = ['ds','y']\n",
    "    # note this is doing validation on last 60 days\n",
    "    # should also consider doing validation on the time period we are forcasting\n",
    "    traindf = df.iloc[val_lims[0]:val_lims[1]]\n",
    "    traindf['train'] = 1 # feather won't serialize bool so 1s and 0s...\n",
    "    # do outlier removal here\n",
    "    #traindf.loc[traindf.y > traindf.y.quantile(.95), ['y']] = None\n",
    "    m = Prophet(yearly_seasonality=True)\n",
    "    m.fit(traindf)\n",
    "    forecast = m.predict(ds)\n",
    "    forecast['yhat_org'] = forecast['yhat']\n",
    "    forecast.loc[forecast['yhat'] < 0,['yhat']] = 0.0\n",
    "    forecast = forecast.join(df.y)\n",
    "    forecast = forecast.join(traindf.loc[:,['train']]).fillna({'train':0}) # 0 bools\n",
    "    forecast.to_feather(PROPHET_PATH+VERSION+page+'df.f')\n",
    "    with open(PROPHET_PATH+VERSION+page+'m.pk', 'wb') as file:\n",
    "        pk.dump(m,file)\n",
    "    full_smape = wiki.val.smape(forecast.y, forecast.yhat)\n",
    "    val_smape = wiki.val.smape(forecast[forecast['train'] == 0].y,forecast[forecast['train'] == 0].yhat)\n",
    "    return (page, full_smape, val_smape)"
   ]
  },
  {
   "cell_type": "code",
   "execution_count": 18,
   "metadata": {
    "collapsed": true
   },
   "outputs": [],
   "source": [
    "def wrapper(pages):\n",
    "    val_results = []\n",
    "    for page in tqdm(pages):\n",
    "        val_results.append(process_page(page))\n",
    "    return val_results"
   ]
  },
  {
   "cell_type": "code",
   "execution_count": 19,
   "metadata": {},
   "outputs": [],
   "source": [
    "testpagedf = pagedf.loc[:,:'100']"
   ]
  },
  {
   "cell_type": "code",
   "execution_count": 34,
   "metadata": {},
   "outputs": [],
   "source": [
    "total_proc = 3 #mp.cpu_count(); total_proc"
   ]
  },
  {
   "cell_type": "code",
   "execution_count": 35,
   "metadata": {
    "scrolled": false
   },
   "outputs": [
    {
     "name": "stderr",
     "output_type": "stream",
     "text": [
      "100%|██████████| 33/33 [01:04<00:00,  1.94s/it]\n",
      "100%|██████████| 34/34 [01:06<00:00,  1.88s/it]\n",
      "100%|██████████| 34/34 [01:06<00:00,  1.86s/it]\n"
     ]
    }
   ],
   "source": [
    "col_split = np.array_split(testpagedf.columns, total_proc)\n",
    "mp_pool = mp.Pool(total_proc)"
   ]
  },
  {
   "cell_type": "code",
   "execution_count": 36,
   "metadata": {},
   "outputs": [
    {
     "name": "stdout",
     "output_type": "stream",
     "text": [
      "CPU times: user 151 ms, sys: 81.9 ms, total: 233 ms\n",
      "Wall time: 1min 6s\n",
      "Elapsed time 66.57144498825073 seconds\n"
     ]
    }
   ],
   "source": [
    "with utils.clock():\n",
    "    %time val_results = mp_pool.map(wrapper, col_split)"
   ]
  },
  {
   "cell_type": "markdown",
   "metadata": {},
   "source": [
    "3 processes\n",
    "CPU times: user 151 ms, sys: 81.9 ms, total: 233 ms\n",
    "Wall time: 1min 6s\n",
    "Elapsed time 66.57144498825073 seconds"
   ]
  },
  {
   "cell_type": "markdown",
   "metadata": {},
   "source": [
    "2 processes\n",
    "CPU times: user 98.3 ms, sys: 54.1 ms, total: 152 ms\n",
    "Wall time: 1min 23s\n",
    "Elapsed time 83.16935181617737 seconds"
   ]
  },
  {
   "cell_type": "markdown",
   "metadata": {},
   "source": [
    "1 processes\n",
    "CPU times: user 119 ms, sys: 60.9 ms, total: 180 ms\n",
    "Wall time: 2min 8s\n",
    "Elapsed time 128.47107195854187 seconds"
   ]
  },
  {
   "cell_type": "markdown",
   "metadata": {},
   "source": [
    "4 processes\n",
    "CPU times: user 55.3 ms, sys: 39.3 ms, total: 94.6 ms\n",
    "Wall time: 57.1 s\n",
    "Elapsed time 57.12270426750183 seconds"
   ]
  },
  {
   "cell_type": "code",
   "execution_count": 13,
   "metadata": {},
   "outputs": [
    {
     "ename": "NameError",
     "evalue": "name 'val_results' is not defined",
     "output_type": "error",
     "traceback": [
      "\u001b[0;31m---------------------------------------------------------------------------\u001b[0m",
      "\u001b[0;31mNameError\u001b[0m                                 Traceback (most recent call last)",
      "\u001b[0;32m<ipython-input-13-f62ce8931928>\u001b[0m in \u001b[0;36m<module>\u001b[0;34m()\u001b[0m\n\u001b[0;32m----> 1\u001b[0;31m \u001b[0mval_results\u001b[0m \u001b[0;34m=\u001b[0m \u001b[0;34m[\u001b[0m\u001b[0mitem\u001b[0m \u001b[0;32mfor\u001b[0m \u001b[0msublist\u001b[0m \u001b[0;32min\u001b[0m \u001b[0mval_results\u001b[0m \u001b[0;32mfor\u001b[0m \u001b[0mitem\u001b[0m \u001b[0;32min\u001b[0m \u001b[0msublist\u001b[0m\u001b[0;34m]\u001b[0m\u001b[0;34m\u001b[0m\u001b[0m\n\u001b[0m\u001b[1;32m      2\u001b[0m \u001b[0mval_results\u001b[0m \u001b[0;34m=\u001b[0m \u001b[0mpd\u001b[0m\u001b[0;34m.\u001b[0m\u001b[0mDataFrame\u001b[0m\u001b[0;34m(\u001b[0m\u001b[0mval_results\u001b[0m\u001b[0;34m,\u001b[0m \u001b[0mcolumns\u001b[0m\u001b[0;34m=\u001b[0m\u001b[0;34m[\u001b[0m\u001b[0;34m'page_index'\u001b[0m\u001b[0;34m,\u001b[0m\u001b[0mVERSION\u001b[0m\u001b[0;34m[\u001b[0m\u001b[0;34m:\u001b[0m\u001b[0;34m-\u001b[0m\u001b[0;36m1\u001b[0m\u001b[0;34m]\u001b[0m\u001b[0;34m+\u001b[0m\u001b[0;34m'_full'\u001b[0m\u001b[0;34m,\u001b[0m\u001b[0mVERSION\u001b[0m\u001b[0;34m[\u001b[0m\u001b[0;34m:\u001b[0m\u001b[0;34m-\u001b[0m\u001b[0;36m1\u001b[0m\u001b[0;34m]\u001b[0m\u001b[0;34m+\u001b[0m\u001b[0;34m'_val'\u001b[0m\u001b[0;34m]\u001b[0m\u001b[0;34m)\u001b[0m\u001b[0;34m\u001b[0m\u001b[0m\n",
      "\u001b[0;31mNameError\u001b[0m: name 'val_results' is not defined"
     ]
    }
   ],
   "source": [
    "val_results = [item for sublist in val_results for item in sublist]\n",
    "val_results = pd.DataFrame(val_results, columns=['page_index',VERSION[:-1]+'_full',VERSION[:-1]+'_val'])"
   ]
  },
  {
   "cell_type": "code",
   "execution_count": null,
   "metadata": {
    "collapsed": true
   },
   "outputs": [],
   "source": [
    "val_results.to_feather(PROPHET_PATH+RESULTS_PATH+VERSION[:-1]+'df.f')"
   ]
  },
  {
   "cell_type": "code",
   "execution_count": null,
   "metadata": {
    "collapsed": true
   },
   "outputs": [],
   "source": []
  }
 ],
 "metadata": {
  "kernelspec": {
   "display_name": "Python 3",
   "language": "python",
   "name": "python3"
  },
  "language_info": {
   "codemirror_mode": {
    "name": "ipython",
    "version": 3
   },
   "file_extension": ".py",
   "mimetype": "text/x-python",
   "name": "python",
   "nbconvert_exporter": "python",
   "pygments_lexer": "ipython3",
   "version": "3.6.2"
  }
 },
 "nbformat": 4,
 "nbformat_minor": 2
}
