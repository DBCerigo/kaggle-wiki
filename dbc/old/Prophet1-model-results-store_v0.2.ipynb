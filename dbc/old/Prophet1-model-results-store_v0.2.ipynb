{
 "cells": [
  {
   "cell_type": "code",
   "execution_count": 1,
   "metadata": {
    "scrolled": true
   },
   "outputs": [
    {
     "name": "stdout",
     "output_type": "stream",
     "text": [
      "The autoreload extension is already loaded. To reload it, use:\n",
      "  %reload_ext autoreload\n"
     ]
    }
   ],
   "source": [
    "%load_ext autoreload\n",
    "%autoreload 2 \n",
    "%matplotlib inline"
   ]
  },
  {
   "cell_type": "code",
   "execution_count": 2,
   "metadata": {
    "collapsed": true
   },
   "outputs": [],
   "source": [
    "import matplotlib.pyplot as plt\n",
    "plt.style.use('ggplot')\n",
    "import os\n",
    "import pandas as pd\n",
    "import numpy as np \n",
    "import pickle as pk\n",
    "import glob\n",
    "from fbprophet import Prophet\n",
    "import sys\n",
    "sys.path.append('../')\n",
    "import wiki\n",
    "from wiki import utils \n",
    "import multiprocessing as mp\n",
    "total_proc = None\n",
    "from tqdm import tqdm\n",
    "from IPython.display import clear_output"
   ]
  },
  {
   "cell_type": "code",
   "execution_count": 3,
   "metadata": {
    "collapsed": true
   },
   "outputs": [],
   "source": [
    "PROPHET_PATH = '../data/prophet/'"
   ]
  },
  {
   "cell_type": "code",
   "execution_count": 4,
   "metadata": {},
   "outputs": [
    {
     "data": {
      "text/plain": [
       "['../data/prophet/ds.f',\n",
       " '../data/prophet/page_index.f',\n",
       " '../data/prophet/pagedf.f',\n",
       " '../data/prophet/v0',\n",
       " '../data/prophet/v0.1',\n",
       " '../data/prophet/v0.2']"
      ]
     },
     "execution_count": 4,
     "metadata": {},
     "output_type": "execute_result"
    }
   ],
   "source": [
    "glob.glob(PROPHET_PATH+'*')"
   ]
  },
  {
   "cell_type": "code",
   "execution_count": 5,
   "metadata": {
    "collapsed": true
   },
   "outputs": [],
   "source": [
    "pagedf = pd.read_feather(PROPHET_PATH+'pagedf.f')\n",
    "ds = pd.read_feather(PROPHET_PATH+'ds.f')"
   ]
  },
  {
   "cell_type": "markdown",
   "metadata": {},
   "source": [
    "## Version 0.2\n",
    "Should set version directory name in next cell. Should describe version specifics (outliers, holidays, validation period). How will the validation period be communcated to the SMAPE scoring stuff?"
   ]
  },
  {
   "cell_type": "markdown",
   "metadata": {},
   "source": [
    "* Val indexing on -60\n",
    "* No outlier fixing\n",
    "* Linear growth\n",
    "* Truncating predictions at 0"
   ]
  },
  {
   "cell_type": "markdown",
   "metadata": {},
   "source": [
    "### Remarks\n",
    "* ?"
   ]
  },
  {
   "cell_type": "code",
   "execution_count": 6,
   "metadata": {},
   "outputs": [
    {
     "ename": "FileExistsError",
     "evalue": "[Errno 17] File exists: '../data/prophet/v0.2/'",
     "output_type": "error",
     "traceback": [
      "\u001b[0;31m---------------------------------------------------------------------------\u001b[0m",
      "\u001b[0;31mFileExistsError\u001b[0m                           Traceback (most recent call last)",
      "\u001b[0;32m<ipython-input-6-76036ce2ac1f>\u001b[0m in \u001b[0;36m<module>\u001b[0;34m()\u001b[0m\n\u001b[1;32m      2\u001b[0m \u001b[0mVERSION\u001b[0m \u001b[0;34m=\u001b[0m \u001b[0;34m'v0.2/'\u001b[0m\u001b[0;34m\u001b[0m\u001b[0m\n\u001b[1;32m      3\u001b[0m \u001b[0mval_lims\u001b[0m \u001b[0;34m=\u001b[0m \u001b[0;34m(\u001b[0m\u001b[0;36m0\u001b[0m\u001b[0;34m,\u001b[0m\u001b[0;34m-\u001b[0m\u001b[0;36m60\u001b[0m\u001b[0;34m)\u001b[0m\u001b[0;34m\u001b[0m\u001b[0m\n\u001b[0;32m----> 4\u001b[0;31m \u001b[0mos\u001b[0m\u001b[0;34m.\u001b[0m\u001b[0mmakedirs\u001b[0m\u001b[0;34m(\u001b[0m\u001b[0mPROPHET_PATH\u001b[0m\u001b[0;34m+\u001b[0m\u001b[0mVERSION\u001b[0m\u001b[0;34m)\u001b[0m\u001b[0;34m\u001b[0m\u001b[0m\n\u001b[0m",
      "\u001b[0;32m~/miniconda3/envs/basePy3/lib/python3.6/os.py\u001b[0m in \u001b[0;36mmakedirs\u001b[0;34m(name, mode, exist_ok)\u001b[0m\n\u001b[1;32m    218\u001b[0m             \u001b[0;32mreturn\u001b[0m\u001b[0;34m\u001b[0m\u001b[0m\n\u001b[1;32m    219\u001b[0m     \u001b[0;32mtry\u001b[0m\u001b[0;34m:\u001b[0m\u001b[0;34m\u001b[0m\u001b[0m\n\u001b[0;32m--> 220\u001b[0;31m         \u001b[0mmkdir\u001b[0m\u001b[0;34m(\u001b[0m\u001b[0mname\u001b[0m\u001b[0;34m,\u001b[0m \u001b[0mmode\u001b[0m\u001b[0;34m)\u001b[0m\u001b[0;34m\u001b[0m\u001b[0m\n\u001b[0m\u001b[1;32m    221\u001b[0m     \u001b[0;32mexcept\u001b[0m \u001b[0mOSError\u001b[0m\u001b[0;34m:\u001b[0m\u001b[0;34m\u001b[0m\u001b[0m\n\u001b[1;32m    222\u001b[0m         \u001b[0;31m# Cannot rely on checking for EEXIST, since the operating system\u001b[0m\u001b[0;34m\u001b[0m\u001b[0;34m\u001b[0m\u001b[0m\n",
      "\u001b[0;31mFileExistsError\u001b[0m: [Errno 17] File exists: '../data/prophet/v0.2/'"
     ]
    }
   ],
   "source": [
    "# should break if the dir already exists - avoids accidental overwriting\n",
    "VERSION = 'v0.2/'\n",
    "val_lims = (0,-60)\n",
    "os.makedirs(PROPHET_PATH+VERSION)"
   ]
  },
  {
   "cell_type": "code",
   "execution_count": null,
   "metadata": {
    "collapsed": true
   },
   "outputs": [],
   "source": []
  },
  {
   "cell_type": "code",
   "execution_count": 7,
   "metadata": {
    "collapsed": true
   },
   "outputs": [],
   "source": [
    "pagedf = pagedf.loc[:,:'10']"
   ]
  },
  {
   "cell_type": "markdown",
   "metadata": {},
   "source": [
    "# WARNING:\n",
    "Turned off the chained assignment warning - when slicing dfs they can return copies sometimes instead,\n",
    "which will mean your assignment wont be done on the actual base df.\n",
    "Not sure why it's still compaining at me when I'm using .loc for assignations everywhere... shitty"
   ]
  },
  {
   "cell_type": "code",
   "execution_count": 8,
   "metadata": {
    "collapsed": true
   },
   "outputs": [],
   "source": [
    "pd.options.mode.chained_assignment = None"
   ]
  },
  {
   "cell_type": "code",
   "execution_count": 9,
   "metadata": {
    "collapsed": true
   },
   "outputs": [],
   "source": [
    "def process_page(page):\n",
    "    print(page)\n",
    "    df = ds.join(pagedf[page])\n",
    "    df.columns = ['ds','y']\n",
    "    # note this is doing validation on last 60 days\n",
    "    # should also consider doing validation on the time period we are forcasting\n",
    "    traindf = df.iloc[val_lims[0]:val_lims[1]]\n",
    "    traindf['train'] = 1 # feather won't serialize bool so 1s and 0s...\n",
    "    # do outlier removal here\n",
    "    #traindf.loc[traindf.y > traindf.y.quantile(.95), ['y']] = None\n",
    "    m = Prophet(yearly_seasonality=True)\n",
    "    m.fit(traindf)\n",
    "    forecast = m.predict(ds)\n",
    "    forecast['yhat_org'] = forecast['yhat']\n",
    "    forecast.loc[forecast['yhat'] < 0,['yhat']] = 0.0\n",
    "    forecast = forecast.join(df.y)\n",
    "    forecast = forecast.join(traindf.loc[:,['train']]).fillna({'train':0}) # 0 bools\n",
    "    #forecast.loc[forecast['train'] != 1,['train']] = 0 # 0 bools\n",
    "    forecast.to_feather(PROPHET_PATH+VERSION+page+'df.f')\n",
    "    with open(PROPHET_PATH+VERSION+page+'m.pk', 'wb') as file:\n",
    "        pk.dump(m,file)\n",
    "    full_smape = wiki.val.smape(forecast.y, forecast.yhat)\n",
    "    val_smape = wiki.val.smape(forecast[forecast['train'] == 0].y,forecast[forecast['train'] == 0].yhat)\n",
    "    full_smape_df = wiki.val.smape_df(forecast,'y','yhat')\n",
    "    val_smape_df = wiki.val.smape_df(forecast[forecast['train'] == 0],'y','yhat')\n",
    "    return (page, full_smape, val_smape,full_smape_df,val_smape_df)"
   ]
  },
  {
   "cell_type": "code",
   "execution_count": 10,
   "metadata": {
    "collapsed": true
   },
   "outputs": [],
   "source": [
    "def wrapper(pages):\n",
    "    val_results = []\n",
    "    for page in tqdm(pages):\n",
    "        val_results.append(process_page(page))\n",
    "    return val_results"
   ]
  },
  {
   "cell_type": "code",
   "execution_count": 11,
   "metadata": {
    "collapsed": true
   },
   "outputs": [],
   "source": [
    "total_proc = mp.cpu_count()"
   ]
  },
  {
   "cell_type": "code",
   "execution_count": 12,
   "metadata": {
    "scrolled": true
   },
   "outputs": [
    {
     "name": "stderr",
     "output_type": "stream",
     "text": [
      "  0%|          | 0/3 [00:00<?, ?it/s]"
     ]
    },
    {
     "name": "stdout",
     "output_type": "stream",
     "text": [
      "3\n"
     ]
    },
    {
     "name": "stderr",
     "output_type": "stream",
     "text": [
      "\r",
      "  0%|          | 0/2 [00:00<?, ?it/s]"
     ]
    },
    {
     "name": "stdout",
     "output_type": "stream",
     "text": [
      "6\n",
      "0\n",
      "9\n"
     ]
    },
    {
     "name": "stderr",
     "output_type": "stream",
     "text": [
      "\r",
      " 33%|███▎      | 1/3 [00:02<00:04,  2.43s/it]"
     ]
    },
    {
     "name": "stdout",
     "output_type": "stream",
     "text": [
      "1\n"
     ]
    },
    {
     "name": "stderr",
     "output_type": "stream",
     "text": [
      "\r",
      " 50%|█████     | 1/2 [00:02<00:02,  2.47s/it]"
     ]
    },
    {
     "name": "stdout",
     "output_type": "stream",
     "text": [
      "10\n"
     ]
    },
    {
     "name": "stderr",
     "output_type": "stream",
     "text": [
      "\r",
      " 33%|███▎      | 1/3 [00:02<00:04,  2.49s/it]"
     ]
    },
    {
     "name": "stdout",
     "output_type": "stream",
     "text": [
      "4\n"
     ]
    },
    {
     "name": "stderr",
     "output_type": "stream",
     "text": [
      "\r",
      " 33%|███▎      | 1/3 [00:02<00:05,  2.56s/it]"
     ]
    },
    {
     "name": "stdout",
     "output_type": "stream",
     "text": [
      "7\n"
     ]
    },
    {
     "name": "stderr",
     "output_type": "stream",
     "text": [
      "\r",
      " 67%|██████▋   | 2/3 [00:04<00:02,  2.46s/it]"
     ]
    },
    {
     "name": "stdout",
     "output_type": "stream",
     "text": [
      "5\n"
     ]
    },
    {
     "name": "stderr",
     "output_type": "stream",
     "text": [
      " 67%|██████▋   | 2/3 [00:04<00:02,  2.45s/it]\n"
     ]
    },
    {
     "name": "stdout",
     "output_type": "stream",
     "text": [
      "2\n"
     ]
    },
    {
     "name": "stderr",
     "output_type": "stream",
     "text": [
      "\r",
      " 67%|██████▋   | 2/3 [00:04<00:02,  2.52s/it]"
     ]
    },
    {
     "name": "stdout",
     "output_type": "stream",
     "text": [
      "8\n"
     ]
    },
    {
     "name": "stderr",
     "output_type": "stream",
     "text": [
      "100%|██████████| 3/3 [00:06<00:00,  2.31s/it]\n",
      "100%|██████████| 3/3 [00:06<00:00,  2.30s/it]\n",
      "100%|██████████| 3/3 [00:06<00:00,  2.35s/it]\n"
     ]
    }
   ],
   "source": [
    "col_split = np.array_split(pagedf.columns, total_proc)\n",
    "mp_pool = mp.Pool(total_proc)"
   ]
  },
  {
   "cell_type": "code",
   "execution_count": 13,
   "metadata": {},
   "outputs": [
    {
     "name": "stdout",
     "output_type": "stream",
     "text": [
      "CPU times: user 15.6 ms, sys: 12.5 ms, total: 28 ms\n",
      "Wall time: 6.97 s\n",
      "Elapsed time 6.9691290855407715 seconds\n"
     ]
    }
   ],
   "source": [
    "with utils.clock():\n",
    "    %time fin = mp_pool.map(wrapper, col_split)"
   ]
  },
  {
   "cell_type": "code",
   "execution_count": 14,
   "metadata": {
    "collapsed": true
   },
   "outputs": [],
   "source": [
    "fin2 = [item for sublist in fin for item in sublist]"
   ]
  },
  {
   "cell_type": "code",
   "execution_count": 15,
   "metadata": {
    "scrolled": true
   },
   "outputs": [
    {
     "data": {
      "text/plain": [
       "[('0',\n",
       "  50.762019028294311,\n",
       "  63.631257611154631,\n",
       "  50.762019028294311,\n",
       "  63.631257611154631),\n",
       " ('1',\n",
       "  47.47865101487028,\n",
       "  51.293459271888665,\n",
       "  47.47865101487028,\n",
       "  51.293459271888665),\n",
       " ('2',\n",
       "  69.77089773423242,\n",
       "  59.916423429826509,\n",
       "  69.77089773423242,\n",
       "  59.916423429826509),\n",
       " ('3',\n",
       "  47.294630658769499,\n",
       "  44.912849581367347,\n",
       "  47.294630658769499,\n",
       "  44.912849581367347),\n",
       " ('4',\n",
       "  112.88369983371396,\n",
       "  147.78164345169722,\n",
       "  112.88369983371396,\n",
       "  147.78164345169722),\n",
       " ('5',\n",
       "  41.312534789626149,\n",
       "  47.515460366720134,\n",
       "  41.312534789626149,\n",
       "  47.515460366720134),\n",
       " ('6',\n",
       "  90.528941048415064,\n",
       "  156.93273752848256,\n",
       "  90.528941048415064,\n",
       "  156.93273752848256),\n",
       " ('7',\n",
       "  61.19347087119435,\n",
       "  68.60909386853335,\n",
       "  61.19347087119435,\n",
       "  68.60909386853335),\n",
       " ('8',\n",
       "  34.319141132261748,\n",
       "  41.220362491473452,\n",
       "  34.319141132261748,\n",
       "  41.220362491473452),\n",
       " ('9',\n",
       "  26.1060112287458,\n",
       "  29.197131049681982,\n",
       "  26.1060112287458,\n",
       "  29.197131049681982),\n",
       " ('10',\n",
       "  84.920968024207241,\n",
       "  65.561638792196149,\n",
       "  84.920968024207241,\n",
       "  65.561638792196149)]"
      ]
     },
     "execution_count": 15,
     "metadata": {},
     "output_type": "execute_result"
    }
   ],
   "source": [
    "fin2"
   ]
  },
  {
   "cell_type": "code",
   "execution_count": 16,
   "metadata": {},
   "outputs": [
    {
     "data": {
      "text/html": [
       "<div>\n",
       "<style>\n",
       "    .dataframe thead tr:only-child th {\n",
       "        text-align: right;\n",
       "    }\n",
       "\n",
       "    .dataframe thead th {\n",
       "        text-align: left;\n",
       "    }\n",
       "\n",
       "    .dataframe tbody tr th {\n",
       "        vertical-align: top;\n",
       "    }\n",
       "</style>\n",
       "<table border=\"1\" class=\"dataframe\">\n",
       "  <thead>\n",
       "    <tr style=\"text-align: right;\">\n",
       "      <th></th>\n",
       "      <th>index</th>\n",
       "      <th>v0.2_full</th>\n",
       "      <th>v0.2_val</th>\n",
       "      <th>v0.2_full_df</th>\n",
       "      <th>v0.2_val_df</th>\n",
       "    </tr>\n",
       "  </thead>\n",
       "  <tbody>\n",
       "    <tr>\n",
       "      <th>0</th>\n",
       "      <td>0</td>\n",
       "      <td>50.762019</td>\n",
       "      <td>63.631258</td>\n",
       "      <td>50.762019</td>\n",
       "      <td>63.631258</td>\n",
       "    </tr>\n",
       "    <tr>\n",
       "      <th>1</th>\n",
       "      <td>1</td>\n",
       "      <td>47.478651</td>\n",
       "      <td>51.293459</td>\n",
       "      <td>47.478651</td>\n",
       "      <td>51.293459</td>\n",
       "    </tr>\n",
       "    <tr>\n",
       "      <th>2</th>\n",
       "      <td>2</td>\n",
       "      <td>69.770898</td>\n",
       "      <td>59.916423</td>\n",
       "      <td>69.770898</td>\n",
       "      <td>59.916423</td>\n",
       "    </tr>\n",
       "    <tr>\n",
       "      <th>3</th>\n",
       "      <td>3</td>\n",
       "      <td>47.294631</td>\n",
       "      <td>44.912850</td>\n",
       "      <td>47.294631</td>\n",
       "      <td>44.912850</td>\n",
       "    </tr>\n",
       "    <tr>\n",
       "      <th>4</th>\n",
       "      <td>4</td>\n",
       "      <td>112.883700</td>\n",
       "      <td>147.781643</td>\n",
       "      <td>112.883700</td>\n",
       "      <td>147.781643</td>\n",
       "    </tr>\n",
       "    <tr>\n",
       "      <th>5</th>\n",
       "      <td>5</td>\n",
       "      <td>41.312535</td>\n",
       "      <td>47.515460</td>\n",
       "      <td>41.312535</td>\n",
       "      <td>47.515460</td>\n",
       "    </tr>\n",
       "    <tr>\n",
       "      <th>6</th>\n",
       "      <td>6</td>\n",
       "      <td>90.528941</td>\n",
       "      <td>156.932738</td>\n",
       "      <td>90.528941</td>\n",
       "      <td>156.932738</td>\n",
       "    </tr>\n",
       "    <tr>\n",
       "      <th>7</th>\n",
       "      <td>7</td>\n",
       "      <td>61.193471</td>\n",
       "      <td>68.609094</td>\n",
       "      <td>61.193471</td>\n",
       "      <td>68.609094</td>\n",
       "    </tr>\n",
       "    <tr>\n",
       "      <th>8</th>\n",
       "      <td>8</td>\n",
       "      <td>34.319141</td>\n",
       "      <td>41.220362</td>\n",
       "      <td>34.319141</td>\n",
       "      <td>41.220362</td>\n",
       "    </tr>\n",
       "    <tr>\n",
       "      <th>9</th>\n",
       "      <td>9</td>\n",
       "      <td>26.106011</td>\n",
       "      <td>29.197131</td>\n",
       "      <td>26.106011</td>\n",
       "      <td>29.197131</td>\n",
       "    </tr>\n",
       "    <tr>\n",
       "      <th>10</th>\n",
       "      <td>10</td>\n",
       "      <td>84.920968</td>\n",
       "      <td>65.561639</td>\n",
       "      <td>84.920968</td>\n",
       "      <td>65.561639</td>\n",
       "    </tr>\n",
       "  </tbody>\n",
       "</table>\n",
       "</div>"
      ],
      "text/plain": [
       "   index   v0.2_full    v0.2_val  v0.2_full_df  v0.2_val_df\n",
       "0      0   50.762019   63.631258     50.762019    63.631258\n",
       "1      1   47.478651   51.293459     47.478651    51.293459\n",
       "2      2   69.770898   59.916423     69.770898    59.916423\n",
       "3      3   47.294631   44.912850     47.294631    44.912850\n",
       "4      4  112.883700  147.781643    112.883700   147.781643\n",
       "5      5   41.312535   47.515460     41.312535    47.515460\n",
       "6      6   90.528941  156.932738     90.528941   156.932738\n",
       "7      7   61.193471   68.609094     61.193471    68.609094\n",
       "8      8   34.319141   41.220362     34.319141    41.220362\n",
       "9      9   26.106011   29.197131     26.106011    29.197131\n",
       "10    10   84.920968   65.561639     84.920968    65.561639"
      ]
     },
     "execution_count": 16,
     "metadata": {},
     "output_type": "execute_result"
    }
   ],
   "source": [
    "pd.DataFrame(fin2, columns=['index',VERSION[:-1]+'_full',VERSION[:-1]+'_val',\n",
    "                            VERSION[:-1]+'_full_df',VERSION[:-1]+'_val_df'])"
   ]
  },
  {
   "cell_type": "markdown",
   "metadata": {},
   "source": [
    "# Confirms that the safe SMAPE_df and the normal SMAPE gisthe same results\n",
    "* Do don't need to worry (at all?) about the NaNs when computing SMAPE"
   ]
  },
  {
   "cell_type": "code",
   "execution_count": 17,
   "metadata": {
    "collapsed": true
   },
   "outputs": [],
   "source": [
    "df6 = pd.read_feather(PROPHET_PATH+VERSION+'6df.f')"
   ]
  },
  {
   "cell_type": "code",
   "execution_count": 18,
   "metadata": {},
   "outputs": [
    {
     "name": "stdout",
     "output_type": "stream",
     "text": [
      "2.92 ms ± 192 µs per loop (mean ± std. dev. of 7 runs, 100 loops each)\n"
     ]
    }
   ],
   "source": [
    "%%timeit\n",
    "wiki.val.smape(df6.y,df6.yhat)"
   ]
  },
  {
   "cell_type": "code",
   "execution_count": 19,
   "metadata": {},
   "outputs": [
    {
     "name": "stdout",
     "output_type": "stream",
     "text": [
      "3.75 ms ± 293 µs per loop (mean ± std. dev. of 7 runs, 100 loops each)\n"
     ]
    }
   ],
   "source": [
    "%%timeit\n",
    "wiki.val.smape_df(df6,'y','yhat')"
   ]
  },
  {
   "cell_type": "markdown",
   "metadata": {},
   "source": [
    "# Confirms the original SMAPE is faster"
   ]
  }
 ],
 "metadata": {
  "kernelspec": {
   "display_name": "Python 3",
   "language": "python",
   "name": "python3"
  },
  "language_info": {
   "codemirror_mode": {
    "name": "ipython",
    "version": 3
   },
   "file_extension": ".py",
   "mimetype": "text/x-python",
   "name": "python",
   "nbconvert_exporter": "python",
   "pygments_lexer": "ipython3",
   "version": "3.6.2"
  }
 },
 "nbformat": 4,
 "nbformat_minor": 2
}
