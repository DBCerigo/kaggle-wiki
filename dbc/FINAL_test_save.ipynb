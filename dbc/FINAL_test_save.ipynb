{
 "cells": [
  {
   "cell_type": "code",
   "execution_count": 1,
   "metadata": {
    "collapsed": true,
    "scrolled": true
   },
   "outputs": [],
   "source": [
    "%load_ext autoreload\n",
    "%autoreload 2 \n",
    "%matplotlib inline"
   ]
  },
  {
   "cell_type": "code",
   "execution_count": 2,
   "metadata": {
    "collapsed": true
   },
   "outputs": [],
   "source": [
    "import matplotlib.pyplot as plt\n",
    "plt.rcParams[\"figure.figsize\"] = [16,9]\n",
    "plt.style.use('ggplot')\n",
    "import os\n",
    "import pandas as pd\n",
    "import numpy as np \n",
    "import pickle as pk\n",
    "import glob\n",
    "from fbprophet import Prophet\n",
    "import sys\n",
    "sys.path.append('../')\n",
    "import wiki\n",
    "from wiki import utils\n",
    "from wiki.newphet import load_prophet_prop\n",
    "import multiprocessing as mp\n",
    "total_proc = None\n",
    "from tqdm import tqdm\n",
    "from IPython.display import clear_output\n",
    "import gc"
   ]
  },
  {
   "cell_type": "code",
   "execution_count": 3,
   "metadata": {
    "collapsed": true
   },
   "outputs": [],
   "source": [
    "def load_plot(page, plot_y_org=True):\n",
    "    forecast = pd.read_feather(PROPHET_PATH+VERSION+page+'df.f')\n",
    "    wiki.newphet.prophet_plot(forecast, plot_y_org=plot_y_org)\n",
    "    plt.show()\n",
    "    forecast = pd.read_feather(PROPHET_PATH+YVERSION+page+'df.f')\n",
    "    wiki.newphet.prophet_plot(forecast, plot_y_org=plot_y_org)\n",
    "    plt.show()"
   ]
  },
  {
   "cell_type": "code",
   "execution_count": 4,
   "metadata": {
    "collapsed": true
   },
   "outputs": [],
   "source": [
    "PROPHET_PATH = '../data/prophet/'\n",
    "CACHE_PATH = 'cache/'\n",
    "RESULTS_PATH = 'results/'\n",
    "VERSION ='v7t/'\n",
    "YVERSION ='v7ty/'"
   ]
  },
  {
   "cell_type": "code",
   "execution_count": 5,
   "metadata": {
    "collapsed": true
   },
   "outputs": [],
   "source": [
    "mediandf = pd.read_feather('../data/median_for_120_60.f') "
   ]
  },
  {
   "cell_type": "code",
   "execution_count": 6,
   "metadata": {},
   "outputs": [
    {
     "name": "stdout",
     "output_type": "stream",
     "text": [
      "66.9608163262\n",
      "(145063, 3)\n",
      "<class 'pandas.core.frame.DataFrame'>\n",
      "RangeIndex: 145063 entries, 0 to 145062\n",
      "Data columns (total 3 columns):\n",
      "page_index    145063 non-null int64\n",
      "v7t_train     145063 non-null float64\n",
      "v7t_val       144151 non-null float64\n",
      "dtypes: float64(2), int64(1)\n",
      "memory usage: 3.3 MB\n",
      "None\n",
      "99.0350088156\n"
     ]
    },
    {
     "data": {
      "text/html": [
       "<div>\n",
       "<style>\n",
       "    .dataframe thead tr:only-child th {\n",
       "        text-align: right;\n",
       "    }\n",
       "\n",
       "    .dataframe thead th {\n",
       "        text-align: left;\n",
       "    }\n",
       "\n",
       "    .dataframe tbody tr th {\n",
       "        vertical-align: top;\n",
       "    }\n",
       "</style>\n",
       "<table border=\"1\" class=\"dataframe\">\n",
       "  <thead>\n",
       "    <tr style=\"text-align: right;\">\n",
       "      <th></th>\n",
       "      <th>page_index</th>\n",
       "      <th>v7t_train</th>\n",
       "      <th>v7t_val</th>\n",
       "    </tr>\n",
       "  </thead>\n",
       "  <tbody>\n",
       "    <tr>\n",
       "      <th>0</th>\n",
       "      <td>0</td>\n",
       "      <td>46.736751</td>\n",
       "      <td>32.642601</td>\n",
       "    </tr>\n",
       "    <tr>\n",
       "      <th>1</th>\n",
       "      <td>1</td>\n",
       "      <td>48.666767</td>\n",
       "      <td>83.565553</td>\n",
       "    </tr>\n",
       "    <tr>\n",
       "      <th>2</th>\n",
       "      <td>2</td>\n",
       "      <td>69.758611</td>\n",
       "      <td>120.451293</td>\n",
       "    </tr>\n",
       "    <tr>\n",
       "      <th>3</th>\n",
       "      <td>3</td>\n",
       "      <td>45.255355</td>\n",
       "      <td>38.493515</td>\n",
       "    </tr>\n",
       "    <tr>\n",
       "      <th>4</th>\n",
       "      <td>4</td>\n",
       "      <td>66.002965</td>\n",
       "      <td>89.498846</td>\n",
       "    </tr>\n",
       "  </tbody>\n",
       "</table>\n",
       "</div>"
      ],
      "text/plain": [
       "   page_index  v7t_train     v7t_val\n",
       "0           0  46.736751   32.642601\n",
       "1           1  48.666767   83.565553\n",
       "2           2  69.758611  120.451293\n",
       "3           3  45.255355   38.493515\n",
       "4           4  66.002965   89.498846"
      ]
     },
     "execution_count": 6,
     "metadata": {},
     "output_type": "execute_result"
    }
   ],
   "source": [
    "test_df = pd.read_feather(PROPHET_PATH+RESULTS_PATH+VERSION[:-1]+'df.f'); \n",
    "test_df.page_index = test_df.page_index.astype(int)\n",
    "print(test_df[VERSION[:-1]+'_train'].mean())\n",
    "test_df = test_df.sort_values(by='page_index').reset_index().drop('index', axis=1)\n",
    "#test_df = test_df.drop(VERSION[:-1]+'_train', axis=1)\n",
    "print(test_df.shape)\n",
    "print(test_df.info())\n",
    "print(test_df[VERSION[:-1]+'_val'].mean())\n",
    "test_df.head()"
   ]
  },
  {
   "cell_type": "code",
   "execution_count": 7,
   "metadata": {},
   "outputs": [
    {
     "name": "stdout",
     "output_type": "stream",
     "text": [
      "median_pred_60               945.877619\n",
      "median_pred_120             1079.880355\n",
      "prevYear_median_pred_60     1088.881776\n",
      "prevYear_median_pred_120    1088.969089\n",
      "smape_60_to_0                 41.043204\n",
      "smape_120_to_60               40.059153\n",
      "prevYear_smape_60_to_0        50.551424\n",
      "prevYear_smape_120_to_60      47.544453\n",
      "nans_start_to_120             45.414792\n",
      "nans_120_to_60                 1.424264\n",
      "nans_60_to_0                   1.536367\n",
      "prevYear_nans_60_to_0          2.868712\n",
      "prevYear_nans_120_to_60        3.540000\n",
      "dtype: float64\n",
      "<class 'pandas.core.frame.DataFrame'>\n",
      "RangeIndex: 145063 entries, 0 to 145062\n",
      "Data columns (total 15 columns):\n",
      "page_index                  145063 non-null int64\n",
      "Page                        145063 non-null object\n",
      "median_pred_60              145063 non-null int64\n",
      "median_pred_120             145063 non-null int64\n",
      "prevYear_median_pred_60     145063 non-null int64\n",
      "prevYear_median_pred_120    145063 non-null int64\n",
      "smape_60_to_0               144151 non-null float64\n",
      "smape_120_to_60             144123 non-null float64\n",
      "prevYear_smape_60_to_0      141348 non-null float64\n",
      "prevYear_smape_120_to_60    139615 non-null float64\n",
      "nans_start_to_120           145063 non-null int64\n",
      "nans_120_to_60              145063 non-null int64\n",
      "nans_60_to_0                145063 non-null int64\n",
      "prevYear_nans_60_to_0       145063 non-null int64\n",
      "prevYear_nans_120_to_60     145063 non-null int64\n",
      "dtypes: float64(4), int64(10), object(1)\n",
      "memory usage: 16.6+ MB\n",
      "None\n"
     ]
    },
    {
     "data": {
      "text/html": [
       "<div>\n",
       "<style>\n",
       "    .dataframe thead tr:only-child th {\n",
       "        text-align: right;\n",
       "    }\n",
       "\n",
       "    .dataframe thead th {\n",
       "        text-align: left;\n",
       "    }\n",
       "\n",
       "    .dataframe tbody tr th {\n",
       "        vertical-align: top;\n",
       "    }\n",
       "</style>\n",
       "<table border=\"1\" class=\"dataframe\">\n",
       "  <thead>\n",
       "    <tr style=\"text-align: right;\">\n",
       "      <th></th>\n",
       "      <th>page_index</th>\n",
       "      <th>Page</th>\n",
       "      <th>median_pred_60</th>\n",
       "      <th>median_pred_120</th>\n",
       "      <th>prevYear_median_pred_60</th>\n",
       "      <th>prevYear_median_pred_120</th>\n",
       "      <th>smape_60_to_0</th>\n",
       "      <th>smape_120_to_60</th>\n",
       "      <th>prevYear_smape_60_to_0</th>\n",
       "      <th>prevYear_smape_120_to_60</th>\n",
       "      <th>nans_start_to_120</th>\n",
       "      <th>nans_120_to_60</th>\n",
       "      <th>nans_60_to_0</th>\n",
       "      <th>prevYear_nans_60_to_0</th>\n",
       "      <th>prevYear_nans_120_to_60</th>\n",
       "    </tr>\n",
       "  </thead>\n",
       "  <tbody>\n",
       "    <tr>\n",
       "      <th>0</th>\n",
       "      <td>0</td>\n",
       "      <td>2NE1_zh.wikipedia.org_all-access_spider</td>\n",
       "      <td>24</td>\n",
       "      <td>23</td>\n",
       "      <td>16</td>\n",
       "      <td>17</td>\n",
       "      <td>32.278432</td>\n",
       "      <td>25.959053</td>\n",
       "      <td>40.870388</td>\n",
       "      <td>32.116348</td>\n",
       "      <td>0</td>\n",
       "      <td>0</td>\n",
       "      <td>0</td>\n",
       "      <td>0</td>\n",
       "      <td>0</td>\n",
       "    </tr>\n",
       "    <tr>\n",
       "      <th>1</th>\n",
       "      <td>1</td>\n",
       "      <td>2PM_zh.wikipedia.org_all-access_spider</td>\n",
       "      <td>24</td>\n",
       "      <td>22</td>\n",
       "      <td>14</td>\n",
       "      <td>17</td>\n",
       "      <td>42.847863</td>\n",
       "      <td>34.415304</td>\n",
       "      <td>60.431899</td>\n",
       "      <td>32.054860</td>\n",
       "      <td>0</td>\n",
       "      <td>0</td>\n",
       "      <td>0</td>\n",
       "      <td>0</td>\n",
       "      <td>0</td>\n",
       "    </tr>\n",
       "    <tr>\n",
       "      <th>2</th>\n",
       "      <td>2</td>\n",
       "      <td>3C_zh.wikipedia.org_all-access_spider</td>\n",
       "      <td>3</td>\n",
       "      <td>3</td>\n",
       "      <td>4</td>\n",
       "      <td>6</td>\n",
       "      <td>64.305367</td>\n",
       "      <td>65.870407</td>\n",
       "      <td>47.163640</td>\n",
       "      <td>56.748585</td>\n",
       "      <td>0</td>\n",
       "      <td>0</td>\n",
       "      <td>0</td>\n",
       "      <td>0</td>\n",
       "      <td>0</td>\n",
       "    </tr>\n",
       "    <tr>\n",
       "      <th>3</th>\n",
       "      <td>3</td>\n",
       "      <td>4minute_zh.wikipedia.org_all-access_spider</td>\n",
       "      <td>15</td>\n",
       "      <td>19</td>\n",
       "      <td>14</td>\n",
       "      <td>14</td>\n",
       "      <td>32.250349</td>\n",
       "      <td>33.896551</td>\n",
       "      <td>35.401843</td>\n",
       "      <td>49.278494</td>\n",
       "      <td>0</td>\n",
       "      <td>0</td>\n",
       "      <td>0</td>\n",
       "      <td>0</td>\n",
       "      <td>0</td>\n",
       "    </tr>\n",
       "    <tr>\n",
       "      <th>4</th>\n",
       "      <td>4</td>\n",
       "      <td>52_Hz_I_Love_You_zh.wikipedia.org_all-access_s...</td>\n",
       "      <td>14</td>\n",
       "      <td>14</td>\n",
       "      <td>3</td>\n",
       "      <td>5</td>\n",
       "      <td>48.547274</td>\n",
       "      <td>38.718059</td>\n",
       "      <td>54.426324</td>\n",
       "      <td>57.220372</td>\n",
       "      <td>291</td>\n",
       "      <td>0</td>\n",
       "      <td>0</td>\n",
       "      <td>0</td>\n",
       "      <td>0</td>\n",
       "    </tr>\n",
       "  </tbody>\n",
       "</table>\n",
       "</div>"
      ],
      "text/plain": [
       "   page_index                                               Page  \\\n",
       "0           0            2NE1_zh.wikipedia.org_all-access_spider   \n",
       "1           1             2PM_zh.wikipedia.org_all-access_spider   \n",
       "2           2              3C_zh.wikipedia.org_all-access_spider   \n",
       "3           3         4minute_zh.wikipedia.org_all-access_spider   \n",
       "4           4  52_Hz_I_Love_You_zh.wikipedia.org_all-access_s...   \n",
       "\n",
       "   median_pred_60  median_pred_120  prevYear_median_pred_60  \\\n",
       "0              24               23                       16   \n",
       "1              24               22                       14   \n",
       "2               3                3                        4   \n",
       "3              15               19                       14   \n",
       "4              14               14                        3   \n",
       "\n",
       "   prevYear_median_pred_120  smape_60_to_0  smape_120_to_60  \\\n",
       "0                        17      32.278432        25.959053   \n",
       "1                        17      42.847863        34.415304   \n",
       "2                         6      64.305367        65.870407   \n",
       "3                        14      32.250349        33.896551   \n",
       "4                         5      48.547274        38.718059   \n",
       "\n",
       "   prevYear_smape_60_to_0  prevYear_smape_120_to_60  nans_start_to_120  \\\n",
       "0               40.870388                 32.116348                  0   \n",
       "1               60.431899                 32.054860                  0   \n",
       "2               47.163640                 56.748585                  0   \n",
       "3               35.401843                 49.278494                  0   \n",
       "4               54.426324                 57.220372                291   \n",
       "\n",
       "   nans_120_to_60  nans_60_to_0  prevYear_nans_60_to_0  \\\n",
       "0               0             0                      0   \n",
       "1               0             0                      0   \n",
       "2               0             0                      0   \n",
       "3               0             0                      0   \n",
       "4               0             0                      0   \n",
       "\n",
       "   prevYear_nans_120_to_60  \n",
       "0                        0  \n",
       "1                        0  \n",
       "2                        0  \n",
       "3                        0  \n",
       "4                        0  "
      ]
     },
     "execution_count": 7,
     "metadata": {},
     "output_type": "execute_result"
    }
   ],
   "source": [
    "mediandf.page_index = mediandf.page_index.astype(int)\n",
    "mediandf = mediandf.sort_values(by='page_index').reset_index().drop('index', axis=1)\n",
    "print(mediandf.iloc[:,2:].mean())\n",
    "print(mediandf.info())\n",
    "mediandf.head()"
   ]
  },
  {
   "cell_type": "code",
   "execution_count": 8,
   "metadata": {},
   "outputs": [
    {
     "name": "stdout",
     "output_type": "stream",
     "text": [
      "64.5948646161\n",
      "(145063, 3)\n",
      "<class 'pandas.core.frame.DataFrame'>\n",
      "RangeIndex: 145063 entries, 0 to 145062\n",
      "Data columns (total 3 columns):\n",
      "page_index    145063 non-null int64\n",
      "v7ty_train    145059 non-null float64\n",
      "v7ty_val      141348 non-null float64\n",
      "dtypes: float64(2), int64(1)\n",
      "memory usage: 3.3 MB\n",
      "None\n",
      "84.8706792497\n"
     ]
    },
    {
     "data": {
      "text/html": [
       "<div>\n",
       "<style>\n",
       "    .dataframe thead tr:only-child th {\n",
       "        text-align: right;\n",
       "    }\n",
       "\n",
       "    .dataframe thead th {\n",
       "        text-align: left;\n",
       "    }\n",
       "\n",
       "    .dataframe tbody tr th {\n",
       "        vertical-align: top;\n",
       "    }\n",
       "</style>\n",
       "<table border=\"1\" class=\"dataframe\">\n",
       "  <thead>\n",
       "    <tr style=\"text-align: right;\">\n",
       "      <th></th>\n",
       "      <th>page_index</th>\n",
       "      <th>v7ty_train</th>\n",
       "      <th>v7ty_val</th>\n",
       "    </tr>\n",
       "  </thead>\n",
       "  <tbody>\n",
       "    <tr>\n",
       "      <th>0</th>\n",
       "      <td>0</td>\n",
       "      <td>47.323987</td>\n",
       "      <td>44.956479</td>\n",
       "    </tr>\n",
       "    <tr>\n",
       "      <th>1</th>\n",
       "      <td>1</td>\n",
       "      <td>48.262866</td>\n",
       "      <td>61.287282</td>\n",
       "    </tr>\n",
       "    <tr>\n",
       "      <th>2</th>\n",
       "      <td>2</td>\n",
       "      <td>71.127792</td>\n",
       "      <td>58.073251</td>\n",
       "    </tr>\n",
       "    <tr>\n",
       "      <th>3</th>\n",
       "      <td>3</td>\n",
       "      <td>46.191346</td>\n",
       "      <td>52.285567</td>\n",
       "    </tr>\n",
       "    <tr>\n",
       "      <th>4</th>\n",
       "      <td>4</td>\n",
       "      <td>62.962499</td>\n",
       "      <td>132.877882</td>\n",
       "    </tr>\n",
       "  </tbody>\n",
       "</table>\n",
       "</div>"
      ],
      "text/plain": [
       "   page_index  v7ty_train    v7ty_val\n",
       "0           0   47.323987   44.956479\n",
       "1           1   48.262866   61.287282\n",
       "2           2   71.127792   58.073251\n",
       "3           3   46.191346   52.285567\n",
       "4           4   62.962499  132.877882"
      ]
     },
     "execution_count": 8,
     "metadata": {},
     "output_type": "execute_result"
    }
   ],
   "source": [
    "Ytest_df = pd.read_feather(PROPHET_PATH+RESULTS_PATH+YVERSION[:-1]+'df.f'); \n",
    "Ytest_df.page_index = Ytest_df.page_index.astype(int)\n",
    "print(Ytest_df[YVERSION[:-1]+'_train'].mean())\n",
    "Ytest_df = Ytest_df.sort_values(by='page_index').reset_index().drop('index', axis=1)\n",
    "#Ytest_df = Ytest_df.drop(VERSION[:-1]+'_train', axis=1)\n",
    "print(Ytest_df.shape)\n",
    "print(Ytest_df.info())\n",
    "print(Ytest_df[YVERSION[:-1]+'_val'].mean())\n",
    "Ytest_df.head()"
   ]
  },
  {
   "cell_type": "code",
   "execution_count": 9,
   "metadata": {},
   "outputs": [
    {
     "name": "stdout",
     "output_type": "stream",
     "text": [
      "(145063, 5)\n",
      "(145063, 19)\n"
     ]
    },
    {
     "data": {
      "text/html": [
       "<div>\n",
       "<style>\n",
       "    .dataframe thead tr:only-child th {\n",
       "        text-align: right;\n",
       "    }\n",
       "\n",
       "    .dataframe thead th {\n",
       "        text-align: left;\n",
       "    }\n",
       "\n",
       "    .dataframe tbody tr th {\n",
       "        vertical-align: top;\n",
       "    }\n",
       "</style>\n",
       "<table border=\"1\" class=\"dataframe\">\n",
       "  <thead>\n",
       "    <tr style=\"text-align: right;\">\n",
       "      <th></th>\n",
       "      <th>page_index</th>\n",
       "      <th>v7ty_train</th>\n",
       "      <th>v7ty_val</th>\n",
       "      <th>v7t_train</th>\n",
       "      <th>v7t_val</th>\n",
       "      <th>Page</th>\n",
       "      <th>median_pred_60</th>\n",
       "      <th>median_pred_120</th>\n",
       "      <th>prevYear_median_pred_60</th>\n",
       "      <th>prevYear_median_pred_120</th>\n",
       "      <th>...</th>\n",
       "      <th>smape_120_to_60</th>\n",
       "      <th>prevYear_smape_60_to_0</th>\n",
       "      <th>prevYear_smape_120_to_60</th>\n",
       "      <th>nans_start_to_120</th>\n",
       "      <th>nans_120_to_60</th>\n",
       "      <th>nans_60_to_0</th>\n",
       "      <th>prevYear_nans_60_to_0</th>\n",
       "      <th>prevYear_nans_120_to_60</th>\n",
       "      <th>Ytest_gain</th>\n",
       "      <th>test_gain</th>\n",
       "    </tr>\n",
       "  </thead>\n",
       "  <tbody>\n",
       "    <tr>\n",
       "      <th>0</th>\n",
       "      <td>0</td>\n",
       "      <td>47.323987</td>\n",
       "      <td>44.956479</td>\n",
       "      <td>46.736751</td>\n",
       "      <td>32.642601</td>\n",
       "      <td>2NE1_zh.wikipedia.org_all-access_spider</td>\n",
       "      <td>24</td>\n",
       "      <td>23</td>\n",
       "      <td>16</td>\n",
       "      <td>17</td>\n",
       "      <td>...</td>\n",
       "      <td>25.959053</td>\n",
       "      <td>40.870388</td>\n",
       "      <td>32.116348</td>\n",
       "      <td>0</td>\n",
       "      <td>0</td>\n",
       "      <td>0</td>\n",
       "      <td>0</td>\n",
       "      <td>0</td>\n",
       "      <td>-4.086092</td>\n",
       "      <td>-0.364169</td>\n",
       "    </tr>\n",
       "    <tr>\n",
       "      <th>1</th>\n",
       "      <td>1</td>\n",
       "      <td>48.262866</td>\n",
       "      <td>61.287282</td>\n",
       "      <td>48.666767</td>\n",
       "      <td>83.565553</td>\n",
       "      <td>2PM_zh.wikipedia.org_all-access_spider</td>\n",
       "      <td>24</td>\n",
       "      <td>22</td>\n",
       "      <td>14</td>\n",
       "      <td>17</td>\n",
       "      <td>...</td>\n",
       "      <td>34.415304</td>\n",
       "      <td>60.431899</td>\n",
       "      <td>32.054860</td>\n",
       "      <td>0</td>\n",
       "      <td>0</td>\n",
       "      <td>0</td>\n",
       "      <td>0</td>\n",
       "      <td>0</td>\n",
       "      <td>-0.855383</td>\n",
       "      <td>-40.717689</td>\n",
       "    </tr>\n",
       "    <tr>\n",
       "      <th>2</th>\n",
       "      <td>2</td>\n",
       "      <td>71.127792</td>\n",
       "      <td>58.073251</td>\n",
       "      <td>69.758611</td>\n",
       "      <td>120.451293</td>\n",
       "      <td>3C_zh.wikipedia.org_all-access_spider</td>\n",
       "      <td>3</td>\n",
       "      <td>3</td>\n",
       "      <td>4</td>\n",
       "      <td>6</td>\n",
       "      <td>...</td>\n",
       "      <td>65.870407</td>\n",
       "      <td>47.163640</td>\n",
       "      <td>56.748585</td>\n",
       "      <td>0</td>\n",
       "      <td>0</td>\n",
       "      <td>0</td>\n",
       "      <td>0</td>\n",
       "      <td>0</td>\n",
       "      <td>-10.909611</td>\n",
       "      <td>-56.145926</td>\n",
       "    </tr>\n",
       "    <tr>\n",
       "      <th>3</th>\n",
       "      <td>3</td>\n",
       "      <td>46.191346</td>\n",
       "      <td>52.285567</td>\n",
       "      <td>45.255355</td>\n",
       "      <td>38.493515</td>\n",
       "      <td>4minute_zh.wikipedia.org_all-access_spider</td>\n",
       "      <td>15</td>\n",
       "      <td>19</td>\n",
       "      <td>14</td>\n",
       "      <td>14</td>\n",
       "      <td>...</td>\n",
       "      <td>33.896551</td>\n",
       "      <td>35.401843</td>\n",
       "      <td>49.278494</td>\n",
       "      <td>0</td>\n",
       "      <td>0</td>\n",
       "      <td>0</td>\n",
       "      <td>0</td>\n",
       "      <td>0</td>\n",
       "      <td>-16.883725</td>\n",
       "      <td>-6.243166</td>\n",
       "    </tr>\n",
       "    <tr>\n",
       "      <th>4</th>\n",
       "      <td>4</td>\n",
       "      <td>62.962499</td>\n",
       "      <td>132.877882</td>\n",
       "      <td>66.002965</td>\n",
       "      <td>89.498846</td>\n",
       "      <td>52_Hz_I_Love_You_zh.wikipedia.org_all-access_s...</td>\n",
       "      <td>14</td>\n",
       "      <td>14</td>\n",
       "      <td>3</td>\n",
       "      <td>5</td>\n",
       "      <td>...</td>\n",
       "      <td>38.718059</td>\n",
       "      <td>54.426324</td>\n",
       "      <td>57.220372</td>\n",
       "      <td>291</td>\n",
       "      <td>0</td>\n",
       "      <td>0</td>\n",
       "      <td>0</td>\n",
       "      <td>0</td>\n",
       "      <td>-78.451559</td>\n",
       "      <td>-40.951572</td>\n",
       "    </tr>\n",
       "  </tbody>\n",
       "</table>\n",
       "<p>5 rows × 21 columns</p>\n",
       "</div>"
      ],
      "text/plain": [
       "   page_index  v7ty_train    v7ty_val  v7t_train     v7t_val  \\\n",
       "0           0   47.323987   44.956479  46.736751   32.642601   \n",
       "1           1   48.262866   61.287282  48.666767   83.565553   \n",
       "2           2   71.127792   58.073251  69.758611  120.451293   \n",
       "3           3   46.191346   52.285567  45.255355   38.493515   \n",
       "4           4   62.962499  132.877882  66.002965   89.498846   \n",
       "\n",
       "                                                Page  median_pred_60  \\\n",
       "0            2NE1_zh.wikipedia.org_all-access_spider              24   \n",
       "1             2PM_zh.wikipedia.org_all-access_spider              24   \n",
       "2              3C_zh.wikipedia.org_all-access_spider               3   \n",
       "3         4minute_zh.wikipedia.org_all-access_spider              15   \n",
       "4  52_Hz_I_Love_You_zh.wikipedia.org_all-access_s...              14   \n",
       "\n",
       "   median_pred_120  prevYear_median_pred_60  prevYear_median_pred_120  \\\n",
       "0               23                       16                        17   \n",
       "1               22                       14                        17   \n",
       "2                3                        4                         6   \n",
       "3               19                       14                        14   \n",
       "4               14                        3                         5   \n",
       "\n",
       "     ...      smape_120_to_60  prevYear_smape_60_to_0  \\\n",
       "0    ...            25.959053               40.870388   \n",
       "1    ...            34.415304               60.431899   \n",
       "2    ...            65.870407               47.163640   \n",
       "3    ...            33.896551               35.401843   \n",
       "4    ...            38.718059               54.426324   \n",
       "\n",
       "   prevYear_smape_120_to_60  nans_start_to_120  nans_120_to_60  nans_60_to_0  \\\n",
       "0                 32.116348                  0               0             0   \n",
       "1                 32.054860                  0               0             0   \n",
       "2                 56.748585                  0               0             0   \n",
       "3                 49.278494                  0               0             0   \n",
       "4                 57.220372                291               0             0   \n",
       "\n",
       "   prevYear_nans_60_to_0  prevYear_nans_120_to_60  Ytest_gain  test_gain  \n",
       "0                      0                        0   -4.086092  -0.364169  \n",
       "1                      0                        0   -0.855383 -40.717689  \n",
       "2                      0                        0  -10.909611 -56.145926  \n",
       "3                      0                        0  -16.883725  -6.243166  \n",
       "4                      0                        0  -78.451559 -40.951572  \n",
       "\n",
       "[5 rows x 21 columns]"
      ]
     },
     "execution_count": 9,
     "metadata": {},
     "output_type": "execute_result"
    }
   ],
   "source": [
    "df = Ytest_df.merge(test_df, on='page_index'); print(df.shape)\n",
    "df = df.merge(mediandf, on='page_index'); print(df.shape)\n",
    "df['Ytest_gain'] = df.prevYear_smape_60_to_0 - df[YVERSION[:-1]+'_val']\n",
    "df['test_gain'] = df.smape_60_to_0 - df[VERSION[:-1]+'_val']; df.head()"
   ]
  },
  {
   "cell_type": "markdown",
   "metadata": {},
   "source": [
    "# Magic Feature"
   ]
  },
  {
   "cell_type": "code",
   "execution_count": 10,
   "metadata": {},
   "outputs": [
    {
     "name": "stdout",
     "output_type": "stream",
     "text": [
      "median_rolling_smape indexing ::: index -> smape for that following (non_inclusive) 60 days period\n",
      "(df.smape_60_to_0.fillna(-1) == median_rolling_smape.iloc[:,-60].fillna(-1)).sum() -> 145063\n"
     ]
    }
   ],
   "source": [
    "median_rolling_smape =  wiki.val.load_test_median_rolling_smape()"
   ]
  },
  {
   "cell_type": "code",
   "execution_count": 11,
   "metadata": {},
   "outputs": [
    {
     "name": "stdout",
     "output_type": "stream",
     "text": [
      "   2015-07-01  2017-08-31\n",
      "0         NaN         NaN\n",
      "(145063, 793)\n"
     ]
    },
    {
     "data": {
      "text/html": [
       "<div>\n",
       "<style>\n",
       "    .dataframe thead tr:only-child th {\n",
       "        text-align: right;\n",
       "    }\n",
       "\n",
       "    .dataframe thead th {\n",
       "        text-align: left;\n",
       "    }\n",
       "\n",
       "    .dataframe tbody tr th {\n",
       "        vertical-align: top;\n",
       "    }\n",
       "</style>\n",
       "<table border=\"1\" class=\"dataframe\">\n",
       "  <thead>\n",
       "    <tr style=\"text-align: right;\">\n",
       "      <th></th>\n",
       "      <th>2015-07-01</th>\n",
       "      <th>2015-07-02</th>\n",
       "      <th>2015-07-03</th>\n",
       "      <th>2015-07-04</th>\n",
       "      <th>2015-07-05</th>\n",
       "      <th>2015-07-06</th>\n",
       "      <th>2015-07-07</th>\n",
       "      <th>2015-07-08</th>\n",
       "      <th>2015-07-09</th>\n",
       "      <th>2015-07-10</th>\n",
       "      <th>...</th>\n",
       "      <th>2017-08-22</th>\n",
       "      <th>2017-08-23</th>\n",
       "      <th>2017-08-24</th>\n",
       "      <th>2017-08-25</th>\n",
       "      <th>2017-08-26</th>\n",
       "      <th>2017-08-27</th>\n",
       "      <th>2017-08-28</th>\n",
       "      <th>2017-08-29</th>\n",
       "      <th>2017-08-30</th>\n",
       "      <th>2017-08-31</th>\n",
       "    </tr>\n",
       "  </thead>\n",
       "  <tbody>\n",
       "    <tr>\n",
       "      <th>0</th>\n",
       "      <td>NaN</td>\n",
       "      <td>59.292576</td>\n",
       "      <td>47.521198</td>\n",
       "      <td>42.279365</td>\n",
       "      <td>43.644768</td>\n",
       "      <td>45.184539</td>\n",
       "      <td>43.202023</td>\n",
       "      <td>41.268254</td>\n",
       "      <td>42.592001</td>\n",
       "      <td>44.607579</td>\n",
       "      <td>...</td>\n",
       "      <td>NaN</td>\n",
       "      <td>NaN</td>\n",
       "      <td>NaN</td>\n",
       "      <td>NaN</td>\n",
       "      <td>NaN</td>\n",
       "      <td>NaN</td>\n",
       "      <td>NaN</td>\n",
       "      <td>NaN</td>\n",
       "      <td>NaN</td>\n",
       "      <td>NaN</td>\n",
       "    </tr>\n",
       "    <tr>\n",
       "      <th>1</th>\n",
       "      <td>NaN</td>\n",
       "      <td>73.260387</td>\n",
       "      <td>69.616005</td>\n",
       "      <td>67.684029</td>\n",
       "      <td>68.770630</td>\n",
       "      <td>69.095268</td>\n",
       "      <td>70.576750</td>\n",
       "      <td>71.639287</td>\n",
       "      <td>71.655954</td>\n",
       "      <td>74.052468</td>\n",
       "      <td>...</td>\n",
       "      <td>NaN</td>\n",
       "      <td>NaN</td>\n",
       "      <td>NaN</td>\n",
       "      <td>NaN</td>\n",
       "      <td>NaN</td>\n",
       "      <td>NaN</td>\n",
       "      <td>NaN</td>\n",
       "      <td>NaN</td>\n",
       "      <td>NaN</td>\n",
       "      <td>NaN</td>\n",
       "    </tr>\n",
       "    <tr>\n",
       "      <th>2</th>\n",
       "      <td>NaN</td>\n",
       "      <td>99.293651</td>\n",
       "      <td>180.000000</td>\n",
       "      <td>99.626984</td>\n",
       "      <td>101.293651</td>\n",
       "      <td>100.341270</td>\n",
       "      <td>100.722222</td>\n",
       "      <td>99.388889</td>\n",
       "      <td>99.388889</td>\n",
       "      <td>99.055556</td>\n",
       "      <td>...</td>\n",
       "      <td>NaN</td>\n",
       "      <td>NaN</td>\n",
       "      <td>NaN</td>\n",
       "      <td>NaN</td>\n",
       "      <td>NaN</td>\n",
       "      <td>NaN</td>\n",
       "      <td>NaN</td>\n",
       "      <td>NaN</td>\n",
       "      <td>NaN</td>\n",
       "      <td>NaN</td>\n",
       "    </tr>\n",
       "    <tr>\n",
       "      <th>3</th>\n",
       "      <td>NaN</td>\n",
       "      <td>88.967936</td>\n",
       "      <td>70.416485</td>\n",
       "      <td>56.959173</td>\n",
       "      <td>69.960825</td>\n",
       "      <td>55.197029</td>\n",
       "      <td>60.669316</td>\n",
       "      <td>53.567910</td>\n",
       "      <td>52.966730</td>\n",
       "      <td>54.192555</td>\n",
       "      <td>...</td>\n",
       "      <td>NaN</td>\n",
       "      <td>NaN</td>\n",
       "      <td>NaN</td>\n",
       "      <td>NaN</td>\n",
       "      <td>NaN</td>\n",
       "      <td>NaN</td>\n",
       "      <td>NaN</td>\n",
       "      <td>NaN</td>\n",
       "      <td>NaN</td>\n",
       "      <td>NaN</td>\n",
       "    </tr>\n",
       "    <tr>\n",
       "      <th>4</th>\n",
       "      <td>NaN</td>\n",
       "      <td>NaN</td>\n",
       "      <td>NaN</td>\n",
       "      <td>NaN</td>\n",
       "      <td>NaN</td>\n",
       "      <td>NaN</td>\n",
       "      <td>NaN</td>\n",
       "      <td>NaN</td>\n",
       "      <td>NaN</td>\n",
       "      <td>NaN</td>\n",
       "      <td>...</td>\n",
       "      <td>NaN</td>\n",
       "      <td>NaN</td>\n",
       "      <td>NaN</td>\n",
       "      <td>NaN</td>\n",
       "      <td>NaN</td>\n",
       "      <td>NaN</td>\n",
       "      <td>NaN</td>\n",
       "      <td>NaN</td>\n",
       "      <td>NaN</td>\n",
       "      <td>NaN</td>\n",
       "    </tr>\n",
       "  </tbody>\n",
       "</table>\n",
       "<p>5 rows × 793 columns</p>\n",
       "</div>"
      ],
      "text/plain": [
       "   2015-07-01  2015-07-02  2015-07-03  2015-07-04  2015-07-05  2015-07-06  \\\n",
       "0         NaN   59.292576   47.521198   42.279365   43.644768   45.184539   \n",
       "1         NaN   73.260387   69.616005   67.684029   68.770630   69.095268   \n",
       "2         NaN   99.293651  180.000000   99.626984  101.293651  100.341270   \n",
       "3         NaN   88.967936   70.416485   56.959173   69.960825   55.197029   \n",
       "4         NaN         NaN         NaN         NaN         NaN         NaN   \n",
       "\n",
       "   2015-07-07  2015-07-08  2015-07-09  2015-07-10     ...      2017-08-22  \\\n",
       "0   43.202023   41.268254   42.592001   44.607579     ...             NaN   \n",
       "1   70.576750   71.639287   71.655954   74.052468     ...             NaN   \n",
       "2  100.722222   99.388889   99.388889   99.055556     ...             NaN   \n",
       "3   60.669316   53.567910   52.966730   54.192555     ...             NaN   \n",
       "4         NaN         NaN         NaN         NaN     ...             NaN   \n",
       "\n",
       "   2017-08-23  2017-08-24  2017-08-25  2017-08-26  2017-08-27  2017-08-28  \\\n",
       "0         NaN         NaN         NaN         NaN         NaN         NaN   \n",
       "1         NaN         NaN         NaN         NaN         NaN         NaN   \n",
       "2         NaN         NaN         NaN         NaN         NaN         NaN   \n",
       "3         NaN         NaN         NaN         NaN         NaN         NaN   \n",
       "4         NaN         NaN         NaN         NaN         NaN         NaN   \n",
       "\n",
       "   2017-08-29  2017-08-30  2017-08-31  \n",
       "0         NaN         NaN         NaN  \n",
       "1         NaN         NaN         NaN  \n",
       "2         NaN         NaN         NaN  \n",
       "3         NaN         NaN         NaN  \n",
       "4         NaN         NaN         NaN  \n",
       "\n",
       "[5 rows x 793 columns]"
      ]
     },
     "execution_count": 11,
     "metadata": {},
     "output_type": "execute_result"
    }
   ],
   "source": [
    "print(median_rolling_smape.iloc[[0],[0,-1]])\n",
    "print(median_rolling_smape.shape)\n",
    "median_rolling_smape.head()"
   ]
  },
  {
   "cell_type": "code",
   "execution_count": 12,
   "metadata": {},
   "outputs": [
    {
     "name": "stdout",
     "output_type": "stream",
     "text": [
      "prophet_rolling_smape indexing ::: index -> smape for that following (non_inclusive) 60 days period\n",
      "(df.v7t_val.round(decimals=6).fillna(-10) == yhat_rolling_smape.iloc[:,-60].round(decimals=6).fillna(-10)).sum() -> 145063\n"
     ]
    }
   ],
   "source": [
    "yhat_rolling_smape =  wiki.val.load_prophet_rolling_smape(VERSION, test_version=True)"
   ]
  },
  {
   "cell_type": "code",
   "execution_count": 13,
   "metadata": {},
   "outputs": [
    {
     "name": "stdout",
     "output_type": "stream",
     "text": [
      "   2015-08-30  2017-08-31\n",
      "0      46.014         NaN\n",
      "(145063, 733)\n"
     ]
    },
    {
     "data": {
      "text/html": [
       "<div>\n",
       "<style>\n",
       "    .dataframe thead tr:only-child th {\n",
       "        text-align: right;\n",
       "    }\n",
       "\n",
       "    .dataframe thead th {\n",
       "        text-align: left;\n",
       "    }\n",
       "\n",
       "    .dataframe tbody tr th {\n",
       "        vertical-align: top;\n",
       "    }\n",
       "</style>\n",
       "<table border=\"1\" class=\"dataframe\">\n",
       "  <thead>\n",
       "    <tr style=\"text-align: right;\">\n",
       "      <th></th>\n",
       "      <th>2015-08-30</th>\n",
       "      <th>2015-08-31</th>\n",
       "      <th>2015-09-01</th>\n",
       "      <th>2015-09-02</th>\n",
       "      <th>2015-09-03</th>\n",
       "      <th>2015-09-04</th>\n",
       "      <th>2015-09-05</th>\n",
       "      <th>2015-09-06</th>\n",
       "      <th>2015-09-07</th>\n",
       "      <th>2015-09-08</th>\n",
       "      <th>...</th>\n",
       "      <th>2017-08-22</th>\n",
       "      <th>2017-08-23</th>\n",
       "      <th>2017-08-24</th>\n",
       "      <th>2017-08-25</th>\n",
       "      <th>2017-08-26</th>\n",
       "      <th>2017-08-27</th>\n",
       "      <th>2017-08-28</th>\n",
       "      <th>2017-08-29</th>\n",
       "      <th>2017-08-30</th>\n",
       "      <th>2017-08-31</th>\n",
       "    </tr>\n",
       "  </thead>\n",
       "  <tbody>\n",
       "    <tr>\n",
       "      <th>0</th>\n",
       "      <td>46.01400</td>\n",
       "      <td>45.40289</td>\n",
       "      <td>45.30144</td>\n",
       "      <td>44.52684</td>\n",
       "      <td>45.14765</td>\n",
       "      <td>45.53654</td>\n",
       "      <td>46.25179</td>\n",
       "      <td>46.21211</td>\n",
       "      <td>46.71445</td>\n",
       "      <td>45.58791</td>\n",
       "      <td>...</td>\n",
       "      <td>NaN</td>\n",
       "      <td>NaN</td>\n",
       "      <td>NaN</td>\n",
       "      <td>NaN</td>\n",
       "      <td>NaN</td>\n",
       "      <td>NaN</td>\n",
       "      <td>NaN</td>\n",
       "      <td>NaN</td>\n",
       "      <td>NaN</td>\n",
       "      <td>NaN</td>\n",
       "    </tr>\n",
       "    <tr>\n",
       "      <th>1</th>\n",
       "      <td>53.50449</td>\n",
       "      <td>53.26103</td>\n",
       "      <td>53.13358</td>\n",
       "      <td>52.39626</td>\n",
       "      <td>52.15095</td>\n",
       "      <td>51.44100</td>\n",
       "      <td>50.79423</td>\n",
       "      <td>51.01956</td>\n",
       "      <td>52.92075</td>\n",
       "      <td>53.88034</td>\n",
       "      <td>...</td>\n",
       "      <td>NaN</td>\n",
       "      <td>NaN</td>\n",
       "      <td>NaN</td>\n",
       "      <td>NaN</td>\n",
       "      <td>NaN</td>\n",
       "      <td>NaN</td>\n",
       "      <td>NaN</td>\n",
       "      <td>NaN</td>\n",
       "      <td>NaN</td>\n",
       "      <td>NaN</td>\n",
       "    </tr>\n",
       "    <tr>\n",
       "      <th>2</th>\n",
       "      <td>71.58922</td>\n",
       "      <td>71.25588</td>\n",
       "      <td>72.57456</td>\n",
       "      <td>72.46874</td>\n",
       "      <td>72.02430</td>\n",
       "      <td>72.02430</td>\n",
       "      <td>71.74652</td>\n",
       "      <td>72.80472</td>\n",
       "      <td>72.63806</td>\n",
       "      <td>72.16187</td>\n",
       "      <td>...</td>\n",
       "      <td>NaN</td>\n",
       "      <td>NaN</td>\n",
       "      <td>NaN</td>\n",
       "      <td>NaN</td>\n",
       "      <td>NaN</td>\n",
       "      <td>NaN</td>\n",
       "      <td>NaN</td>\n",
       "      <td>NaN</td>\n",
       "      <td>NaN</td>\n",
       "      <td>NaN</td>\n",
       "    </tr>\n",
       "    <tr>\n",
       "      <th>3</th>\n",
       "      <td>53.84082</td>\n",
       "      <td>54.01158</td>\n",
       "      <td>53.71279</td>\n",
       "      <td>52.48091</td>\n",
       "      <td>52.18176</td>\n",
       "      <td>52.27033</td>\n",
       "      <td>52.99497</td>\n",
       "      <td>52.96078</td>\n",
       "      <td>53.43351</td>\n",
       "      <td>53.60186</td>\n",
       "      <td>...</td>\n",
       "      <td>NaN</td>\n",
       "      <td>NaN</td>\n",
       "      <td>NaN</td>\n",
       "      <td>NaN</td>\n",
       "      <td>NaN</td>\n",
       "      <td>NaN</td>\n",
       "      <td>NaN</td>\n",
       "      <td>NaN</td>\n",
       "      <td>NaN</td>\n",
       "      <td>NaN</td>\n",
       "    </tr>\n",
       "    <tr>\n",
       "      <th>4</th>\n",
       "      <td>NaN</td>\n",
       "      <td>NaN</td>\n",
       "      <td>NaN</td>\n",
       "      <td>NaN</td>\n",
       "      <td>NaN</td>\n",
       "      <td>NaN</td>\n",
       "      <td>NaN</td>\n",
       "      <td>NaN</td>\n",
       "      <td>NaN</td>\n",
       "      <td>NaN</td>\n",
       "      <td>...</td>\n",
       "      <td>NaN</td>\n",
       "      <td>NaN</td>\n",
       "      <td>NaN</td>\n",
       "      <td>NaN</td>\n",
       "      <td>NaN</td>\n",
       "      <td>NaN</td>\n",
       "      <td>NaN</td>\n",
       "      <td>NaN</td>\n",
       "      <td>NaN</td>\n",
       "      <td>NaN</td>\n",
       "    </tr>\n",
       "  </tbody>\n",
       "</table>\n",
       "<p>5 rows × 733 columns</p>\n",
       "</div>"
      ],
      "text/plain": [
       "   2015-08-30  2015-08-31  2015-09-01  2015-09-02  2015-09-03  2015-09-04  \\\n",
       "0    46.01400    45.40289    45.30144    44.52684    45.14765    45.53654   \n",
       "1    53.50449    53.26103    53.13358    52.39626    52.15095    51.44100   \n",
       "2    71.58922    71.25588    72.57456    72.46874    72.02430    72.02430   \n",
       "3    53.84082    54.01158    53.71279    52.48091    52.18176    52.27033   \n",
       "4         NaN         NaN         NaN         NaN         NaN         NaN   \n",
       "\n",
       "   2015-09-05  2015-09-06  2015-09-07  2015-09-08     ...      2017-08-22  \\\n",
       "0    46.25179    46.21211    46.71445    45.58791     ...             NaN   \n",
       "1    50.79423    51.01956    52.92075    53.88034     ...             NaN   \n",
       "2    71.74652    72.80472    72.63806    72.16187     ...             NaN   \n",
       "3    52.99497    52.96078    53.43351    53.60186     ...             NaN   \n",
       "4         NaN         NaN         NaN         NaN     ...             NaN   \n",
       "\n",
       "   2017-08-23  2017-08-24  2017-08-25  2017-08-26  2017-08-27  2017-08-28  \\\n",
       "0         NaN         NaN         NaN         NaN         NaN         NaN   \n",
       "1         NaN         NaN         NaN         NaN         NaN         NaN   \n",
       "2         NaN         NaN         NaN         NaN         NaN         NaN   \n",
       "3         NaN         NaN         NaN         NaN         NaN         NaN   \n",
       "4         NaN         NaN         NaN         NaN         NaN         NaN   \n",
       "\n",
       "   2017-08-29  2017-08-30  2017-08-31  \n",
       "0         NaN         NaN         NaN  \n",
       "1         NaN         NaN         NaN  \n",
       "2         NaN         NaN         NaN  \n",
       "3         NaN         NaN         NaN  \n",
       "4         NaN         NaN         NaN  \n",
       "\n",
       "[5 rows x 733 columns]"
      ]
     },
     "execution_count": 13,
     "metadata": {},
     "output_type": "execute_result"
    }
   ],
   "source": [
    "print(yhat_rolling_smape.iloc[[0],[0,-1]])\n",
    "print(yhat_rolling_smape.shape)\n",
    "yhat_rolling_smape.head()"
   ]
  },
  {
   "cell_type": "code",
   "execution_count": 14,
   "metadata": {},
   "outputs": [
    {
     "data": {
      "text/plain": [
       "<matplotlib.axes._subplots.AxesSubplot at 0x7f314e8146a0>"
      ]
     },
     "execution_count": 14,
     "metadata": {},
     "output_type": "execute_result"
    },
    {
     "data": {
      "image/png": "[encoded data removed]",
      "text/plain": [
       "<matplotlib.figure.Figure at 0x7f3150870710>"
      ]
     },
     "metadata": {},
     "output_type": "display_data"
    }
   ],
   "source": [
    "yhat_rolling_smape.iloc[:,-120:-60].diff(1, axis=1).mean(axis=0).plot()\n",
    "median_rolling_smape.iloc[:,-120:-60].diff(1, axis=1).mean(axis=0).plot()"
   ]
  },
  {
   "cell_type": "code",
   "execution_count": 15,
   "metadata": {},
   "outputs": [
    {
     "data": {
      "text/plain": [
       "<matplotlib.axes._subplots.AxesSubplot at 0x7f31513a2a90>"
      ]
     },
     "execution_count": 15,
     "metadata": {},
     "output_type": "execute_result"
    },
    {
     "data": {
      "image/png": "[encoded data removed]",
      "text/plain": [
       "<matplotlib.figure.Figure at 0x7f31513bd518>"
      ]
     },
     "metadata": {},
     "output_type": "display_data"
    }
   ],
   "source": [
    "yhat_rolling_smape.diff(1, axis=1).mean(axis=0).plot()\n",
    "median_rolling_smape.diff(1, axis=1).mean(axis=0).plot()"
   ]
  },
  {
   "cell_type": "code",
   "execution_count": 16,
   "metadata": {
    "collapsed": true
   },
   "outputs": [],
   "source": [
    "# remove the yhat smape for the t\n",
    "yhat_rolling_smape2 = yhat_rolling_smape.copy()\n",
    "#yhat_rolling_smape2.iloc[:,-120:] = np.nan"
   ]
  },
  {
   "cell_type": "code",
   "execution_count": 17,
   "metadata": {},
   "outputs": [],
   "source": [
    "cut_off = None\n",
    "df['rolling_gain_mean'] = (median_rolling_smape.iloc[:,:cut_off] - yhat_rolling_smape.iloc[:,:cut_off]).mean(axis=1)\n",
    "df['rolling_gain_std'] = (median_rolling_smape.iloc[:,:cut_off] - yhat_rolling_smape.iloc[:,:cut_off]).std(axis=1)"
   ]
  },
  {
   "cell_type": "code",
   "execution_count": 18,
   "metadata": {},
   "outputs": [
    {
     "name": "stdout",
     "output_type": "stream",
     "text": [
      "200.0 -193.587283558\n",
      "172.734306215 0.0\n"
     ]
    }
   ],
   "source": [
    "print(df['rolling_gain_mean'].max(), df['rolling_gain_mean'].min())\n",
    "print(df['rolling_gain_std'].max(), df['rolling_gain_std'].min())"
   ]
  },
  {
   "cell_type": "code",
   "execution_count": 19,
   "metadata": {},
   "outputs": [
    {
     "data": {
      "text/plain": [
       "<matplotlib.axes._subplots.AxesSubplot at 0x7f31512bf240>"
      ]
     },
     "execution_count": 19,
     "metadata": {},
     "output_type": "execute_result"
    },
    {
     "data": {
      "image/png": "[encoded data removed]",
      "text/plain": [
       "<matplotlib.figure.Figure at 0x7f31508ea7f0>"
      ]
     },
     "metadata": {},
     "output_type": "display_data"
    }
   ],
   "source": [
    "df['rolling_gain_mean'].plot()"
   ]
  },
  {
   "cell_type": "code",
   "execution_count": 20,
   "metadata": {},
   "outputs": [
    {
     "data": {
      "text/plain": [
       "<matplotlib.axes._subplots.AxesSubplot at 0x7f314a7dd668>"
      ]
     },
     "execution_count": 20,
     "metadata": {},
     "output_type": "execute_result"
    },
    {
     "data": {
      "image/png": "[encoded data removed]",
      "text/plain": [
       "<matplotlib.figure.Figure at 0x7f314a7f8588>"
      ]
     },
     "metadata": {},
     "output_type": "display_data"
    }
   ],
   "source": [
    "df['rolling_gain_std'].plot()"
   ]
  },
  {
   "cell_type": "markdown",
   "metadata": {},
   "source": [
    "# Shift preds"
   ]
  },
  {
   "cell_type": "code",
   "execution_count": 21,
   "metadata": {
    "collapsed": true
   },
   "outputs": [],
   "source": [
    "y_df = wiki.newphet.load_prophet_prop(VERSION, 'y')"
   ]
  },
  {
   "cell_type": "code",
   "execution_count": 22,
   "metadata": {
    "collapsed": true
   },
   "outputs": [],
   "source": [
    "y_df_shift = y_df.shift(365, axis=1).fillna(0)\n",
    "y_df_shift2 = y_df.shift(364, axis=1).fillna(0)\n",
    "y_df_shiftBad = y_df.shift(366, axis=1).fillna(0)\n",
    "#y_df = y_df.shift(365, axis=1).fillna(0)"
   ]
  },
  {
   "cell_type": "code",
   "execution_count": 23,
   "metadata": {
    "collapsed": true
   },
   "outputs": [],
   "source": [
    "train = pd.read_feather('../data/train_old.f')"
   ]
  },
  {
   "cell_type": "code",
   "execution_count": 24,
   "metadata": {
    "collapsed": true
   },
   "outputs": [],
   "source": [
    "y_df_shift_smape = wiki.val.get_smape_df(train,y_df_shift)\n",
    "y_df_shift2_smape = wiki.val.get_smape_df(train,y_df_shift2)\n",
    "y_df_shiftBad_smape = wiki.val.get_smape_df(train,y_df_shiftBad)"
   ]
  },
  {
   "cell_type": "code",
   "execution_count": 25,
   "metadata": {},
   "outputs": [
    {
     "data": {
      "text/html": [
       "<div>\n",
       "<style>\n",
       "    .dataframe thead tr:only-child th {\n",
       "        text-align: right;\n",
       "    }\n",
       "\n",
       "    .dataframe thead th {\n",
       "        text-align: left;\n",
       "    }\n",
       "\n",
       "    .dataframe tbody tr th {\n",
       "        vertical-align: top;\n",
       "    }\n",
       "</style>\n",
       "<table border=\"1\" class=\"dataframe\">\n",
       "  <thead>\n",
       "    <tr style=\"text-align: right;\">\n",
       "      <th></th>\n",
       "      <th>2015-07-01</th>\n",
       "      <th>2015-07-02</th>\n",
       "      <th>2015-07-03</th>\n",
       "      <th>2015-07-04</th>\n",
       "      <th>2015-07-05</th>\n",
       "      <th>2015-07-06</th>\n",
       "      <th>2015-07-07</th>\n",
       "      <th>2015-07-08</th>\n",
       "      <th>2015-07-09</th>\n",
       "      <th>2015-07-10</th>\n",
       "      <th>...</th>\n",
       "      <th>2017-08-22</th>\n",
       "      <th>2017-08-23</th>\n",
       "      <th>2017-08-24</th>\n",
       "      <th>2017-08-25</th>\n",
       "      <th>2017-08-26</th>\n",
       "      <th>2017-08-27</th>\n",
       "      <th>2017-08-28</th>\n",
       "      <th>2017-08-29</th>\n",
       "      <th>2017-08-30</th>\n",
       "      <th>2017-08-31</th>\n",
       "    </tr>\n",
       "  </thead>\n",
       "  <tbody>\n",
       "    <tr>\n",
       "      <th>0</th>\n",
       "      <td>200.0</td>\n",
       "      <td>200.0</td>\n",
       "      <td>200.0</td>\n",
       "      <td>200.0</td>\n",
       "      <td>200.0</td>\n",
       "      <td>200.0</td>\n",
       "      <td>200.0</td>\n",
       "      <td>200.0</td>\n",
       "      <td>200.0</td>\n",
       "      <td>200.0</td>\n",
       "      <td>...</td>\n",
       "      <td>59.649123</td>\n",
       "      <td>54.945055</td>\n",
       "      <td>22.222222</td>\n",
       "      <td>48.648649</td>\n",
       "      <td>46.153846</td>\n",
       "      <td>103.225806</td>\n",
       "      <td>83.870968</td>\n",
       "      <td>0.000000</td>\n",
       "      <td>100.000000</td>\n",
       "      <td>17.391304</td>\n",
       "    </tr>\n",
       "    <tr>\n",
       "      <th>1</th>\n",
       "      <td>200.0</td>\n",
       "      <td>200.0</td>\n",
       "      <td>200.0</td>\n",
       "      <td>200.0</td>\n",
       "      <td>200.0</td>\n",
       "      <td>200.0</td>\n",
       "      <td>200.0</td>\n",
       "      <td>200.0</td>\n",
       "      <td>200.0</td>\n",
       "      <td>200.0</td>\n",
       "      <td>...</td>\n",
       "      <td>69.767442</td>\n",
       "      <td>109.090909</td>\n",
       "      <td>13.333333</td>\n",
       "      <td>29.629630</td>\n",
       "      <td>77.551020</td>\n",
       "      <td>93.333333</td>\n",
       "      <td>24.561404</td>\n",
       "      <td>27.450980</td>\n",
       "      <td>123.595506</td>\n",
       "      <td>21.428571</td>\n",
       "    </tr>\n",
       "    <tr>\n",
       "      <th>2</th>\n",
       "      <td>200.0</td>\n",
       "      <td>0.0</td>\n",
       "      <td>200.0</td>\n",
       "      <td>200.0</td>\n",
       "      <td>0.0</td>\n",
       "      <td>200.0</td>\n",
       "      <td>0.0</td>\n",
       "      <td>200.0</td>\n",
       "      <td>200.0</td>\n",
       "      <td>200.0</td>\n",
       "      <td>...</td>\n",
       "      <td>40.000000</td>\n",
       "      <td>140.740741</td>\n",
       "      <td>138.461538</td>\n",
       "      <td>46.153846</td>\n",
       "      <td>66.666667</td>\n",
       "      <td>146.666667</td>\n",
       "      <td>120.000000</td>\n",
       "      <td>46.153846</td>\n",
       "      <td>100.000000</td>\n",
       "      <td>127.272727</td>\n",
       "    </tr>\n",
       "    <tr>\n",
       "      <th>3</th>\n",
       "      <td>200.0</td>\n",
       "      <td>200.0</td>\n",
       "      <td>200.0</td>\n",
       "      <td>200.0</td>\n",
       "      <td>200.0</td>\n",
       "      <td>200.0</td>\n",
       "      <td>200.0</td>\n",
       "      <td>200.0</td>\n",
       "      <td>200.0</td>\n",
       "      <td>200.0</td>\n",
       "      <td>...</td>\n",
       "      <td>123.076923</td>\n",
       "      <td>142.857143</td>\n",
       "      <td>24.390244</td>\n",
       "      <td>61.538462</td>\n",
       "      <td>16.666667</td>\n",
       "      <td>25.000000</td>\n",
       "      <td>28.571429</td>\n",
       "      <td>5.128205</td>\n",
       "      <td>176.068376</td>\n",
       "      <td>50.000000</td>\n",
       "    </tr>\n",
       "    <tr>\n",
       "      <th>4</th>\n",
       "      <td>NaN</td>\n",
       "      <td>NaN</td>\n",
       "      <td>NaN</td>\n",
       "      <td>NaN</td>\n",
       "      <td>NaN</td>\n",
       "      <td>NaN</td>\n",
       "      <td>NaN</td>\n",
       "      <td>NaN</td>\n",
       "      <td>NaN</td>\n",
       "      <td>NaN</td>\n",
       "      <td>...</td>\n",
       "      <td>168.000000</td>\n",
       "      <td>164.444444</td>\n",
       "      <td>157.142857</td>\n",
       "      <td>152.000000</td>\n",
       "      <td>180.952381</td>\n",
       "      <td>155.555556</td>\n",
       "      <td>141.176471</td>\n",
       "      <td>163.636364</td>\n",
       "      <td>140.000000</td>\n",
       "      <td>169.230769</td>\n",
       "    </tr>\n",
       "  </tbody>\n",
       "</table>\n",
       "<p>5 rows × 793 columns</p>\n",
       "</div>"
      ],
      "text/plain": [
       "   2015-07-01  2015-07-02  2015-07-03  2015-07-04  2015-07-05  2015-07-06  \\\n",
       "0       200.0       200.0       200.0       200.0       200.0       200.0   \n",
       "1       200.0       200.0       200.0       200.0       200.0       200.0   \n",
       "2       200.0         0.0       200.0       200.0         0.0       200.0   \n",
       "3       200.0       200.0       200.0       200.0       200.0       200.0   \n",
       "4         NaN         NaN         NaN         NaN         NaN         NaN   \n",
       "\n",
       "   2015-07-07  2015-07-08  2015-07-09  2015-07-10     ...      2017-08-22  \\\n",
       "0       200.0       200.0       200.0       200.0     ...       59.649123   \n",
       "1       200.0       200.0       200.0       200.0     ...       69.767442   \n",
       "2         0.0       200.0       200.0       200.0     ...       40.000000   \n",
       "3       200.0       200.0       200.0       200.0     ...      123.076923   \n",
       "4         NaN         NaN         NaN         NaN     ...      168.000000   \n",
       "\n",
       "   2017-08-23  2017-08-24  2017-08-25  2017-08-26  2017-08-27  2017-08-28  \\\n",
       "0   54.945055   22.222222   48.648649   46.153846  103.225806   83.870968   \n",
       "1  109.090909   13.333333   29.629630   77.551020   93.333333   24.561404   \n",
       "2  140.740741  138.461538   46.153846   66.666667  146.666667  120.000000   \n",
       "3  142.857143   24.390244   61.538462   16.666667   25.000000   28.571429   \n",
       "4  164.444444  157.142857  152.000000  180.952381  155.555556  141.176471   \n",
       "\n",
       "   2017-08-29  2017-08-30  2017-08-31  \n",
       "0    0.000000  100.000000   17.391304  \n",
       "1   27.450980  123.595506   21.428571  \n",
       "2   46.153846  100.000000  127.272727  \n",
       "3    5.128205  176.068376   50.000000  \n",
       "4  163.636364  140.000000  169.230769  \n",
       "\n",
       "[5 rows x 793 columns]"
      ]
     },
     "execution_count": 25,
     "metadata": {},
     "output_type": "execute_result"
    }
   ],
   "source": [
    "y_df_shift_smape.head()"
   ]
  },
  {
   "cell_type": "code",
   "execution_count": 26,
   "metadata": {
    "collapsed": true
   },
   "outputs": [],
   "source": [
    "df['shift_y_smape'] = y_df_shift_smape.iloc[:,-60:].mean(axis=1)\n",
    "df['shift_y_smape2'] = y_df_shift2_smape.iloc[:,-60:].mean(axis=1)\n",
    "df['shift_y_smapeBad'] = y_df_shiftBad_smape.iloc[:,-60:].mean(axis=1)"
   ]
  },
  {
   "cell_type": "code",
   "execution_count": 27,
   "metadata": {
    "collapsed": true,
    "scrolled": true
   },
   "outputs": [],
   "source": [
    "df['shift_y_gain'] = df.smape_60_to_0 - df['shift_y_smape']"
   ]
  },
  {
   "cell_type": "markdown",
   "metadata": {},
   "source": [
    "# Filter CV"
   ]
  },
  {
   "cell_type": "code",
   "execution_count": 28,
   "metadata": {
    "collapsed": true,
    "scrolled": true
   },
   "outputs": [],
   "source": [
    "BASE_SCORE = df.smape_60_to_0.mean()"
   ]
  },
  {
   "cell_type": "code",
   "execution_count": 29,
   "metadata": {
    "scrolled": true
   },
   "outputs": [
    {
     "data": {
      "text/plain": [
       "41.043204039840212"
      ]
     },
     "execution_count": 29,
     "metadata": {},
     "output_type": "execute_result"
    }
   ],
   "source": [
    "BASE_SCORE"
   ]
  },
  {
   "cell_type": "markdown",
   "metadata": {},
   "source": [
    "s.best_params_ \n",
    "#v1{'a': 1.5, 'b': 2.0, 'c': 8.0, 'd': 0} -> 40.54743243933121\n",
    "#v2{'a': 1.7999999999999998, 'b': 2.5, 'c': 9, 'd': 0} -> 40.5440\n",
    "{'a': 1.7999999999999998, 'b': 2.5, 'c': 9, 'd': 0}"
   ]
  },
  {
   "cell_type": "code",
   "execution_count": 30,
   "metadata": {},
   "outputs": [
    {
     "name": "stdout",
     "output_type": "stream",
     "text": [
      "6467\n"
     ]
    }
   ],
   "source": [
    "#{'a': 1.5, 'b': 2.0, 'c': 6, 'd': 0}\n",
    "#v1{'a': 1.5, 'b': 2.0, 'c': 8.0, 'd': 0}\n",
    "filter_df = ((df['rolling_gain_std']*1.5 < df['rolling_gain_mean']*2) &\n",
    "            (df['Ytest_gain'] > 6) &\n",
    "             (df['nans_start_to_120'] <= 0)\n",
    "             )\n",
    "print(len(df[filter_df]))"
   ]
  },
  {
   "cell_type": "code",
   "execution_count": 31,
   "metadata": {},
   "outputs": [
    {
     "data": {
      "text/plain": [
       "41.003731883034931"
      ]
     },
     "execution_count": 31,
     "metadata": {},
     "output_type": "execute_result"
    }
   ],
   "source": [
    "pd.concat([df[filter_df].v7t_val,\n",
    "           df[~filter_df].smape_60_to_0]).mean()"
   ]
  },
  {
   "cell_type": "code",
   "execution_count": 32,
   "metadata": {},
   "outputs": [
    {
     "data": {
      "text/plain": [
       "40.551880242482788"
      ]
     },
     "execution_count": 32,
     "metadata": {},
     "output_type": "execute_result"
    }
   ],
   "source": [
    "pd.concat([df[filter_df].shift_y_smape,\n",
    "           df[~filter_df].smape_60_to_0]).mean()"
   ]
  },
  {
   "cell_type": "code",
   "execution_count": 33,
   "metadata": {},
   "outputs": [
    {
     "data": {
      "text/plain": [
       "40.328822232438021"
      ]
     },
     "execution_count": 33,
     "metadata": {},
     "output_type": "execute_result"
    }
   ],
   "source": [
    "pd.concat([df[filter_df].shift_y_smape2,\n",
    "           df[~filter_df].smape_60_to_0]).mean()"
   ]
  },
  {
   "cell_type": "code",
   "execution_count": 34,
   "metadata": {},
   "outputs": [
    {
     "data": {
      "text/plain": [
       "40.833268524131576"
      ]
     },
     "execution_count": 34,
     "metadata": {},
     "output_type": "execute_result"
    }
   ],
   "source": [
    "pd.concat([df[filter_df].shift_y_smapeBad,\n",
    "           df[~filter_df].smape_60_to_0]).mean()"
   ]
  },
  {
   "cell_type": "code",
   "execution_count": 76,
   "metadata": {},
   "outputs": [
    {
     "name": "stdout",
     "output_type": "stream",
     "text": [
      "7220\n"
     ]
    }
   ],
   "source": [
    "#v1{'a': 1.5, 'b': 2.0, 'c': 8.0, 'd': 0}\n",
    "filter_df2 = ((df['rolling_gain_std']*1 < df['rolling_gain_mean']*1) &\n",
    "            (df['Ytest_gain'] > 0) &\n",
    "             (df['nans_start_to_120'] <= 0)\n",
    "             )\n",
    "print(len(df[filter_df2]))"
   ]
  },
  {
   "cell_type": "code",
   "execution_count": 77,
   "metadata": {},
   "outputs": [
    {
     "data": {
      "text/plain": [
       "40.942300823384357"
      ]
     },
     "execution_count": 77,
     "metadata": {},
     "output_type": "execute_result"
    }
   ],
   "source": [
    "pd.concat([df[filter_df2].v7t_val,\n",
    "           df[~filter_df2].smape_60_to_0]).mean()"
   ]
  },
  {
   "cell_type": "code",
   "execution_count": 78,
   "metadata": {},
   "outputs": [
    {
     "data": {
      "text/plain": [
       "41.256579500626138"
      ]
     },
     "execution_count": 78,
     "metadata": {},
     "output_type": "execute_result"
    }
   ],
   "source": [
    "pd.concat([df[filter_df2].shift_y_smape,\n",
    "           df[~filter_df2].smape_60_to_0]).mean()"
   ]
  },
  {
   "cell_type": "code",
   "execution_count": 79,
   "metadata": {},
   "outputs": [
    {
     "data": {
      "text/plain": [
       "40.576409841015504"
      ]
     },
     "execution_count": 79,
     "metadata": {},
     "output_type": "execute_result"
    }
   ],
   "source": [
    "pd.concat([df[filter_df2].shift_y_smape2,\n",
    "           df[~filter_df].smape_60_to_0]).mean()"
   ]
  },
  {
   "cell_type": "markdown",
   "metadata": {
    "collapsed": true
   },
   "source": [
    "# Saving Results "
   ]
  },
  {
   "cell_type": "code",
   "execution_count": 44,
   "metadata": {
    "collapsed": true
   },
   "outputs": [],
   "source": [
    "# save the pages and val scores\n",
    "df[filter_df][['page_index','shift_y_smape']].reset_index(drop=True).to_feather(\n",
    "    '../data/prophet/results/proph_FINAL_test_smape.f')"
   ]
  },
  {
   "cell_type": "code",
   "execution_count": 42,
   "metadata": {},
   "outputs": [],
   "source": [
    "# save the pages and val scores\n",
    "# need to grab yhat here I think\n",
    "y_df_shift[filter_df].iloc[:,-60:].reset_index().rename(columns={'index':'page_index'}).to_feather(\n",
    "    '../data/prophet/results/proph_FINAL_test_preds.f')"
   ]
  },
  {
   "cell_type": "code",
   "execution_count": null,
   "metadata": {
    "collapsed": true
   },
   "outputs": [],
   "source": []
  }
 ],
 "metadata": {
  "kernelspec": {
   "display_name": "Python 3",
   "language": "python",
   "name": "python3"
  },
  "language_info": {
   "codemirror_mode": {
    "name": "ipython",
    "version": 3
   },
   "file_extension": ".py",
   "mimetype": "text/x-python",
   "name": "python",
   "nbconvert_exporter": "python",
   "pygments_lexer": "ipython3",
   "version": "3.6.2"
  }
 },
 "nbformat": 4,
 "nbformat_minor": 2
}
