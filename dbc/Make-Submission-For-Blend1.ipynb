{
 "cells": [
  {
   "cell_type": "code",
   "execution_count": 1,
   "metadata": {
    "collapsed": true,
    "scrolled": true
   },
   "outputs": [],
   "source": [
    "%load_ext autoreload\n",
    "%autoreload 2 \n",
    "%matplotlib inline"
   ]
  },
  {
   "cell_type": "code",
   "execution_count": 2,
   "metadata": {
    "collapsed": true
   },
   "outputs": [],
   "source": [
    "import matplotlib.pyplot as plt\n",
    "plt.style.use('ggplot')\n",
    "import os\n",
    "import pandas as pd\n",
    "import numpy as np \n",
    "import pickle as pk\n",
    "import glob\n",
    "from fbprophet import Prophet\n",
    "import sys\n",
    "sys.path.append('../')\n",
    "import wiki\n",
    "from wiki import utils \n",
    "import multiprocessing as mp\n",
    "total_proc = None\n",
    "from tqdm import tqdm\n",
    "from IPython.display import clear_output"
   ]
  },
  {
   "cell_type": "code",
   "execution_count": 6,
   "metadata": {
    "collapsed": true
   },
   "outputs": [],
   "source": [
    "PROPHET_PATH = '../data/prophet/'\n",
    "BLENDS_PATH = 'blends/'\n",
    "RESULTS_PATH = 'results/'\n",
    "BLEND_NUMBER = 'b1/'\n",
    "assert BLEND_NUMBER[-1] == '/'\n",
    "VERSION = 'v3f/'\n",
    "assert VERSION[-1] == '/'\n",
    "assert VERSION[-2] == 'f'"
   ]
  },
  {
   "cell_type": "code",
   "execution_count": 5,
   "metadata": {},
   "outputs": [
    {
     "data": {
      "text/html": [
       "<div>\n",
       "<style>\n",
       "    .dataframe thead tr:only-child th {\n",
       "        text-align: right;\n",
       "    }\n",
       "\n",
       "    .dataframe thead th {\n",
       "        text-align: left;\n",
       "    }\n",
       "\n",
       "    .dataframe tbody tr th {\n",
       "        vertical-align: top;\n",
       "    }\n",
       "</style>\n",
       "<table border=\"1\" class=\"dataframe\">\n",
       "  <thead>\n",
       "    <tr style=\"text-align: right;\">\n",
       "      <th></th>\n",
       "      <th>Id</th>\n",
       "      <th>Visits</th>\n",
       "    </tr>\n",
       "  </thead>\n",
       "  <tbody>\n",
       "    <tr>\n",
       "      <th>0</th>\n",
       "      <td>ff8c1aade3de</td>\n",
       "      <td>18.0</td>\n",
       "    </tr>\n",
       "    <tr>\n",
       "      <th>1</th>\n",
       "      <td>6a4de5b43179</td>\n",
       "      <td>18.0</td>\n",
       "    </tr>\n",
       "    <tr>\n",
       "      <th>2</th>\n",
       "      <td>559a1ab24535</td>\n",
       "      <td>18.0</td>\n",
       "    </tr>\n",
       "    <tr>\n",
       "      <th>3</th>\n",
       "      <td>8bd4a4dea5a3</td>\n",
       "      <td>18.0</td>\n",
       "    </tr>\n",
       "    <tr>\n",
       "      <th>4</th>\n",
       "      <td>fb31ab105824</td>\n",
       "      <td>18.0</td>\n",
       "    </tr>\n",
       "  </tbody>\n",
       "</table>\n",
       "</div>"
      ],
      "text/plain": [
       "             Id  Visits\n",
       "0  ff8c1aade3de    18.0\n",
       "1  6a4de5b43179    18.0\n",
       "2  559a1ab24535    18.0\n",
       "3  8bd4a4dea5a3    18.0\n",
       "4  fb31ab105824    18.0"
      ]
     },
     "execution_count": 5,
     "metadata": {},
     "output_type": "execute_result"
    }
   ],
   "source": [
    "med_df = pd.read_feather('../data/median_selected.f'); med_df.head()"
   ]
  },
  {
   "cell_type": "code",
   "execution_count": 29,
   "metadata": {
    "collapsed": true
   },
   "outputs": [],
   "source": [
    "proph_df = pd.read_csv(PROPHET_PATH+'submissions/'+'backup_'+BLEND_NUMBER[:-1]+VERSION[:-1]+'.csv')"
   ]
  },
  {
   "cell_type": "code",
   "execution_count": 30,
   "metadata": {},
   "outputs": [
    {
     "data": {
      "text/html": [
       "<div>\n",
       "<style>\n",
       "    .dataframe thead tr:only-child th {\n",
       "        text-align: right;\n",
       "    }\n",
       "\n",
       "    .dataframe thead th {\n",
       "        text-align: left;\n",
       "    }\n",
       "\n",
       "    .dataframe tbody tr th {\n",
       "        vertical-align: top;\n",
       "    }\n",
       "</style>\n",
       "<table border=\"1\" class=\"dataframe\">\n",
       "  <thead>\n",
       "    <tr style=\"text-align: right;\">\n",
       "      <th></th>\n",
       "      <th>Id</th>\n",
       "      <th>Visits</th>\n",
       "    </tr>\n",
       "  </thead>\n",
       "  <tbody>\n",
       "    <tr>\n",
       "      <th>0</th>\n",
       "      <td>11c45df91fcf</td>\n",
       "      <td>63</td>\n",
       "    </tr>\n",
       "    <tr>\n",
       "      <th>1</th>\n",
       "      <td>957e6a70d6e0</td>\n",
       "      <td>53</td>\n",
       "    </tr>\n",
       "    <tr>\n",
       "      <th>2</th>\n",
       "      <td>66e316f6315f</td>\n",
       "      <td>49</td>\n",
       "    </tr>\n",
       "    <tr>\n",
       "      <th>3</th>\n",
       "      <td>337a0d125696</td>\n",
       "      <td>44</td>\n",
       "    </tr>\n",
       "    <tr>\n",
       "      <th>4</th>\n",
       "      <td>e918d253b59e</td>\n",
       "      <td>42</td>\n",
       "    </tr>\n",
       "  </tbody>\n",
       "</table>\n",
       "</div>"
      ],
      "text/plain": [
       "             Id  Visits\n",
       "0  11c45df91fcf      63\n",
       "1  957e6a70d6e0      53\n",
       "2  66e316f6315f      49\n",
       "3  337a0d125696      44\n",
       "4  e918d253b59e      42"
      ]
     },
     "execution_count": 30,
     "metadata": {},
     "output_type": "execute_result"
    }
   ],
   "source": [
    "proph_df.head()"
   ]
  },
  {
   "cell_type": "code",
   "execution_count": 37,
   "metadata": {},
   "outputs": [
    {
     "data": {
      "text/plain": [
       "4236.0"
      ]
     },
     "execution_count": 37,
     "metadata": {},
     "output_type": "execute_result"
    }
   ],
   "source": [
    "len(pd.Series(list(set(proph_df.Id) & set(med_df.Id))))/len(ds)"
   ]
  },
  {
   "cell_type": "code",
   "execution_count": 35,
   "metadata": {
    "collapsed": true
   },
   "outputs": [],
   "source": [
    "ds = pd.DataFrame(pd.date_range('1/1/2017', '3/1/2017'), columns=['ds'])"
   ]
  },
  {
   "cell_type": "code",
   "execution_count": 36,
   "metadata": {},
   "outputs": [
    {
     "data": {
      "text/plain": [
       "60"
      ]
     },
     "execution_count": 36,
     "metadata": {},
     "output_type": "execute_result"
    }
   ],
   "source": [
    "len(ds)"
   ]
  },
  {
   "cell_type": "code",
   "execution_count": 39,
   "metadata": {},
   "outputs": [],
   "source": [
    "med_df_fin = med_df[~med_df.Id.isin(proph_df.Id)]"
   ]
  },
  {
   "cell_type": "code",
   "execution_count": 42,
   "metadata": {},
   "outputs": [
    {
     "data": {
      "text/plain": [
       "8426580"
      ]
     },
     "execution_count": 42,
     "metadata": {},
     "output_type": "execute_result"
    }
   ],
   "source": [
    "len(med_df_fin)+len(proph_df)"
   ]
  },
  {
   "cell_type": "code",
   "execution_count": 40,
   "metadata": {
    "collapsed": true
   },
   "outputs": [],
   "source": [
    "with open(PROPHET_PATH+'submissions/'+BLEND_NUMBER[:-1]+VERSION[:-1]+'.csv', 'a') as f:\n",
    "    med_df_fin.to_csv(f, header=False, index=False)"
   ]
  },
  {
   "cell_type": "code",
   "execution_count": 9,
   "metadata": {
    "collapsed": true
   },
   "outputs": [],
   "source": [
    "sub = pd.read_csv(PROPHET_PATH+'submissions/'+BLEND_NUMBER[:-1]+VERSION[:-1]+'.csv')"
   ]
  },
  {
   "cell_type": "code",
   "execution_count": 11,
   "metadata": {},
   "outputs": [
    {
     "data": {
      "text/html": [
       "<div>\n",
       "<style>\n",
       "    .dataframe thead tr:only-child th {\n",
       "        text-align: right;\n",
       "    }\n",
       "\n",
       "    .dataframe thead th {\n",
       "        text-align: left;\n",
       "    }\n",
       "\n",
       "    .dataframe tbody tr th {\n",
       "        vertical-align: top;\n",
       "    }\n",
       "</style>\n",
       "<table border=\"1\" class=\"dataframe\">\n",
       "  <thead>\n",
       "    <tr style=\"text-align: right;\">\n",
       "      <th></th>\n",
       "      <th>Id</th>\n",
       "      <th>Visits</th>\n",
       "    </tr>\n",
       "  </thead>\n",
       "  <tbody>\n",
       "    <tr>\n",
       "      <th>0</th>\n",
       "      <td>11c45df91fcf</td>\n",
       "      <td>63.0</td>\n",
       "    </tr>\n",
       "    <tr>\n",
       "      <th>1</th>\n",
       "      <td>957e6a70d6e0</td>\n",
       "      <td>53.0</td>\n",
       "    </tr>\n",
       "    <tr>\n",
       "      <th>2</th>\n",
       "      <td>66e316f6315f</td>\n",
       "      <td>49.0</td>\n",
       "    </tr>\n",
       "    <tr>\n",
       "      <th>3</th>\n",
       "      <td>337a0d125696</td>\n",
       "      <td>44.0</td>\n",
       "    </tr>\n",
       "    <tr>\n",
       "      <th>4</th>\n",
       "      <td>e918d253b59e</td>\n",
       "      <td>42.0</td>\n",
       "    </tr>\n",
       "  </tbody>\n",
       "</table>\n",
       "</div>"
      ],
      "text/plain": [
       "             Id  Visits\n",
       "0  11c45df91fcf    63.0\n",
       "1  957e6a70d6e0    53.0\n",
       "2  66e316f6315f    49.0\n",
       "3  337a0d125696    44.0\n",
       "4  e918d253b59e    42.0"
      ]
     },
     "execution_count": 11,
     "metadata": {},
     "output_type": "execute_result"
    }
   ],
   "source": [
    "sub.head()"
   ]
  },
  {
   "cell_type": "code",
   "execution_count": 18,
   "metadata": {
    "scrolled": true
   },
   "outputs": [
    {
     "data": {
      "text/plain": [
       "def73d0f6b7a     True\n",
       "7c2eb5bbe002     True\n",
       "bfa3c37226b0     True\n",
       "3ff178f6d312     True\n",
       "8e148ca34051     True\n",
       "fcd06cd7683d     True\n",
       "acf336f1ac67     True\n",
       "e71886eb8503     True\n",
       "e8d03d46e8c8     True\n",
       "10808434663b     True\n",
       "0c8acb4d6fdc     True\n",
       "456d0d1f2811     True\n",
       "e5c9d4bf41c6     True\n",
       "daee588eafd8     True\n",
       "dfdf65a28d8c     True\n",
       "36ec2f56fd72     True\n",
       "5ee31f36d20d     True\n",
       "8b34840b473c     True\n",
       "5a25dad65c5f     True\n",
       "62c1ac31f666     True\n",
       "8c64f91550cc     True\n",
       "81e1ef37c0ef     True\n",
       "f3c223888b78     True\n",
       "2f3ba8d98eea     True\n",
       "85ebd0fa388c     True\n",
       "e7a0c56601c6     True\n",
       "1509e54bee4a     True\n",
       "aa67d6321f64     True\n",
       "2b141bfd2f9c     True\n",
       "7ac86b96c53a     True\n",
       "                ...  \n",
       "838b9c385fc2    False\n",
       "291f082a0d2f    False\n",
       "dc3919baa687    False\n",
       "9cce36c81687    False\n",
       "5a31b714688c    False\n",
       "2a7ed1e7e1ad    False\n",
       "a7c9acbdf075    False\n",
       "367c3d2193ac    False\n",
       "b8aaf17b1ad0    False\n",
       "ad65566591b8    False\n",
       "dfc4952c0eae    False\n",
       "c1d8439b8c0e    False\n",
       "72dfbe4625f7    False\n",
       "eab3256705b7    False\n",
       "ff7da1905975    False\n",
       "3bccadcd0d9d    False\n",
       "b26110d31319    False\n",
       "73a521775d7b    False\n",
       "4234cefd6d16    False\n",
       "f5e76934f8fc    False\n",
       "7169fd1fec87    False\n",
       "e28b87473248    False\n",
       "e10d3a301281    False\n",
       "e9de570c9c04    False\n",
       "ee82d53970d4    False\n",
       "0da42ccb09e3    False\n",
       "c4c52731680b    False\n",
       "3fad34aaa45f    False\n",
       "8387dc356add    False\n",
       "cbb4051688de    False\n",
       "Name: Id, Length: 8426580, dtype: bool"
      ]
     },
     "execution_count": 18,
     "metadata": {},
     "output_type": "execute_result"
    }
   ],
   "source": [
    "sub.Id.value_counts() == 2"
   ]
  },
  {
   "cell_type": "code",
   "execution_count": 16,
   "metadata": {},
   "outputs": [
    {
     "data": {
      "text/plain": [
       "1    8172420\n",
       "2     254160\n",
       "Name: Id, dtype: int64"
      ]
     },
     "execution_count": 16,
     "metadata": {},
     "output_type": "execute_result"
    }
   ],
   "source": [
    "sub.Id.value_counts().value_counts()"
   ]
  },
  {
   "cell_type": "code",
   "execution_count": 14,
   "metadata": {},
   "outputs": [
    {
     "data": {
      "text/html": [
       "<div>\n",
       "<style>\n",
       "    .dataframe thead tr:only-child th {\n",
       "        text-align: right;\n",
       "    }\n",
       "\n",
       "    .dataframe thead th {\n",
       "        text-align: left;\n",
       "    }\n",
       "\n",
       "    .dataframe tbody tr th {\n",
       "        vertical-align: top;\n",
       "    }\n",
       "</style>\n",
       "<table border=\"1\" class=\"dataframe\">\n",
       "  <thead>\n",
       "    <tr style=\"text-align: right;\">\n",
       "      <th></th>\n",
       "      <th>Id</th>\n",
       "      <th>Visits</th>\n",
       "    </tr>\n",
       "  </thead>\n",
       "  <tbody>\n",
       "    <tr>\n",
       "      <th>2746339</th>\n",
       "      <td>def73d0f6b7a</td>\n",
       "      <td>30.0</td>\n",
       "    </tr>\n",
       "    <tr>\n",
       "      <th>4774639</th>\n",
       "      <td>def73d0f6b7a</td>\n",
       "      <td>26.0</td>\n",
       "    </tr>\n",
       "  </tbody>\n",
       "</table>\n",
       "</div>"
      ],
      "text/plain": [
       "                   Id  Visits\n",
       "2746339  def73d0f6b7a    30.0\n",
       "4774639  def73d0f6b7a    26.0"
      ]
     },
     "execution_count": 14,
     "metadata": {},
     "output_type": "execute_result"
    }
   ],
   "source": [
    "sub[sub.Id == 'def73d0f6b7a']"
   ]
  },
  {
   "cell_type": "code",
   "execution_count": 19,
   "metadata": {},
   "outputs": [
    {
     "data": {
      "text/html": [
       "<div>\n",
       "<style>\n",
       "    .dataframe thead tr:only-child th {\n",
       "        text-align: right;\n",
       "    }\n",
       "\n",
       "    .dataframe thead th {\n",
       "        text-align: left;\n",
       "    }\n",
       "\n",
       "    .dataframe tbody tr th {\n",
       "        vertical-align: top;\n",
       "    }\n",
       "</style>\n",
       "<table border=\"1\" class=\"dataframe\">\n",
       "  <thead>\n",
       "    <tr style=\"text-align: right;\">\n",
       "      <th></th>\n",
       "      <th>Id</th>\n",
       "      <th>Visits</th>\n",
       "    </tr>\n",
       "  </thead>\n",
       "  <tbody>\n",
       "    <tr>\n",
       "      <th>1018007</th>\n",
       "      <td>85ebd0fa388c</td>\n",
       "      <td>0.0</td>\n",
       "    </tr>\n",
       "    <tr>\n",
       "      <th>4112027</th>\n",
       "      <td>85ebd0fa388c</td>\n",
       "      <td>0.0</td>\n",
       "    </tr>\n",
       "  </tbody>\n",
       "</table>\n",
       "</div>"
      ],
      "text/plain": [
       "                   Id  Visits\n",
       "1018007  85ebd0fa388c     0.0\n",
       "4112027  85ebd0fa388c     0.0"
      ]
     },
     "execution_count": 19,
     "metadata": {},
     "output_type": "execute_result"
    }
   ],
   "source": [
    "sub[sub.Id == '85ebd0fa388c']"
   ]
  },
  {
   "cell_type": "code",
   "execution_count": 24,
   "metadata": {},
   "outputs": [
    {
     "data": {
      "text/html": [
       "<div>\n",
       "<style>\n",
       "    .dataframe thead tr:only-child th {\n",
       "        text-align: right;\n",
       "    }\n",
       "\n",
       "    .dataframe thead th {\n",
       "        text-align: left;\n",
       "    }\n",
       "\n",
       "    .dataframe tbody tr th {\n",
       "        vertical-align: top;\n",
       "    }\n",
       "</style>\n",
       "<table border=\"1\" class=\"dataframe\">\n",
       "  <thead>\n",
       "    <tr style=\"text-align: right;\">\n",
       "      <th></th>\n",
       "      <th>Id</th>\n",
       "      <th>Visits</th>\n",
       "    </tr>\n",
       "  </thead>\n",
       "  <tbody>\n",
       "    <tr>\n",
       "      <th>0</th>\n",
       "      <td>11c45df91fcf</td>\n",
       "      <td>63.0</td>\n",
       "    </tr>\n",
       "    <tr>\n",
       "      <th>1</th>\n",
       "      <td>957e6a70d6e0</td>\n",
       "      <td>53.0</td>\n",
       "    </tr>\n",
       "    <tr>\n",
       "      <th>2</th>\n",
       "      <td>66e316f6315f</td>\n",
       "      <td>49.0</td>\n",
       "    </tr>\n",
       "    <tr>\n",
       "      <th>3</th>\n",
       "      <td>337a0d125696</td>\n",
       "      <td>44.0</td>\n",
       "    </tr>\n",
       "    <tr>\n",
       "      <th>4</th>\n",
       "      <td>e918d253b59e</td>\n",
       "      <td>42.0</td>\n",
       "    </tr>\n",
       "  </tbody>\n",
       "</table>\n",
       "</div>"
      ],
      "text/plain": [
       "             Id  Visits\n",
       "0  11c45df91fcf    63.0\n",
       "1  957e6a70d6e0    53.0\n",
       "2  66e316f6315f    49.0\n",
       "3  337a0d125696    44.0\n",
       "4  e918d253b59e    42.0"
      ]
     },
     "execution_count": 24,
     "metadata": {},
     "output_type": "execute_result"
    }
   ],
   "source": [
    "sub.head()"
   ]
  },
  {
   "cell_type": "code",
   "execution_count": 23,
   "metadata": {},
   "outputs": [
    {
     "data": {
      "text/html": [
       "<div>\n",
       "<style>\n",
       "    .dataframe thead tr:only-child th {\n",
       "        text-align: right;\n",
       "    }\n",
       "\n",
       "    .dataframe thead th {\n",
       "        text-align: left;\n",
       "    }\n",
       "\n",
       "    .dataframe tbody tr th {\n",
       "        vertical-align: top;\n",
       "    }\n",
       "</style>\n",
       "<table border=\"1\" class=\"dataframe\">\n",
       "  <thead>\n",
       "    <tr style=\"text-align: right;\">\n",
       "      <th></th>\n",
       "      <th>Id</th>\n",
       "      <th>Visits</th>\n",
       "    </tr>\n",
       "  </thead>\n",
       "  <tbody>\n",
       "    <tr>\n",
       "      <th>3643432</th>\n",
       "      <td>28ba8e861773</td>\n",
       "      <td>0.0</td>\n",
       "    </tr>\n",
       "    <tr>\n",
       "      <th>3643433</th>\n",
       "      <td>84ccef257dc4</td>\n",
       "      <td>0.0</td>\n",
       "    </tr>\n",
       "    <tr>\n",
       "      <th>3643434</th>\n",
       "      <td>39b0670e90a7</td>\n",
       "      <td>0.0</td>\n",
       "    </tr>\n",
       "    <tr>\n",
       "      <th>3643435</th>\n",
       "      <td>05e95dc2a347</td>\n",
       "      <td>0.0</td>\n",
       "    </tr>\n",
       "    <tr>\n",
       "      <th>3643436</th>\n",
       "      <td>b3c33fcde8d6</td>\n",
       "      <td>0.0</td>\n",
       "    </tr>\n",
       "    <tr>\n",
       "      <th>3643437</th>\n",
       "      <td>fdf3867a9be9</td>\n",
       "      <td>0.0</td>\n",
       "    </tr>\n",
       "    <tr>\n",
       "      <th>3643438</th>\n",
       "      <td>d2347cee9c8c</td>\n",
       "      <td>0.0</td>\n",
       "    </tr>\n",
       "    <tr>\n",
       "      <th>3643439</th>\n",
       "      <td>291247344360</td>\n",
       "      <td>0.0</td>\n",
       "    </tr>\n",
       "    <tr>\n",
       "      <th>3643440</th>\n",
       "      <td>ff8c1aade3de</td>\n",
       "      <td>18.0</td>\n",
       "    </tr>\n",
       "    <tr>\n",
       "      <th>3643441</th>\n",
       "      <td>6a4de5b43179</td>\n",
       "      <td>18.0</td>\n",
       "    </tr>\n",
       "    <tr>\n",
       "      <th>3643442</th>\n",
       "      <td>559a1ab24535</td>\n",
       "      <td>18.0</td>\n",
       "    </tr>\n",
       "    <tr>\n",
       "      <th>3643443</th>\n",
       "      <td>8bd4a4dea5a3</td>\n",
       "      <td>18.0</td>\n",
       "    </tr>\n",
       "    <tr>\n",
       "      <th>3643444</th>\n",
       "      <td>fb31ab105824</td>\n",
       "      <td>18.0</td>\n",
       "    </tr>\n",
       "    <tr>\n",
       "      <th>3643445</th>\n",
       "      <td>ea2516fbe7dd</td>\n",
       "      <td>18.0</td>\n",
       "    </tr>\n",
       "    <tr>\n",
       "      <th>3643446</th>\n",
       "      <td>33e55396b874</td>\n",
       "      <td>18.0</td>\n",
       "    </tr>\n",
       "    <tr>\n",
       "      <th>3643447</th>\n",
       "      <td>c88629040f27</td>\n",
       "      <td>18.0</td>\n",
       "    </tr>\n",
       "    <tr>\n",
       "      <th>3643448</th>\n",
       "      <td>9f5fc3c0ff56</td>\n",
       "      <td>18.0</td>\n",
       "    </tr>\n",
       "    <tr>\n",
       "      <th>3643449</th>\n",
       "      <td>3296d557daaa</td>\n",
       "      <td>18.0</td>\n",
       "    </tr>\n",
       "    <tr>\n",
       "      <th>3643450</th>\n",
       "      <td>3b4b37423b5b</td>\n",
       "      <td>18.0</td>\n",
       "    </tr>\n",
       "    <tr>\n",
       "      <th>3643451</th>\n",
       "      <td>f53589d0652e</td>\n",
       "      <td>18.0</td>\n",
       "    </tr>\n",
       "    <tr>\n",
       "      <th>3643452</th>\n",
       "      <td>b04595c9d119</td>\n",
       "      <td>18.0</td>\n",
       "    </tr>\n",
       "  </tbody>\n",
       "</table>\n",
       "</div>"
      ],
      "text/plain": [
       "                   Id  Visits\n",
       "3643432  28ba8e861773     0.0\n",
       "3643433  84ccef257dc4     0.0\n",
       "3643434  39b0670e90a7     0.0\n",
       "3643435  05e95dc2a347     0.0\n",
       "3643436  b3c33fcde8d6     0.0\n",
       "3643437  fdf3867a9be9     0.0\n",
       "3643438  d2347cee9c8c     0.0\n",
       "3643439  291247344360     0.0\n",
       "3643440  ff8c1aade3de    18.0\n",
       "3643441  6a4de5b43179    18.0\n",
       "3643442  559a1ab24535    18.0\n",
       "3643443  8bd4a4dea5a3    18.0\n",
       "3643444  fb31ab105824    18.0\n",
       "3643445  ea2516fbe7dd    18.0\n",
       "3643446  33e55396b874    18.0\n",
       "3643447  c88629040f27    18.0\n",
       "3643448  9f5fc3c0ff56    18.0\n",
       "3643449  3296d557daaa    18.0\n",
       "3643450  3b4b37423b5b    18.0\n",
       "3643451  f53589d0652e    18.0\n",
       "3643452  b04595c9d119    18.0"
      ]
     },
     "execution_count": 23,
     "metadata": {},
     "output_type": "execute_result"
    }
   ],
   "source": [
    "sub.loc[3643442-10:3643442+10]"
   ]
  },
  {
   "cell_type": "code",
   "execution_count": 27,
   "metadata": {
    "scrolled": true
   },
   "outputs": [
    {
     "data": {
      "text/plain": [
       "37e540116655    1\n",
       "1891c361624d    1\n",
       "581e24e041d3    1\n",
       "752fafce6ac6    1\n",
       "e5b0f8f71880    1\n",
       "cd24ab21eca9    1\n",
       "e1bad5158bbc    1\n",
       "e8db79254cb2    1\n",
       "9d54d79a4be8    1\n",
       "62c919787bd6    1\n",
       "2f6c61597338    1\n",
       "2ff4851c876e    1\n",
       "fd4e27dc6a5c    1\n",
       "00438395fd1d    1\n",
       "d1c8cf552f14    1\n",
       "a14e0789861c    1\n",
       "fbb03e100ce9    1\n",
       "da7410026a4a    1\n",
       "566b71e655e7    1\n",
       "b5b62af011db    1\n",
       "07a54bfbebc9    1\n",
       "0fa859fd0824    1\n",
       "d733fd217a63    1\n",
       "f428dafb8d43    1\n",
       "d004ef01ce19    1\n",
       "d717864edde9    1\n",
       "6f6dd4d6d0a3    1\n",
       "35bec8bcdef2    1\n",
       "4f57821add9e    1\n",
       "6a3878ba15f2    1\n",
       "               ..\n",
       "7095ffd7363f    1\n",
       "3f0c43b82253    1\n",
       "22ebbde8710d    1\n",
       "34fa8034fbb0    1\n",
       "ae99317e9e5e    1\n",
       "d3e0bc0b31fa    1\n",
       "f2c3fe8b3f2d    1\n",
       "8b24e278f9a3    1\n",
       "ba3fa39f23d4    1\n",
       "f76e88d68a1a    1\n",
       "af4543ad92ab    1\n",
       "5a419ee701e9    1\n",
       "5daec3515a07    1\n",
       "6ae6ba3beab3    1\n",
       "9826817f8f65    1\n",
       "d658fa061427    1\n",
       "5dadcb89fc95    1\n",
       "bdf7a4e00e72    1\n",
       "5481d64af44e    1\n",
       "383177d4b4c7    1\n",
       "c796f46a00f9    1\n",
       "5f7f32009cf0    1\n",
       "0903baf3c356    1\n",
       "5a478fba14ce    1\n",
       "65bfd9244a7e    1\n",
       "e4eaf665cd20    1\n",
       "e7c0867f8de6    1\n",
       "29a36767a459    1\n",
       "ae003d493ace    1\n",
       "cbb4051688de    1\n",
       "Name: Id, Length: 5037298, dtype: int64"
      ]
     },
     "execution_count": 27,
     "metadata": {},
     "output_type": "execute_result"
    }
   ],
   "source": [
    "sub.loc[3643442:].Id.value_counts()"
   ]
  },
  {
   "cell_type": "code",
   "execution_count": 28,
   "metadata": {
    "scrolled": true
   },
   "outputs": [
    {
     "data": {
      "text/plain": [
       "2e91de4c32f5    1\n",
       "a4e80b32582c    1\n",
       "e9abd0a294aa    1\n",
       "7acef4218f6f    1\n",
       "714e944b74e4    1\n",
       "e804a8d3e752    1\n",
       "b705c6a444c5    1\n",
       "3052fd981b34    1\n",
       "20d5e585c6b8    1\n",
       "a1d76e11e359    1\n",
       "3d8068eb3495    1\n",
       "b47086009617    1\n",
       "037606a4ae48    1\n",
       "79a6621929c3    1\n",
       "a19e2b269849    1\n",
       "3d1d90fd45ba    1\n",
       "4768b35b317d    1\n",
       "dc6e097a7130    1\n",
       "efb977ce8399    1\n",
       "5f2c404c44f1    1\n",
       "fe02544d5a5f    1\n",
       "18d749844c5c    1\n",
       "4b46439af510    1\n",
       "a9872abbd94a    1\n",
       "b0c6f6d95318    1\n",
       "455c676c80e9    1\n",
       "5f17aa51805a    1\n",
       "ad7f56099521    1\n",
       "c3829bd5c28c    1\n",
       "7e530c7b76d8    1\n",
       "               ..\n",
       "d708d1b68e66    1\n",
       "f37119a5ba7a    1\n",
       "cfb194f515ff    1\n",
       "83af0b0e6df0    1\n",
       "d785ea806bfa    1\n",
       "03643627d7fb    1\n",
       "91d533c69262    1\n",
       "c98ba7629216    1\n",
       "c38182c69560    1\n",
       "2287e197a01c    1\n",
       "5f279aca8783    1\n",
       "2184329810e9    1\n",
       "810706fb4eb9    1\n",
       "2b6730a7ad67    1\n",
       "838e63479422    1\n",
       "c09d7692030c    1\n",
       "23eb2b3fc8cd    1\n",
       "ea0c5b3a92e4    1\n",
       "c2672abde002    1\n",
       "619e4db09ef8    1\n",
       "70edc9822288    1\n",
       "632fc4973d49    1\n",
       "05f1178c69a3    1\n",
       "affd8c6f86be    1\n",
       "914547a2545b    1\n",
       "5f0232a54c38    1\n",
       "743c2eefa6c5    1\n",
       "7bb14635b427    1\n",
       "e3c35cd9c077    1\n",
       "f53f32d84ef9    1\n",
       "Name: Id, Length: 3643443, dtype: int64"
      ]
     },
     "execution_count": 28,
     "metadata": {},
     "output_type": "execute_result"
    }
   ],
   "source": [
    "sub.loc[:3643442].Id.value_counts()"
   ]
  },
  {
   "cell_type": "code",
   "execution_count": 41,
   "metadata": {},
   "outputs": [
    {
     "data": {
      "text/plain": [
       "4619.983333333334"
      ]
     },
     "execution_count": 41,
     "metadata": {},
     "output_type": "execute_result"
    }
   ],
   "source": [
    "(8703780- 8426581)/60"
   ]
  },
  {
   "cell_type": "code",
   "execution_count": null,
   "metadata": {
    "collapsed": true
   },
   "outputs": [],
   "source": []
  },
  {
   "cell_type": "code",
   "execution_count": null,
   "metadata": {
    "collapsed": true
   },
   "outputs": [],
   "source": []
  },
  {
   "cell_type": "code",
   "execution_count": 3,
   "metadata": {
    "collapsed": true
   },
   "outputs": [],
   "source": [
    "PROPHET_PATH = '../data/prophet/'\n",
    "RESULTS_PATH = 'results/'\n",
    "VERSION = 'v3f/'"
   ]
  },
  {
   "cell_type": "code",
   "execution_count": 4,
   "metadata": {
    "collapsed": true
   },
   "outputs": [],
   "source": [
    "page_index = pd.read_feather(PROPHET_PATH+'page_index.f')\n",
    "keydf = pd.read_csv('../data/key_1.csv')"
   ]
  },
  {
   "cell_type": "code",
   "execution_count": 7,
   "metadata": {
    "collapsed": true
   },
   "outputs": [],
   "source": [
    "tdf = page_index.set_index('page_index').head()"
   ]
  },
  {
   "cell_type": "code",
   "execution_count": 11,
   "metadata": {},
   "outputs": [
    {
     "data": {
      "text/plain": [
       "'2NE1_zh.wikipedia.org_all-access_spider'"
      ]
     },
     "execution_count": 11,
     "metadata": {},
     "output_type": "execute_result"
    }
   ],
   "source": [
    "tdf.loc[0].Page"
   ]
  },
  {
   "cell_type": "code",
   "execution_count": 13,
   "metadata": {
    "collapsed": true
   },
   "outputs": [],
   "source": [
    "PROPHET_PATH = '../data/prophet/'\n",
    "BLENDS_PATH = 'blends/'\n",
    "RESULTS_PATH = 'results/'\n",
    "BLEND_NUMBER = 'b1/'\n",
    "assert BLEND_NUMBER[-1] == '/'\n",
    "VERSION = 'v3f/'\n",
    "assert VERSION[-1] == '/'\n",
    "assert VERSION[-2] == 'f'"
   ]
  },
  {
   "cell_type": "code",
   "execution_count": 15,
   "metadata": {
    "collapsed": true
   },
   "outputs": [],
   "source": [
    "blend_pages = pd.read_feather(PROPHET_PATH+BLENDS_PATH+BLEND_NUMBER\n",
    "                              +VERSION[:-2]+'df.f')"
   ]
  },
  {
   "cell_type": "code",
   "execution_count": 22,
   "metadata": {
    "collapsed": true
   },
   "outputs": [],
   "source": [
    "blend_pages = blend_pages.values.flatten()"
   ]
  },
  {
   "cell_type": "code",
   "execution_count": 5,
   "metadata": {
    "collapsed": true,
    "scrolled": true
   },
   "outputs": [],
   "source": [
    "# January, 1st, 2017 up until March 1st, 2017.\n",
    "ds = pd.DataFrame(pd.date_range('1/1/2017', '3/1/2017'), columns=['ds'])"
   ]
  },
  {
   "cell_type": "code",
   "execution_count": 6,
   "metadata": {
    "collapsed": true
   },
   "outputs": [],
   "source": [
    "# Submission Make"
   ]
  },
  {
   "cell_type": "code",
   "execution_count": 7,
   "metadata": {
    "collapsed": true
   },
   "outputs": [],
   "source": [
    "#page_index = page_index.loc[:10]"
   ]
  },
  {
   "cell_type": "code",
   "execution_count": 12,
   "metadata": {
    "scrolled": true
   },
   "outputs": [
    {
     "name": "stderr",
     "output_type": "stream",
     "text": [
      "\r",
      "0it [00:00, ?it/s]"
     ]
    },
    {
     "name": "stdout",
     "output_type": "stream",
     "text": [
      "0 <class 'int'>\n"
     ]
    },
    {
     "name": "stderr",
     "output_type": "stream",
     "text": [
      "\r",
      "1it [00:05,  5.62s/it]"
     ]
    },
    {
     "name": "stdout",
     "output_type": "stream",
     "text": [
      "             Id       yhat\n",
      "0  ff8c1aade3de  28.166355\n",
      "1  6a4de5b43179  21.471587\n",
      "2  559a1ab24535  30.126437\n",
      "3  8bd4a4dea5a3  27.603581\n",
      "4  fb31ab105824  26.497807\n",
      "1 <class 'int'>\n"
     ]
    },
    {
     "name": "stderr",
     "output_type": "stream",
     "text": [
      "\r",
      "2it [00:09,  5.22s/it]"
     ]
    },
    {
     "name": "stdout",
     "output_type": "stream",
     "text": [
      "             Id       yhat\n",
      "0  3da6fd5b23c1  22.706435\n",
      "1  aee6413e7ca4  19.635986\n",
      "2  97afde66b584  20.740962\n",
      "3  28899068f7f4  21.529706\n",
      "4  22979c293afe  22.221478\n",
      "2 <class 'int'>\n"
     ]
    },
    {
     "name": "stderr",
     "output_type": "stream",
     "text": [
      "\r",
      "3it [00:14,  4.93s/it]"
     ]
    },
    {
     "name": "stdout",
     "output_type": "stream",
     "text": [
      "             Id      yhat\n",
      "0  cd9e83803be4  3.878788\n",
      "1  c12634624b82  3.397805\n",
      "2  d09b7f8d417b  2.783536\n",
      "3  57ff418da247  3.472931\n",
      "4  d58b837b0c96  3.555934\n",
      "3 <class 'int'>\n"
     ]
    },
    {
     "name": "stderr",
     "output_type": "stream",
     "text": [
      "\r",
      "4it [00:19,  4.92s/it]"
     ]
    },
    {
     "name": "stdout",
     "output_type": "stream",
     "text": [
      "             Id       yhat\n",
      "0  65cd4af0968c  12.904174\n",
      "1  1c6ff636fe10  17.241242\n",
      "2  6b8cf13ff910  16.958090\n",
      "3  15df95cf1a39  16.162871\n",
      "4  b12920d1099b  13.208247\n",
      "4 <class 'int'>\n"
     ]
    },
    {
     "name": "stderr",
     "output_type": "stream",
     "text": [
      "\r",
      "5it [00:23,  4.72s/it]"
     ]
    },
    {
     "name": "stdout",
     "output_type": "stream",
     "text": [
      "             Id       yhat\n",
      "0  75bae1fb2637  -7.584653\n",
      "1  7b28e0cecbc4  -5.263853\n",
      "2  7fe5ba30963c -11.199047\n",
      "3  b71cd75a3aa4  -1.527294\n",
      "4  4b70925cd5e8 -10.773457\n",
      "5 <class 'int'>\n"
     ]
    },
    {
     "name": "stderr",
     "output_type": "stream",
     "text": [
      "\r",
      "6it [00:27,  4.50s/it]"
     ]
    },
    {
     "name": "stdout",
     "output_type": "stream",
     "text": [
      "             Id       yhat\n",
      "0  433606efaefc  34.848806\n",
      "1  f0f2423b9b84  31.481328\n",
      "2  293bc0698957  28.171564\n",
      "3  52b258f5a209  29.977920\n",
      "4  b34ed58010a4  30.570096\n",
      "6 <class 'int'>\n"
     ]
    },
    {
     "name": "stderr",
     "output_type": "stream",
     "text": [
      "\r",
      "7it [00:31,  4.44s/it]"
     ]
    },
    {
     "name": "stdout",
     "output_type": "stream",
     "text": [
      "             Id       yhat\n",
      "0  6af27e68fda9 -14.688075\n",
      "1  3a97e97f3017 -21.949023\n",
      "2  0f7d4099cde7 -35.227075\n",
      "3  21a9a1fd485e -28.769153\n",
      "4  614a14bc6bcb -34.810603\n",
      "7 <class 'int'>\n"
     ]
    },
    {
     "name": "stderr",
     "output_type": "stream",
     "text": [
      "\r",
      "8it [00:36,  4.47s/it]"
     ]
    },
    {
     "name": "stdout",
     "output_type": "stream",
     "text": [
      "             Id        yhat\n",
      "0  27f73c0007b1   96.017058\n",
      "1  c100e1c2ad1f  100.189161\n",
      "2  d4ab2ae03448   99.512408\n",
      "3  3a96e372a72a   98.464688\n",
      "4  a3ad9f814376  107.846054\n",
      "8 <class 'int'>\n"
     ]
    },
    {
     "name": "stderr",
     "output_type": "stream",
     "text": [
      "\r",
      "9it [00:40,  4.36s/it]"
     ]
    },
    {
     "name": "stdout",
     "output_type": "stream",
     "text": [
      "             Id       yhat\n",
      "0  6a5c449e172f  38.112184\n",
      "1  063ed5676a95  38.974936\n",
      "2  c7c13c0627db  38.395549\n",
      "3  47855a21fd90  39.271972\n",
      "4  e7e075db26c7  39.006479\n",
      "9 <class 'int'>\n"
     ]
    },
    {
     "name": "stderr",
     "output_type": "stream",
     "text": [
      "\r",
      "10it [00:44,  4.24s/it]"
     ]
    },
    {
     "name": "stdout",
     "output_type": "stream",
     "text": [
      "             Id       yhat\n",
      "0  64f6d0b3ac3d  33.144321\n",
      "1  eb62a2a7447c  36.284368\n",
      "2  5be02129d490  35.899996\n",
      "3  afb022c7fa63  38.164868\n",
      "4  cb2845c9c7e6  37.577186\n",
      "10 <class 'int'>\n"
     ]
    },
    {
     "name": "stderr",
     "output_type": "stream",
     "text": [
      "\r",
      "11it [00:50,  4.76s/it]"
     ]
    },
    {
     "name": "stdout",
     "output_type": "stream",
     "text": [
      "             Id       yhat\n",
      "0  4353ba20ec1f  14.078595\n",
      "1  771e411282da  13.657523\n",
      "2  4a0644dc0f55  15.530862\n",
      "3  c4dfec2e79f6  12.826155\n",
      "4  fec71974900c  19.691935\n"
     ]
    },
    {
     "name": "stderr",
     "output_type": "stream",
     "text": [
      "\n"
     ]
    }
   ],
   "source": [
    "subf = open(PROPHET_PATH+'submissions/'+VERSION[:-1]+'.csv', 'w')\n",
    "subf.write('Id,Visits\\n')\n",
    "for row in tqdm(page_index.iterrows()):\n",
    "    # use row[1][0] to load model\n",
    "    with open(PROPHET_PATH+VERSION+str(row[1][0])+'m.pk', 'rb') as pkf:\n",
    "        m = pk.load(pkf)\n",
    "    # use model + ds to get prediction\n",
    "    df = m.predict(ds).loc[:,['ds','yhat']]\n",
    "    df['yhat_org'] = df['yhat']\n",
    "    df.loc[df['yhat'] < 0,['yhat']] = 0.0\n",
    "    # use row[1][1] and apply to make key col\n",
    "    df['Page'] = df.ds.apply(lambda x: row[1][1]+'_'+str(x.date()))\n",
    "    df = df.merge(keydf, on='Page', how='left').loc[:,['Id','yhat']]\n",
    "    df.to_csv(subf,header=False, index=False)\n",
    "    # write it to csv\n",
    "subf.close()"
   ]
  }
 ],
 "metadata": {
  "kernelspec": {
   "display_name": "Python 3",
   "language": "python",
   "name": "python3"
  },
  "language_info": {
   "codemirror_mode": {
    "name": "ipython",
    "version": 3
   },
   "file_extension": ".py",
   "mimetype": "text/x-python",
   "name": "python",
   "nbconvert_exporter": "python",
   "pygments_lexer": "ipython3",
   "version": "3.6.2"
  }
 },
 "nbformat": 4,
 "nbformat_minor": 2
}
