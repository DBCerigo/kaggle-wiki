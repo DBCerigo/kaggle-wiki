{
 "cells": [
  {
   "cell_type": "code",
   "execution_count": 1,
   "metadata": {
    "scrolled": false
   },
   "outputs": [],
   "source": [
    "%load_ext autoreload\n",
    "%autoreload 2 \n",
    "%matplotlib inline"
   ]
  },
  {
   "cell_type": "code",
   "execution_count": 2,
   "metadata": {
    "collapsed": true
   },
   "outputs": [],
   "source": [
    "import matplotlib.pyplot as plt\n",
    "plt.style.use('ggplot')\n",
    "import logging as lg\n",
    "lg.basicConfig(format='%(asctime)s : %(levelname)s : %(message)s', level=lg.INFO)\n",
    "import os\n",
    "import pandas as pd\n",
    "import numpy as np \n",
    "import pickle as pk\n",
    "import glob\n",
    "from fbprophet import Prophet\n",
    "import sys\n",
    "sys.path.append('../')\n",
    "import wiki\n",
    "from wiki import utils \n",
    "import multiprocessing as mp\n",
    "total_proc = None\n",
    "from tqdm import tqdm\n",
    "from IPython.display import clear_output"
   ]
  },
  {
   "cell_type": "markdown",
   "metadata": {},
   "source": [
    "# General column meanings\n",
    "* y_org: what the orginal time series data is (should have missing values staying as missing!)\n",
    "* y: what the model was trained on (the y in val section is kinda irrelevant then)\n",
    "* yhat_org: original unchanged output of the models predict function\n",
    "* yhat: final predictions including post processing\n",
    "# Scoring\n",
    "* Should all be scored using y_org vs yhat\n",
    "* SHOULD MAKE SURE y_org HASN't HAD fillna(0)"
   ]
  },
  {
   "cell_type": "markdown",
   "metadata": {},
   "source": [
    "# AIM: Get new smape -> v2.6\n",
    "* series from pagedf into y_org"
   ]
  },
  {
   "cell_type": "markdown",
   "metadata": {},
   "source": [
    "## Version 2.6\n",
    "NOTE: may not be properly following full column meanings due to y_org being filled with 0s\n",
    "\n",
    "Should set version directory name in next cell. Should describe version specifics (outliers, holidays, validation period)\n",
    "* TRAINING\n",
    "    * Val indexing on -60\n",
    "    * Cut outliers out on upper 95% quartile `forecast.loc[forecast['yhat'] < 0,['yhat']] = 0.0`\n",
    "    * Linear growth\n",
    "    * Fill ALL other NaNs to 0 BUT KEEP y_org (get it from pagedf)\n",
    "    * Now with try:except: for the `RuntimeError: k initialized to invalid value (-nan)` which replaces first `y` with 0.001\n",
    "    \n",
    "* PREDICTIONS\n",
    "    * Truncating predictions at 0 \n",
    "    * Rounding to nearest int\n",
    "\n",
    "\t* Need this now as the outlier cutting might remove the initial 0.001 we put in there\n",
    "### Remarks\n",
    "* ?"
   ]
  },
  {
   "cell_type": "code",
   "execution_count": 3,
   "metadata": {
    "collapsed": true
   },
   "outputs": [],
   "source": [
    "PROPHET_PATH = '../data/prophet/'\n",
    "RESULTS_PATH = 'results/'"
   ]
  },
  {
   "cell_type": "code",
   "execution_count": 5,
   "metadata": {
    "scrolled": false
   },
   "outputs": [],
   "source": [
    "TARGET_VERSION = 'v2.6/'\n",
    "BASE_VERSION = 'v2.5/'\n",
    "#os.makedirs(PROPHET_PATH+TARGET_VERSION)"
   ]
  },
  {
   "cell_type": "code",
   "execution_count": 6,
   "metadata": {
    "collapsed": true
   },
   "outputs": [],
   "source": [
    "pagedf = pd.read_feather(PROPHET_PATH+'pagedf.f')"
   ]
  },
  {
   "cell_type": "code",
   "execution_count": 7,
   "metadata": {
    "collapsed": true
   },
   "outputs": [],
   "source": [
    "forecast_files = [x.split('/')[-1] for x in glob.glob(PROPHET_PATH+BASE_VERSION+'*df.f')]"
   ]
  },
  {
   "cell_type": "code",
   "execution_count": 8,
   "metadata": {},
   "outputs": [
    {
     "data": {
      "text/plain": [
       "'20274df.f'"
      ]
     },
     "execution_count": 8,
     "metadata": {},
     "output_type": "execute_result"
    }
   ],
   "source": [
    "forecast_files[18284]"
   ]
  },
  {
   "cell_type": "code",
   "execution_count": 18,
   "metadata": {
    "scrolled": true
   },
   "outputs": [
    {
     "data": {
      "text/plain": [
       "0   NaN\n",
       "1   NaN\n",
       "2   NaN\n",
       "3   NaN\n",
       "4   NaN\n",
       "Name: 20274, dtype: float64"
      ]
     },
     "execution_count": 18,
     "metadata": {},
     "output_type": "execute_result"
    }
   ],
   "source": [
    "pagedf[forecast_files[18284][:-4]].head()"
   ]
  },
  {
   "cell_type": "code",
   "execution_count": 10,
   "metadata": {},
   "outputs": [
    {
     "data": {
      "text/plain": [
       "['61780', '88262']"
      ]
     },
     "execution_count": 10,
     "metadata": {},
     "output_type": "execute_result"
    }
   ],
   "source": [
    "[x[:-4] for x in forecast_files[:2]]"
   ]
  },
  {
   "cell_type": "code",
   "execution_count": 11,
   "metadata": {
    "collapsed": true
   },
   "outputs": [],
   "source": [
    "v25df = pd.read_feather(PROPHET_PATH+BASE_VERSION+forecast_files[18284])"
   ]
  },
  {
   "cell_type": "code",
   "execution_count": 17,
   "metadata": {
    "scrolled": true
   },
   "outputs": [
    {
     "data": {
      "text/html": [
       "<div>\n",
       "<style>\n",
       "    .dataframe thead tr:only-child th {\n",
       "        text-align: right;\n",
       "    }\n",
       "\n",
       "    .dataframe thead th {\n",
       "        text-align: left;\n",
       "    }\n",
       "\n",
       "    .dataframe tbody tr th {\n",
       "        vertical-align: top;\n",
       "    }\n",
       "</style>\n",
       "<table border=\"1\" class=\"dataframe\">\n",
       "  <thead>\n",
       "    <tr style=\"text-align: right;\">\n",
       "      <th></th>\n",
       "      <th>ds</th>\n",
       "      <th>t</th>\n",
       "      <th>trend</th>\n",
       "      <th>seasonal_lower</th>\n",
       "      <th>seasonal_upper</th>\n",
       "      <th>trend_lower</th>\n",
       "      <th>trend_upper</th>\n",
       "      <th>yhat_lower</th>\n",
       "      <th>yhat_upper</th>\n",
       "      <th>weekly</th>\n",
       "      <th>...</th>\n",
       "      <th>weekly_upper</th>\n",
       "      <th>yearly</th>\n",
       "      <th>yearly_lower</th>\n",
       "      <th>yearly_upper</th>\n",
       "      <th>seasonal</th>\n",
       "      <th>yhat</th>\n",
       "      <th>yhat_org</th>\n",
       "      <th>y</th>\n",
       "      <th>train</th>\n",
       "      <th>y_org</th>\n",
       "    </tr>\n",
       "  </thead>\n",
       "  <tbody>\n",
       "    <tr>\n",
       "      <th>0</th>\n",
       "      <td>2015-07-01</td>\n",
       "      <td>0.000000</td>\n",
       "      <td>4.717248</td>\n",
       "      <td>-1.711822</td>\n",
       "      <td>-1.711822</td>\n",
       "      <td>4.717248</td>\n",
       "      <td>4.717248</td>\n",
       "      <td>0.119087</td>\n",
       "      <td>5.558690</td>\n",
       "      <td>-0.277588</td>\n",
       "      <td>...</td>\n",
       "      <td>-0.277588</td>\n",
       "      <td>-1.434234</td>\n",
       "      <td>-1.434234</td>\n",
       "      <td>-1.434234</td>\n",
       "      <td>-1.711822</td>\n",
       "      <td>3</td>\n",
       "      <td>3.005426</td>\n",
       "      <td>3.0</td>\n",
       "      <td>1.0</td>\n",
       "      <td>3.0</td>\n",
       "    </tr>\n",
       "    <tr>\n",
       "      <th>1</th>\n",
       "      <td>2015-07-02</td>\n",
       "      <td>0.002045</td>\n",
       "      <td>4.717247</td>\n",
       "      <td>-1.678052</td>\n",
       "      <td>-1.678052</td>\n",
       "      <td>4.717247</td>\n",
       "      <td>4.717247</td>\n",
       "      <td>0.450957</td>\n",
       "      <td>5.639848</td>\n",
       "      <td>-0.328540</td>\n",
       "      <td>...</td>\n",
       "      <td>-0.328540</td>\n",
       "      <td>-1.349512</td>\n",
       "      <td>-1.349512</td>\n",
       "      <td>-1.349512</td>\n",
       "      <td>-1.678052</td>\n",
       "      <td>3</td>\n",
       "      <td>3.039195</td>\n",
       "      <td>2.0</td>\n",
       "      <td>1.0</td>\n",
       "      <td>2.0</td>\n",
       "    </tr>\n",
       "    <tr>\n",
       "      <th>2</th>\n",
       "      <td>2015-07-03</td>\n",
       "      <td>0.004090</td>\n",
       "      <td>4.717246</td>\n",
       "      <td>-1.109673</td>\n",
       "      <td>-1.109673</td>\n",
       "      <td>4.717246</td>\n",
       "      <td>4.717246</td>\n",
       "      <td>0.898649</td>\n",
       "      <td>6.417234</td>\n",
       "      <td>0.147646</td>\n",
       "      <td>...</td>\n",
       "      <td>0.147646</td>\n",
       "      <td>-1.257319</td>\n",
       "      <td>-1.257319</td>\n",
       "      <td>-1.257319</td>\n",
       "      <td>-1.109673</td>\n",
       "      <td>4</td>\n",
       "      <td>3.607573</td>\n",
       "      <td>5.0</td>\n",
       "      <td>1.0</td>\n",
       "      <td>5.0</td>\n",
       "    </tr>\n",
       "    <tr>\n",
       "      <th>3</th>\n",
       "      <td>2015-07-04</td>\n",
       "      <td>0.006135</td>\n",
       "      <td>4.717244</td>\n",
       "      <td>-0.775480</td>\n",
       "      <td>-0.775480</td>\n",
       "      <td>4.717244</td>\n",
       "      <td>4.717244</td>\n",
       "      <td>0.943920</td>\n",
       "      <td>6.553741</td>\n",
       "      <td>0.383609</td>\n",
       "      <td>...</td>\n",
       "      <td>0.383609</td>\n",
       "      <td>-1.159089</td>\n",
       "      <td>-1.159089</td>\n",
       "      <td>-1.159089</td>\n",
       "      <td>-0.775480</td>\n",
       "      <td>4</td>\n",
       "      <td>3.941764</td>\n",
       "      <td>5.0</td>\n",
       "      <td>1.0</td>\n",
       "      <td>5.0</td>\n",
       "    </tr>\n",
       "    <tr>\n",
       "      <th>4</th>\n",
       "      <td>2015-07-05</td>\n",
       "      <td>0.008180</td>\n",
       "      <td>4.717243</td>\n",
       "      <td>-0.703721</td>\n",
       "      <td>-0.703721</td>\n",
       "      <td>4.717243</td>\n",
       "      <td>4.717243</td>\n",
       "      <td>1.351622</td>\n",
       "      <td>6.841876</td>\n",
       "      <td>0.352623</td>\n",
       "      <td>...</td>\n",
       "      <td>0.352623</td>\n",
       "      <td>-1.056344</td>\n",
       "      <td>-1.056344</td>\n",
       "      <td>-1.056344</td>\n",
       "      <td>-0.703721</td>\n",
       "      <td>4</td>\n",
       "      <td>4.013522</td>\n",
       "      <td>3.0</td>\n",
       "      <td>1.0</td>\n",
       "      <td>3.0</td>\n",
       "    </tr>\n",
       "  </tbody>\n",
       "</table>\n",
       "<p>5 rows × 21 columns</p>\n",
       "</div>"
      ],
      "text/plain": [
       "          ds         t     trend  seasonal_lower  seasonal_upper  trend_lower  \\\n",
       "0 2015-07-01  0.000000  4.717248       -1.711822       -1.711822     4.717248   \n",
       "1 2015-07-02  0.002045  4.717247       -1.678052       -1.678052     4.717247   \n",
       "2 2015-07-03  0.004090  4.717246       -1.109673       -1.109673     4.717246   \n",
       "3 2015-07-04  0.006135  4.717244       -0.775480       -0.775480     4.717244   \n",
       "4 2015-07-05  0.008180  4.717243       -0.703721       -0.703721     4.717243   \n",
       "\n",
       "   trend_upper  yhat_lower  yhat_upper    weekly  ...    weekly_upper  \\\n",
       "0     4.717248    0.119087    5.558690 -0.277588  ...       -0.277588   \n",
       "1     4.717247    0.450957    5.639848 -0.328540  ...       -0.328540   \n",
       "2     4.717246    0.898649    6.417234  0.147646  ...        0.147646   \n",
       "3     4.717244    0.943920    6.553741  0.383609  ...        0.383609   \n",
       "4     4.717243    1.351622    6.841876  0.352623  ...        0.352623   \n",
       "\n",
       "     yearly  yearly_lower  yearly_upper  seasonal  yhat  yhat_org    y  train  \\\n",
       "0 -1.434234     -1.434234     -1.434234 -1.711822     3  3.005426  3.0    1.0   \n",
       "1 -1.349512     -1.349512     -1.349512 -1.678052     3  3.039195  2.0    1.0   \n",
       "2 -1.257319     -1.257319     -1.257319 -1.109673     4  3.607573  5.0    1.0   \n",
       "3 -1.159089     -1.159089     -1.159089 -0.775480     4  3.941764  5.0    1.0   \n",
       "4 -1.056344     -1.056344     -1.056344 -0.703721     4  4.013522  3.0    1.0   \n",
       "\n",
       "   y_org  \n",
       "0    3.0  \n",
       "1    2.0  \n",
       "2    5.0  \n",
       "3    5.0  \n",
       "4    3.0  \n",
       "\n",
       "[5 rows x 21 columns]"
      ]
     },
     "execution_count": 17,
     "metadata": {},
     "output_type": "execute_result"
    }
   ],
   "source": [
    "v25df.head()"
   ]
  },
  {
   "cell_type": "code",
   "execution_count": 13,
   "metadata": {},
   "outputs": [
    {
     "name": "stderr",
     "output_type": "stream",
     "text": [
      "100%|██████████| 145063/145063 [30:33<00:00, 79.10it/s]\n"
     ]
    }
   ],
   "source": [
    "val_results = []\n",
    "for file in tqdm(forecast_files):\n",
    "    v25df = pd.read_feather(PROPHET_PATH+BASE_VERSION+file)\n",
    "    # y_org to be the orginal timeseries data\n",
    "    v25df.loc[:,'y_org'] = pagedf[file[:-4]]\n",
    "    v25df.to_feather(PROPHET_PATH+TARGET_VERSION+file)\n",
    "    full_smape = wiki.val.smape(v25df.y_org, v25df.yhat)\n",
    "    val_smape = wiki.val.smape(v25df[v25df['train'] == 0].y_org,v25df[v25df['train'] == 0].yhat)\n",
    "    val_results.append((file[:-4], full_smape, val_smape))\n",
    "val_results = pd.DataFrame(val_results, columns=['page_index',TARGET_VERSION[:-1]+'_full',TARGET_VERSION[:-1]+'_val'])\n",
    "val_results.to_feather(PROPHET_PATH+RESULTS_PATH+TARGET_VERSION[:-1]+'df.f')"
   ]
  },
  {
   "cell_type": "code",
   "execution_count": 14,
   "metadata": {
    "collapsed": true
   },
   "outputs": [],
   "source": [
    "resultsdf = pd.read_feather(PROPHET_PATH+RESULTS_PATH+TARGET_VERSION[:-1]+'df.f')"
   ]
  },
  {
   "cell_type": "code",
   "execution_count": 15,
   "metadata": {},
   "outputs": [
    {
     "data": {
      "text/plain": [
       "56.867810391849325"
      ]
     },
     "execution_count": 15,
     "metadata": {},
     "output_type": "execute_result"
    }
   ],
   "source": [
    "resultsdf['v2.6_val'].mean()\n",
    "# base was v2.5 at 55.451"
   ]
  },
  {
   "cell_type": "code",
   "execution_count": 16,
   "metadata": {},
   "outputs": [
    {
     "data": {
      "text/plain": [
       "143868"
      ]
     },
     "execution_count": 16,
     "metadata": {},
     "output_type": "execute_result"
    }
   ],
   "source": [
    "resultsdf['v2.6_val'].count()"
   ]
  },
  {
   "cell_type": "code",
   "execution_count": null,
   "metadata": {
    "collapsed": true
   },
   "outputs": [],
   "source": []
  }
 ],
 "metadata": {
  "kernelspec": {
   "display_name": "Python 3",
   "language": "python",
   "name": "python3"
  },
  "language_info": {
   "codemirror_mode": {
    "name": "ipython",
    "version": 3
   },
   "file_extension": ".py",
   "mimetype": "text/x-python",
   "name": "python",
   "nbconvert_exporter": "python",
   "pygments_lexer": "ipython3",
   "version": "3.6.2"
  }
 },
 "nbformat": 4,
 "nbformat_minor": 2
}
