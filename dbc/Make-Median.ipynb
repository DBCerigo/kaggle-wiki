{
 "cells": [
  {
   "cell_type": "code",
   "execution_count": 1,
   "metadata": {
    "collapsed": true
   },
   "outputs": [],
   "source": [
    "%load_ext autoreload\n",
    "%autoreload 2 \n",
    "%matplotlib inline"
   ]
  },
  {
   "cell_type": "code",
   "execution_count": 2,
   "metadata": {
    "collapsed": true
   },
   "outputs": [],
   "source": [
    "import matplotlib.pyplot as plt\n",
    "plt.rcParams[\"figure.figsize\"] = [16,9]\n",
    "plt.style.use('ggplot')\n",
    "import os\n",
    "import pandas as pd\n",
    "import numpy as np \n",
    "import pickle as pk\n",
    "import glob\n",
    "from fbprophet import Prophet\n",
    "import sys\n",
    "sys.path.append('../')\n",
    "import wiki\n",
    "from wiki import utils \n",
    "import multiprocessing as mp\n",
    "total_proc = None\n",
    "from tqdm import tqdm\n",
    "from IPython.display import clear_output"
   ]
  },
  {
   "cell_type": "code",
   "execution_count": 3,
   "metadata": {
    "collapsed": true
   },
   "outputs": [],
   "source": [
    "PROPHET_PATH = '../data/prophet/'\n",
    "DATA_PATH = '../data/'\n",
    "RESULTS_PATH = 'results/'"
   ]
  },
  {
   "cell_type": "code",
   "execution_count": 4,
   "metadata": {
    "collapsed": true
   },
   "outputs": [],
   "source": [
    "train = pd.read_csv(DATA_PATH+'train_2.csv')"
   ]
  },
  {
   "cell_type": "code",
   "execution_count": 5,
   "metadata": {
    "collapsed": true
   },
   "outputs": [
    {
     "data": {
      "text/html": [
       "<div>\n",
       "<style>\n",
       "    .dataframe thead tr:only-child th {\n",
       "        text-align: right;\n",
       "    }\n",
       "\n",
       "    .dataframe thead th {\n",
       "        text-align: left;\n",
       "    }\n",
       "\n",
       "    .dataframe tbody tr th {\n",
       "        vertical-align: top;\n",
       "    }\n",
       "</style>\n",
       "<table border=\"1\" class=\"dataframe\">\n",
       "  <thead>\n",
       "    <tr style=\"text-align: right;\">\n",
       "      <th></th>\n",
       "      <th>page_index</th>\n",
       "      <th>Page</th>\n",
       "    </tr>\n",
       "  </thead>\n",
       "  <tbody>\n",
       "    <tr>\n",
       "      <th>0</th>\n",
       "      <td>0</td>\n",
       "      <td>2NE1_zh.wikipedia.org_all-access_spider</td>\n",
       "    </tr>\n",
       "    <tr>\n",
       "      <th>1</th>\n",
       "      <td>1</td>\n",
       "      <td>2PM_zh.wikipedia.org_all-access_spider</td>\n",
       "    </tr>\n",
       "    <tr>\n",
       "      <th>2</th>\n",
       "      <td>2</td>\n",
       "      <td>3C_zh.wikipedia.org_all-access_spider</td>\n",
       "    </tr>\n",
       "    <tr>\n",
       "      <th>3</th>\n",
       "      <td>3</td>\n",
       "      <td>4minute_zh.wikipedia.org_all-access_spider</td>\n",
       "    </tr>\n",
       "    <tr>\n",
       "      <th>4</th>\n",
       "      <td>4</td>\n",
       "      <td>52_Hz_I_Love_You_zh.wikipedia.org_all-access_s...</td>\n",
       "    </tr>\n",
       "  </tbody>\n",
       "</table>\n",
       "</div>"
      ],
      "text/plain": [
       "   page_index                                               Page\n",
       "0           0            2NE1_zh.wikipedia.org_all-access_spider\n",
       "1           1             2PM_zh.wikipedia.org_all-access_spider\n",
       "2           2              3C_zh.wikipedia.org_all-access_spider\n",
       "3           3         4minute_zh.wikipedia.org_all-access_spider\n",
       "4           4  52_Hz_I_Love_You_zh.wikipedia.org_all-access_s..."
      ]
     },
     "execution_count": 5,
     "metadata": {},
     "output_type": "execute_result"
    }
   ],
   "source": [
    "median_df = train.loc[:,['Page']].reset_index()\n",
    "median_df.columns = ['page_index', 'Page']; median_df.head()"
   ]
  },
  {
   "cell_type": "markdown",
   "metadata": {},
   "source": [
    "# Final_median_pred"
   ]
  },
  {
   "cell_type": "code",
   "execution_count": 6,
   "metadata": {
    "collapsed": true
   },
   "outputs": [
    {
     "name": "stderr",
     "output_type": "stream",
     "text": [
      "/home/ubuntu/miniconda3/envs/basev1/lib/python3.6/site-packages/numpy/lib/function_base.py:3858: RuntimeWarning: All-NaN slice encountered\n",
      "  r = func(a, **kwargs)\n"
     ]
    },
    {
     "data": {
      "text/html": [
       "<div>\n",
       "<style>\n",
       "    .dataframe thead tr:only-child th {\n",
       "        text-align: right;\n",
       "    }\n",
       "\n",
       "    .dataframe thead th {\n",
       "        text-align: left;\n",
       "    }\n",
       "\n",
       "    .dataframe tbody tr th {\n",
       "        vertical-align: top;\n",
       "    }\n",
       "</style>\n",
       "<table border=\"1\" class=\"dataframe\">\n",
       "  <thead>\n",
       "    <tr style=\"text-align: right;\">\n",
       "      <th></th>\n",
       "      <th>page_index</th>\n",
       "      <th>Page</th>\n",
       "      <th>FINAL_median_pred</th>\n",
       "    </tr>\n",
       "  </thead>\n",
       "  <tbody>\n",
       "    <tr>\n",
       "      <th>0</th>\n",
       "      <td>0</td>\n",
       "      <td>2NE1_zh.wikipedia.org_all-access_spider</td>\n",
       "      <td>22</td>\n",
       "    </tr>\n",
       "    <tr>\n",
       "      <th>1</th>\n",
       "      <td>1</td>\n",
       "      <td>2PM_zh.wikipedia.org_all-access_spider</td>\n",
       "      <td>19</td>\n",
       "    </tr>\n",
       "    <tr>\n",
       "      <th>2</th>\n",
       "      <td>2</td>\n",
       "      <td>3C_zh.wikipedia.org_all-access_spider</td>\n",
       "      <td>3</td>\n",
       "    </tr>\n",
       "    <tr>\n",
       "      <th>3</th>\n",
       "      <td>3</td>\n",
       "      <td>4minute_zh.wikipedia.org_all-access_spider</td>\n",
       "      <td>14</td>\n",
       "    </tr>\n",
       "    <tr>\n",
       "      <th>4</th>\n",
       "      <td>4</td>\n",
       "      <td>52_Hz_I_Love_You_zh.wikipedia.org_all-access_s...</td>\n",
       "      <td>16</td>\n",
       "    </tr>\n",
       "  </tbody>\n",
       "</table>\n",
       "</div>"
      ],
      "text/plain": [
       "   page_index                                               Page  \\\n",
       "0           0            2NE1_zh.wikipedia.org_all-access_spider   \n",
       "1           1             2PM_zh.wikipedia.org_all-access_spider   \n",
       "2           2              3C_zh.wikipedia.org_all-access_spider   \n",
       "3           3         4minute_zh.wikipedia.org_all-access_spider   \n",
       "4           4  52_Hz_I_Love_You_zh.wikipedia.org_all-access_s...   \n",
       "\n",
       "   FINAL_median_pred  \n",
       "0                 22  \n",
       "1                 19  \n",
       "2                  3  \n",
       "3                 14  \n",
       "4                 16  "
      ]
     },
     "execution_count": 6,
     "metadata": {},
     "output_type": "execute_result"
    }
   ],
   "source": [
    "median_df['FINAL_median_pred'] = np.nan_to_num(np.round(\n",
    "                        np.nanmedian(\n",
    "                        train.drop('Page', axis=1).values[:, -49:], axis=1)).reshape(-1,1)).astype(int)\n",
    "median_df.head()"
   ]
  },
  {
   "cell_type": "markdown",
   "metadata": {},
   "source": [
    "# median_pred_60"
   ]
  },
  {
   "cell_type": "code",
   "execution_count": 7,
   "metadata": {
    "collapsed": true
   },
   "outputs": [
    {
     "name": "stderr",
     "output_type": "stream",
     "text": [
      "/home/ubuntu/miniconda3/envs/basev1/lib/python3.6/site-packages/numpy/lib/function_base.py:3858: RuntimeWarning: All-NaN slice encountered\n",
      "  r = func(a, **kwargs)\n"
     ]
    },
    {
     "data": {
      "text/html": [
       "<div>\n",
       "<style>\n",
       "    .dataframe thead tr:only-child th {\n",
       "        text-align: right;\n",
       "    }\n",
       "\n",
       "    .dataframe thead th {\n",
       "        text-align: left;\n",
       "    }\n",
       "\n",
       "    .dataframe tbody tr th {\n",
       "        vertical-align: top;\n",
       "    }\n",
       "</style>\n",
       "<table border=\"1\" class=\"dataframe\">\n",
       "  <thead>\n",
       "    <tr style=\"text-align: right;\">\n",
       "      <th></th>\n",
       "      <th>page_index</th>\n",
       "      <th>Page</th>\n",
       "      <th>FINAL_median_pred</th>\n",
       "      <th>median_pred_60</th>\n",
       "    </tr>\n",
       "  </thead>\n",
       "  <tbody>\n",
       "    <tr>\n",
       "      <th>0</th>\n",
       "      <td>0</td>\n",
       "      <td>2NE1_zh.wikipedia.org_all-access_spider</td>\n",
       "      <td>22</td>\n",
       "      <td>24</td>\n",
       "    </tr>\n",
       "    <tr>\n",
       "      <th>1</th>\n",
       "      <td>1</td>\n",
       "      <td>2PM_zh.wikipedia.org_all-access_spider</td>\n",
       "      <td>19</td>\n",
       "      <td>24</td>\n",
       "    </tr>\n",
       "    <tr>\n",
       "      <th>2</th>\n",
       "      <td>2</td>\n",
       "      <td>3C_zh.wikipedia.org_all-access_spider</td>\n",
       "      <td>3</td>\n",
       "      <td>3</td>\n",
       "    </tr>\n",
       "    <tr>\n",
       "      <th>3</th>\n",
       "      <td>3</td>\n",
       "      <td>4minute_zh.wikipedia.org_all-access_spider</td>\n",
       "      <td>14</td>\n",
       "      <td>15</td>\n",
       "    </tr>\n",
       "    <tr>\n",
       "      <th>4</th>\n",
       "      <td>4</td>\n",
       "      <td>52_Hz_I_Love_You_zh.wikipedia.org_all-access_s...</td>\n",
       "      <td>16</td>\n",
       "      <td>14</td>\n",
       "    </tr>\n",
       "  </tbody>\n",
       "</table>\n",
       "</div>"
      ],
      "text/plain": [
       "   page_index                                               Page  \\\n",
       "0           0            2NE1_zh.wikipedia.org_all-access_spider   \n",
       "1           1             2PM_zh.wikipedia.org_all-access_spider   \n",
       "2           2              3C_zh.wikipedia.org_all-access_spider   \n",
       "3           3         4minute_zh.wikipedia.org_all-access_spider   \n",
       "4           4  52_Hz_I_Love_You_zh.wikipedia.org_all-access_s...   \n",
       "\n",
       "   FINAL_median_pred  median_pred_60  \n",
       "0                 22              24  \n",
       "1                 19              24  \n",
       "2                  3               3  \n",
       "3                 14              15  \n",
       "4                 16              14  "
      ]
     },
     "execution_count": 7,
     "metadata": {},
     "output_type": "execute_result"
    }
   ],
   "source": [
    "median_df['median_pred_60'] = np.nan_to_num(np.round(\n",
    "                        np.nanmedian(\n",
    "                        train.drop('Page', axis=1).iloc[:,:-60].values[:, -49:], axis=1)).reshape(-1,1)).astype(int)\n",
    "median_df.head()"
   ]
  },
  {
   "cell_type": "code",
   "execution_count": 8,
   "metadata": {
    "collapsed": true
   },
   "outputs": [
    {
     "name": "stdout",
     "output_type": "stream",
     "text": [
      "38573     16311800\n",
      "9774      14326237\n",
      "39180      2149652\n",
      "74114      1889542\n",
      "139119     1788698\n",
      "Name: FINAL_median_pred, dtype: int64\n",
      "38573     16.607399\n",
      "9774      16.477603\n",
      "39180     14.580817\n",
      "74114     14.451845\n",
      "139119    14.396999\n",
      "Name: FINAL_median_pred, dtype: float64\n",
      "38573     16368403\n",
      "9774      14207780\n",
      "39180      2274289\n",
      "74114      2164207\n",
      "139119     1915254\n",
      "Name: median_pred_60, dtype: int64\n"
     ]
    }
   ],
   "source": [
    "print(median_df.FINAL_median_pred.sort_values(ascending=False).head())\n",
    "print(np.log(median_df.FINAL_median_pred.sort_values(ascending=False).head()))\n",
    "print(median_df.median_pred_60.sort_values(ascending=False).head())"
   ]
  },
  {
   "cell_type": "code",
   "execution_count": 9,
   "metadata": {
    "collapsed": true
   },
   "outputs": [
    {
     "data": {
      "text/plain": [
       "8.2184074615549724e+307"
      ]
     },
     "execution_count": 9,
     "metadata": {},
     "output_type": "execute_result"
    }
   ],
   "source": [
    "np.exp(709)"
   ]
  },
  {
   "cell_type": "code",
   "execution_count": 10,
   "metadata": {
    "collapsed": true
   },
   "outputs": [
    {
     "name": "stderr",
     "output_type": "stream",
     "text": [
      "/home/ubuntu/miniconda3/envs/basev1/lib/python3.6/site-packages/ipykernel_launcher.py:1: RuntimeWarning: overflow encountered in exp\n",
      "  \"\"\"Entry point for launching an IPython kernel.\n"
     ]
    },
    {
     "data": {
      "text/plain": [
       "inf"
      ]
     },
     "execution_count": 10,
     "metadata": {},
     "output_type": "execute_result"
    }
   ],
   "source": [
    "np.exp(710)"
   ]
  },
  {
   "cell_type": "code",
   "execution_count": 11,
   "metadata": {
    "collapsed": true
   },
   "outputs": [
    {
     "data": {
      "image/png": "[encoded data removed]",
      "text/plain": [
       "<matplotlib.figure.Figure at 0x7ff16d09bb38>"
      ]
     },
     "metadata": {},
     "output_type": "display_data"
    },
    {
     "data": {
      "image/png": "[encoded data removed]",
      "text/plain": [
       "<matplotlib.figure.Figure at 0x7ff16c7df358>"
      ]
     },
     "metadata": {},
     "output_type": "display_data"
    },
    {
     "data": {
      "text/plain": [
       "<matplotlib.axes._subplots.AxesSubplot at 0x7ff16da7bc50>"
      ]
     },
     "execution_count": 11,
     "metadata": {},
     "output_type": "execute_result"
    },
    {
     "data": {
      "image/png": "[encoded data removed]",
      "text/plain": [
       "<matplotlib.figure.Figure at 0x7ff16d3ff0f0>"
      ]
     },
     "metadata": {},
     "output_type": "display_data"
    }
   ],
   "source": [
    "(median_df.FINAL_median_pred - median_df.median_pred_60).sort_values().head()\n",
    "(median_df.FINAL_median_pred - median_df.median_pred_60).hist(bins=100)\n",
    "plt.show()\n",
    "np.abs((median_df.FINAL_median_pred - median_df.median_pred_60)).hist(bins=100)\n",
    "plt.show()\n",
    "np.log1p((np.abs((median_df.FINAL_median_pred - median_df.median_pred_60)))).hist(bins=100)"
   ]
  },
  {
   "cell_type": "markdown",
   "metadata": {},
   "source": [
    "# median_pred_30"
   ]
  },
  {
   "cell_type": "code",
   "execution_count": 12,
   "metadata": {
    "collapsed": true
   },
   "outputs": [
    {
     "name": "stderr",
     "output_type": "stream",
     "text": [
      "/home/ubuntu/miniconda3/envs/basev1/lib/python3.6/site-packages/numpy/lib/function_base.py:3858: RuntimeWarning: All-NaN slice encountered\n",
      "  r = func(a, **kwargs)\n"
     ]
    },
    {
     "data": {
      "text/html": [
       "<div>\n",
       "<style>\n",
       "    .dataframe thead tr:only-child th {\n",
       "        text-align: right;\n",
       "    }\n",
       "\n",
       "    .dataframe thead th {\n",
       "        text-align: left;\n",
       "    }\n",
       "\n",
       "    .dataframe tbody tr th {\n",
       "        vertical-align: top;\n",
       "    }\n",
       "</style>\n",
       "<table border=\"1\" class=\"dataframe\">\n",
       "  <thead>\n",
       "    <tr style=\"text-align: right;\">\n",
       "      <th></th>\n",
       "      <th>page_index</th>\n",
       "      <th>Page</th>\n",
       "      <th>FINAL_median_pred</th>\n",
       "      <th>median_pred_60</th>\n",
       "      <th>median_pred_30</th>\n",
       "    </tr>\n",
       "  </thead>\n",
       "  <tbody>\n",
       "    <tr>\n",
       "      <th>0</th>\n",
       "      <td>0</td>\n",
       "      <td>2NE1_zh.wikipedia.org_all-access_spider</td>\n",
       "      <td>22</td>\n",
       "      <td>24</td>\n",
       "      <td>22</td>\n",
       "    </tr>\n",
       "    <tr>\n",
       "      <th>1</th>\n",
       "      <td>1</td>\n",
       "      <td>2PM_zh.wikipedia.org_all-access_spider</td>\n",
       "      <td>19</td>\n",
       "      <td>24</td>\n",
       "      <td>18</td>\n",
       "    </tr>\n",
       "    <tr>\n",
       "      <th>2</th>\n",
       "      <td>2</td>\n",
       "      <td>3C_zh.wikipedia.org_all-access_spider</td>\n",
       "      <td>3</td>\n",
       "      <td>3</td>\n",
       "      <td>3</td>\n",
       "    </tr>\n",
       "    <tr>\n",
       "      <th>3</th>\n",
       "      <td>3</td>\n",
       "      <td>4minute_zh.wikipedia.org_all-access_spider</td>\n",
       "      <td>14</td>\n",
       "      <td>15</td>\n",
       "      <td>14</td>\n",
       "    </tr>\n",
       "    <tr>\n",
       "      <th>4</th>\n",
       "      <td>4</td>\n",
       "      <td>52_Hz_I_Love_You_zh.wikipedia.org_all-access_s...</td>\n",
       "      <td>16</td>\n",
       "      <td>14</td>\n",
       "      <td>12</td>\n",
       "    </tr>\n",
       "  </tbody>\n",
       "</table>\n",
       "</div>"
      ],
      "text/plain": [
       "   page_index                                               Page  \\\n",
       "0           0            2NE1_zh.wikipedia.org_all-access_spider   \n",
       "1           1             2PM_zh.wikipedia.org_all-access_spider   \n",
       "2           2              3C_zh.wikipedia.org_all-access_spider   \n",
       "3           3         4minute_zh.wikipedia.org_all-access_spider   \n",
       "4           4  52_Hz_I_Love_You_zh.wikipedia.org_all-access_s...   \n",
       "\n",
       "   FINAL_median_pred  median_pred_60  median_pred_30  \n",
       "0                 22              24              22  \n",
       "1                 19              24              18  \n",
       "2                  3               3               3  \n",
       "3                 14              15              14  \n",
       "4                 16              14              12  "
      ]
     },
     "execution_count": 12,
     "metadata": {},
     "output_type": "execute_result"
    }
   ],
   "source": [
    "median_df['median_pred_30'] = np.nan_to_num(np.round(\n",
    "                        np.nanmedian(\n",
    "                        train.drop('Page', axis=1).iloc[:,:-30].values[:, -49:], axis=1)).reshape(-1,1)).astype(int)\n",
    "median_df.head()"
   ]
  },
  {
   "cell_type": "code",
   "execution_count": 13,
   "metadata": {
    "collapsed": true
   },
   "outputs": [
    {
     "name": "stdout",
     "output_type": "stream",
     "text": [
      "38573     16311800\n",
      "9774      14326237\n",
      "39180      2149652\n",
      "74114      1889542\n",
      "139119     1788698\n",
      "Name: FINAL_median_pred, dtype: int64\n",
      "38573     16.607399\n",
      "9774      16.477603\n",
      "39180     14.580817\n",
      "74114     14.451845\n",
      "139119    14.396999\n",
      "Name: FINAL_median_pred, dtype: float64\n",
      "38573     16154397\n",
      "9774      14000966\n",
      "39180      2177619\n",
      "74114      2024449\n",
      "139119     1821559\n",
      "Name: median_pred_30, dtype: int64\n"
     ]
    }
   ],
   "source": [
    "print(median_df.FINAL_median_pred.sort_values(ascending=False).head())\n",
    "print(np.log(median_df.FINAL_median_pred.sort_values(ascending=False).head()))\n",
    "print(median_df.median_pred_30.sort_values(ascending=False).head())"
   ]
  },
  {
   "cell_type": "code",
   "execution_count": 14,
   "metadata": {
    "collapsed": true
   },
   "outputs": [
    {
     "data": {
      "image/png": "[encoded data removed]",
      "text/plain": [
       "<matplotlib.figure.Figure at 0x7ff16d09b860>"
      ]
     },
     "metadata": {},
     "output_type": "display_data"
    },
    {
     "data": {
      "image/png": "[encoded data removed]",
      "text/plain": [
       "<matplotlib.figure.Figure at 0x7ff16cb50400>"
      ]
     },
     "metadata": {},
     "output_type": "display_data"
    },
    {
     "data": {
      "text/plain": [
       "<matplotlib.axes._subplots.AxesSubplot at 0x7ff16d1ca438>"
      ]
     },
     "execution_count": 14,
     "metadata": {},
     "output_type": "execute_result"
    },
    {
     "data": {
      "image/png": "[encoded data removed]",
      "text/plain": [
       "<matplotlib.figure.Figure at 0x7ff16d33e3c8>"
      ]
     },
     "metadata": {},
     "output_type": "display_data"
    }
   ],
   "source": [
    "(median_df.FINAL_median_pred - median_df.median_pred_30).sort_values().head()\n",
    "(median_df.FINAL_median_pred - median_df.median_pred_30).hist(bins=100)\n",
    "plt.show()\n",
    "np.abs((median_df.FINAL_median_pred - median_df.median_pred_30)).hist(bins=100)\n",
    "plt.show()\n",
    "np.log1p((np.abs((median_df.FINAL_median_pred - median_df.median_pred_30)))).hist(bins=100)"
   ]
  },
  {
   "cell_type": "markdown",
   "metadata": {
    "collapsed": true
   },
   "source": [
    "# Calculate SMAPES"
   ]
  },
  {
   "cell_type": "code",
   "execution_count": 15,
   "metadata": {},
   "outputs": [
    {
     "data": {
      "text/html": [
       "<div>\n",
       "<style>\n",
       "    .dataframe thead tr:only-child th {\n",
       "        text-align: right;\n",
       "    }\n",
       "\n",
       "    .dataframe thead th {\n",
       "        text-align: left;\n",
       "    }\n",
       "\n",
       "    .dataframe tbody tr th {\n",
       "        vertical-align: top;\n",
       "    }\n",
       "</style>\n",
       "<table border=\"1\" class=\"dataframe\">\n",
       "  <thead>\n",
       "    <tr style=\"text-align: right;\">\n",
       "      <th></th>\n",
       "      <th>2015-07-01</th>\n",
       "      <th>2015-07-02</th>\n",
       "      <th>2015-07-03</th>\n",
       "      <th>2015-07-04</th>\n",
       "      <th>2015-07-05</th>\n",
       "      <th>2015-07-06</th>\n",
       "      <th>2015-07-07</th>\n",
       "      <th>2015-07-08</th>\n",
       "      <th>2015-07-09</th>\n",
       "      <th>2015-07-10</th>\n",
       "      <th>...</th>\n",
       "      <th>2017-08-22</th>\n",
       "      <th>2017-08-23</th>\n",
       "      <th>2017-08-24</th>\n",
       "      <th>2017-08-25</th>\n",
       "      <th>2017-08-26</th>\n",
       "      <th>2017-08-27</th>\n",
       "      <th>2017-08-28</th>\n",
       "      <th>2017-08-29</th>\n",
       "      <th>2017-08-30</th>\n",
       "      <th>2017-08-31</th>\n",
       "    </tr>\n",
       "  </thead>\n",
       "  <tbody>\n",
       "    <tr>\n",
       "      <th>0</th>\n",
       "      <td>18.0</td>\n",
       "      <td>11.0</td>\n",
       "      <td>5.0</td>\n",
       "      <td>13.0</td>\n",
       "      <td>14.0</td>\n",
       "      <td>9.0</td>\n",
       "      <td>9.0</td>\n",
       "      <td>22.0</td>\n",
       "      <td>26.0</td>\n",
       "      <td>24.0</td>\n",
       "      <td>...</td>\n",
       "      <td>37.0</td>\n",
       "      <td>58.0</td>\n",
       "      <td>25.0</td>\n",
       "      <td>23.0</td>\n",
       "      <td>25.0</td>\n",
       "      <td>47.0</td>\n",
       "      <td>44.0</td>\n",
       "      <td>26.0</td>\n",
       "      <td>24.0</td>\n",
       "      <td>21.0</td>\n",
       "    </tr>\n",
       "    <tr>\n",
       "      <th>1</th>\n",
       "      <td>11.0</td>\n",
       "      <td>14.0</td>\n",
       "      <td>15.0</td>\n",
       "      <td>18.0</td>\n",
       "      <td>11.0</td>\n",
       "      <td>13.0</td>\n",
       "      <td>22.0</td>\n",
       "      <td>11.0</td>\n",
       "      <td>10.0</td>\n",
       "      <td>4.0</td>\n",
       "      <td>...</td>\n",
       "      <td>14.0</td>\n",
       "      <td>34.0</td>\n",
       "      <td>16.0</td>\n",
       "      <td>31.0</td>\n",
       "      <td>34.0</td>\n",
       "      <td>33.0</td>\n",
       "      <td>32.0</td>\n",
       "      <td>29.0</td>\n",
       "      <td>34.0</td>\n",
       "      <td>25.0</td>\n",
       "    </tr>\n",
       "    <tr>\n",
       "      <th>2</th>\n",
       "      <td>1.0</td>\n",
       "      <td>0.0</td>\n",
       "      <td>1.0</td>\n",
       "      <td>1.0</td>\n",
       "      <td>0.0</td>\n",
       "      <td>4.0</td>\n",
       "      <td>0.0</td>\n",
       "      <td>3.0</td>\n",
       "      <td>4.0</td>\n",
       "      <td>4.0</td>\n",
       "      <td>...</td>\n",
       "      <td>6.0</td>\n",
       "      <td>23.0</td>\n",
       "      <td>11.0</td>\n",
       "      <td>8.0</td>\n",
       "      <td>6.0</td>\n",
       "      <td>13.0</td>\n",
       "      <td>12.0</td>\n",
       "      <td>8.0</td>\n",
       "      <td>12.0</td>\n",
       "      <td>9.0</td>\n",
       "    </tr>\n",
       "    <tr>\n",
       "      <th>3</th>\n",
       "      <td>35.0</td>\n",
       "      <td>13.0</td>\n",
       "      <td>10.0</td>\n",
       "      <td>94.0</td>\n",
       "      <td>4.0</td>\n",
       "      <td>26.0</td>\n",
       "      <td>14.0</td>\n",
       "      <td>9.0</td>\n",
       "      <td>11.0</td>\n",
       "      <td>16.0</td>\n",
       "      <td>...</td>\n",
       "      <td>21.0</td>\n",
       "      <td>42.0</td>\n",
       "      <td>23.0</td>\n",
       "      <td>17.0</td>\n",
       "      <td>11.0</td>\n",
       "      <td>21.0</td>\n",
       "      <td>20.0</td>\n",
       "      <td>20.0</td>\n",
       "      <td>110.0</td>\n",
       "      <td>15.0</td>\n",
       "    </tr>\n",
       "    <tr>\n",
       "      <th>4</th>\n",
       "      <td>NaN</td>\n",
       "      <td>NaN</td>\n",
       "      <td>NaN</td>\n",
       "      <td>NaN</td>\n",
       "      <td>NaN</td>\n",
       "      <td>NaN</td>\n",
       "      <td>NaN</td>\n",
       "      <td>NaN</td>\n",
       "      <td>NaN</td>\n",
       "      <td>NaN</td>\n",
       "      <td>...</td>\n",
       "      <td>23.0</td>\n",
       "      <td>41.0</td>\n",
       "      <td>25.0</td>\n",
       "      <td>22.0</td>\n",
       "      <td>20.0</td>\n",
       "      <td>24.0</td>\n",
       "      <td>29.0</td>\n",
       "      <td>20.0</td>\n",
       "      <td>17.0</td>\n",
       "      <td>24.0</td>\n",
       "    </tr>\n",
       "  </tbody>\n",
       "</table>\n",
       "<p>5 rows × 793 columns</p>\n",
       "</div>"
      ],
      "text/plain": [
       "   2015-07-01  2015-07-02  2015-07-03  2015-07-04  2015-07-05  2015-07-06  \\\n",
       "0        18.0        11.0         5.0        13.0        14.0         9.0   \n",
       "1        11.0        14.0        15.0        18.0        11.0        13.0   \n",
       "2         1.0         0.0         1.0         1.0         0.0         4.0   \n",
       "3        35.0        13.0        10.0        94.0         4.0        26.0   \n",
       "4         NaN         NaN         NaN         NaN         NaN         NaN   \n",
       "\n",
       "   2015-07-07  2015-07-08  2015-07-09  2015-07-10     ...      2017-08-22  \\\n",
       "0         9.0        22.0        26.0        24.0     ...            37.0   \n",
       "1        22.0        11.0        10.0         4.0     ...            14.0   \n",
       "2         0.0         3.0         4.0         4.0     ...             6.0   \n",
       "3        14.0         9.0        11.0        16.0     ...            21.0   \n",
       "4         NaN         NaN         NaN         NaN     ...            23.0   \n",
       "\n",
       "   2017-08-23  2017-08-24  2017-08-25  2017-08-26  2017-08-27  2017-08-28  \\\n",
       "0        58.0        25.0        23.0        25.0        47.0        44.0   \n",
       "1        34.0        16.0        31.0        34.0        33.0        32.0   \n",
       "2        23.0        11.0         8.0         6.0        13.0        12.0   \n",
       "3        42.0        23.0        17.0        11.0        21.0        20.0   \n",
       "4        41.0        25.0        22.0        20.0        24.0        29.0   \n",
       "\n",
       "   2017-08-29  2017-08-30  2017-08-31  \n",
       "0        26.0        24.0        21.0  \n",
       "1        29.0        34.0        25.0  \n",
       "2         8.0        12.0         9.0  \n",
       "3        20.0       110.0        15.0  \n",
       "4        20.0        17.0        24.0  \n",
       "\n",
       "[5 rows x 793 columns]"
      ]
     },
     "execution_count": 15,
     "metadata": {},
     "output_type": "execute_result"
    }
   ],
   "source": [
    "train2 = train.iloc[:,1:]; train2.head()"
   ]
  },
  {
   "cell_type": "code",
   "execution_count": 16,
   "metadata": {
    "collapsed": true
   },
   "outputs": [],
   "source": [
    "#median_df.apply(lambda x: train2.iloc[x[0]][1], axis=1)"
   ]
  },
  {
   "cell_type": "code",
   "execution_count": 17,
   "metadata": {},
   "outputs": [
    {
     "data": {
      "text/html": [
       "<div>\n",
       "<style>\n",
       "    .dataframe thead tr:only-child th {\n",
       "        text-align: right;\n",
       "    }\n",
       "\n",
       "    .dataframe thead th {\n",
       "        text-align: left;\n",
       "    }\n",
       "\n",
       "    .dataframe tbody tr th {\n",
       "        vertical-align: top;\n",
       "    }\n",
       "</style>\n",
       "<table border=\"1\" class=\"dataframe\">\n",
       "  <thead>\n",
       "    <tr style=\"text-align: right;\">\n",
       "      <th></th>\n",
       "      <th>page_index</th>\n",
       "      <th>Page</th>\n",
       "      <th>FINAL_median_pred</th>\n",
       "      <th>median_pred_60</th>\n",
       "      <th>median_pred_30</th>\n",
       "    </tr>\n",
       "  </thead>\n",
       "  <tbody>\n",
       "    <tr>\n",
       "      <th>0</th>\n",
       "      <td>0</td>\n",
       "      <td>2NE1_zh.wikipedia.org_all-access_spider</td>\n",
       "      <td>22</td>\n",
       "      <td>24</td>\n",
       "      <td>22</td>\n",
       "    </tr>\n",
       "    <tr>\n",
       "      <th>1</th>\n",
       "      <td>1</td>\n",
       "      <td>2PM_zh.wikipedia.org_all-access_spider</td>\n",
       "      <td>19</td>\n",
       "      <td>24</td>\n",
       "      <td>18</td>\n",
       "    </tr>\n",
       "    <tr>\n",
       "      <th>2</th>\n",
       "      <td>2</td>\n",
       "      <td>3C_zh.wikipedia.org_all-access_spider</td>\n",
       "      <td>3</td>\n",
       "      <td>3</td>\n",
       "      <td>3</td>\n",
       "    </tr>\n",
       "    <tr>\n",
       "      <th>3</th>\n",
       "      <td>3</td>\n",
       "      <td>4minute_zh.wikipedia.org_all-access_spider</td>\n",
       "      <td>14</td>\n",
       "      <td>15</td>\n",
       "      <td>14</td>\n",
       "    </tr>\n",
       "    <tr>\n",
       "      <th>4</th>\n",
       "      <td>4</td>\n",
       "      <td>52_Hz_I_Love_You_zh.wikipedia.org_all-access_s...</td>\n",
       "      <td>16</td>\n",
       "      <td>14</td>\n",
       "      <td>12</td>\n",
       "    </tr>\n",
       "  </tbody>\n",
       "</table>\n",
       "</div>"
      ],
      "text/plain": [
       "   page_index                                               Page  \\\n",
       "0           0            2NE1_zh.wikipedia.org_all-access_spider   \n",
       "1           1             2PM_zh.wikipedia.org_all-access_spider   \n",
       "2           2              3C_zh.wikipedia.org_all-access_spider   \n",
       "3           3         4minute_zh.wikipedia.org_all-access_spider   \n",
       "4           4  52_Hz_I_Love_You_zh.wikipedia.org_all-access_s...   \n",
       "\n",
       "   FINAL_median_pred  median_pred_60  median_pred_30  \n",
       "0                 22              24              22  \n",
       "1                 19              24              18  \n",
       "2                  3               3               3  \n",
       "3                 14              15              14  \n",
       "4                 16              14              12  "
      ]
     },
     "execution_count": 17,
     "metadata": {},
     "output_type": "execute_result"
    }
   ],
   "source": [
    "median_df.head()"
   ]
  },
  {
   "cell_type": "code",
   "execution_count": 35,
   "metadata": {
    "collapsed": true
   },
   "outputs": [],
   "source": [
    "def smape_60_to_0(train2, median_df):\n",
    "    denominator = train2.iloc[:,-60:].add(median_df.median_pred_60, axis=0) / 200\n",
    "    diff = np.abs(train2.iloc[:,-60:].subtract(median_df.median_pred_60, axis=0)) / denominator\n",
    "    diff[denominator == 0] = 0.0\n",
    "    #return np.nanmean(diff, axis=0)\n",
    "    return diff.mean(axis=1, skipna=True)"
   ]
  },
  {
   "cell_type": "code",
   "execution_count": 36,
   "metadata": {
    "scrolled": true
   },
   "outputs": [
    {
     "data": {
      "text/plain": [
       "0          32.278432\n",
       "1          42.847863\n",
       "2          64.305367\n",
       "3          32.250349\n",
       "4          48.547274\n",
       "5          42.083736\n",
       "6          58.231657\n",
       "7          62.439085\n",
       "8          30.724366\n",
       "9          30.923810\n",
       "10         45.714298\n",
       "11         47.412766\n",
       "12         43.508904\n",
       "13         43.575663\n",
       "14         25.960669\n",
       "15         46.337220\n",
       "16         44.225563\n",
       "17         39.014286\n",
       "18         43.410573\n",
       "19         39.996090\n",
       "20         58.670358\n",
       "21         28.611744\n",
       "22         32.406739\n",
       "23         29.821995\n",
       "24         99.190064\n",
       "25         32.765110\n",
       "26         45.388256\n",
       "27         36.100515\n",
       "28         46.623730\n",
       "29         32.499704\n",
       "             ...    \n",
       "145033     62.677460\n",
       "145034     55.323954\n",
       "145035    103.166667\n",
       "145036    108.261905\n",
       "145037     80.009047\n",
       "145038     56.250498\n",
       "145039     72.332789\n",
       "145040     77.394903\n",
       "145041     57.195471\n",
       "145042     40.137853\n",
       "145043     74.206839\n",
       "145044     66.258024\n",
       "145045     63.652748\n",
       "145046     51.044635\n",
       "145047     67.460817\n",
       "145048     50.626472\n",
       "145049     51.603492\n",
       "145050     59.287929\n",
       "145051     59.165396\n",
       "145052     73.472512\n",
       "145053     78.668142\n",
       "145054     40.856114\n",
       "145055     72.276335\n",
       "145056     54.806334\n",
       "145057    100.828093\n",
       "145058     71.347763\n",
       "145059     74.390168\n",
       "145060     83.724244\n",
       "145061     68.014544\n",
       "145062     90.864656\n",
       "Length: 145063, dtype: float64"
      ]
     },
     "execution_count": 36,
     "metadata": {},
     "output_type": "execute_result"
    }
   ],
   "source": [
    "smape_60_to_0(train2, median_df)"
   ]
  },
  {
   "cell_type": "code",
   "execution_count": 37,
   "metadata": {},
   "outputs": [
    {
     "data": {
      "text/html": [
       "<div>\n",
       "<style>\n",
       "    .dataframe thead tr:only-child th {\n",
       "        text-align: right;\n",
       "    }\n",
       "\n",
       "    .dataframe thead th {\n",
       "        text-align: left;\n",
       "    }\n",
       "\n",
       "    .dataframe tbody tr th {\n",
       "        vertical-align: top;\n",
       "    }\n",
       "</style>\n",
       "<table border=\"1\" class=\"dataframe\">\n",
       "  <thead>\n",
       "    <tr style=\"text-align: right;\">\n",
       "      <th></th>\n",
       "      <th>page_index</th>\n",
       "      <th>Page</th>\n",
       "      <th>FINAL_median_pred</th>\n",
       "      <th>median_pred_60</th>\n",
       "      <th>median_pred_30</th>\n",
       "      <th>smape_60_to_0</th>\n",
       "    </tr>\n",
       "  </thead>\n",
       "  <tbody>\n",
       "    <tr>\n",
       "      <th>0</th>\n",
       "      <td>0</td>\n",
       "      <td>2NE1_zh.wikipedia.org_all-access_spider</td>\n",
       "      <td>22</td>\n",
       "      <td>24</td>\n",
       "      <td>22</td>\n",
       "      <td>32.278432</td>\n",
       "    </tr>\n",
       "    <tr>\n",
       "      <th>1</th>\n",
       "      <td>1</td>\n",
       "      <td>2PM_zh.wikipedia.org_all-access_spider</td>\n",
       "      <td>19</td>\n",
       "      <td>24</td>\n",
       "      <td>18</td>\n",
       "      <td>42.847863</td>\n",
       "    </tr>\n",
       "    <tr>\n",
       "      <th>2</th>\n",
       "      <td>2</td>\n",
       "      <td>3C_zh.wikipedia.org_all-access_spider</td>\n",
       "      <td>3</td>\n",
       "      <td>3</td>\n",
       "      <td>3</td>\n",
       "      <td>64.305367</td>\n",
       "    </tr>\n",
       "    <tr>\n",
       "      <th>3</th>\n",
       "      <td>3</td>\n",
       "      <td>4minute_zh.wikipedia.org_all-access_spider</td>\n",
       "      <td>14</td>\n",
       "      <td>15</td>\n",
       "      <td>14</td>\n",
       "      <td>32.250349</td>\n",
       "    </tr>\n",
       "    <tr>\n",
       "      <th>4</th>\n",
       "      <td>4</td>\n",
       "      <td>52_Hz_I_Love_You_zh.wikipedia.org_all-access_s...</td>\n",
       "      <td>16</td>\n",
       "      <td>14</td>\n",
       "      <td>12</td>\n",
       "      <td>48.547274</td>\n",
       "    </tr>\n",
       "  </tbody>\n",
       "</table>\n",
       "</div>"
      ],
      "text/plain": [
       "   page_index                                               Page  \\\n",
       "0           0            2NE1_zh.wikipedia.org_all-access_spider   \n",
       "1           1             2PM_zh.wikipedia.org_all-access_spider   \n",
       "2           2              3C_zh.wikipedia.org_all-access_spider   \n",
       "3           3         4minute_zh.wikipedia.org_all-access_spider   \n",
       "4           4  52_Hz_I_Love_You_zh.wikipedia.org_all-access_s...   \n",
       "\n",
       "   FINAL_median_pred  median_pred_60  median_pred_30  smape_60_to_0  \n",
       "0                 22              24              22      32.278432  \n",
       "1                 19              24              18      42.847863  \n",
       "2                  3               3               3      64.305367  \n",
       "3                 14              15              14      32.250349  \n",
       "4                 16              14              12      48.547274  "
      ]
     },
     "execution_count": 37,
     "metadata": {},
     "output_type": "execute_result"
    }
   ],
   "source": [
    "median_df['smape_60_to_0'] = smape_60_to_0(train2, median_df); median_df.head()"
   ]
  },
  {
   "cell_type": "code",
   "execution_count": 76,
   "metadata": {},
   "outputs": [
    {
     "data": {
      "text/plain": [
       "41.043204039840212"
      ]
     },
     "execution_count": 76,
     "metadata": {},
     "output_type": "execute_result"
    }
   ],
   "source": [
    "median_df['smape_60_to_0'].mean()"
   ]
  },
  {
   "cell_type": "code",
   "execution_count": 38,
   "metadata": {
    "collapsed": true
   },
   "outputs": [],
   "source": [
    "def smape_30_to_0(train2, median_df):\n",
    "    denominator = train2.iloc[:,-30:].add(median_df.median_pred_30, axis=0) / 200\n",
    "    diff = np.abs(train2.iloc[:,-30:].subtract(median_df.median_pred_30, axis=0)) / denominator\n",
    "    diff[denominator == 0] = 0.0\n",
    "    #return np.nanmean(diff, axis=0)\n",
    "    return diff.mean(axis=1, skipna=True)"
   ]
  },
  {
   "cell_type": "code",
   "execution_count": 39,
   "metadata": {},
   "outputs": [
    {
     "data": {
      "text/html": [
       "<div>\n",
       "<style>\n",
       "    .dataframe thead tr:only-child th {\n",
       "        text-align: right;\n",
       "    }\n",
       "\n",
       "    .dataframe thead th {\n",
       "        text-align: left;\n",
       "    }\n",
       "\n",
       "    .dataframe tbody tr th {\n",
       "        vertical-align: top;\n",
       "    }\n",
       "</style>\n",
       "<table border=\"1\" class=\"dataframe\">\n",
       "  <thead>\n",
       "    <tr style=\"text-align: right;\">\n",
       "      <th></th>\n",
       "      <th>page_index</th>\n",
       "      <th>Page</th>\n",
       "      <th>FINAL_median_pred</th>\n",
       "      <th>median_pred_60</th>\n",
       "      <th>median_pred_30</th>\n",
       "      <th>smape_60_to_0</th>\n",
       "      <th>smape_30_to_0</th>\n",
       "    </tr>\n",
       "  </thead>\n",
       "  <tbody>\n",
       "    <tr>\n",
       "      <th>0</th>\n",
       "      <td>0</td>\n",
       "      <td>2NE1_zh.wikipedia.org_all-access_spider</td>\n",
       "      <td>22</td>\n",
       "      <td>24</td>\n",
       "      <td>22</td>\n",
       "      <td>32.278432</td>\n",
       "      <td>33.460075</td>\n",
       "    </tr>\n",
       "    <tr>\n",
       "      <th>1</th>\n",
       "      <td>1</td>\n",
       "      <td>2PM_zh.wikipedia.org_all-access_spider</td>\n",
       "      <td>19</td>\n",
       "      <td>24</td>\n",
       "      <td>18</td>\n",
       "      <td>42.847863</td>\n",
       "      <td>38.381387</td>\n",
       "    </tr>\n",
       "    <tr>\n",
       "      <th>2</th>\n",
       "      <td>2</td>\n",
       "      <td>3C_zh.wikipedia.org_all-access_spider</td>\n",
       "      <td>3</td>\n",
       "      <td>3</td>\n",
       "      <td>3</td>\n",
       "      <td>64.305367</td>\n",
       "      <td>66.482751</td>\n",
       "    </tr>\n",
       "    <tr>\n",
       "      <th>3</th>\n",
       "      <td>3</td>\n",
       "      <td>4minute_zh.wikipedia.org_all-access_spider</td>\n",
       "      <td>14</td>\n",
       "      <td>15</td>\n",
       "      <td>14</td>\n",
       "      <td>32.250349</td>\n",
       "      <td>34.090675</td>\n",
       "    </tr>\n",
       "    <tr>\n",
       "      <th>4</th>\n",
       "      <td>4</td>\n",
       "      <td>52_Hz_I_Love_You_zh.wikipedia.org_all-access_s...</td>\n",
       "      <td>16</td>\n",
       "      <td>14</td>\n",
       "      <td>12</td>\n",
       "      <td>48.547274</td>\n",
       "      <td>63.728757</td>\n",
       "    </tr>\n",
       "  </tbody>\n",
       "</table>\n",
       "</div>"
      ],
      "text/plain": [
       "   page_index                                               Page  \\\n",
       "0           0            2NE1_zh.wikipedia.org_all-access_spider   \n",
       "1           1             2PM_zh.wikipedia.org_all-access_spider   \n",
       "2           2              3C_zh.wikipedia.org_all-access_spider   \n",
       "3           3         4minute_zh.wikipedia.org_all-access_spider   \n",
       "4           4  52_Hz_I_Love_You_zh.wikipedia.org_all-access_s...   \n",
       "\n",
       "   FINAL_median_pred  median_pred_60  median_pred_30  smape_60_to_0  \\\n",
       "0                 22              24              22      32.278432   \n",
       "1                 19              24              18      42.847863   \n",
       "2                  3               3               3      64.305367   \n",
       "3                 14              15              14      32.250349   \n",
       "4                 16              14              12      48.547274   \n",
       "\n",
       "   smape_30_to_0  \n",
       "0      33.460075  \n",
       "1      38.381387  \n",
       "2      66.482751  \n",
       "3      34.090675  \n",
       "4      63.728757  "
      ]
     },
     "execution_count": 39,
     "metadata": {},
     "output_type": "execute_result"
    }
   ],
   "source": [
    "median_df['smape_30_to_0'] = smape_30_to_0(train2, median_df); median_df.head()"
   ]
  },
  {
   "cell_type": "code",
   "execution_count": 42,
   "metadata": {},
   "outputs": [
    {
     "data": {
      "text/plain": [
       "37.916231179407006"
      ]
     },
     "execution_count": 42,
     "metadata": {},
     "output_type": "execute_result"
    }
   ],
   "source": [
    "median_df['smape_30_to_0'].mean()"
   ]
  },
  {
   "cell_type": "code",
   "execution_count": 43,
   "metadata": {
    "collapsed": true
   },
   "outputs": [],
   "source": [
    "def smape_60_to_30(train2, median_df):\n",
    "    denominator = train2.iloc[:,-60:-30].add(median_df.median_pred_60, axis=0) / 200\n",
    "    diff = np.abs(train2.iloc[:,-60:-30].subtract(median_df.median_pred_60, axis=0)) / denominator\n",
    "    diff[denominator == 0] = 0.0\n",
    "    #return np.nanmean(diff, axis=0)\n",
    "    return diff.mean(axis=1, skipna=True)"
   ]
  },
  {
   "cell_type": "code",
   "execution_count": 44,
   "metadata": {},
   "outputs": [
    {
     "data": {
      "text/html": [
       "<div>\n",
       "<style>\n",
       "    .dataframe thead tr:only-child th {\n",
       "        text-align: right;\n",
       "    }\n",
       "\n",
       "    .dataframe thead th {\n",
       "        text-align: left;\n",
       "    }\n",
       "\n",
       "    .dataframe tbody tr th {\n",
       "        vertical-align: top;\n",
       "    }\n",
       "</style>\n",
       "<table border=\"1\" class=\"dataframe\">\n",
       "  <thead>\n",
       "    <tr style=\"text-align: right;\">\n",
       "      <th></th>\n",
       "      <th>page_index</th>\n",
       "      <th>Page</th>\n",
       "      <th>FINAL_median_pred</th>\n",
       "      <th>median_pred_60</th>\n",
       "      <th>median_pred_30</th>\n",
       "      <th>smape_60_to_0</th>\n",
       "      <th>smape_30_to_0</th>\n",
       "      <th>smape_60_to_30</th>\n",
       "    </tr>\n",
       "  </thead>\n",
       "  <tbody>\n",
       "    <tr>\n",
       "      <th>0</th>\n",
       "      <td>0</td>\n",
       "      <td>2NE1_zh.wikipedia.org_all-access_spider</td>\n",
       "      <td>22</td>\n",
       "      <td>24</td>\n",
       "      <td>22</td>\n",
       "      <td>32.278432</td>\n",
       "      <td>33.460075</td>\n",
       "      <td>31.784579</td>\n",
       "    </tr>\n",
       "    <tr>\n",
       "      <th>1</th>\n",
       "      <td>1</td>\n",
       "      <td>2PM_zh.wikipedia.org_all-access_spider</td>\n",
       "      <td>19</td>\n",
       "      <td>24</td>\n",
       "      <td>18</td>\n",
       "      <td>42.847863</td>\n",
       "      <td>38.381387</td>\n",
       "      <td>47.778097</td>\n",
       "    </tr>\n",
       "    <tr>\n",
       "      <th>2</th>\n",
       "      <td>2</td>\n",
       "      <td>3C_zh.wikipedia.org_all-access_spider</td>\n",
       "      <td>3</td>\n",
       "      <td>3</td>\n",
       "      <td>3</td>\n",
       "      <td>64.305367</td>\n",
       "      <td>66.482751</td>\n",
       "      <td>62.127983</td>\n",
       "    </tr>\n",
       "    <tr>\n",
       "      <th>3</th>\n",
       "      <td>3</td>\n",
       "      <td>4minute_zh.wikipedia.org_all-access_spider</td>\n",
       "      <td>14</td>\n",
       "      <td>15</td>\n",
       "      <td>14</td>\n",
       "      <td>32.250349</td>\n",
       "      <td>34.090675</td>\n",
       "      <td>31.105196</td>\n",
       "    </tr>\n",
       "    <tr>\n",
       "      <th>4</th>\n",
       "      <td>4</td>\n",
       "      <td>52_Hz_I_Love_You_zh.wikipedia.org_all-access_s...</td>\n",
       "      <td>16</td>\n",
       "      <td>14</td>\n",
       "      <td>12</td>\n",
       "      <td>48.547274</td>\n",
       "      <td>63.728757</td>\n",
       "      <td>42.661346</td>\n",
       "    </tr>\n",
       "  </tbody>\n",
       "</table>\n",
       "</div>"
      ],
      "text/plain": [
       "   page_index                                               Page  \\\n",
       "0           0            2NE1_zh.wikipedia.org_all-access_spider   \n",
       "1           1             2PM_zh.wikipedia.org_all-access_spider   \n",
       "2           2              3C_zh.wikipedia.org_all-access_spider   \n",
       "3           3         4minute_zh.wikipedia.org_all-access_spider   \n",
       "4           4  52_Hz_I_Love_You_zh.wikipedia.org_all-access_s...   \n",
       "\n",
       "   FINAL_median_pred  median_pred_60  median_pred_30  smape_60_to_0  \\\n",
       "0                 22              24              22      32.278432   \n",
       "1                 19              24              18      42.847863   \n",
       "2                  3               3               3      64.305367   \n",
       "3                 14              15              14      32.250349   \n",
       "4                 16              14              12      48.547274   \n",
       "\n",
       "   smape_30_to_0  smape_60_to_30  \n",
       "0      33.460075       31.784579  \n",
       "1      38.381387       47.778097  \n",
       "2      66.482751       62.127983  \n",
       "3      34.090675       31.105196  \n",
       "4      63.728757       42.661346  "
      ]
     },
     "execution_count": 44,
     "metadata": {},
     "output_type": "execute_result"
    }
   ],
   "source": [
    "median_df['smape_60_to_30'] = smape_60_to_30(train2, median_df); median_df.head()"
   ]
  },
  {
   "cell_type": "code",
   "execution_count": 45,
   "metadata": {},
   "outputs": [
    {
     "data": {
      "text/plain": [
       "39.433807046929097"
      ]
     },
     "execution_count": 45,
     "metadata": {},
     "output_type": "execute_result"
    }
   ],
   "source": [
    "median_df['smape_60_to_30'].mean()"
   ]
  },
  {
   "cell_type": "code",
   "execution_count": 68,
   "metadata": {},
   "outputs": [
    {
     "data": {
      "text/plain": [
       "733"
      ]
     },
     "execution_count": 68,
     "metadata": {},
     "output_type": "execute_result"
    }
   ],
   "source": [
    "train2.iloc[:,:-60].shape[1]"
   ]
  },
  {
   "cell_type": "code",
   "execution_count": 69,
   "metadata": {
    "collapsed": true
   },
   "outputs": [],
   "source": [
    "median_df['nans_start_to_60'] = train2.iloc[:,:-60].shape[1] - train2.iloc[:,:-60].count(axis=1)"
   ]
  },
  {
   "cell_type": "code",
   "execution_count": 70,
   "metadata": {
    "collapsed": true
   },
   "outputs": [],
   "source": [
    "median_df['nans_60_to_30'] = train2.iloc[:,-60:-30].shape[1] - train2.iloc[:,-60:-30].count(axis=1)"
   ]
  },
  {
   "cell_type": "code",
   "execution_count": 71,
   "metadata": {
    "collapsed": true
   },
   "outputs": [],
   "source": [
    "median_df['nans_30_to_0'] = train2.iloc[:,-30:].shape[1] - train2.iloc[:,-30:].count(axis=1)"
   ]
  },
  {
   "cell_type": "code",
   "execution_count": 72,
   "metadata": {},
   "outputs": [
    {
     "data": {
      "text/html": [
       "<div>\n",
       "<style>\n",
       "    .dataframe thead tr:only-child th {\n",
       "        text-align: right;\n",
       "    }\n",
       "\n",
       "    .dataframe thead th {\n",
       "        text-align: left;\n",
       "    }\n",
       "\n",
       "    .dataframe tbody tr th {\n",
       "        vertical-align: top;\n",
       "    }\n",
       "</style>\n",
       "<table border=\"1\" class=\"dataframe\">\n",
       "  <thead>\n",
       "    <tr style=\"text-align: right;\">\n",
       "      <th></th>\n",
       "      <th>page_index</th>\n",
       "      <th>Page</th>\n",
       "      <th>FINAL_median_pred</th>\n",
       "      <th>median_pred_60</th>\n",
       "      <th>median_pred_30</th>\n",
       "      <th>smape_60_to_0</th>\n",
       "      <th>smape_30_to_0</th>\n",
       "      <th>smape_60_to_30</th>\n",
       "      <th>nans_start_to_60</th>\n",
       "      <th>nans_60_to_30</th>\n",
       "      <th>nans_30_to_0</th>\n",
       "    </tr>\n",
       "  </thead>\n",
       "  <tbody>\n",
       "    <tr>\n",
       "      <th>0</th>\n",
       "      <td>0</td>\n",
       "      <td>2NE1_zh.wikipedia.org_all-access_spider</td>\n",
       "      <td>22</td>\n",
       "      <td>24</td>\n",
       "      <td>22</td>\n",
       "      <td>32.278432</td>\n",
       "      <td>33.460075</td>\n",
       "      <td>31.784579</td>\n",
       "      <td>0</td>\n",
       "      <td>0</td>\n",
       "      <td>0</td>\n",
       "    </tr>\n",
       "    <tr>\n",
       "      <th>1</th>\n",
       "      <td>1</td>\n",
       "      <td>2PM_zh.wikipedia.org_all-access_spider</td>\n",
       "      <td>19</td>\n",
       "      <td>24</td>\n",
       "      <td>18</td>\n",
       "      <td>42.847863</td>\n",
       "      <td>38.381387</td>\n",
       "      <td>47.778097</td>\n",
       "      <td>0</td>\n",
       "      <td>0</td>\n",
       "      <td>0</td>\n",
       "    </tr>\n",
       "    <tr>\n",
       "      <th>2</th>\n",
       "      <td>2</td>\n",
       "      <td>3C_zh.wikipedia.org_all-access_spider</td>\n",
       "      <td>3</td>\n",
       "      <td>3</td>\n",
       "      <td>3</td>\n",
       "      <td>64.305367</td>\n",
       "      <td>66.482751</td>\n",
       "      <td>62.127983</td>\n",
       "      <td>0</td>\n",
       "      <td>0</td>\n",
       "      <td>0</td>\n",
       "    </tr>\n",
       "    <tr>\n",
       "      <th>3</th>\n",
       "      <td>3</td>\n",
       "      <td>4minute_zh.wikipedia.org_all-access_spider</td>\n",
       "      <td>14</td>\n",
       "      <td>15</td>\n",
       "      <td>14</td>\n",
       "      <td>32.250349</td>\n",
       "      <td>34.090675</td>\n",
       "      <td>31.105196</td>\n",
       "      <td>0</td>\n",
       "      <td>0</td>\n",
       "      <td>0</td>\n",
       "    </tr>\n",
       "    <tr>\n",
       "      <th>4</th>\n",
       "      <td>4</td>\n",
       "      <td>52_Hz_I_Love_You_zh.wikipedia.org_all-access_s...</td>\n",
       "      <td>16</td>\n",
       "      <td>14</td>\n",
       "      <td>12</td>\n",
       "      <td>48.547274</td>\n",
       "      <td>63.728757</td>\n",
       "      <td>42.661346</td>\n",
       "      <td>291</td>\n",
       "      <td>0</td>\n",
       "      <td>0</td>\n",
       "    </tr>\n",
       "  </tbody>\n",
       "</table>\n",
       "</div>"
      ],
      "text/plain": [
       "   page_index                                               Page  \\\n",
       "0           0            2NE1_zh.wikipedia.org_all-access_spider   \n",
       "1           1             2PM_zh.wikipedia.org_all-access_spider   \n",
       "2           2              3C_zh.wikipedia.org_all-access_spider   \n",
       "3           3         4minute_zh.wikipedia.org_all-access_spider   \n",
       "4           4  52_Hz_I_Love_You_zh.wikipedia.org_all-access_s...   \n",
       "\n",
       "   FINAL_median_pred  median_pred_60  median_pred_30  smape_60_to_0  \\\n",
       "0                 22              24              22      32.278432   \n",
       "1                 19              24              18      42.847863   \n",
       "2                  3               3               3      64.305367   \n",
       "3                 14              15              14      32.250349   \n",
       "4                 16              14              12      48.547274   \n",
       "\n",
       "   smape_30_to_0  smape_60_to_30  nans_start_to_60  nans_60_to_30  \\\n",
       "0      33.460075       31.784579                 0              0   \n",
       "1      38.381387       47.778097                 0              0   \n",
       "2      66.482751       62.127983                 0              0   \n",
       "3      34.090675       31.105196                 0              0   \n",
       "4      63.728757       42.661346               291              0   \n",
       "\n",
       "   nans_30_to_0  \n",
       "0             0  \n",
       "1             0  \n",
       "2             0  \n",
       "3             0  \n",
       "4             0  "
      ]
     },
     "execution_count": 72,
     "metadata": {},
     "output_type": "execute_result"
    }
   ],
   "source": [
    "median_df.head()"
   ]
  },
  {
   "cell_type": "code",
   "execution_count": 74,
   "metadata": {
    "collapsed": true
   },
   "outputs": [],
   "source": [
    "median_df.to_feather('../data/median_for_60_and_30.f')"
   ]
  },
  {
   "cell_type": "code",
   "execution_count": 75,
   "metadata": {},
   "outputs": [
    {
     "data": {
      "text/plain": [
       "Index(['page_index', 'Page', 'FINAL_median_pred', 'median_pred_60',\n",
       "       'median_pred_30', 'smape_60_to_0', 'smape_30_to_0', 'smape_60_to_30',\n",
       "       'nans_start_to_60', 'nans_60_to_30', 'nans_30_to_0'],\n",
       "      dtype='object')"
      ]
     },
     "execution_count": 75,
     "metadata": {},
     "output_type": "execute_result"
    }
   ],
   "source": [
    "median_df.columns"
   ]
  },
  {
   "cell_type": "code",
   "execution_count": null,
   "metadata": {
    "collapsed": true
   },
   "outputs": [],
   "source": []
  }
 ],
 "metadata": {
  "kernelspec": {
   "display_name": "Python 3",
   "language": "python",
   "name": "python3"
  },
  "language_info": {
   "codemirror_mode": {
    "name": "ipython",
    "version": 3
   },
   "file_extension": ".py",
   "mimetype": "text/x-python",
   "name": "python",
   "nbconvert_exporter": "python",
   "pygments_lexer": "ipython3",
   "version": "3.6.2"
  }
 },
 "nbformat": 4,
 "nbformat_minor": 2
}
