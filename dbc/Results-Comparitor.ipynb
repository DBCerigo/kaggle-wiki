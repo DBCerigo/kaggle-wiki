{
 "cells": [
  {
   "cell_type": "code",
   "execution_count": 1,
   "metadata": {
    "collapsed": true,
    "scrolled": false
   },
   "outputs": [],
   "source": [
    "%load_ext autoreload\n",
    "%autoreload 2 \n",
    "%matplotlib inline"
   ]
  },
  {
   "cell_type": "code",
   "execution_count": 2,
   "metadata": {
    "collapsed": true
   },
   "outputs": [],
   "source": [
    "import matplotlib.pyplot as plt\n",
    "plt.rcParams[\"figure.figsize\"] = [16,9]\n",
    "plt.style.use('ggplot')\n",
    "import os\n",
    "import pandas as pd\n",
    "import numpy as np \n",
    "import pickle as pk\n",
    "import glob\n",
    "from fbprophet import Prophet\n",
    "import sys\n",
    "sys.path.append('../')\n",
    "import wiki\n",
    "from wiki import utils \n",
    "import multiprocessing as mp\n",
    "total_proc = None\n",
    "from tqdm import tqdm\n",
    "from IPython.display import clear_output"
   ]
  },
  {
   "cell_type": "markdown",
   "metadata": {},
   "source": [
    "# Results Analysis\n",
    "* ..."
   ]
  },
  {
   "cell_type": "code",
   "execution_count": 3,
   "metadata": {
    "collapsed": true
   },
   "outputs": [],
   "source": [
    "def load_plot(page, plot_y_org=True):\n",
    "    forecast = pd.read_feather(PROPHET_PATH+VERSION+str(page)+'df.f')\n",
    "    wiki.newphet.prophet_plot(forecast, plot_y_org=plot_y_org)\n",
    "    plt.show()"
   ]
  },
  {
   "cell_type": "code",
   "execution_count": 4,
   "metadata": {
    "collapsed": true
   },
   "outputs": [],
   "source": [
    "PROPHET_PATH = '../data/prophet/'\n",
    "RESULTS_PATH = 'results/'\n",
    "BLENDS_PATH = 'blends/'\n",
    "BLEND_VERSION = 'b1/'\n",
    "#os.makedirs(PROPHET_PATH+BLENDS_PATH+BLEND_VERSION)"
   ]
  },
  {
   "cell_type": "code",
   "execution_count": 5,
   "metadata": {},
   "outputs": [
    {
     "data": {
      "text/html": [
       "<div>\n",
       "<style>\n",
       "    .dataframe thead tr:only-child th {\n",
       "        text-align: right;\n",
       "    }\n",
       "\n",
       "    .dataframe thead th {\n",
       "        text-align: left;\n",
       "    }\n",
       "\n",
       "    .dataframe tbody tr th {\n",
       "        vertical-align: top;\n",
       "    }\n",
       "</style>\n",
       "<table border=\"1\" class=\"dataframe\">\n",
       "  <thead>\n",
       "    <tr style=\"text-align: right;\">\n",
       "      <th></th>\n",
       "      <th>page_index</th>\n",
       "      <th>median_smape</th>\n",
       "    </tr>\n",
       "  </thead>\n",
       "  <tbody>\n",
       "    <tr>\n",
       "      <th>0</th>\n",
       "      <td>0</td>\n",
       "      <td>40.582621</td>\n",
       "    </tr>\n",
       "    <tr>\n",
       "      <th>1</th>\n",
       "      <td>1</td>\n",
       "      <td>50.319311</td>\n",
       "    </tr>\n",
       "    <tr>\n",
       "      <th>2</th>\n",
       "      <td>2</td>\n",
       "      <td>49.209093</td>\n",
       "    </tr>\n",
       "    <tr>\n",
       "      <th>3</th>\n",
       "      <td>3</td>\n",
       "      <td>35.679932</td>\n",
       "    </tr>\n",
       "    <tr>\n",
       "      <th>4</th>\n",
       "      <td>4</td>\n",
       "      <td>58.634001</td>\n",
       "    </tr>\n",
       "  </tbody>\n",
       "</table>\n",
       "</div>"
      ],
      "text/plain": [
       "  page_index  median_smape\n",
       "0          0     40.582621\n",
       "1          1     50.319311\n",
       "2          2     49.209093\n",
       "3          3     35.679932\n",
       "4          4     58.634001"
      ]
     },
     "execution_count": 5,
     "metadata": {},
     "output_type": "execute_result"
    }
   ],
   "source": [
    "mediandf = pd.read_csv('../data/median_smapes.csv') \n",
    "mediandf = mediandf.iloc[:,[0,-1]]\n",
    "mediandf.columns = ['page_index','median_smape']\n",
    "mediandf.loc[:,'page_index'] = mediandf.page_index.astype(str)\n",
    "mediandf.head()"
   ]
  },
  {
   "cell_type": "code",
   "execution_count": 6,
   "metadata": {},
   "outputs": [
    {
     "data": {
      "text/plain": [
       "['v2.6df.f', 'v3df.f', 'v1.9df.f', 'v4.1df.f']"
      ]
     },
     "execution_count": 6,
     "metadata": {},
     "output_type": "execute_result"
    }
   ],
   "source": [
    "# black-list for model results that have incorrect smape (weren't using proper y_org)\n",
    "black_list = ['v2.5df.f','v1.6df.f','v2df.f','v4df.f']\n",
    "model_list = [x.split('/')[-1]  for x in glob.glob(PROPHET_PATH+RESULTS_PATH+'*') if x[-5] is not 'f']\n",
    "model_list = [x for x in model_list if x not in black_list]\n",
    "model_list"
   ]
  },
  {
   "cell_type": "code",
   "execution_count": 7,
   "metadata": {
    "collapsed": true,
    "scrolled": true
   },
   "outputs": [],
   "source": [
    "try:\n",
    "    del df\n",
    "except:\n",
    "    pass\n",
    "for file in model_list:\n",
    "    tdf = pd.read_feather(PROPHET_PATH+RESULTS_PATH+file)\n",
    "    try:\n",
    "        df = df.merge(tdf[['page_index',file[:-4]+'_val']], on='page_index')\n",
    "    except NameError:\n",
    "        df = tdf[['page_index',file[:-4]+'_val']]"
   ]
  },
  {
   "cell_type": "code",
   "execution_count": 8,
   "metadata": {
    "collapsed": true
   },
   "outputs": [],
   "source": [
    "df = df.merge(mediandf, on='page_index')"
   ]
  },
  {
   "cell_type": "code",
   "execution_count": 9,
   "metadata": {},
   "outputs": [
    {
     "data": {
      "text/html": [
       "<div>\n",
       "<style>\n",
       "    .dataframe thead tr:only-child th {\n",
       "        text-align: right;\n",
       "    }\n",
       "\n",
       "    .dataframe thead th {\n",
       "        text-align: left;\n",
       "    }\n",
       "\n",
       "    .dataframe tbody tr th {\n",
       "        vertical-align: top;\n",
       "    }\n",
       "</style>\n",
       "<table border=\"1\" class=\"dataframe\">\n",
       "  <thead>\n",
       "    <tr style=\"text-align: right;\">\n",
       "      <th></th>\n",
       "      <th>page_index</th>\n",
       "      <th>v2.6_val</th>\n",
       "      <th>v3_val</th>\n",
       "      <th>v1.9_val</th>\n",
       "      <th>v4.1_val</th>\n",
       "      <th>median_smape</th>\n",
       "    </tr>\n",
       "  </thead>\n",
       "  <tbody>\n",
       "    <tr>\n",
       "      <th>0</th>\n",
       "      <td>61780</td>\n",
       "      <td>21.464761</td>\n",
       "      <td>21.464761</td>\n",
       "      <td>143.016629</td>\n",
       "      <td>21.602433</td>\n",
       "      <td>27.617702</td>\n",
       "    </tr>\n",
       "    <tr>\n",
       "      <th>1</th>\n",
       "      <td>88262</td>\n",
       "      <td>100.961816</td>\n",
       "      <td>100.961816</td>\n",
       "      <td>114.985722</td>\n",
       "      <td>100.491853</td>\n",
       "      <td>48.228541</td>\n",
       "    </tr>\n",
       "    <tr>\n",
       "      <th>2</th>\n",
       "      <td>38562</td>\n",
       "      <td>33.040040</td>\n",
       "      <td>33.040040</td>\n",
       "      <td>35.051994</td>\n",
       "      <td>33.114415</td>\n",
       "      <td>57.389432</td>\n",
       "    </tr>\n",
       "    <tr>\n",
       "      <th>3</th>\n",
       "      <td>139999</td>\n",
       "      <td>64.424648</td>\n",
       "      <td>64.424648</td>\n",
       "      <td>160.727494</td>\n",
       "      <td>65.346381</td>\n",
       "      <td>91.585942</td>\n",
       "    </tr>\n",
       "    <tr>\n",
       "      <th>4</th>\n",
       "      <td>60766</td>\n",
       "      <td>60.384127</td>\n",
       "      <td>195.929825</td>\n",
       "      <td>198.711561</td>\n",
       "      <td>60.384127</td>\n",
       "      <td>57.434921</td>\n",
       "    </tr>\n",
       "  </tbody>\n",
       "</table>\n",
       "</div>"
      ],
      "text/plain": [
       "  page_index    v2.6_val      v3_val    v1.9_val    v4.1_val  median_smape\n",
       "0      61780   21.464761   21.464761  143.016629   21.602433     27.617702\n",
       "1      88262  100.961816  100.961816  114.985722  100.491853     48.228541\n",
       "2      38562   33.040040   33.040040   35.051994   33.114415     57.389432\n",
       "3     139999   64.424648   64.424648  160.727494   65.346381     91.585942\n",
       "4      60766   60.384127  195.929825  198.711561   60.384127     57.434921"
      ]
     },
     "execution_count": 9,
     "metadata": {},
     "output_type": "execute_result"
    }
   ],
   "source": [
    "df.head()"
   ]
  },
  {
   "cell_type": "code",
   "execution_count": 10,
   "metadata": {},
   "outputs": [
    {
     "data": {
      "text/plain": [
       "Index(['v2.6_val', 'v3_val', 'v1.9_val', 'v4.1_val', 'median_smape'], dtype='object')"
      ]
     },
     "execution_count": 10,
     "metadata": {},
     "output_type": "execute_result"
    }
   ],
   "source": [
    "model_cols = df.iloc[:,1:].columns; model_cols"
   ]
  },
  {
   "cell_type": "code",
   "execution_count": 11,
   "metadata": {},
   "outputs": [
    {
     "data": {
      "text/plain": [
       "145063"
      ]
     },
     "execution_count": 11,
     "metadata": {},
     "output_type": "execute_result"
    }
   ],
   "source": [
    "len(df)"
   ]
  },
  {
   "cell_type": "code",
   "execution_count": 12,
   "metadata": {},
   "outputs": [
    {
     "data": {
      "text/plain": [
       "v2.6_val        56.867810\n",
       "v3_val          58.629198\n",
       "v1.9_val        81.696788\n",
       "v4.1_val        57.112413\n",
       "median_smape    47.541320\n",
       "dtype: float64"
      ]
     },
     "execution_count": 12,
     "metadata": {},
     "output_type": "execute_result"
    }
   ],
   "source": [
    "df.iloc[:,1:].mean()"
   ]
  },
  {
   "cell_type": "markdown",
   "metadata": {
    "collapsed": true
   },
   "source": [
    "pagedf = pd.read_feather(PROPHET_PATH+'pagedf.f')\n",
    "ds = pd.read_feather(PROPHET_PATH+'ds.f')"
   ]
  },
  {
   "cell_type": "markdown",
   "metadata": {},
   "source": [
    "page_counts = pagedf.count()\n",
    "page_counts = page_counts.reset_index()\n",
    "page_counts['index'] = page_counts['index'].astype(str)\n",
    "page_counts.columns = ['page_index','data_count']; page_counts.tail()"
   ]
  },
  {
   "cell_type": "code",
   "execution_count": 13,
   "metadata": {},
   "outputs": [
    {
     "data": {
      "text/html": [
       "<div>\n",
       "<style>\n",
       "    .dataframe thead tr:only-child th {\n",
       "        text-align: right;\n",
       "    }\n",
       "\n",
       "    .dataframe thead th {\n",
       "        text-align: left;\n",
       "    }\n",
       "\n",
       "    .dataframe tbody tr th {\n",
       "        vertical-align: top;\n",
       "    }\n",
       "</style>\n",
       "<table border=\"1\" class=\"dataframe\">\n",
       "  <thead>\n",
       "    <tr style=\"text-align: right;\">\n",
       "      <th></th>\n",
       "      <th>v2.6_val</th>\n",
       "      <th>v3_val</th>\n",
       "      <th>v1.9_val</th>\n",
       "      <th>v4.1_val</th>\n",
       "      <th>median_smape</th>\n",
       "    </tr>\n",
       "  </thead>\n",
       "  <tbody>\n",
       "    <tr>\n",
       "      <th>v2.6_val</th>\n",
       "      <td>1.000000</td>\n",
       "      <td>0.874333</td>\n",
       "      <td>0.626571</td>\n",
       "      <td>0.990572</td>\n",
       "      <td>0.602433</td>\n",
       "    </tr>\n",
       "    <tr>\n",
       "      <th>v3_val</th>\n",
       "      <td>0.874333</td>\n",
       "      <td>1.000000</td>\n",
       "      <td>0.623498</td>\n",
       "      <td>0.870509</td>\n",
       "      <td>0.570448</td>\n",
       "    </tr>\n",
       "    <tr>\n",
       "      <th>v1.9_val</th>\n",
       "      <td>0.626571</td>\n",
       "      <td>0.623498</td>\n",
       "      <td>1.000000</td>\n",
       "      <td>0.632000</td>\n",
       "      <td>0.381107</td>\n",
       "    </tr>\n",
       "    <tr>\n",
       "      <th>v4.1_val</th>\n",
       "      <td>0.990572</td>\n",
       "      <td>0.870509</td>\n",
       "      <td>0.632000</td>\n",
       "      <td>1.000000</td>\n",
       "      <td>0.596978</td>\n",
       "    </tr>\n",
       "    <tr>\n",
       "      <th>median_smape</th>\n",
       "      <td>0.602433</td>\n",
       "      <td>0.570448</td>\n",
       "      <td>0.381107</td>\n",
       "      <td>0.596978</td>\n",
       "      <td>1.000000</td>\n",
       "    </tr>\n",
       "  </tbody>\n",
       "</table>\n",
       "</div>"
      ],
      "text/plain": [
       "              v2.6_val    v3_val  v1.9_val  v4.1_val  median_smape\n",
       "v2.6_val      1.000000  0.874333  0.626571  0.990572      0.602433\n",
       "v3_val        0.874333  1.000000  0.623498  0.870509      0.570448\n",
       "v1.9_val      0.626571  0.623498  1.000000  0.632000      0.381107\n",
       "v4.1_val      0.990572  0.870509  0.632000  1.000000      0.596978\n",
       "median_smape  0.602433  0.570448  0.381107  0.596978      1.000000"
      ]
     },
     "execution_count": 13,
     "metadata": {},
     "output_type": "execute_result"
    }
   ],
   "source": [
    "df.iloc[:,1:].corr()"
   ]
  },
  {
   "cell_type": "code",
   "execution_count": 14,
   "metadata": {},
   "outputs": [
    {
     "data": {
      "text/html": [
       "<div>\n",
       "<style>\n",
       "    .dataframe thead tr:only-child th {\n",
       "        text-align: right;\n",
       "    }\n",
       "\n",
       "    .dataframe thead th {\n",
       "        text-align: left;\n",
       "    }\n",
       "\n",
       "    .dataframe tbody tr th {\n",
       "        vertical-align: top;\n",
       "    }\n",
       "</style>\n",
       "<table border=\"1\" class=\"dataframe\">\n",
       "  <thead>\n",
       "    <tr style=\"text-align: right;\">\n",
       "      <th></th>\n",
       "      <th>page_index</th>\n",
       "      <th>v2.6_val</th>\n",
       "      <th>v3_val</th>\n",
       "      <th>v1.9_val</th>\n",
       "      <th>v4.1_val</th>\n",
       "      <th>median_smape</th>\n",
       "    </tr>\n",
       "  </thead>\n",
       "  <tbody>\n",
       "    <tr>\n",
       "      <th>0</th>\n",
       "      <td>61780</td>\n",
       "      <td>21.464761</td>\n",
       "      <td>21.464761</td>\n",
       "      <td>143.016629</td>\n",
       "      <td>21.602433</td>\n",
       "      <td>27.617702</td>\n",
       "    </tr>\n",
       "    <tr>\n",
       "      <th>1</th>\n",
       "      <td>88262</td>\n",
       "      <td>100.961816</td>\n",
       "      <td>100.961816</td>\n",
       "      <td>114.985722</td>\n",
       "      <td>100.491853</td>\n",
       "      <td>48.228541</td>\n",
       "    </tr>\n",
       "    <tr>\n",
       "      <th>2</th>\n",
       "      <td>38562</td>\n",
       "      <td>33.040040</td>\n",
       "      <td>33.040040</td>\n",
       "      <td>35.051994</td>\n",
       "      <td>33.114415</td>\n",
       "      <td>57.389432</td>\n",
       "    </tr>\n",
       "    <tr>\n",
       "      <th>3</th>\n",
       "      <td>139999</td>\n",
       "      <td>64.424648</td>\n",
       "      <td>64.424648</td>\n",
       "      <td>160.727494</td>\n",
       "      <td>65.346381</td>\n",
       "      <td>91.585942</td>\n",
       "    </tr>\n",
       "    <tr>\n",
       "      <th>4</th>\n",
       "      <td>60766</td>\n",
       "      <td>60.384127</td>\n",
       "      <td>195.929825</td>\n",
       "      <td>198.711561</td>\n",
       "      <td>60.384127</td>\n",
       "      <td>57.434921</td>\n",
       "    </tr>\n",
       "  </tbody>\n",
       "</table>\n",
       "</div>"
      ],
      "text/plain": [
       "  page_index    v2.6_val      v3_val    v1.9_val    v4.1_val  median_smape\n",
       "0      61780   21.464761   21.464761  143.016629   21.602433     27.617702\n",
       "1      88262  100.961816  100.961816  114.985722  100.491853     48.228541\n",
       "2      38562   33.040040   33.040040   35.051994   33.114415     57.389432\n",
       "3     139999   64.424648   64.424648  160.727494   65.346381     91.585942\n",
       "4      60766   60.384127  195.929825  198.711561   60.384127     57.434921"
      ]
     },
     "execution_count": 14,
     "metadata": {},
     "output_type": "execute_result"
    }
   ],
   "source": [
    "df.head()"
   ]
  },
  {
   "cell_type": "code",
   "execution_count": 15,
   "metadata": {},
   "outputs": [
    {
     "data": {
      "text/plain": [
       "41.850809314256374"
      ]
     },
     "execution_count": 15,
     "metadata": {},
     "output_type": "execute_result"
    }
   ],
   "source": [
    "df.iloc[:,1:].apply(min,axis=1).mean()"
   ]
  },
  {
   "cell_type": "code",
   "execution_count": 16,
   "metadata": {},
   "outputs": [
    {
     "data": {
      "text/plain": [
       "0    21.464761\n",
       "1    48.228541\n",
       "2    33.040040\n",
       "3    64.424648\n",
       "4    57.434921\n",
       "dtype: float64"
      ]
     },
     "execution_count": 16,
     "metadata": {},
     "output_type": "execute_result"
    }
   ],
   "source": [
    "df.iloc[:,1:].apply(min,axis=1).head()"
   ]
  },
  {
   "cell_type": "code",
   "execution_count": 17,
   "metadata": {},
   "outputs": [
    {
     "data": {
      "text/plain": [
       "0        v2.6_val\n",
       "1    median_smape\n",
       "2        v2.6_val\n",
       "3        v2.6_val\n",
       "4    median_smape\n",
       "dtype: object"
      ]
     },
     "execution_count": 17,
     "metadata": {},
     "output_type": "execute_result"
    }
   ],
   "source": [
    "df.iloc[:,1:].idxmin(axis=1).head()"
   ]
  },
  {
   "cell_type": "code",
   "execution_count": 18,
   "metadata": {
    "collapsed": true
   },
   "outputs": [],
   "source": [
    "df['min_val'] = df.iloc[:,1:].apply(min,axis=1)\n",
    "df['min_model'] = df.iloc[:,1:].idxmin(axis=1)"
   ]
  },
  {
   "cell_type": "code",
   "execution_count": 19,
   "metadata": {},
   "outputs": [
    {
     "data": {
      "text/plain": [
       "median_smape    73741\n",
       "v2.6_val        27891\n",
       "v4.1_val        22560\n",
       "v1.9_val        15804\n",
       "v3_val           3872\n",
       "Name: min_model, dtype: int64"
      ]
     },
     "execution_count": 19,
     "metadata": {},
     "output_type": "execute_result"
    }
   ],
   "source": [
    "df['min_model'].value_counts()"
   ]
  },
  {
   "cell_type": "code",
   "execution_count": 20,
   "metadata": {},
   "outputs": [
    {
     "name": "stdout",
     "output_type": "stream",
     "text": [
      "v2.6_val 41.0480226095\n",
      "v3_val 60.1067001685\n",
      "v1.9_val 57.4673014885\n",
      "v4.1_val 36.9121301988\n",
      "median_smape 39.3598920921\n"
     ]
    }
   ],
   "source": [
    "for col in model_cols:\n",
    "    print(col, df[df.min_model == col][col].mean())"
   ]
  },
  {
   "cell_type": "code",
   "execution_count": 21,
   "metadata": {
    "scrolled": true
   },
   "outputs": [
    {
     "name": "stdout",
     "output_type": "stream",
     "text": [
      "Without v2.6_val 41.8902765779\n",
      "Without v3_val 42.0766674029\n",
      "Without v1.9_val 42.6177910736\n",
      "Without v4.1_val 41.929438331\n",
      "Without median_smape 52.9467568566\n"
     ]
    }
   ],
   "source": [
    "for col in model_cols:\n",
    "    print('Without', col, df.loc[:,[x for x in model_cols if x != col]].apply(min,axis=1).mean())"
   ]
  },
  {
   "cell_type": "code",
   "execution_count": 22,
   "metadata": {},
   "outputs": [
    {
     "name": "stdout",
     "output_type": "stream",
     "text": [
      "With only median and v2.6_val 43.0932947583\n",
      "With only median and v3_val 42.9978343451\n",
      "With only median and v1.9_val 44.675683698\n",
      "With only median and v4.1_val 43.1221820895\n",
      "With only median and median_smape 47.5413203704\n"
     ]
    }
   ],
   "source": [
    "for col in model_cols:\n",
    "    print('With only median and', col, df.loc[:,[col, 'median_smape']].apply(min,axis=1).mean())"
   ]
  },
  {
   "cell_type": "code",
   "execution_count": 23,
   "metadata": {
    "collapsed": true
   },
   "outputs": [],
   "source": [
    "test_cols = ['v3_val', 'median_smape']"
   ]
  },
  {
   "cell_type": "code",
   "execution_count": 24,
   "metadata": {
    "collapsed": true
   },
   "outputs": [],
   "source": [
    "df['min_val'] = df.loc[:,test_cols].apply(min,axis=1)\n",
    "df['min_model'] = df.loc[:,test_cols].idxmin(axis=1)"
   ]
  },
  {
   "cell_type": "code",
   "execution_count": 25,
   "metadata": {},
   "outputs": [
    {
     "data": {
      "text/plain": [
       "42.997834345113162"
      ]
     },
     "execution_count": 25,
     "metadata": {},
     "output_type": "execute_result"
    }
   ],
   "source": [
    "df.min_val.mean()"
   ]
  },
  {
   "cell_type": "code",
   "execution_count": 26,
   "metadata": {},
   "outputs": [
    {
     "data": {
      "text/plain": [
       "1195"
      ]
     },
     "execution_count": 26,
     "metadata": {},
     "output_type": "execute_result"
    }
   ],
   "source": [
    "df.min_val.isnull().sum()"
   ]
  },
  {
   "cell_type": "code",
   "execution_count": 27,
   "metadata": {},
   "outputs": [
    {
     "data": {
      "text/plain": [
       "0        84677\n",
       "1        81786\n",
       "2         4294\n",
       "3        79640\n",
       "4        89819\n",
       "5        46368\n",
       "6        32250\n",
       "7        90234\n",
       "8        19647\n",
       "9        27962\n",
       "10       89929\n",
       "11       22411\n",
       "12       77550\n",
       "13      123687\n",
       "14       90240\n",
       "15       90042\n",
       "16       97556\n",
       "17       32268\n",
       "18       20448\n",
       "19       19606\n",
       "20      101294\n",
       "21       44558\n",
       "22       28670\n",
       "23       23544\n",
       "24      112771\n",
       "25      116777\n",
       "26       44064\n",
       "27       74778\n",
       "28      145059\n",
       "29       81718\n",
       "         ...  \n",
       "1165     48637\n",
       "1166    112984\n",
       "1167     39534\n",
       "1168     14128\n",
       "1169     90039\n",
       "1170     67057\n",
       "1171     32270\n",
       "1172     45631\n",
       "1173     89908\n",
       "1174     23752\n",
       "1175     89886\n",
       "1176     83791\n",
       "1177     44452\n",
       "1178     89694\n",
       "1179     90247\n",
       "1180     21313\n",
       "1181     60769\n",
       "1182    139707\n",
       "1183     64833\n",
       "1184     10294\n",
       "1185     90067\n",
       "1186     60562\n",
       "1187     89811\n",
       "1188     89853\n",
       "1189    136935\n",
       "1190    113771\n",
       "1191    123686\n",
       "1192     83021\n",
       "1193    117130\n",
       "1194     45368\n",
       "Name: page_index, Length: 1195, dtype: object"
      ]
     },
     "execution_count": 27,
     "metadata": {},
     "output_type": "execute_result"
    }
   ],
   "source": [
    "df[df.min_val.isnull()].reset_index().page_index"
   ]
  },
  {
   "cell_type": "code",
   "execution_count": 28,
   "metadata": {
    "collapsed": true
   },
   "outputs": [],
   "source": [
    "dft = df[df.min_model.notnull()]"
   ]
  },
  {
   "cell_type": "code",
   "execution_count": 37,
   "metadata": {},
   "outputs": [
    {
     "data": {
      "text/plain": [
       "array(['v3_val', 'median_smape'], dtype=object)"
      ]
     },
     "execution_count": 37,
     "metadata": {},
     "output_type": "execute_result"
    }
   ],
   "source": [
    "dft.min_model.unique()"
   ]
  },
  {
   "cell_type": "code",
   "execution_count": 57,
   "metadata": {
    "collapsed": true
   },
   "outputs": [],
   "source": [
    "def output_pages_for_models(df):\n",
    "    num_pages = 145063\n",
    "    model_pages = {}\n",
    "    model_pages['nan_pages'] = df[df.min_val.isnull()].reset_index().loc[:,['page_index']]\n",
    "    temp_df = df[df.min_model.notnull()]\n",
    "    for model in temp_df.min_model.unique():\n",
    "        model_pages[model] = temp_df[temp_df.min_model == model].reset_index().loc[:,['page_index']]\n",
    "    # checks\n",
    "    len(df) == sum(len(x) for x in model_pages.values()) == num_pages\n",
    "    for x in model_pages.values():\n",
    "        try:\n",
    "            assert len(set(check_df.page_index).intersection(set(x.page_index))) == 0\n",
    "            check_df = check_df.append(x)\n",
    "        except NameError:\n",
    "            check_df = x\n",
    "    assert len(check_df) == num_pages \n",
    "    assert check_df.sort_values(by='page_index').reset_index().loc[:,['page_index']].equals(\n",
    "            df.sort_values(by='page_index').reset_index().loc[:,['page_index']])\n",
    "    print('all checks passed, writing dfs')\n",
    "    for model_name in model_pages:\n",
    "        model_pages[model_name].to_feather(PROPHET_PATH+BLENDS_PATH+BLEND_VERSION+model_name+'df.f')\n",
    "    print('Done feathering pages')\n",
    "        "
   ]
  },
  {
   "cell_type": "code",
   "execution_count": 58,
   "metadata": {},
   "outputs": [
    {
     "name": "stdout",
     "output_type": "stream",
     "text": [
      "all checks passed, writing dfs\n",
      "Done feathering pages\n"
     ]
    }
   ],
   "source": [
    "output_pages_for_models(df)"
   ]
  },
  {
   "cell_type": "code",
   "execution_count": null,
   "metadata": {
    "collapsed": true
   },
   "outputs": [],
   "source": []
  }
 ],
 "metadata": {
  "kernelspec": {
   "display_name": "Python 3",
   "language": "python",
   "name": "python3"
  },
  "language_info": {
   "codemirror_mode": {
    "name": "ipython",
    "version": 3
   },
   "file_extension": ".py",
   "mimetype": "text/x-python",
   "name": "python",
   "nbconvert_exporter": "python",
   "pygments_lexer": "ipython3",
   "version": "3.6.2"
  }
 },
 "nbformat": 4,
 "nbformat_minor": 2
}
