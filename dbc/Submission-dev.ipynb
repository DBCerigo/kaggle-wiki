{
 "cells": [
  {
   "cell_type": "code",
   "execution_count": 1,
   "metadata": {
    "scrolled": true
   },
   "outputs": [
    {
     "name": "stdout",
     "output_type": "stream",
     "text": [
      "The autoreload extension is already loaded. To reload it, use:\n",
      "  %reload_ext autoreload\n"
     ]
    }
   ],
   "source": [
    "%load_ext autoreload\n",
    "%autoreload 2 \n",
    "%matplotlib inline"
   ]
  },
  {
   "cell_type": "code",
   "execution_count": 2,
   "metadata": {
    "collapsed": true
   },
   "outputs": [],
   "source": [
    "import matplotlib.pyplot as plt\n",
    "plt.style.use('ggplot')\n",
    "import os\n",
    "import pandas as pd\n",
    "import numpy as np \n",
    "import pickle as pk\n",
    "import glob\n",
    "from fbprophet import Prophet\n",
    "import sys\n",
    "sys.path.append('../')\n",
    "import wiki\n",
    "from wiki import utils \n",
    "import multiprocessing as mp\n",
    "total_proc = None\n",
    "from tqdm import tqdm\n",
    "from IPython.display import clear_output"
   ]
  },
  {
   "cell_type": "code",
   "execution_count": 3,
   "metadata": {
    "collapsed": true
   },
   "outputs": [],
   "source": [
    "PROPHET_PATH = '../data/prophet/'\n",
    "RESULTS_PATH = 'results/'\n",
    "VERSION = 'v0.3/'"
   ]
  },
  {
   "cell_type": "code",
   "execution_count": 4,
   "metadata": {},
   "outputs": [],
   "source": [
    "page_index = pd.read_feather(PROPHET_PATH+'page_index.f')\n",
    "keydf = pd.read_csv('../data/key_1.csv')"
   ]
  },
  {
   "cell_type": "code",
   "execution_count": 5,
   "metadata": {
    "scrolled": true
   },
   "outputs": [],
   "source": [
    "# January, 1st, 2017 up until March 1st, 2017.\n",
    "ds = pd.DataFrame(pd.date_range('1/1/2017', '3/1/2017'), columns=['ds'])"
   ]
  },
  {
   "cell_type": "code",
   "execution_count": 6,
   "metadata": {
    "collapsed": true
   },
   "outputs": [],
   "source": [
    "# Submission Make"
   ]
  },
  {
   "cell_type": "code",
   "execution_count": 7,
   "metadata": {},
   "outputs": [],
   "source": [
    "page_index = page_index.loc[:10]"
   ]
  },
  {
   "cell_type": "code",
   "execution_count": 12,
   "metadata": {
    "scrolled": true
   },
   "outputs": [
    {
     "name": "stderr",
     "output_type": "stream",
     "text": [
      "\r",
      "0it [00:00, ?it/s]"
     ]
    },
    {
     "name": "stdout",
     "output_type": "stream",
     "text": [
      "0 <class 'int'>\n"
     ]
    },
    {
     "name": "stderr",
     "output_type": "stream",
     "text": [
      "\r",
      "1it [00:05,  5.62s/it]"
     ]
    },
    {
     "name": "stdout",
     "output_type": "stream",
     "text": [
      "             Id       yhat\n",
      "0  ff8c1aade3de  28.166355\n",
      "1  6a4de5b43179  21.471587\n",
      "2  559a1ab24535  30.126437\n",
      "3  8bd4a4dea5a3  27.603581\n",
      "4  fb31ab105824  26.497807\n",
      "1 <class 'int'>\n"
     ]
    },
    {
     "name": "stderr",
     "output_type": "stream",
     "text": [
      "\r",
      "2it [00:09,  5.22s/it]"
     ]
    },
    {
     "name": "stdout",
     "output_type": "stream",
     "text": [
      "             Id       yhat\n",
      "0  3da6fd5b23c1  22.706435\n",
      "1  aee6413e7ca4  19.635986\n",
      "2  97afde66b584  20.740962\n",
      "3  28899068f7f4  21.529706\n",
      "4  22979c293afe  22.221478\n",
      "2 <class 'int'>\n"
     ]
    },
    {
     "name": "stderr",
     "output_type": "stream",
     "text": [
      "\r",
      "3it [00:14,  4.93s/it]"
     ]
    },
    {
     "name": "stdout",
     "output_type": "stream",
     "text": [
      "             Id      yhat\n",
      "0  cd9e83803be4  3.878788\n",
      "1  c12634624b82  3.397805\n",
      "2  d09b7f8d417b  2.783536\n",
      "3  57ff418da247  3.472931\n",
      "4  d58b837b0c96  3.555934\n",
      "3 <class 'int'>\n"
     ]
    },
    {
     "name": "stderr",
     "output_type": "stream",
     "text": [
      "\r",
      "4it [00:19,  4.92s/it]"
     ]
    },
    {
     "name": "stdout",
     "output_type": "stream",
     "text": [
      "             Id       yhat\n",
      "0  65cd4af0968c  12.904174\n",
      "1  1c6ff636fe10  17.241242\n",
      "2  6b8cf13ff910  16.958090\n",
      "3  15df95cf1a39  16.162871\n",
      "4  b12920d1099b  13.208247\n",
      "4 <class 'int'>\n"
     ]
    },
    {
     "name": "stderr",
     "output_type": "stream",
     "text": [
      "\r",
      "5it [00:23,  4.72s/it]"
     ]
    },
    {
     "name": "stdout",
     "output_type": "stream",
     "text": [
      "             Id       yhat\n",
      "0  75bae1fb2637  -7.584653\n",
      "1  7b28e0cecbc4  -5.263853\n",
      "2  7fe5ba30963c -11.199047\n",
      "3  b71cd75a3aa4  -1.527294\n",
      "4  4b70925cd5e8 -10.773457\n",
      "5 <class 'int'>\n"
     ]
    },
    {
     "name": "stderr",
     "output_type": "stream",
     "text": [
      "\r",
      "6it [00:27,  4.50s/it]"
     ]
    },
    {
     "name": "stdout",
     "output_type": "stream",
     "text": [
      "             Id       yhat\n",
      "0  433606efaefc  34.848806\n",
      "1  f0f2423b9b84  31.481328\n",
      "2  293bc0698957  28.171564\n",
      "3  52b258f5a209  29.977920\n",
      "4  b34ed58010a4  30.570096\n",
      "6 <class 'int'>\n"
     ]
    },
    {
     "name": "stderr",
     "output_type": "stream",
     "text": [
      "\r",
      "7it [00:31,  4.44s/it]"
     ]
    },
    {
     "name": "stdout",
     "output_type": "stream",
     "text": [
      "             Id       yhat\n",
      "0  6af27e68fda9 -14.688075\n",
      "1  3a97e97f3017 -21.949023\n",
      "2  0f7d4099cde7 -35.227075\n",
      "3  21a9a1fd485e -28.769153\n",
      "4  614a14bc6bcb -34.810603\n",
      "7 <class 'int'>\n"
     ]
    },
    {
     "name": "stderr",
     "output_type": "stream",
     "text": [
      "\r",
      "8it [00:36,  4.47s/it]"
     ]
    },
    {
     "name": "stdout",
     "output_type": "stream",
     "text": [
      "             Id        yhat\n",
      "0  27f73c0007b1   96.017058\n",
      "1  c100e1c2ad1f  100.189161\n",
      "2  d4ab2ae03448   99.512408\n",
      "3  3a96e372a72a   98.464688\n",
      "4  a3ad9f814376  107.846054\n",
      "8 <class 'int'>\n"
     ]
    },
    {
     "name": "stderr",
     "output_type": "stream",
     "text": [
      "\r",
      "9it [00:40,  4.36s/it]"
     ]
    },
    {
     "name": "stdout",
     "output_type": "stream",
     "text": [
      "             Id       yhat\n",
      "0  6a5c449e172f  38.112184\n",
      "1  063ed5676a95  38.974936\n",
      "2  c7c13c0627db  38.395549\n",
      "3  47855a21fd90  39.271972\n",
      "4  e7e075db26c7  39.006479\n",
      "9 <class 'int'>\n"
     ]
    },
    {
     "name": "stderr",
     "output_type": "stream",
     "text": [
      "\r",
      "10it [00:44,  4.24s/it]"
     ]
    },
    {
     "name": "stdout",
     "output_type": "stream",
     "text": [
      "             Id       yhat\n",
      "0  64f6d0b3ac3d  33.144321\n",
      "1  eb62a2a7447c  36.284368\n",
      "2  5be02129d490  35.899996\n",
      "3  afb022c7fa63  38.164868\n",
      "4  cb2845c9c7e6  37.577186\n",
      "10 <class 'int'>\n"
     ]
    },
    {
     "name": "stderr",
     "output_type": "stream",
     "text": [
      "\r",
      "11it [00:50,  4.76s/it]"
     ]
    },
    {
     "name": "stdout",
     "output_type": "stream",
     "text": [
      "             Id       yhat\n",
      "0  4353ba20ec1f  14.078595\n",
      "1  771e411282da  13.657523\n",
      "2  4a0644dc0f55  15.530862\n",
      "3  c4dfec2e79f6  12.826155\n",
      "4  fec71974900c  19.691935\n"
     ]
    },
    {
     "name": "stderr",
     "output_type": "stream",
     "text": [
      "\n"
     ]
    }
   ],
   "source": [
    "subf = open(PROPHET_PATH+'submissions/'+VERSION[:-1]+'.csv', 'w')\n",
    "subf.write('Id,Visits\\n')\n",
    "for row in tqdm(page_index.iterrows()):\n",
    "    # use row[1][0] to load model\n",
    "    with open(PROPHET_PATH+VERSION+str(row[1][0])+'m.pk', 'rb') as pkf:\n",
    "        m = pk.load(pkf)\n",
    "    # use model + ds to get prediction\n",
    "    df = m.predict(ds).loc[:,['ds','yhat']]\n",
    "    # use row[1][1] and apply to make key col\n",
    "    df['Page'] = df.ds.apply(lambda x: row[1][1]+'_'+str(x.date()))\n",
    "    df = df.merge(keydf, on='Page', how='left').loc[:,['Id','yhat']]\n",
    "    df.to_csv(subf,header=False, index=False)\n",
    "    # write it to csv\n",
    "subf.close()"
   ]
  }
 ],
 "metadata": {
  "kernelspec": {
   "display_name": "Python 3",
   "language": "python",
   "name": "python3"
  },
  "language_info": {
   "codemirror_mode": {
    "name": "ipython",
    "version": 3
   },
   "file_extension": ".py",
   "mimetype": "text/x-python",
   "name": "python",
   "nbconvert_exporter": "python",
   "pygments_lexer": "ipython3",
   "version": "3.6.2"
  }
 },
 "nbformat": 4,
 "nbformat_minor": 2
}
