{
 "cells": [
  {
   "cell_type": "code",
   "execution_count": 28,
   "metadata": {
    "collapsed": true
   },
   "outputs": [],
   "source": [
    "import os\n",
    "import sys\n",
    "module_path = os.path.abspath(os.path.join('..'))\n",
    "if module_path not in sys.path:\n",
    "    sys.path.append(module_path)\n",
    "\n",
    "import pandas as pd\n",
    "import matplotlib.pyplot as plt\n",
    "import numpy as np\n",
    "import csv\n",
    "\n",
    "from collections import defaultdict\n",
    "%matplotlib inline"
   ]
  },
  {
   "cell_type": "code",
   "execution_count": 64,
   "metadata": {
    "collapsed": true
   },
   "outputs": [],
   "source": [
    "df = pd.read_feather('/Users/alexhooker/Downloads/nan_pagesdf.f')\n",
    "full_df = pd.read_csv('/Users/alexhooker/projects/kaggle/wikits/data/train_1.csv')"
   ]
  },
  {
   "cell_type": "code",
   "execution_count": 65,
   "metadata": {},
   "outputs": [
    {
     "data": {
      "text/html": [
       "<div>\n",
       "<style>\n",
       "    .dataframe thead tr:only-child th {\n",
       "        text-align: right;\n",
       "    }\n",
       "\n",
       "    .dataframe thead th {\n",
       "        text-align: left;\n",
       "    }\n",
       "\n",
       "    .dataframe tbody tr th {\n",
       "        vertical-align: top;\n",
       "    }\n",
       "</style>\n",
       "<table border=\"1\" class=\"dataframe\">\n",
       "  <thead>\n",
       "    <tr style=\"text-align: right;\">\n",
       "      <th></th>\n",
       "      <th>Page</th>\n",
       "    </tr>\n",
       "  </thead>\n",
       "  <tbody>\n",
       "    <tr>\n",
       "      <th>84677</th>\n",
       "      <td>User_talk:175.44.5.169_www.mediawiki.org_all-a...</td>\n",
       "    </tr>\n",
       "    <tr>\n",
       "      <th>81786</th>\n",
       "      <td>Category:Deletion_requests_January_2017_common...</td>\n",
       "    </tr>\n",
       "    <tr>\n",
       "      <th>4294</th>\n",
       "      <td>IU_(艺人)_zh.wikipedia.org_all-access_spider</td>\n",
       "    </tr>\n",
       "    <tr>\n",
       "      <th>79640</th>\n",
       "      <td>File:Trump_signing_order_January_27_(square_cr...</td>\n",
       "    </tr>\n",
       "    <tr>\n",
       "      <th>89819</th>\n",
       "      <td>特別:フィード項目/featured/20160328000000/ja_ja.wikipe...</td>\n",
       "    </tr>\n",
       "  </tbody>\n",
       "</table>\n",
       "</div>"
      ],
      "text/plain": [
       "                                                    Page\n",
       "84677  User_talk:175.44.5.169_www.mediawiki.org_all-a...\n",
       "81786  Category:Deletion_requests_January_2017_common...\n",
       "4294          IU_(艺人)_zh.wikipedia.org_all-access_spider\n",
       "79640  File:Trump_signing_order_January_27_(square_cr...\n",
       "89819  特別:フィード項目/featured/20160328000000/ja_ja.wikipe..."
      ]
     },
     "execution_count": 65,
     "metadata": {},
     "output_type": "execute_result"
    }
   ],
   "source": [
    "df['page_index'] = df['page_index'].astype(int)\n",
    "df = full_df.loc[df['page_index'].values]\n",
    "dates = [c for c in df.columns if c != 'Page']\n",
    "df.drop(dates, axis=1, inplace=True)\n",
    "# df['Page'] = full_df.loc[df['page_index'].values, 'Page']\n",
    "df.head(5)"
   ]
  },
  {
   "cell_type": "code",
   "execution_count": 66,
   "metadata": {},
   "outputs": [
    {
     "data": {
      "text/plain": [
       "71700"
      ]
     },
     "execution_count": 66,
     "metadata": {},
     "output_type": "execute_result"
    }
   ],
   "source": [
    "len(df)*60"
   ]
  },
  {
   "cell_type": "code",
   "execution_count": 67,
   "metadata": {
    "collapsed": true
   },
   "outputs": [],
   "source": [
    "key_dict = defaultdict(list)\n",
    "\n",
    "with open('../data/key_1.csv') as csvfile:\n",
    "    reader = csv.DictReader(csvfile)\n",
    "    for i, row in enumerate(reader):\n",
    "        page_name = '_'.join(row['Page'].split('_')[:-1])\n",
    "        key_dict[page_name].append(row['Id'])"
   ]
  },
  {
   "cell_type": "code",
   "execution_count": 56,
   "metadata": {
    "collapsed": true
   },
   "outputs": [],
   "source": [
    "base_dir = '../data/'\n",
    "train = pd.read_csv(base_dir+'train_1.csv')"
   ]
  },
  {
   "cell_type": "code",
   "execution_count": 57,
   "metadata": {},
   "outputs": [
    {
     "name": "stderr",
     "output_type": "stream",
     "text": [
      "/Users/alexhooker/projects/informatics/py3env/lib/python3.4/site-packages/numpy/lib/function_base.py:3858: RuntimeWarning: All-NaN slice encountered\n",
      "  r = func(a, **kwargs)\n"
     ]
    },
    {
     "data": {
      "text/plain": [
       "False"
      ]
     },
     "execution_count": 57,
     "metadata": {},
     "output_type": "execute_result"
    }
   ],
   "source": [
    "train['median_pred'] = np.nan_to_num(np.round(np.nanmedian(train.drop('Page', axis=1).values[:, -49:], axis=1)).reshape(-1,1))\n",
    "train['median_pred'].isnull().any()"
   ]
  },
  {
   "cell_type": "code",
   "execution_count": 58,
   "metadata": {
    "collapsed": true
   },
   "outputs": [],
   "source": [
    "# target_pages = train['Page'].values\n",
    "target_pages = df['Page'].values\n",
    "train = train[train['Page'].isin(target_pages)]"
   ]
  },
  {
   "cell_type": "code",
   "execution_count": 68,
   "metadata": {
    "collapsed": true
   },
   "outputs": [],
   "source": [
    "sub_list = []\n",
    "for page in df['Page']:\n",
    "    sub_list += [{'Id': pred_id, 'Visits': 0} for pred_id in key_dict[page]]"
   ]
  },
  {
   "cell_type": "code",
   "execution_count": 59,
   "metadata": {
    "collapsed": true
   },
   "outputs": [],
   "source": [
    "sub_list = []\n",
    "for index, row in train[['Page', 'median_pred']].iterrows():\n",
    "    sub_list += [{'Id': pred_id, 'Visits': row['median_pred']} for pred_id in key_dict[row['Page']]]"
   ]
  },
  {
   "cell_type": "code",
   "execution_count": 69,
   "metadata": {},
   "outputs": [
    {
     "data": {
      "text/plain": [
       "[{'Id': 'e33b73546b4f', 'Visits': 0},\n",
       " {'Id': 'f344efda51b5', 'Visits': 0},\n",
       " {'Id': 'd712f48b1494', 'Visits': 0},\n",
       " {'Id': 'e1b08563a382', 'Visits': 0},\n",
       " {'Id': 'f041a62ed6c2', 'Visits': 0},\n",
       " {'Id': 'e1d0c5ae1e75', 'Visits': 0},\n",
       " {'Id': '68567533727a', 'Visits': 0},\n",
       " {'Id': 'd9f4208c5dd9', 'Visits': 0},\n",
       " {'Id': '7137e5ab1034', 'Visits': 0},\n",
       " {'Id': 'f25c2c4e2898', 'Visits': 0},\n",
       " {'Id': '7d10d072079f', 'Visits': 0},\n",
       " {'Id': '8bef9d92f1a8', 'Visits': 0},\n",
       " {'Id': '511cdbafaf31', 'Visits': 0},\n",
       " {'Id': '230efcc66537', 'Visits': 0},\n",
       " {'Id': '9307631f61e3', 'Visits': 0},\n",
       " {'Id': 'c14eedd4268c', 'Visits': 0},\n",
       " {'Id': 'f92b448e4829', 'Visits': 0},\n",
       " {'Id': '50ec3099335d', 'Visits': 0},\n",
       " {'Id': 'aa30d70382bf', 'Visits': 0},\n",
       " {'Id': 'e04f7f13c584', 'Visits': 0},\n",
       " {'Id': '1f620e81ec65', 'Visits': 0},\n",
       " {'Id': 'b6a6d7cbbfa7', 'Visits': 0},\n",
       " {'Id': '21340af3ff7b', 'Visits': 0},\n",
       " {'Id': '85f4e305624f', 'Visits': 0},\n",
       " {'Id': '67e9585c6929', 'Visits': 0},\n",
       " {'Id': '3f52912819d1', 'Visits': 0},\n",
       " {'Id': '7886a5d08438', 'Visits': 0},\n",
       " {'Id': '6deaae477a11', 'Visits': 0},\n",
       " {'Id': 'cf65aa17c5d6', 'Visits': 0},\n",
       " {'Id': 'cd099b04f584', 'Visits': 0},\n",
       " {'Id': '13ebf659a18a', 'Visits': 0},\n",
       " {'Id': 'd1105aeaf2dd', 'Visits': 0},\n",
       " {'Id': '9c596a85ad3d', 'Visits': 0},\n",
       " {'Id': '6f7c3d0491eb', 'Visits': 0},\n",
       " {'Id': '67aa411fc258', 'Visits': 0},\n",
       " {'Id': '02912db5c2b0', 'Visits': 0},\n",
       " {'Id': 'ce6c62900c54', 'Visits': 0},\n",
       " {'Id': '0732c85cbfe0', 'Visits': 0},\n",
       " {'Id': 'f46c489a2e7b', 'Visits': 0},\n",
       " {'Id': 'af9af7b6306a', 'Visits': 0},\n",
       " {'Id': '48a52205dc3c', 'Visits': 0},\n",
       " {'Id': '0718969aeba4', 'Visits': 0},\n",
       " {'Id': '9ebd0c97e35c', 'Visits': 0},\n",
       " {'Id': 'f643cc4f4184', 'Visits': 0},\n",
       " {'Id': 'ba37d08f3315', 'Visits': 0},\n",
       " {'Id': 'd1499ebd7195', 'Visits': 0},\n",
       " {'Id': '575bb3ce423a', 'Visits': 0},\n",
       " {'Id': '0e6d909c916e', 'Visits': 0},\n",
       " {'Id': 'da9cde413e43', 'Visits': 0},\n",
       " {'Id': '3e00fb073f12', 'Visits': 0},\n",
       " {'Id': '9c79c337f097', 'Visits': 0},\n",
       " {'Id': 'ff48a2de4335', 'Visits': 0},\n",
       " {'Id': 'e116e0489f92', 'Visits': 0},\n",
       " {'Id': '7c4ffec40f8a', 'Visits': 0},\n",
       " {'Id': 'e83d27cd0b45', 'Visits': 0},\n",
       " {'Id': '32f208e9e5a2', 'Visits': 0},\n",
       " {'Id': 'a9b488fe2e03', 'Visits': 0},\n",
       " {'Id': '2cc044752e84', 'Visits': 0},\n",
       " {'Id': '4ecea8636a2d', 'Visits': 0},\n",
       " {'Id': '373895025712', 'Visits': 0}]"
      ]
     },
     "execution_count": 69,
     "metadata": {},
     "output_type": "execute_result"
    }
   ],
   "source": [
    "sub_list[:60]"
   ]
  },
  {
   "cell_type": "code",
   "execution_count": 61,
   "metadata": {},
   "outputs": [
    {
     "data": {
      "text/plain": [
       "18.0"
      ]
     },
     "execution_count": 61,
     "metadata": {},
     "output_type": "execute_result"
    }
   ],
   "source": [
    "np.nanmedian(train.drop('median_pred', axis=1).head(1).values[0,-49:].astype(np.float))"
   ]
  },
  {
   "cell_type": "code",
   "execution_count": 70,
   "metadata": {},
   "outputs": [
    {
     "name": "stdout",
     "output_type": "stream",
     "text": [
      "saving nan\n"
     ]
    }
   ],
   "source": [
    "sub_df = pd.DataFrame(sub_list)\n",
    "if len(sub_df) == 4988640:\n",
    "    print('saving selected')\n",
    "    sub_df.to_feather('median_selected.f')\n",
    "elif len(sub_df) == 71700:\n",
    "    print('saving nan')\n",
    "    sub_df.to_feather('zero_preds.f')\n",
    "else:\n",
    "    print('saving all')\n",
    "    sub_df.to_feather('median_full.f')"
   ]
  },
  {
   "cell_type": "code",
   "execution_count": 63,
   "metadata": {},
   "outputs": [
    {
     "data": {
      "text/plain": [
       "4988640"
      ]
     },
     "execution_count": 63,
     "metadata": {},
     "output_type": "execute_result"
    }
   ],
   "source": [
    "fd = pd.read_feather('median_selected.f')\n",
    "len(fd)"
   ]
  },
  {
   "cell_type": "code",
   "execution_count": 72,
   "metadata": {},
   "outputs": [],
   "source": [
    "sub_df_full = pd.read_feather('../data/median_full.f')\n",
    "assert len(sub_df_full) == 8703780"
   ]
  },
  {
   "cell_type": "code",
   "execution_count": 75,
   "metadata": {},
   "outputs": [],
   "source": [
    "sub_df_full.to_csv('../data/median_full.csv', index=False)"
   ]
  }
 ],
 "metadata": {
  "kernelspec": {
   "display_name": "Python 3",
   "language": "python",
   "name": "python3"
  },
  "language_info": {
   "codemirror_mode": {
    "name": "ipython",
    "version": 3
   },
   "file_extension": ".py",
   "mimetype": "text/x-python",
   "name": "python",
   "nbconvert_exporter": "python",
   "pygments_lexer": "ipython3",
   "version": "3.4.4"
  }
 },
 "nbformat": 4,
 "nbformat_minor": 2
}
