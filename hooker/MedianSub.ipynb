{
 "cells": [
  {
   "cell_type": "code",
   "execution_count": 88,
   "metadata": {
    "collapsed": true
   },
   "outputs": [],
   "source": [
    "import os\n",
    "import sys\n",
    "module_path = os.path.abspath(os.path.join('..'))\n",
    "if module_path not in sys.path:\n",
    "    sys.path.append(module_path)\n",
    "\n",
    "import pandas as pd\n",
    "import matplotlib.pyplot as plt\n",
    "import numpy as np\n",
    "import csv\n",
    "\n",
    "from collections import defaultdict\n",
    "%matplotlib inline"
   ]
  },
  {
   "cell_type": "code",
   "execution_count": 23,
   "metadata": {},
   "outputs": [],
   "source": [
    "df = pd.read_feather('/Users/alexhooker/Downloads/median-pages-of-v2.6-and-median.f')\n",
    "\n",
    "key_dict = defaultdict(list)\n",
    "\n",
    "with open('../data/key_1.csv') as csvfile:\n",
    "    reader = csv.DictReader(csvfile)\n",
    "    for i, row in enumerate(reader):\n",
    "        page_name = '_'.join(row['Page'].split('_')[:-1])\n",
    "        key_dict[page_name].append(row['Id'])"
   ]
  },
  {
   "cell_type": "code",
   "execution_count": 89,
   "metadata": {},
   "outputs": [],
   "source": [
    "base_dir = '../data/'\n",
    "train = pd.read_csv(base_dir+'train_1.csv')\n",
    "dates = [c for c in train.columns if c !='Page']"
   ]
  },
  {
   "cell_type": "code",
   "execution_count": 26,
   "metadata": {},
   "outputs": [
    {
     "data": {
      "text/plain": [
       "['ff8c1aade3de',\n",
       " '6a4de5b43179',\n",
       " '559a1ab24535',\n",
       " '8bd4a4dea5a3',\n",
       " 'fb31ab105824',\n",
       " 'ea2516fbe7dd',\n",
       " '33e55396b874',\n",
       " 'c88629040f27',\n",
       " '9f5fc3c0ff56',\n",
       " '3296d557daaa',\n",
       " '3b4b37423b5b',\n",
       " 'f53589d0652e',\n",
       " 'b04595c9d119',\n",
       " 'e1fabc9e65b1',\n",
       " '01fb93ff942a',\n",
       " '7514325add95',\n",
       " '5f2b600f06b5',\n",
       " '1f7da4c6075e',\n",
       " '7613e704f8d1',\n",
       " '9063275f9be1',\n",
       " '5ea1490859c6',\n",
       " 'c845a2416d41',\n",
       " '65211c9e0d91',\n",
       " '59ed5f8e75bc',\n",
       " '3758548c7e95',\n",
       " 'ae2b72a5ba6a',\n",
       " 'e478abddbd37',\n",
       " 'a6dd5e38e68d',\n",
       " '8e4a33e42146',\n",
       " '4c89bcd932b9',\n",
       " '782214ed8366',\n",
       " 'eeea102999b1',\n",
       " '741e77bfdc08',\n",
       " '07aa3628f09c',\n",
       " '56a5bc6a88f6',\n",
       " '3865fe85114a',\n",
       " '0c2cae820797',\n",
       " '32e404068136',\n",
       " 'bfdacc896549',\n",
       " '86b94fbef4cf',\n",
       " 'ed9ae5ab0590',\n",
       " '90539e1f19fd',\n",
       " '4adef3b3308d',\n",
       " '6aa60ca9a97f',\n",
       " 'fab9ba4bcd2c',\n",
       " '05a7c95aa18b',\n",
       " '2fcf46e479e4',\n",
       " 'f02ebed4463a',\n",
       " 'af5f4495c89e',\n",
       " 'f5b0c0b938f9',\n",
       " '75509e808a00',\n",
       " '52c0fa00e14f',\n",
       " '8ee2213cbe75',\n",
       " 'fb422f1edaee',\n",
       " '0d7a0337af35',\n",
       " '567d18b36d6f',\n",
       " '159931d8ebe3',\n",
       " '9dd37394d132',\n",
       " 'e47fbf61e297',\n",
       " '97cf6e2d834c']"
      ]
     },
     "execution_count": 26,
     "metadata": {},
     "output_type": "execute_result"
    }
   ],
   "source": [
    "key_dict['2NE1_zh.wikipedia.org_all-access_spider']"
   ]
  },
  {
   "cell_type": "code",
   "execution_count": 18,
   "metadata": {},
   "outputs": [
    {
     "data": {
      "text/plain": [
       "['白雅燦zh.wikipedia.orgmobile-weball-agents',\n",
       " 'Category:DeletionrequestsMay2016commons.wikimedia.orgall-accessall-agents',\n",
       " 'FranklinD.Rooseveltde.wikipedia.orgmobile-weball-agents',\n",
       " 'LeonoreBartschde.wikipedia.orgall-accessall-agents',\n",
       " 'Кармен,РоманЛазаревичru.wikipedia.orgall-accessspider']"
      ]
     },
     "execution_count": 18,
     "metadata": {},
     "output_type": "execute_result"
    }
   ],
   "source": [
    "import itertools\n",
    "vs = list(itertools.islice(key_dict.keys(),5))\n",
    "vs"
   ]
  },
  {
   "cell_type": "code",
   "execution_count": 90,
   "metadata": {},
   "outputs": [
    {
     "name": "stderr",
     "output_type": "stream",
     "text": [
      "/Users/alexhooker/projects/informatics/py3env/lib/python3.4/site-packages/numpy/lib/function_base.py:3858: RuntimeWarning: All-NaN slice encountered\n",
      "  r = func(a, **kwargs)\n"
     ]
    },
    {
     "data": {
      "text/plain": [
       "False"
      ]
     },
     "execution_count": 90,
     "metadata": {},
     "output_type": "execute_result"
    }
   ],
   "source": [
    "train['median_pred'] = np.nan_to_num(np.round(np.nanmedian(train.drop('Page', axis=1).values[:, -49:], axis=1)).reshape(-1,1))\n",
    "train['median_pred'].isnull().any()"
   ]
  },
  {
   "cell_type": "code",
   "execution_count": 91,
   "metadata": {},
   "outputs": [],
   "source": [
    "# target_pages = train['Page'].values\n",
    "target_pages = train['Page'].values\n",
    "train = train[train['Page'].isin(target_pages)]"
   ]
  },
  {
   "cell_type": "code",
   "execution_count": 92,
   "metadata": {},
   "outputs": [],
   "source": [
    "sub_list = []\n",
    "for index, row in train[['Page', 'median_pred']].iterrows():\n",
    "    sub_list += [{'Id': pred_id, 'Visits': row['median_pred']} for pred_id in key_dict[row['Page']]]"
   ]
  },
  {
   "cell_type": "code",
   "execution_count": 93,
   "metadata": {},
   "outputs": [
    {
     "data": {
      "text/plain": [
       "[{'Id': 'ff8c1aade3de', 'Visits': 18.0},\n",
       " {'Id': '6a4de5b43179', 'Visits': 18.0},\n",
       " {'Id': '559a1ab24535', 'Visits': 18.0},\n",
       " {'Id': '8bd4a4dea5a3', 'Visits': 18.0},\n",
       " {'Id': 'fb31ab105824', 'Visits': 18.0},\n",
       " {'Id': 'ea2516fbe7dd', 'Visits': 18.0},\n",
       " {'Id': '33e55396b874', 'Visits': 18.0},\n",
       " {'Id': 'c88629040f27', 'Visits': 18.0},\n",
       " {'Id': '9f5fc3c0ff56', 'Visits': 18.0},\n",
       " {'Id': '3296d557daaa', 'Visits': 18.0},\n",
       " {'Id': '3b4b37423b5b', 'Visits': 18.0},\n",
       " {'Id': 'f53589d0652e', 'Visits': 18.0},\n",
       " {'Id': 'b04595c9d119', 'Visits': 18.0},\n",
       " {'Id': 'e1fabc9e65b1', 'Visits': 18.0},\n",
       " {'Id': '01fb93ff942a', 'Visits': 18.0},\n",
       " {'Id': '7514325add95', 'Visits': 18.0},\n",
       " {'Id': '5f2b600f06b5', 'Visits': 18.0},\n",
       " {'Id': '1f7da4c6075e', 'Visits': 18.0},\n",
       " {'Id': '7613e704f8d1', 'Visits': 18.0},\n",
       " {'Id': '9063275f9be1', 'Visits': 18.0},\n",
       " {'Id': '5ea1490859c6', 'Visits': 18.0},\n",
       " {'Id': 'c845a2416d41', 'Visits': 18.0},\n",
       " {'Id': '65211c9e0d91', 'Visits': 18.0},\n",
       " {'Id': '59ed5f8e75bc', 'Visits': 18.0},\n",
       " {'Id': '3758548c7e95', 'Visits': 18.0},\n",
       " {'Id': 'ae2b72a5ba6a', 'Visits': 18.0},\n",
       " {'Id': 'e478abddbd37', 'Visits': 18.0},\n",
       " {'Id': 'a6dd5e38e68d', 'Visits': 18.0},\n",
       " {'Id': '8e4a33e42146', 'Visits': 18.0},\n",
       " {'Id': '4c89bcd932b9', 'Visits': 18.0},\n",
       " {'Id': '782214ed8366', 'Visits': 18.0},\n",
       " {'Id': 'eeea102999b1', 'Visits': 18.0},\n",
       " {'Id': '741e77bfdc08', 'Visits': 18.0},\n",
       " {'Id': '07aa3628f09c', 'Visits': 18.0},\n",
       " {'Id': '56a5bc6a88f6', 'Visits': 18.0},\n",
       " {'Id': '3865fe85114a', 'Visits': 18.0},\n",
       " {'Id': '0c2cae820797', 'Visits': 18.0},\n",
       " {'Id': '32e404068136', 'Visits': 18.0},\n",
       " {'Id': 'bfdacc896549', 'Visits': 18.0},\n",
       " {'Id': '86b94fbef4cf', 'Visits': 18.0},\n",
       " {'Id': 'ed9ae5ab0590', 'Visits': 18.0},\n",
       " {'Id': '90539e1f19fd', 'Visits': 18.0},\n",
       " {'Id': '4adef3b3308d', 'Visits': 18.0},\n",
       " {'Id': '6aa60ca9a97f', 'Visits': 18.0},\n",
       " {'Id': 'fab9ba4bcd2c', 'Visits': 18.0},\n",
       " {'Id': '05a7c95aa18b', 'Visits': 18.0},\n",
       " {'Id': '2fcf46e479e4', 'Visits': 18.0},\n",
       " {'Id': 'f02ebed4463a', 'Visits': 18.0},\n",
       " {'Id': 'af5f4495c89e', 'Visits': 18.0},\n",
       " {'Id': 'f5b0c0b938f9', 'Visits': 18.0},\n",
       " {'Id': '75509e808a00', 'Visits': 18.0},\n",
       " {'Id': '52c0fa00e14f', 'Visits': 18.0},\n",
       " {'Id': '8ee2213cbe75', 'Visits': 18.0},\n",
       " {'Id': 'fb422f1edaee', 'Visits': 18.0},\n",
       " {'Id': '0d7a0337af35', 'Visits': 18.0},\n",
       " {'Id': '567d18b36d6f', 'Visits': 18.0},\n",
       " {'Id': '159931d8ebe3', 'Visits': 18.0},\n",
       " {'Id': '9dd37394d132', 'Visits': 18.0},\n",
       " {'Id': 'e47fbf61e297', 'Visits': 18.0},\n",
       " {'Id': '97cf6e2d834c', 'Visits': 18.0}]"
      ]
     },
     "execution_count": 93,
     "metadata": {},
     "output_type": "execute_result"
    }
   ],
   "source": [
    "sub_list[:60]"
   ]
  },
  {
   "cell_type": "code",
   "execution_count": 84,
   "metadata": {},
   "outputs": [
    {
     "data": {
      "text/plain": [
       "18.0"
      ]
     },
     "execution_count": 84,
     "metadata": {},
     "output_type": "execute_result"
    }
   ],
   "source": [
    "np.nanmedian(train.drop('median_pred', axis=1).head(1).values[0,-49:].astype(np.float))"
   ]
  },
  {
   "cell_type": "code",
   "execution_count": 95,
   "metadata": {},
   "outputs": [],
   "source": [
    "sub_df = pd.DataFrame(sub_list)\n",
    "if len(sub_df) == 5037300:\n",
    "    sub_df.to_feather('median_selected.f')\n",
    "else:\n",
    "    sub_df.to_feather('median_full.f')"
   ]
  },
  {
   "cell_type": "code",
   "execution_count": 94,
   "metadata": {},
   "outputs": [
    {
     "data": {
      "text/plain": [
       "8703780"
      ]
     },
     "execution_count": 94,
     "metadata": {},
     "output_type": "execute_result"
    }
   ],
   "source": [
    "len(sub_list)"
   ]
  },
  {
   "cell_type": "code",
   "execution_count": 86,
   "metadata": {},
   "outputs": [
    {
     "ename": "FeatherError",
     "evalue": "IO error: Failed to open file: median_full.f",
     "output_type": "error",
     "traceback": [
      "\u001b[0;31m---------------------------------------------------------------------------\u001b[0m",
      "\u001b[0;31mFeatherError\u001b[0m                              Traceback (most recent call last)",
      "\u001b[0;32m<ipython-input-86-fdfe6d6a8857>\u001b[0m in \u001b[0;36m<module>\u001b[0;34m()\u001b[0m\n\u001b[0;32m----> 1\u001b[0;31m \u001b[0msub_df_full\u001b[0m \u001b[0;34m=\u001b[0m \u001b[0mpd\u001b[0m\u001b[0;34m.\u001b[0m\u001b[0mread_feather\u001b[0m\u001b[0;34m(\u001b[0m\u001b[0;34m'median_full.f'\u001b[0m\u001b[0;34m)\u001b[0m\u001b[0;34m\u001b[0m\u001b[0m\n\u001b[0m",
      "\u001b[0;32m/Users/alexhooker/projects/informatics/py3env/lib/python3.4/site-packages/pandas/io/feather_format.py\u001b[0m in \u001b[0;36mread_feather\u001b[0;34m(path)\u001b[0m\n\u001b[1;32m    100\u001b[0m \u001b[0;34m\u001b[0m\u001b[0m\n\u001b[1;32m    101\u001b[0m     \u001b[0mfeather\u001b[0m \u001b[0;34m=\u001b[0m \u001b[0m_try_import\u001b[0m\u001b[0;34m(\u001b[0m\u001b[0;34m)\u001b[0m\u001b[0;34m\u001b[0m\u001b[0m\n\u001b[0;32m--> 102\u001b[0;31m     \u001b[0;32mreturn\u001b[0m \u001b[0mfeather\u001b[0m\u001b[0;34m.\u001b[0m\u001b[0mread_dataframe\u001b[0m\u001b[0;34m(\u001b[0m\u001b[0mpath\u001b[0m\u001b[0;34m)\u001b[0m\u001b[0;34m\u001b[0m\u001b[0m\n\u001b[0m",
      "\u001b[0;32m/Users/alexhooker/projects/informatics/py3env/lib/python3.4/site-packages/feather/api.py\u001b[0m in \u001b[0;36mread_dataframe\u001b[0;34m(path, columns)\u001b[0m\n\u001b[1;32m     79\u001b[0m     \u001b[0mdf\u001b[0m \u001b[0;34m:\u001b[0m \u001b[0mpandas\u001b[0m\u001b[0;34m.\u001b[0m\u001b[0mDataFrame\u001b[0m\u001b[0;34m\u001b[0m\u001b[0m\n\u001b[1;32m     80\u001b[0m     \"\"\"\n\u001b[0;32m---> 81\u001b[0;31m     \u001b[0mreader\u001b[0m \u001b[0;34m=\u001b[0m \u001b[0mext\u001b[0m\u001b[0;34m.\u001b[0m\u001b[0mFeatherReader\u001b[0m\u001b[0;34m(\u001b[0m\u001b[0mpath\u001b[0m\u001b[0;34m)\u001b[0m\u001b[0;34m\u001b[0m\u001b[0m\n\u001b[0m\u001b[1;32m     82\u001b[0m \u001b[0;34m\u001b[0m\u001b[0m\n\u001b[1;32m     83\u001b[0m     \u001b[0;32mif\u001b[0m \u001b[0mcolumns\u001b[0m \u001b[0;32mis\u001b[0m \u001b[0;32mnot\u001b[0m \u001b[0;32mNone\u001b[0m\u001b[0;34m:\u001b[0m\u001b[0;34m\u001b[0m\u001b[0m\n",
      "\u001b[0;32m/Users/alexhooker/projects/informatics/py3env/lib/python3.4/site-packages/feather/ext.pyx\u001b[0m in \u001b[0;36mfeather.ext.FeatherReader.__cinit__\u001b[0;34m()\u001b[0m\n\u001b[1;32m    236\u001b[0m             \u001b[0mstring\u001b[0m \u001b[0mc_name\u001b[0m \u001b[0;34m=\u001b[0m \u001b[0mencode_file_path\u001b[0m\u001b[0;34m(\u001b[0m\u001b[0mname\u001b[0m\u001b[0;34m)\u001b[0m\u001b[0;34m\u001b[0m\u001b[0m\n\u001b[1;32m    237\u001b[0m \u001b[0;34m\u001b[0m\u001b[0m\n\u001b[0;32m--> 238\u001b[0;31m         \u001b[0mcheck_status\u001b[0m\u001b[0;34m(\u001b[0m\u001b[0mTableReader\u001b[0m\u001b[0;34m.\u001b[0m\u001b[0mOpenFile\u001b[0m\u001b[0;34m(\u001b[0m\u001b[0mc_name\u001b[0m\u001b[0;34m,\u001b[0m \u001b[0;34m&\u001b[0m\u001b[0mself\u001b[0m\u001b[0;34m.\u001b[0m\u001b[0mreader\u001b[0m\u001b[0;34m)\u001b[0m\u001b[0;34m)\u001b[0m\u001b[0;34m\u001b[0m\u001b[0m\n\u001b[0m\u001b[1;32m    239\u001b[0m \u001b[0;34m\u001b[0m\u001b[0m\n\u001b[1;32m    240\u001b[0m     \u001b[0mproperty\u001b[0m \u001b[0mnum_rows\u001b[0m\u001b[0;34m:\u001b[0m\u001b[0;34m\u001b[0m\u001b[0m\n",
      "\u001b[0;32m/Users/alexhooker/projects/informatics/py3env/lib/python3.4/site-packages/feather/ext.pyx\u001b[0m in \u001b[0;36mfeather.ext.check_status\u001b[0;34m()\u001b[0m\n\u001b[1;32m     55\u001b[0m \u001b[0;34m\u001b[0m\u001b[0m\n\u001b[1;32m     56\u001b[0m     \u001b[0mcdef\u001b[0m \u001b[0mstring\u001b[0m \u001b[0mc_message\u001b[0m \u001b[0;34m=\u001b[0m \u001b[0mstatus\u001b[0m\u001b[0;34m.\u001b[0m\u001b[0mToString\u001b[0m\u001b[0;34m(\u001b[0m\u001b[0;34m)\u001b[0m\u001b[0;34m\u001b[0m\u001b[0m\n\u001b[0;32m---> 57\u001b[0;31m     \u001b[0;32mraise\u001b[0m \u001b[0mFeatherError\u001b[0m\u001b[0;34m(\u001b[0m\u001b[0mfrombytes\u001b[0m\u001b[0;34m(\u001b[0m\u001b[0mc_message\u001b[0m\u001b[0;34m)\u001b[0m\u001b[0;34m)\u001b[0m\u001b[0;34m\u001b[0m\u001b[0m\n\u001b[0m\u001b[1;32m     58\u001b[0m \u001b[0;34m\u001b[0m\u001b[0m\n\u001b[1;32m     59\u001b[0m \u001b[0mcdef\u001b[0m \u001b[0mupdate_mask_with_datatype_nulls\u001b[0m\u001b[0;34m(\u001b[0m\u001b[0mmask\u001b[0m\u001b[0;34m,\u001b[0m \u001b[0mvalues\u001b[0m\u001b[0;34m)\u001b[0m\u001b[0;34m:\u001b[0m\u001b[0;34m\u001b[0m\u001b[0m\n",
      "\u001b[0;31mFeatherError\u001b[0m: IO error: Failed to open file: median_full.f"
     ]
    }
   ],
   "source": [
    "sub_df_full = pd.read_feather('median_full.f')"
   ]
  },
  {
   "cell_type": "code",
   "execution_count": 76,
   "metadata": {},
   "outputs": [
    {
     "data": {
      "text/plain": [
       "5037300"
      ]
     },
     "execution_count": 76,
     "metadata": {},
     "output_type": "execute_result"
    }
   ],
   "source": [
    "len(sub_DF)"
   ]
  },
  {
   "cell_type": "code",
   "execution_count": 71,
   "metadata": {},
   "outputs": [
    {
     "data": {
      "text/plain": [
       "nan"
      ]
     },
     "execution_count": 71,
     "metadata": {},
     "output_type": "execute_result"
    }
   ],
   "source": [
    "np.mean([np.nan,2])"
   ]
  },
  {
   "cell_type": "code",
   "execution_count": null,
   "metadata": {
    "collapsed": true
   },
   "outputs": [],
   "source": []
  }
 ],
 "metadata": {
  "kernelspec": {
   "display_name": "Python 3",
   "language": "python",
   "name": "python3"
  },
  "language_info": {
   "codemirror_mode": {
    "name": "ipython",
    "version": 3
   },
   "file_extension": ".py",
   "mimetype": "text/x-python",
   "name": "python",
   "nbconvert_exporter": "python",
   "pygments_lexer": "ipython3",
   "version": "3.4.4"
  }
 },
 "nbformat": 4,
 "nbformat_minor": 2
}
