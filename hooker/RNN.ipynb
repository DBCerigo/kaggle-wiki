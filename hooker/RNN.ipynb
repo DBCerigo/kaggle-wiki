{
 "cells": [
  {
   "cell_type": "code",
   "execution_count": 1,
   "metadata": {
    "collapsed": true
   },
   "outputs": [],
   "source": [
    "import numpy as np\n",
    "import numpy\n",
    "import pandas as pd\n",
    "from sklearn.preprocessing import MinMaxScaler, StandardScaler\n",
    "from sklearn.metrics import mean_squared_error"
   ]
  },
  {
   "cell_type": "code",
   "execution_count": 2,
   "metadata": {
    "collapsed": true
   },
   "outputs": [],
   "source": [
    "import matplotlib.pyplot as plt\n",
    "%matplotlib inline"
   ]
  },
  {
   "cell_type": "code",
   "execution_count": 3,
   "metadata": {
    "collapsed": true
   },
   "outputs": [],
   "source": [
    "base_dir = '../data/'"
   ]
  },
  {
   "cell_type": "code",
   "execution_count": 4,
   "metadata": {
    "collapsed": true
   },
   "outputs": [],
   "source": [
    "full_df = pd.read_csv(base_dir+'train_1.csv', nrows=100)\n",
    "dates = [c for c in full_df.columns if c !='Page']\n",
    "val_dates = dates[-61:]\n",
    "val = full_df[['Page']+val_dates]\n",
    "train = full_df.drop(val_dates, axis=1)\n",
    "filled_train = train.fillna(0)"
   ]
  },
  {
   "cell_type": "code",
   "execution_count": 5,
   "metadata": {
    "collapsed": true
   },
   "outputs": [],
   "source": [
    "X = filled_train.drop('Page', axis=1).values\n",
    "y = val.fillna(0).drop('Page', axis=1).values"
   ]
  },
  {
   "cell_type": "code",
   "execution_count": 6,
   "metadata": {},
   "outputs": [
    {
     "name": "stdout",
     "output_type": "stream",
     "text": [
      "(100, 489) (100, 61)\n"
     ]
    }
   ],
   "source": [
    "print(X.shape, y.shape)"
   ]
  },
  {
   "cell_type": "markdown",
   "metadata": {
    "collapsed": true
   },
   "source": [
    "## Preprocessing\n",
    " * scale each time series to have 0 mean and unit variance"
   ]
  },
  {
   "cell_type": "code",
   "execution_count": 7,
   "metadata": {},
   "outputs": [
    {
     "name": "stdout",
     "output_type": "stream",
     "text": [
      "(100, 489)\n",
      "(100, 489, 1)\n"
     ]
    },
    {
     "data": {
      "text/plain": [
       "22.010761664611856"
      ]
     },
     "execution_count": 7,
     "metadata": {},
     "output_type": "execute_result"
    }
   ],
   "source": [
    "# scaler = MinMaxScaler(feature_range=(0, 1))\n",
    "scaler = StandardScaler()\n",
    "# discussion on which scaler to use here: https://www.kaggle.com/c/web-traffic-time-series-forecasting/discussion/38274\n",
    "# each ts should have 0 mean and unit variance\n",
    "# since the time series are the 'features' being scaled, transpose first\n",
    "X = scaler.fit_transform(X.T).T\n",
    "print(X.shape)\n",
    "assert(np.isclose(np.mean(X[0]),0))\n",
    "# input shape: samples, timesteps, features\n",
    "X = X.reshape(X.shape[0], X.shape[1], 1)\n",
    "print(X.shape)\n",
    "np.max(X)"
   ]
  },
  {
   "cell_type": "code",
   "execution_count": 3,
   "metadata": {
    "collapsed": true
   },
   "outputs": [],
   "source": [
    "DEFAULT_SEED = 123456\n",
    "n_pred = 60 # number of values to predict\n",
    "n_cond = 60 # number of values to condition on\n",
    "\n",
    "class DataProvider(object):\n",
    "    \"\"\"Generic data provider.\"\"\"\n",
    "\n",
    "    def __init__(self, inputs, targets, batch_size, max_num_batches=-1,\n",
    "                 shuffle_order=True, rng=None):\n",
    "        \"\"\"Create a new data provider object.\n",
    "\n",
    "        Args:\n",
    "            inputs (ndarray): Array of data input features of shape\n",
    "                (num_data, input_dim).\n",
    "            targets (ndarray): Array of data output targets of shape\n",
    "                (num_data, output_dim) or (num_data,) if output_dim == 1.\n",
    "            batch_size (int): Number of data points to include in each batch.\n",
    "            max_num_batches (int): Maximum number of batches to iterate over\n",
    "                in an epoch. If `max_num_batches * batch_size > num_data` then\n",
    "                only as many batches as the data can be split into will be\n",
    "                used. If set to -1 all of the data will be used.\n",
    "            shuffle_order (bool): Whether to randomly permute the order of\n",
    "                the data before each epoch.\n",
    "            rng (RandomState): A seeded random number generator.\n",
    "        \"\"\"\n",
    "        self.inputs = inputs\n",
    "        self.targets = targets\n",
    "        if batch_size < 1:\n",
    "            raise ValueError('batch_size must be >= 1')\n",
    "        self._batch_size = batch_size\n",
    "        if max_num_batches == 0 or max_num_batches < -1:\n",
    "            raise ValueError('max_num_batches must be -1 or > 0')\n",
    "        self._max_num_batches = max_num_batches\n",
    "        self._update_num_batches()\n",
    "        self.shuffle_order = shuffle_order\n",
    "        self._current_order = np.arange(inputs.shape[0])\n",
    "        if rng is None:\n",
    "            rng = np.random.RandomState(DEFAULT_SEED)\n",
    "        self.rng = rng\n",
    "        self.new_epoch()\n",
    "\n",
    "    @property\n",
    "    def batch_size(self):\n",
    "        \"\"\"Number of data points to include in each batch.\"\"\"\n",
    "        return self._batch_size\n",
    "\n",
    "    @batch_size.setter\n",
    "    def batch_size(self, value):\n",
    "        if value < 1:\n",
    "            raise ValueError('batch_size must be >= 1')\n",
    "        self._batch_size = value\n",
    "        self._update_num_batches()\n",
    "\n",
    "    @property\n",
    "    def max_num_batches(self):\n",
    "        \"\"\"Maximum number of batches to iterate over in an epoch.\"\"\"\n",
    "        return self._max_num_batches\n",
    "\n",
    "    @max_num_batches.setter\n",
    "    def max_num_batches(self, value):\n",
    "        if value == 0 or value < -1:\n",
    "            raise ValueError('max_num_batches must be -1 or > 0')\n",
    "        self._max_num_batches = value\n",
    "        self._update_num_batches()\n",
    "\n",
    "    def _update_num_batches(self):\n",
    "        \"\"\"Updates number of batches to iterate over.\"\"\"\n",
    "        # maximum possible number of batches is equal to number of whole times\n",
    "        # batch_size divides in to the number of data points which can be\n",
    "        # found using integer division\n",
    "        possible_num_batches = self.inputs.shape[0] // self.batch_size\n",
    "        if self.max_num_batches == -1:\n",
    "            self.num_batches = possible_num_batches\n",
    "        else:\n",
    "            self.num_batches = min(self.max_num_batches, possible_num_batches)\n",
    "\n",
    "    def __iter__(self):\n",
    "        \"\"\"Implements Python iterator interface.\n",
    "\n",
    "        This should return an object implementing a `next` method which steps\n",
    "        through a sequence returning one element at a time and raising\n",
    "        `StopIteration` when at the end of the sequence. Here the object\n",
    "        returned is the DataProvider itself.\n",
    "        \"\"\"\n",
    "        return self\n",
    "\n",
    "    def new_epoch(self):\n",
    "        \"\"\"Starts a new epoch (pass through data), possibly shuffling first.\"\"\"\n",
    "        self._curr_batch = 0\n",
    "        if self.shuffle_order:\n",
    "            self.shuffle()\n",
    "\n",
    "    def reset(self):\n",
    "        \"\"\"Resets the provider to the initial state.\"\"\"\n",
    "        inv_perm = np.argsort(self._current_order)\n",
    "        self._current_order = self._current_order[inv_perm]\n",
    "        self.inputs = self.inputs[inv_perm]\n",
    "        self.targets = self.targets[inv_perm]\n",
    "        self.new_epoch()\n",
    "\n",
    "    def shuffle(self):\n",
    "        \"\"\"Randomly shuffles order of data.\"\"\"\n",
    "        perm = self.rng.permutation(self.inputs.shape[0])\n",
    "        self._current_order = self._current_order[perm]\n",
    "        self.inputs = self.inputs[perm]\n",
    "        self.targets = self.targets[perm]\n",
    "        if hasattr(self, 'track_ids'):\n",
    "            self.track_ids = self.track_ids[perm]\n",
    "\n",
    "    def next(self):\n",
    "        \"\"\"Returns next data batch or raises `StopIteration` if at end.\"\"\"\n",
    "        if self._curr_batch + 1 > self.num_batches:\n",
    "            # no more batches in current iteration through data set so start\n",
    "            # new epoch ready for another pass and indicate iteration is at end\n",
    "            self.new_epoch()\n",
    "            raise StopIteration()\n",
    "        # create an index slice corresponding to current batch number\n",
    "        batch_slice = slice(self._curr_batch * self.batch_size,\n",
    "                            (self._curr_batch + 1) * self.batch_size)\n",
    "        inputs_batch = self.inputs[batch_slice]\n",
    "        targets_batch = self.targets[batch_slice]\n",
    "        self._curr_batch += 1\n",
    "        return inputs_batch, targets_batch\n",
    "\n",
    "    # Python 3.x compatibility\n",
    "    def __next__(self):\n",
    "        return self.next()\n",
    "    \n",
    "class MultiTSDataProvider(DataProvider):\n",
    "    \n",
    "    def __init__(self, which_set='train', batch_size=100, max_num_batches=-1,\n",
    "                 shuffle_order=True, rng=None, n_pred=60, n_cond=60, stride_length=10,\n",
    "                 scaler=StandardScaler(), base_dir = '../data/', n_ts=100):\n",
    "        self.n_pred = n_pred # number of values to predict\n",
    "        self.n_cond = n_cond # number of values on which to condition predictions\n",
    "        full_df = pd.read_csv(base_dir+'train_1.csv', nrows=n_ts)\n",
    "        dates = [c for c in full_df.columns if c !='Page']\n",
    "        val_dates = dates[-(n_pred+n_cond):]\n",
    "        self.val_dates = val_dates\n",
    "        if which_set == 'train':\n",
    "            inputs = full_df.drop(['Page'] + val_dates, axis=1).fillna(0).values\n",
    "        elif which_set == 'val':\n",
    "            inputs = full_df[val_dates].fillna(0).values\n",
    "          # each ts should have 0 mean and unit variance\n",
    "        if scaler:\n",
    "            # need to change the way this behaves\n",
    "            inputs = scaler.fit_transform(inputs)\n",
    "            print(np.max(inputs))\n",
    "        print(inputs.shape)\n",
    "        \n",
    "        if which_set == 'train':\n",
    "            \n",
    "            window_length = n_cond + n_pred\n",
    "            if stride_length > 0:\n",
    "                n_windows = int(np.floor(np.divide(inputs.shape[1] - window_length,\n",
    "                                                   stride_length) + 1))\n",
    "                start_index = 0\n",
    "                window_array = np.ndarray((inputs.shape[0], n_windows, window_length))\n",
    "                for i in range(n_windows):\n",
    "                    window_array[:,i,:] = inputs[:, start_index:start_index+window_length]\n",
    "                    start_index += stride_length\n",
    "                print(window_array.shape)\n",
    "                window_array = window_array.reshape((-1,window_length,1))\n",
    "                print(window_array.shape)\n",
    "                print('{} overlapping windows of length {} in training date range'.format(n_windows, window_length))\n",
    "            #         inputs = w.reshape((-1, window_length, inputs.shape[-1])) # reshape inputs to (n_sample, length, n_features)\n",
    "                targets = window_array[:,self.n_cond:,:] # shifted one along from inputs - so there is one target val which is never input, into either decoder or encoder\n",
    "                inputs = np.pad(window_array[:,:-1,:],((0,0), (1,0), (0,0)),mode='constant')\n",
    "            \n",
    "            elif stride_length == -1:\n",
    "                inputs = inputs[:,-window_length:]\n",
    "                targets = inputs[:, self.n_cond:]\n",
    "                inputs = np.pad(inputs[:,:self.n_cond], ((0,0),(1,n_pred-1)), mode='constant')\n",
    "\n",
    "        #         inputs, targets = inputs[:,:self.n_cond,:], inputs[:,self.n_cond:,:]\n",
    "            inputs = inputs.reshape((inputs.shape[0], -1))\n",
    "            targets = targets.reshape((targets.shape[0], -1))\n",
    "        \n",
    "        elif which_set == 'val':\n",
    "            targets = inputs[:, self.n_cond:]\n",
    "            inputs = np.pad(inputs[:,:self.n_cond], ((0,0), (1,n_pred-1)), mode='constant') # decoder inputs is now 1 useful num followed by a bunch of zeros, in principle\n",
    "        \n",
    "        print(inputs.shape, targets.shape)\n",
    "        super(MultiTSDataProvider, self).__init__(\n",
    "            inputs, targets, batch_size, max_num_batches, shuffle_order, rng)"
   ]
  },
  {
   "cell_type": "code",
   "execution_count": 9,
   "metadata": {},
   "outputs": [
    {
     "name": "stdout",
     "output_type": "stream",
     "text": [
      "9.86570145996\n",
      "(100, 430)\n",
      "(100, 32, 120)\n",
      "(3200, 120, 1)\n",
      "32 overlapping windows of length 120 in training date range\n",
      "(3200, 120) (3200, 60)\n",
      "9.62122286284\n",
      "(100, 120)\n",
      "(100, 120) (100, 60)\n",
      "example validation decoder input: \n",
      " [-0.33158052  0.          0.          0.          0.          0.          0.\n",
      "  0.          0.          0.          0.          0.          0.          0.\n",
      "  0.          0.          0.          0.          0.          0.          0.\n",
      "  0.          0.          0.          0.          0.          0.          0.\n",
      "  0.          0.          0.          0.          0.          0.          0.\n",
      "  0.          0.          0.          0.          0.          0.          0.\n",
      "  0.          0.          0.          0.          0.          0.          0.\n",
      "  0.          0.          0.          0.          0.          0.          0.\n",
      "  0.          0.          0.          0.        ] example targets: \n",
      " [-0.3553055  -0.27947026 -0.31877014 -0.43816989 -0.42333603 -0.5669012\n",
      "  0.31659855 -0.32265966 -0.15909011 -0.24014955 -0.3393971  -0.47004148\n",
      " -0.33085582 -0.06996927 -0.41012705 -0.26484717 -0.17938759 -0.5097515\n",
      " -0.51362105 -0.18910207 -0.32819227 -0.41757335  0.78273372 -0.49678511\n",
      " -0.44061377 -0.37982779 -0.23275741 -0.17345243 -0.28053388 -0.28363826\n",
      " -0.20579917 -0.46789421 -0.22058082 -0.12804302  0.15186823 -0.26225733\n",
      " -0.12785377 -0.28021776 -0.30720629 -0.31169985 -0.31079292 -0.42547127\n",
      " -0.20906644 -0.33502424  3.0846121  -0.28965812 -0.25076344  0.6329489\n",
      "  0.35031622  6.08307119 -0.47738382 -0.46901344 -0.18069436  0.38620477\n",
      " -0.1575384   0.1450194   1.05137933 -0.06231434 -0.39480872 -0.33889362] example inputs: \n",
      " [  0.00000000e+00  -4.95692415e-01  -2.34635744e-01  -1.89031164e-01\n",
      "   7.76597224e-01   7.55807109e+00   3.02724451e-01  -3.29340430e-01\n",
      "  -4.90387770e-01  -4.19287869e-01  -1.35904032e-01  -3.97493088e-03\n",
      "  -1.52603662e-01  -2.00461114e-01  -2.43524948e-01  -1.88324748e-01\n",
      "  -3.34188994e-01  -7.78243531e-01   9.61545877e-01  -3.40969793e-01\n",
      "   1.24757043e-02  -1.73593751e-01  -2.64120261e-02  -3.32504581e-01\n",
      "   4.44377448e-02  -2.62954327e-01   2.20325929e-01  -3.86876615e-01\n",
      "  -1.37156087e-01  -1.94499783e-01  -1.48629586e-01  -3.01399214e-01\n",
      "   2.51499892e-02  -2.52588624e-01  -4.42497123e-01  -2.07514852e-01\n",
      "  -4.88068634e-01  -1.50918643e-01  -3.38958208e-01  -2.02178016e-01\n",
      "   1.02654074e+00  -4.56550726e-01   5.01248473e-04  -3.98316727e-01\n",
      "  -3.76914350e-01  -3.37991574e-01  -2.99607841e-01   4.97481734e-01\n",
      "  -1.96820539e-01  -2.48104028e-01  -2.55309318e-01  -1.66524814e-01\n",
      "  -3.92712460e-01  -8.14623425e-02  -2.53167059e-01  -3.35214716e-01\n",
      "  -2.58417156e-01  -2.16887843e-01  -3.82770283e-01  -3.72362919e-01]\n"
     ]
    }
   ],
   "source": [
    "train_data = MultiTSDataProvider(scaler=StandardScaler())\n",
    "val_data = MultiTSDataProvider(scaler=StandardScaler(), which_set='val')\n",
    "a = train_data.next()[0]\n",
    "np.max(a)\n",
    "inps, targs = val_data.next()\n",
    "\n",
    "print('example validation decoder input: \\n', inps[0][n_cond:],\n",
    "      'example targets: \\n', targs[0][:],\n",
    "      'example inputs: \\n', inps[0][:n_cond])"
   ]
  },
  {
   "cell_type": "markdown",
   "metadata": {},
   "source": [
    "### Loss Function:\n",
    "\n",
    "Modified SMAPE. Note that using MAE gives not much different results, but easier and faster to train, so I recommend MAE for starters. (https://www.kaggle.com/c/web-traffic-time-series-forecasting/discussion/38337)\n",
    "\n",
    "### Output:\n",
    "\n",
    "You can predict one day, refit the model with previous days + predicted day, predict next day, etc, but it would be too slow and inefficient. The real power of RNN's is that you can build generative model, and predict all 60 days at once. (https://www.kaggle.com/c/web-traffic-time-series-forecasting/discussion/38337)\n",
    "\n",
    "ONLY PREDICT VALUES FOR A SINGLE TIME SERIES AT ONCE (c.f. the neural network eqn. 1 which outputs hidden rnn states for a single time series at a time, which are then combined to form the joint likelihood above) - DIFFERENT TIME SERIES ARE USED TO GENERATE DIFFERENT TRAINING EXAMPLES; SINGLE MODEL IS TRAINED ON ALL OF THEM.\n",
    "\n",
    "a substantial amount\n",
    "of data on past behavior of similar, related time series can be leveraged for making a forecast for an\n",
    "individual time series. Using data from related time series not only allows fitting more complex (and\n",
    "hence potentially more accurate) models without overfitting\n",
    "\n",
    "https://machinelearningmastery.com/time-series-forecasting-long-short-term-memory-network-python/\n",
    "\n",
    "Simplest model is probably some kind of ar\n",
    "\n",
    "running predictions forward with keras: http://www.jakob-aungiers.com/articles/a/LSTM-Neural-Network-for-Time-Series-Prediction, https://machinelearningmastery.com/how-to-use-an-encoder-decoder-lstm-to-echo-sequences-of-random-integers/. the crucial thing that makes sequence to sequence appropriate is: Information about the observations in the conditioning range zi,1:t0−1 is transferred to the prediction\n",
    "range through the initial state hi,t0−1. In the sequence-to-sequence setup, this initial state is the output\n",
    "of an encoder network. Also the two sequences may be of different lengths.\n",
    "\n",
    "### Training examples\n",
    " \n",
    "Secondly, due to the imbalance in the data, a stochastic optimization procedure that picks training\n",
    "instances uniformly at random will visit the small number time series with a large scale very infrequently,\n",
    "which result in underfitting those time series. This could be especially problematic in the\n",
    "demand forecasting setting, where high-velocity items can exhibit qualitatively different behavior\n",
    "than low-velocity items, and having an accurate forecast for high-velocity items might be more important\n",
    "for meeting certain business objectives. To counteract this effect, we sample the examples\n",
    "non-uniformly during training. In particular, in our weighted sampling scheme, the probability of\n",
    "selecting a window from an example with scale νi is proportional to νi.\n",
    "\n",
    "### Tensorflow seq2seq\n",
    "[github seq2seq helpers](https://github.com/tensorflow/tensorflow/blob/master/tensorflow/contrib/legacy_seq2seq/python/ops/seq2seq.py)\n",
    "[ex. model built using above](https://github.com/tensorflow/models/blob/master/tutorials/rnn/translate/seq2seq_model.py)\n",
    "[keras lib](https://github.com/farizrahman4u/seq2seq)\n",
    "[new api (1.3) seq2seq](https://medium.com/@ilblackdragon/tensorflow-sequence-to-sequence-3d9d2e238084)\n",
    "[seq2seq expts](https://github.com/raindeer/seq2seq_experiments/blob/master/model.py#L81)\n",
    "* use tied_rnn_seq2seq if using tf\n",
    "* will need to write custom loss func\n",
    "* not sure the keras library will work because although we are sort of using encoder-decoder, we're not really outputting a 'context vector', just transferring the hidden state\n",
    "* to pass predicted values in as inputs when decoding: https://stackoverflow.com/questions/38050333/how-to-predict-a-simple-sequence-using-seq2seq-from-tensorflow (although there is an option just to use the true values during training, which is what the amazon paper does).\n",
    "\n",
    "The initial state\n",
    "of the encoder hi,0 as well as zi,0 are initialized to zero\n",
    "\n",
    "The basic rnn seq2seq works by making a copy of the cell (set of lstm units), and using two separate copies, one for encoder and one for decoder, with different weights. Tied rnn seq2seq  uses a single copy, ensuring weights are shared.\n",
    "\n",
    "### Validation Data\n",
    "\n",
    "Should be normalized in the same way as training data (i.e. using statistics from the training data). But this doesn't really make sense - there's no shared features. So phaps just normalize validation inputs (not targets) in the same way that training inputs are normalized.\n",
    "\n",
    "The Amazon paper suggests scaling by the average value\n",
    "\n",
    "$v_i = 1  + \\sum_{t=0}^{t_0} z_{i,t}$\n",
    "\n",
    "where $t_0$ is the last conditioning timestep: i.e. we normalize on the conditioning period"
   ]
  },
  {
   "cell_type": "code",
   "execution_count": 7,
   "metadata": {},
   "outputs": [
    {
     "name": "stdout",
     "output_type": "stream",
     "text": [
      "here\n"
     ]
    }
   ],
   "source": [
    "print('here')"
   ]
  },
  {
   "cell_type": "code",
   "execution_count": 8,
   "metadata": {
    "collapsed": true
   },
   "outputs": [],
   "source": [
    "import tensorflow as tf\n",
    "from tensorflow.contrib.legacy_seq2seq import tied_rnn_seq2seq\n",
    "hidden_dim = 100\n",
    "output_dim = 1\n",
    "input_dim = 1\n",
    "layers_stacked_count = 2\n",
    "n_cond = 60\n",
    "n_pred = 60\n",
    "learning_rate = 0.007\n",
    "lr_decay = 0.92 \n",
    "momentum = 0.5\n",
    "\n",
    "tf.reset_default_graph()\n",
    "# sess.close()\n",
    "sess = tf.InteractiveSession()\n",
    "\n",
    "with tf.variable_scope('Seq2seq'):\n",
    "\n",
    "    train = tf.placeholder(tf.bool)\n",
    "    # Encoder: inputs\n",
    "    enc_inp = [\n",
    "        tf.placeholder(tf.float32, shape=(None, input_dim), name=\"inp_{}\".format(t))\n",
    "           for t in range(n_cond)\n",
    "    ]\n",
    "\n",
    "    # Decoder: expected outputs\n",
    "    expected_sparse_output = [\n",
    "        tf.placeholder(tf.float32, shape=(None, output_dim), name=\"expected_sparse_output_\".format(t))\n",
    "          for t in range(n_pred)\n",
    "    ]\n",
    "\n",
    "    go_sym = tf.placeholder(tf.float32, shape=(None, output_dim), name=\"GO\")\n",
    "\n",
    "    # Give a \"GO\" token to the decoder. \n",
    "    # You might want to revise what is the appended value \"+ enc_inp[:-1]\". \n",
    "#     dec_inp = [ tf.zeros_like(enc_inp[0], dtype=np.float32, name=\"GO\") ] + [tf.zeros_like(v) for v in enc_inp[:-1]]\n",
    "#     dec_inp = [ tf.zeros_like(enc_inp[0], dtype=np.float32, name=\"GO\")] + enc_inp[1:]\n",
    "    dec_inp = [go_sym] + expected_sparse_output[:-1] # feed previous target as next input\n",
    "\n",
    "    # Create a `layers_stacked_count` of stacked RNNs (GRU cells here). \n",
    "    cells = []\n",
    "    for i in range(layers_stacked_count):\n",
    "        with tf.variable_scope('RNN_{}'.format(i)):\n",
    "            cells.append(tf.nn.rnn_cell.GRUCell(hidden_dim))\n",
    "            # cells.append(tf.nn.rnn_cell.BasicLSTMCell(...))\n",
    "    cell = tf.nn.rnn_cell.MultiRNNCell(cells)\n",
    "\n",
    "    # For reshaping the input and output dimensions of the seq2seq RNN: \n",
    "    w_out = tf.Variable(tf.random_normal([hidden_dim, output_dim]))\n",
    "    b_out = tf.Variable(tf.random_normal([output_dim]))\n",
    "\n",
    "    output_scale_factor = tf.Variable(1.0, name=\"Output_ScaleFactor\")\n",
    "    def looper(output, i):\n",
    "        return output_scale_factor * (tf.matmul(output, w_out) + b_out)\n",
    "\n",
    "    dec_outputs, dec_memory = tf.cond(train, lambda: tied_rnn_seq2seq(enc_inp, dec_inp, cell),\n",
    "                                      lambda: tied_rnn_seq2seq(enc_inp, dec_inp, cell, loop_function=looper))\n",
    "    # but without the \"norm\" part of batch normalization hehe. \n",
    "    reshaped_outputs = [output_scale_factor*(tf.matmul(i, w_out) + b_out) for i in dec_outputs]"
   ]
  },
  {
   "cell_type": "code",
   "execution_count": null,
   "metadata": {
    "collapsed": true
   },
   "outputs": [],
   "source": [
    "with tf.variable_scope('Loss'):\n",
    "    output_loss = 0\n",
    "    for _y, _Y in zip(reshaped_outputs, expected_sparse_output):\n",
    "#         output_loss += tf.reduce_mean(tf.nn.l2_loss(_y - _Y))\n",
    "        output_loss += tf.reduce_mean(tf.abs(_y - _Y)) # average loss across batch for single timestep\n",
    "    loss = output_loss\n",
    "with tf.variable_scope('Optimizer'):\n",
    "    optimizer = tf.train.RMSPropOptimizer(learning_rate, decay=lr_decay, momentum=momentum)\n",
    "    train_op = optimizer.minimize(loss)\n",
    "\n",
    "saver = tf.train.Saver()"
   ]
  },
  {
   "cell_type": "code",
   "execution_count": 10,
   "metadata": {
    "collapsed": true
   },
   "outputs": [],
   "source": [
    "class clock(object):\n",
    "    def __enter__(self):\n",
    "        self.start = time.time()\n",
    "        \n",
    "    def __exit__(self, x,y,z):\n",
    "        end = time.time()\n",
    "        print('Elapsed time {} seconds'.format(end-self.start))"
   ]
  },
  {
   "cell_type": "code",
   "execution_count": 11,
   "metadata": {},
   "outputs": [
    {
     "name": "stdout",
     "output_type": "stream",
     "text": [
      "173.041590529\n",
      "(30000, 430)\n",
      "(30000, 6, 120)\n",
      "(180000, 120, 1)\n",
      "6 overlapping windows of length 120 in training date range\n",
      "(180000, 120) (180000, 60)\n",
      "172.417782586\n",
      "(30000, 120)\n",
      "(30000, 120) (30000, 60)\n",
      "None\n",
      "Elapsed time 0.006696224212646484 seconds\n"
     ]
    },
    {
     "ename": "ValueError",
     "evalue": "Fetch argument <tf.Operation 'Optimizer/RMSProp' type=NoOp> cannot be interpreted as a Tensor. (Operation name: \"Optimizer/RMSProp\"\nop: \"NoOp\"\ninput: \"^Optimizer/RMSProp/update_Seq2seq/Variable/ApplyRMSProp\"\ninput: \"^Optimizer/RMSProp/update_Seq2seq/Variable_1/ApplyRMSProp\"\ninput: \"^Optimizer/RMSProp/update_Seq2seq/Output_ScaleFactor/ApplyRMSProp\"\ninput: \"^Optimizer/RMSProp/update_Seq2seq/combined_tied_rnn_seq2seq/tied_rnn_seq2seq/multi_rnn_cell/cell_0/gru_cell/gates/kernel/ApplyRMSProp\"\ninput: \"^Optimizer/RMSProp/update_Seq2seq/combined_tied_rnn_seq2seq/tied_rnn_seq2seq/multi_rnn_cell/cell_0/gru_cell/gates/bias/ApplyRMSProp\"\ninput: \"^Optimizer/RMSProp/update_Seq2seq/combined_tied_rnn_seq2seq/tied_rnn_seq2seq/multi_rnn_cell/cell_0/gru_cell/candidate/kernel/ApplyRMSProp\"\ninput: \"^Optimizer/RMSProp/update_Seq2seq/combined_tied_rnn_seq2seq/tied_rnn_seq2seq/multi_rnn_cell/cell_0/gru_cell/candidate/bias/ApplyRMSProp\"\ninput: \"^Optimizer/RMSProp/update_Seq2seq/combined_tied_rnn_seq2seq/tied_rnn_seq2seq/multi_rnn_cell/cell_1/gru_cell/gates/kernel/ApplyRMSProp\"\ninput: \"^Optimizer/RMSProp/update_Seq2seq/combined_tied_rnn_seq2seq/tied_rnn_seq2seq/multi_rnn_cell/cell_1/gru_cell/gates/bias/ApplyRMSProp\"\ninput: \"^Optimizer/RMSProp/update_Seq2seq/combined_tied_rnn_seq2seq/tied_rnn_seq2seq/multi_rnn_cell/cell_1/gru_cell/candidate/kernel/ApplyRMSProp\"\ninput: \"^Optimizer/RMSProp/update_Seq2seq/combined_tied_rnn_seq2seq/tied_rnn_seq2seq/multi_rnn_cell/cell_1/gru_cell/candidate/bias/ApplyRMSProp\"\n is not an element of this graph.)",
     "output_type": "error",
     "traceback": [
      "\u001b[0;31m-----------------------------------------------------------\u001b[0m",
      "\u001b[0;31mValueError\u001b[0m                Traceback (most recent call last)",
      "\u001b[0;32m~/miniconda3/envs/basev1/lib/python3.6/site-packages/tensorflow/python/client/session.py\u001b[0m in \u001b[0;36m__init__\u001b[0;34m(self, fetches, contraction_fn)\u001b[0m\n\u001b[1;32m    266\u001b[0m         self._unique_fetches.append(ops.get_default_graph().as_graph_element(\n\u001b[0;32m--> 267\u001b[0;31m             fetch, allow_tensor=True, allow_operation=True))\n\u001b[0m\u001b[1;32m    268\u001b[0m       \u001b[0;32mexcept\u001b[0m \u001b[0mTypeError\u001b[0m \u001b[0;32mas\u001b[0m \u001b[0me\u001b[0m\u001b[0;34m:\u001b[0m\u001b[0;34m\u001b[0m\u001b[0m\n",
      "\u001b[0;32m~/miniconda3/envs/basev1/lib/python3.6/site-packages/tensorflow/python/framework/ops.py\u001b[0m in \u001b[0;36mas_graph_element\u001b[0;34m(self, obj, allow_tensor, allow_operation)\u001b[0m\n\u001b[1;32m   2583\u001b[0m     \u001b[0;32mwith\u001b[0m \u001b[0mself\u001b[0m\u001b[0;34m.\u001b[0m\u001b[0m_lock\u001b[0m\u001b[0;34m:\u001b[0m\u001b[0;34m\u001b[0m\u001b[0m\n\u001b[0;32m-> 2584\u001b[0;31m       \u001b[0;32mreturn\u001b[0m \u001b[0mself\u001b[0m\u001b[0;34m.\u001b[0m\u001b[0m_as_graph_element_locked\u001b[0m\u001b[0;34m(\u001b[0m\u001b[0mobj\u001b[0m\u001b[0;34m,\u001b[0m \u001b[0mallow_tensor\u001b[0m\u001b[0;34m,\u001b[0m \u001b[0mallow_operation\u001b[0m\u001b[0;34m)\u001b[0m\u001b[0;34m\u001b[0m\u001b[0m\n\u001b[0m\u001b[1;32m   2585\u001b[0m \u001b[0;34m\u001b[0m\u001b[0m\n",
      "\u001b[0;32m~/miniconda3/envs/basev1/lib/python3.6/site-packages/tensorflow/python/framework/ops.py\u001b[0m in \u001b[0;36m_as_graph_element_locked\u001b[0;34m(self, obj, allow_tensor, allow_operation)\u001b[0m\n\u001b[1;32m   2667\u001b[0m       \u001b[0;32mif\u001b[0m \u001b[0mobj\u001b[0m\u001b[0;34m.\u001b[0m\u001b[0mgraph\u001b[0m \u001b[0;32mis\u001b[0m \u001b[0;32mnot\u001b[0m \u001b[0mself\u001b[0m\u001b[0;34m:\u001b[0m\u001b[0;34m\u001b[0m\u001b[0m\n\u001b[0;32m-> 2668\u001b[0;31m         \u001b[0;32mraise\u001b[0m \u001b[0mValueError\u001b[0m\u001b[0;34m(\u001b[0m\u001b[0;34m\"Operation %s is not an element of this graph.\"\u001b[0m \u001b[0;34m%\u001b[0m \u001b[0mobj\u001b[0m\u001b[0;34m)\u001b[0m\u001b[0;34m\u001b[0m\u001b[0m\n\u001b[0m\u001b[1;32m   2669\u001b[0m       \u001b[0;32mreturn\u001b[0m \u001b[0mobj\u001b[0m\u001b[0;34m\u001b[0m\u001b[0m\n",
      "\u001b[0;31mValueError\u001b[0m: Operation name: \"Optimizer/RMSProp\"\nop: \"NoOp\"\ninput: \"^Optimizer/RMSProp/update_Seq2seq/Variable/ApplyRMSProp\"\ninput: \"^Optimizer/RMSProp/update_Seq2seq/Variable_1/ApplyRMSProp\"\ninput: \"^Optimizer/RMSProp/update_Seq2seq/Output_ScaleFactor/ApplyRMSProp\"\ninput: \"^Optimizer/RMSProp/update_Seq2seq/combined_tied_rnn_seq2seq/tied_rnn_seq2seq/multi_rnn_cell/cell_0/gru_cell/gates/kernel/ApplyRMSProp\"\ninput: \"^Optimizer/RMSProp/update_Seq2seq/combined_tied_rnn_seq2seq/tied_rnn_seq2seq/multi_rnn_cell/cell_0/gru_cell/gates/bias/ApplyRMSProp\"\ninput: \"^Optimizer/RMSProp/update_Seq2seq/combined_tied_rnn_seq2seq/tied_rnn_seq2seq/multi_rnn_cell/cell_0/gru_cell/candidate/kernel/ApplyRMSProp\"\ninput: \"^Optimizer/RMSProp/update_Seq2seq/combined_tied_rnn_seq2seq/tied_rnn_seq2seq/multi_rnn_cell/cell_0/gru_cell/candidate/bias/ApplyRMSProp\"\ninput: \"^Optimizer/RMSProp/update_Seq2seq/combined_tied_rnn_seq2seq/tied_rnn_seq2seq/multi_rnn_cell/cell_1/gru_cell/gates/kernel/ApplyRMSProp\"\ninput: \"^Optimizer/RMSProp/update_Seq2seq/combined_tied_rnn_seq2seq/tied_rnn_seq2seq/multi_rnn_cell/cell_1/gru_cell/gates/bias/ApplyRMSProp\"\ninput: \"^Optimizer/RMSProp/update_Seq2seq/combined_tied_rnn_seq2seq/tied_rnn_seq2seq/multi_rnn_cell/cell_1/gru_cell/candidate/kernel/ApplyRMSProp\"\ninput: \"^Optimizer/RMSProp/update_Seq2seq/combined_tied_rnn_seq2seq/tied_rnn_seq2seq/multi_rnn_cell/cell_1/gru_cell/candidate/bias/ApplyRMSProp\"\n is not an element of this graph.",
      "\nDuring handling of the above exception, another exception occurred:\n",
      "\u001b[0;31mValueError\u001b[0m                Traceback (most recent call last)",
      "\u001b[0;32m<ipython-input-11-7cea83a5ef8a>\u001b[0m in \u001b[0;36m<module>\u001b[0;34m()\u001b[0m\n\u001b[1;32m     32\u001b[0m             \u001b[0;32mfor\u001b[0m \u001b[0mi\u001b[0m \u001b[0;32min\u001b[0m \u001b[0mrange\u001b[0m\u001b[0;34m(\u001b[0m\u001b[0mn_pred\u001b[0m\u001b[0;34m)\u001b[0m\u001b[0;34m:\u001b[0m\u001b[0;34m\u001b[0m\u001b[0m\n\u001b[1;32m     33\u001b[0m                 \u001b[0mfeed_dict\u001b[0m\u001b[0;34m[\u001b[0m\u001b[0mexpected_sparse_output\u001b[0m\u001b[0;34m[\u001b[0m\u001b[0mi\u001b[0m\u001b[0;34m]\u001b[0m\u001b[0;34m.\u001b[0m\u001b[0mname\u001b[0m\u001b[0;34m]\u001b[0m \u001b[0;34m=\u001b[0m \u001b[0mtarget_batch\u001b[0m\u001b[0;34m[\u001b[0m\u001b[0;34m:\u001b[0m\u001b[0;34m,\u001b[0m\u001b[0mi\u001b[0m\u001b[0;34m]\u001b[0m\u001b[0;34m.\u001b[0m\u001b[0mreshape\u001b[0m\u001b[0;34m(\u001b[0m\u001b[0;34m-\u001b[0m\u001b[0;36m1\u001b[0m\u001b[0;34m,\u001b[0m\u001b[0;36m1\u001b[0m\u001b[0;34m)\u001b[0m\u001b[0;34m\u001b[0m\u001b[0m\n\u001b[0;32m---> 34\u001b[0;31m             \u001b[0m_\u001b[0m\u001b[0;34m,\u001b[0m \u001b[0merr\u001b[0m \u001b[0;34m=\u001b[0m \u001b[0msess\u001b[0m\u001b[0;34m.\u001b[0m\u001b[0mrun\u001b[0m\u001b[0;34m(\u001b[0m\u001b[0;34m[\u001b[0m\u001b[0mtrain_op\u001b[0m\u001b[0;34m,\u001b[0m \u001b[0mloss\u001b[0m\u001b[0;34m]\u001b[0m\u001b[0;34m,\u001b[0m \u001b[0mfeed_dict\u001b[0m\u001b[0;34m=\u001b[0m\u001b[0mfeed_dict\u001b[0m\u001b[0;34m)\u001b[0m\u001b[0;34m\u001b[0m\u001b[0m\n\u001b[0m\u001b[1;32m     35\u001b[0m             \u001b[0merrs\u001b[0m\u001b[0;34m.\u001b[0m\u001b[0mappend\u001b[0m\u001b[0;34m(\u001b[0m\u001b[0merr\u001b[0m\u001b[0;34m)\u001b[0m\u001b[0;34m\u001b[0m\u001b[0m\n\u001b[1;32m     36\u001b[0m             \u001b[0mmean_preds\u001b[0m \u001b[0;34m=\u001b[0m \u001b[0mnp\u001b[0m\u001b[0;34m.\u001b[0m\u001b[0mmean\u001b[0m\u001b[0;34m(\u001b[0m\u001b[0minput_batch\u001b[0m\u001b[0;34m[\u001b[0m\u001b[0;34m:\u001b[0m\u001b[0;34m,\u001b[0m\u001b[0;34m:\u001b[0m\u001b[0mn_cond\u001b[0m\u001b[0;34m]\u001b[0m\u001b[0;34m,\u001b[0m \u001b[0maxis\u001b[0m\u001b[0;34m=\u001b[0m\u001b[0;36m1\u001b[0m\u001b[0;34m)\u001b[0m\u001b[0;34m.\u001b[0m\u001b[0mreshape\u001b[0m\u001b[0;34m(\u001b[0m\u001b[0;34m-\u001b[0m\u001b[0;36m1\u001b[0m\u001b[0;34m,\u001b[0m\u001b[0;36m1\u001b[0m\u001b[0;34m)\u001b[0m\u001b[0;34m\u001b[0m\u001b[0m\n",
      "\u001b[0;32m~/miniconda3/envs/basev1/lib/python3.6/site-packages/tensorflow/python/client/session.py\u001b[0m in \u001b[0;36mrun\u001b[0;34m(self, fetches, feed_dict, options, run_metadata)\u001b[0m\n\u001b[1;32m    787\u001b[0m     \u001b[0;32mtry\u001b[0m\u001b[0;34m:\u001b[0m\u001b[0;34m\u001b[0m\u001b[0m\n\u001b[1;32m    788\u001b[0m       result = self._run(None, fetches, feed_dict, options_ptr,\n\u001b[0;32m--> 789\u001b[0;31m                          run_metadata_ptr)\n\u001b[0m\u001b[1;32m    790\u001b[0m       \u001b[0;32mif\u001b[0m \u001b[0mrun_metadata\u001b[0m\u001b[0;34m:\u001b[0m\u001b[0;34m\u001b[0m\u001b[0m\n\u001b[1;32m    791\u001b[0m         \u001b[0mproto_data\u001b[0m \u001b[0;34m=\u001b[0m \u001b[0mtf_session\u001b[0m\u001b[0;34m.\u001b[0m\u001b[0mTF_GetBuffer\u001b[0m\u001b[0;34m(\u001b[0m\u001b[0mrun_metadata_ptr\u001b[0m\u001b[0;34m)\u001b[0m\u001b[0;34m\u001b[0m\u001b[0m\n",
      "\u001b[0;32m~/miniconda3/envs/basev1/lib/python3.6/site-packages/tensorflow/python/client/session.py\u001b[0m in \u001b[0;36m_run\u001b[0;34m(self, handle, fetches, feed_dict, options, run_metadata)\u001b[0m\n\u001b[1;32m    982\u001b[0m     \u001b[0;31m# Create a fetch handler to take care of the structure of fetches.\u001b[0m\u001b[0;34m\u001b[0m\u001b[0;34m\u001b[0m\u001b[0m\n\u001b[1;32m    983\u001b[0m     fetch_handler = _FetchHandler(\n\u001b[0;32m--> 984\u001b[0;31m         self._graph, fetches, feed_dict_string, feed_handles=feed_handles)\n\u001b[0m\u001b[1;32m    985\u001b[0m \u001b[0;34m\u001b[0m\u001b[0m\n\u001b[1;32m    986\u001b[0m     \u001b[0;31m# Run request and get response.\u001b[0m\u001b[0;34m\u001b[0m\u001b[0;34m\u001b[0m\u001b[0m\n",
      "\u001b[0;32m~/miniconda3/envs/basev1/lib/python3.6/site-packages/tensorflow/python/client/session.py\u001b[0m in \u001b[0;36m__init__\u001b[0;34m(self, graph, fetches, feeds, feed_handles)\u001b[0m\n\u001b[1;32m    408\u001b[0m     \"\"\"\n\u001b[1;32m    409\u001b[0m     \u001b[0;32mwith\u001b[0m \u001b[0mgraph\u001b[0m\u001b[0;34m.\u001b[0m\u001b[0mas_default\u001b[0m\u001b[0;34m(\u001b[0m\u001b[0;34m)\u001b[0m\u001b[0;34m:\u001b[0m\u001b[0;34m\u001b[0m\u001b[0m\n\u001b[0;32m--> 410\u001b[0;31m       \u001b[0mself\u001b[0m\u001b[0;34m.\u001b[0m\u001b[0m_fetch_mapper\u001b[0m \u001b[0;34m=\u001b[0m \u001b[0m_FetchMapper\u001b[0m\u001b[0;34m.\u001b[0m\u001b[0mfor_fetch\u001b[0m\u001b[0;34m(\u001b[0m\u001b[0mfetches\u001b[0m\u001b[0;34m)\u001b[0m\u001b[0;34m\u001b[0m\u001b[0m\n\u001b[0m\u001b[1;32m    411\u001b[0m     \u001b[0mself\u001b[0m\u001b[0;34m.\u001b[0m\u001b[0m_fetches\u001b[0m \u001b[0;34m=\u001b[0m \u001b[0;34m[\u001b[0m\u001b[0;34m]\u001b[0m\u001b[0;34m\u001b[0m\u001b[0m\n\u001b[1;32m    412\u001b[0m     \u001b[0mself\u001b[0m\u001b[0;34m.\u001b[0m\u001b[0m_targets\u001b[0m \u001b[0;34m=\u001b[0m \u001b[0;34m[\u001b[0m\u001b[0;34m]\u001b[0m\u001b[0;34m\u001b[0m\u001b[0m\n",
      "\u001b[0;32m~/miniconda3/envs/basev1/lib/python3.6/site-packages/tensorflow/python/client/session.py\u001b[0m in \u001b[0;36mfor_fetch\u001b[0;34m(fetch)\u001b[0m\n\u001b[1;32m    228\u001b[0m     \u001b[0;32melif\u001b[0m \u001b[0misinstance\u001b[0m\u001b[0;34m(\u001b[0m\u001b[0mfetch\u001b[0m\u001b[0;34m,\u001b[0m \u001b[0;34m(\u001b[0m\u001b[0mlist\u001b[0m\u001b[0;34m,\u001b[0m \u001b[0mtuple\u001b[0m\u001b[0;34m)\u001b[0m\u001b[0;34m)\u001b[0m\u001b[0;34m:\u001b[0m\u001b[0;34m\u001b[0m\u001b[0m\n\u001b[1;32m    229\u001b[0m       \u001b[0;31m# NOTE(touts): This is also the code path for namedtuples.\u001b[0m\u001b[0;34m\u001b[0m\u001b[0;34m\u001b[0m\u001b[0m\n\u001b[0;32m--> 230\u001b[0;31m       \u001b[0;32mreturn\u001b[0m \u001b[0m_ListFetchMapper\u001b[0m\u001b[0;34m(\u001b[0m\u001b[0mfetch\u001b[0m\u001b[0;34m)\u001b[0m\u001b[0;34m\u001b[0m\u001b[0m\n\u001b[0m\u001b[1;32m    231\u001b[0m     \u001b[0;32melif\u001b[0m \u001b[0misinstance\u001b[0m\u001b[0;34m(\u001b[0m\u001b[0mfetch\u001b[0m\u001b[0;34m,\u001b[0m \u001b[0mdict\u001b[0m\u001b[0;34m)\u001b[0m\u001b[0;34m:\u001b[0m\u001b[0;34m\u001b[0m\u001b[0m\n\u001b[1;32m    232\u001b[0m       \u001b[0;32mreturn\u001b[0m \u001b[0m_DictFetchMapper\u001b[0m\u001b[0;34m(\u001b[0m\u001b[0mfetch\u001b[0m\u001b[0;34m)\u001b[0m\u001b[0;34m\u001b[0m\u001b[0m\n",
      "\u001b[0;32m~/miniconda3/envs/basev1/lib/python3.6/site-packages/tensorflow/python/client/session.py\u001b[0m in \u001b[0;36m__init__\u001b[0;34m(self, fetches)\u001b[0m\n\u001b[1;32m    335\u001b[0m     \"\"\"\n\u001b[1;32m    336\u001b[0m     \u001b[0mself\u001b[0m\u001b[0;34m.\u001b[0m\u001b[0m_fetch_type\u001b[0m \u001b[0;34m=\u001b[0m \u001b[0mtype\u001b[0m\u001b[0;34m(\u001b[0m\u001b[0mfetches\u001b[0m\u001b[0;34m)\u001b[0m\u001b[0;34m\u001b[0m\u001b[0m\n\u001b[0;32m--> 337\u001b[0;31m     \u001b[0mself\u001b[0m\u001b[0;34m.\u001b[0m\u001b[0m_mappers\u001b[0m \u001b[0;34m=\u001b[0m \u001b[0;34m[\u001b[0m\u001b[0m_FetchMapper\u001b[0m\u001b[0;34m.\u001b[0m\u001b[0mfor_fetch\u001b[0m\u001b[0;34m(\u001b[0m\u001b[0mfetch\u001b[0m\u001b[0;34m)\u001b[0m \u001b[0;32mfor\u001b[0m \u001b[0mfetch\u001b[0m \u001b[0;32min\u001b[0m \u001b[0mfetches\u001b[0m\u001b[0;34m]\u001b[0m\u001b[0;34m\u001b[0m\u001b[0m\n\u001b[0m\u001b[1;32m    338\u001b[0m     \u001b[0mself\u001b[0m\u001b[0;34m.\u001b[0m\u001b[0m_unique_fetches\u001b[0m\u001b[0;34m,\u001b[0m \u001b[0mself\u001b[0m\u001b[0;34m.\u001b[0m\u001b[0m_value_indices\u001b[0m \u001b[0;34m=\u001b[0m \u001b[0m_uniquify_fetches\u001b[0m\u001b[0;34m(\u001b[0m\u001b[0mself\u001b[0m\u001b[0;34m.\u001b[0m\u001b[0m_mappers\u001b[0m\u001b[0;34m)\u001b[0m\u001b[0;34m\u001b[0m\u001b[0m\n\u001b[1;32m    339\u001b[0m \u001b[0;34m\u001b[0m\u001b[0m\n",
      "\u001b[0;32m~/miniconda3/envs/basev1/lib/python3.6/site-packages/tensorflow/python/client/session.py\u001b[0m in \u001b[0;36m<listcomp>\u001b[0;34m(.0)\u001b[0m\n\u001b[1;32m    335\u001b[0m     \"\"\"\n\u001b[1;32m    336\u001b[0m     \u001b[0mself\u001b[0m\u001b[0;34m.\u001b[0m\u001b[0m_fetch_type\u001b[0m \u001b[0;34m=\u001b[0m \u001b[0mtype\u001b[0m\u001b[0;34m(\u001b[0m\u001b[0mfetches\u001b[0m\u001b[0;34m)\u001b[0m\u001b[0;34m\u001b[0m\u001b[0m\n\u001b[0;32m--> 337\u001b[0;31m     \u001b[0mself\u001b[0m\u001b[0;34m.\u001b[0m\u001b[0m_mappers\u001b[0m \u001b[0;34m=\u001b[0m \u001b[0;34m[\u001b[0m\u001b[0m_FetchMapper\u001b[0m\u001b[0;34m.\u001b[0m\u001b[0mfor_fetch\u001b[0m\u001b[0;34m(\u001b[0m\u001b[0mfetch\u001b[0m\u001b[0;34m)\u001b[0m \u001b[0;32mfor\u001b[0m \u001b[0mfetch\u001b[0m \u001b[0;32min\u001b[0m \u001b[0mfetches\u001b[0m\u001b[0;34m]\u001b[0m\u001b[0;34m\u001b[0m\u001b[0m\n\u001b[0m\u001b[1;32m    338\u001b[0m     \u001b[0mself\u001b[0m\u001b[0;34m.\u001b[0m\u001b[0m_unique_fetches\u001b[0m\u001b[0;34m,\u001b[0m \u001b[0mself\u001b[0m\u001b[0;34m.\u001b[0m\u001b[0m_value_indices\u001b[0m \u001b[0;34m=\u001b[0m \u001b[0m_uniquify_fetches\u001b[0m\u001b[0;34m(\u001b[0m\u001b[0mself\u001b[0m\u001b[0;34m.\u001b[0m\u001b[0m_mappers\u001b[0m\u001b[0;34m)\u001b[0m\u001b[0;34m\u001b[0m\u001b[0m\n\u001b[1;32m    339\u001b[0m \u001b[0;34m\u001b[0m\u001b[0m\n",
      "\u001b[0;32m~/miniconda3/envs/basev1/lib/python3.6/site-packages/tensorflow/python/client/session.py\u001b[0m in \u001b[0;36mfor_fetch\u001b[0;34m(fetch)\u001b[0m\n\u001b[1;32m    236\u001b[0m         \u001b[0;32mif\u001b[0m \u001b[0misinstance\u001b[0m\u001b[0;34m(\u001b[0m\u001b[0mfetch\u001b[0m\u001b[0;34m,\u001b[0m \u001b[0mtensor_type\u001b[0m\u001b[0;34m)\u001b[0m\u001b[0;34m:\u001b[0m\u001b[0;34m\u001b[0m\u001b[0m\n\u001b[1;32m    237\u001b[0m           \u001b[0mfetches\u001b[0m\u001b[0;34m,\u001b[0m \u001b[0mcontraction_fn\u001b[0m \u001b[0;34m=\u001b[0m \u001b[0mfetch_fn\u001b[0m\u001b[0;34m(\u001b[0m\u001b[0mfetch\u001b[0m\u001b[0;34m)\u001b[0m\u001b[0;34m\u001b[0m\u001b[0m\n\u001b[0;32m--> 238\u001b[0;31m           \u001b[0;32mreturn\u001b[0m \u001b[0m_ElementFetchMapper\u001b[0m\u001b[0;34m(\u001b[0m\u001b[0mfetches\u001b[0m\u001b[0;34m,\u001b[0m \u001b[0mcontraction_fn\u001b[0m\u001b[0;34m)\u001b[0m\u001b[0;34m\u001b[0m\u001b[0m\n\u001b[0m\u001b[1;32m    239\u001b[0m     \u001b[0;31m# Did not find anything.\u001b[0m\u001b[0;34m\u001b[0m\u001b[0;34m\u001b[0m\u001b[0m\n\u001b[1;32m    240\u001b[0m     raise TypeError('Fetch argument %r has invalid type %r' %\n",
      "\u001b[0;32m~/miniconda3/envs/basev1/lib/python3.6/site-packages/tensorflow/python/client/session.py\u001b[0m in \u001b[0;36m__init__\u001b[0;34m(self, fetches, contraction_fn)\u001b[0m\n\u001b[1;32m    272\u001b[0m       \u001b[0;32mexcept\u001b[0m \u001b[0mValueError\u001b[0m \u001b[0;32mas\u001b[0m \u001b[0me\u001b[0m\u001b[0;34m:\u001b[0m\u001b[0;34m\u001b[0m\u001b[0m\n\u001b[1;32m    273\u001b[0m         raise ValueError('Fetch argument %r cannot be interpreted as a '\n\u001b[0;32m--> 274\u001b[0;31m                          'Tensor. (%s)' % (fetch, str(e)))\n\u001b[0m\u001b[1;32m    275\u001b[0m       \u001b[0;32mexcept\u001b[0m \u001b[0mKeyError\u001b[0m \u001b[0;32mas\u001b[0m \u001b[0me\u001b[0m\u001b[0;34m:\u001b[0m\u001b[0;34m\u001b[0m\u001b[0m\n\u001b[1;32m    276\u001b[0m         raise ValueError('Fetch argument %r cannot be interpreted as a '\n",
      "\u001b[0;31mValueError\u001b[0m: Fetch argument <tf.Operation 'Optimizer/RMSProp' type=NoOp> cannot be interpreted as a Tensor. (Operation name: \"Optimizer/RMSProp\"\nop: \"NoOp\"\ninput: \"^Optimizer/RMSProp/update_Seq2seq/Variable/ApplyRMSProp\"\ninput: \"^Optimizer/RMSProp/update_Seq2seq/Variable_1/ApplyRMSProp\"\ninput: \"^Optimizer/RMSProp/update_Seq2seq/Output_ScaleFactor/ApplyRMSProp\"\ninput: \"^Optimizer/RMSProp/update_Seq2seq/combined_tied_rnn_seq2seq/tied_rnn_seq2seq/multi_rnn_cell/cell_0/gru_cell/gates/kernel/ApplyRMSProp\"\ninput: \"^Optimizer/RMSProp/update_Seq2seq/combined_tied_rnn_seq2seq/tied_rnn_seq2seq/multi_rnn_cell/cell_0/gru_cell/gates/bias/ApplyRMSProp\"\ninput: \"^Optimizer/RMSProp/update_Seq2seq/combined_tied_rnn_seq2seq/tied_rnn_seq2seq/multi_rnn_cell/cell_0/gru_cell/candidate/kernel/ApplyRMSProp\"\ninput: \"^Optimizer/RMSProp/update_Seq2seq/combined_tied_rnn_seq2seq/tied_rnn_seq2seq/multi_rnn_cell/cell_0/gru_cell/candidate/bias/ApplyRMSProp\"\ninput: \"^Optimizer/RMSProp/update_Seq2seq/combined_tied_rnn_seq2seq/tied_rnn_seq2seq/multi_rnn_cell/cell_1/gru_cell/gates/kernel/ApplyRMSProp\"\ninput: \"^Optimizer/RMSProp/update_Seq2seq/combined_tied_rnn_seq2seq/tied_rnn_seq2seq/multi_rnn_cell/cell_1/gru_cell/gates/bias/ApplyRMSProp\"\ninput: \"^Optimizer/RMSProp/update_Seq2seq/combined_tied_rnn_seq2seq/tied_rnn_seq2seq/multi_rnn_cell/cell_1/gru_cell/candidate/kernel/ApplyRMSProp\"\ninput: \"^Optimizer/RMSProp/update_Seq2seq/combined_tied_rnn_seq2seq/tied_rnn_seq2seq/multi_rnn_cell/cell_1/gru_cell/candidate/bias/ApplyRMSProp\"\n is not an element of this graph.)"
     ]
    }
   ],
   "source": [
    "import time\n",
    "import os\n",
    "ts = int(time.time())\n",
    "model_dir = 'checkpoints/{}'.format(ts)\n",
    "os.mkdir(model_dir)\n",
    "n_ts = 30000\n",
    "\n",
    "stride_length = n_cond\n",
    "train_data = MultiTSDataProvider(n_ts=n_ts, scaler=StandardScaler(),\n",
    "                                 n_cond=n_cond, n_pred=n_pred, stride_length=stride_length,\n",
    "                                 batch_size=1024)\n",
    "val_data = MultiTSDataProvider(n_ts=n_ts, scaler=StandardScaler(), which_set='val',\n",
    "                               n_cond=n_cond, n_pred=n_pred,\n",
    "                               batch_size=1024)\n",
    "\n",
    "sess = tf.Session(config=tf.ConfigProto(log_device_placement=True))\n",
    "print(sess.run(tf.global_variables_initializer()))\n",
    "errs = []\n",
    "epochs = 15\n",
    "for e in range(epochs):\n",
    "    running_error = 0.\n",
    "    val_error = 0.\n",
    "    mean_running_error = 0.\n",
    "    with clock():\n",
    "        for input_batch, target_batch in train_data:\n",
    "        #     print(input_batch.shape, target_batch.shape)\n",
    "            feed_dict = {train: True}\n",
    "            # each decoder input is batch size x 1\n",
    "            for i in range(n_cond):\n",
    "                feed_dict[enc_inp[i].name] = input_batch[:,i].reshape(-1,1)\n",
    "            feed_dict[go_sym] = input_batch[:, n_cond].reshape(-1,1)\n",
    "            for i in range(n_pred):\n",
    "                feed_dict[expected_sparse_output[i].name] = target_batch[:,i].reshape(-1,1)\n",
    "            _, err = sess.run([train_op, loss], feed_dict=feed_dict)\n",
    "            errs.append(err)\n",
    "            mean_preds = np.mean(input_batch[:,:n_cond], axis=1).reshape(-1,1)\n",
    "        #         print(mean_preds.shape, target_batch.shape)\n",
    "            mean_errs = np.abs(mean_preds - target_batch)\n",
    "        #         print(mean_errs.shape)\n",
    "            batch_mean_err = np.sum(np.mean(mean_errs, axis=0))\n",
    "            running_error += err\n",
    "            mean_running_error += batch_mean_err\n",
    "        running_error /= train_data.num_batches\n",
    "        mean_running_error /= train_data.num_batches\n",
    "        saver.save(sess, model_dir+'/model.ckpt'.format(ts), global_step=e+1)\n",
    "    for input_batch, target_batch in val_data:\n",
    "        feed_dict = {train: False}\n",
    "        for i in range(n_cond):\n",
    "            feed_dict[enc_inp[i].name] = input_batch[:,i].reshape(-1,1)\n",
    "        for i in range(n_pred):\n",
    "            feed_dict[expected_sparse_output[i].name] = target_batch[:,i].reshape(-1,1)\n",
    "        feed_dict[go_sym] = input_batch[:, n_cond].reshape(-1,1)\n",
    "        val_err = sess.run(loss, feed_dict=feed_dict)\n",
    "        # this time we don't need to feed in either decoder_inputs or targets\n",
    "        val_error += val_err\n",
    "    val_error /= val_data.num_batches\n",
    "    print(\"\"\"End of epoch {0}: running error average = {1:.3f}\\n\n",
    "             mean error average = {2:.3f}\\n\n",
    "             val error average = {3:.3f}\"\"\".format(e + 1, running_error, mean_running_error, val_error))\n",
    "# print(len(preds), preds[0])"
   ]
  },
  {
   "cell_type": "markdown",
   "metadata": {
    "collapsed": true
   },
   "source": [
    "## Sanity check:\n",
    "\n",
    " * Look at (plot) trained model's predictions from a few out of training sample time series (compare plot after just training on one batch to after a full training run).\n",
    "\n",
    "* Look at SMAPE on val set\n",
    "\n",
    "(NOT GOOD IDEA: Plot multiple sets of predictions for a single time series to verify that the RNN is acting as a generative model in a sensible (random) way - NO THE CURRENT MODEL IS DETERMINISTIC, TO MAKE A PROBABILISTIC MODEL I WOULD HAVE TO OUTPUT PROBABILITIES/PARAMETERS OF A PROBABILITY DISTRIBUTION RATHER THAN ACTUAL VALUES.)"
   ]
  },
  {
   "cell_type": "code",
   "execution_count": null,
   "metadata": {
    "collapsed": true
   },
   "outputs": [],
   "source": [
    "val_data = MultiTSDataProvider(n_ts=200, scaler=None, which_set='val')"
   ]
  },
  {
   "cell_type": "code",
   "execution_count": 86,
   "metadata": {},
   "outputs": [
    {
     "data": {
      "text/plain": [
       "((200, 120), (200, 60))"
      ]
     },
     "execution_count": 86,
     "metadata": {},
     "output_type": "execute_result"
    }
   ],
   "source": [
    "val_data.inputs.shape, val_data.targets.shape"
   ]
  },
  {
   "cell_type": "code",
   "execution_count": 87,
   "metadata": {},
   "outputs": [
    {
     "data": {
      "text/plain": [
       "[<matplotlib.lines.Line2D at 0x120b00a58>]"
      ]
     },
     "execution_count": 87,
     "metadata": {},
     "output_type": "execute_result"
    },
    {
     "data": {
      "image/png": "[encoded data removed]",
      "text/plain": [
       "<matplotlib.figure.Figure at 0x120b00940>"
      ]
     },
     "metadata": {},
     "output_type": "display_data"
    }
   ],
   "source": [
    "v_seq = val_data.inputs[190:,:]\n",
    "v_targs = val_data.targets[190:,:]\n",
    "\n",
    "single_s = v_seq[9,:]\n",
    "single_ts = v_targs[9,:]\n",
    "\n",
    "plt.plot(range(len(single_s)), single_s)\n",
    "plt.plot([n_cond + 1 + i for i in range(len(single_ts))], single_ts)\n",
    "# def predict_sequence(inputs, targets)"
   ]
  },
  {
   "cell_type": "code",
   "execution_count": 88,
   "metadata": {
    "collapsed": true
   },
   "outputs": [],
   "source": [
    "feed_dict = {train: False}\n",
    "for i in range(n_cond):\n",
    "    feed_dict[encoder_inputs[i].name] = v_seq[:,i].reshape(-1,1)\n",
    "for i in range(n_pred):\n",
    "    feed_dict[targets[i].name] = v_targs[:,i]\n",
    "for i in range(n_pred):\n",
    "    feed_dict[decoder_inputs[i].name] = v_seq[:,i].reshape(-1,1)\n",
    "pred_err, pred_vals = sess.run([mae, preds], feed_dict=feed_dict)"
   ]
  },
  {
   "cell_type": "code",
   "execution_count": 90,
   "metadata": {},
   "outputs": [
    {
     "data": {
      "text/plain": [
       "[29.966311,\n",
       " 30.700642,\n",
       " 30.565092,\n",
       " 30.607529,\n",
       " 30.699869,\n",
       " 30.820126,\n",
       " 30.955162,\n",
       " 31.09614,\n",
       " 31.237381,\n",
       " 31.375389,\n",
       " 31.508165,\n",
       " 31.634653,\n",
       " 31.754412,\n",
       " 31.867376,\n",
       " 31.973694,\n",
       " 32.073643,\n",
       " 32.167557,\n",
       " 32.255798,\n",
       " 32.338726,\n",
       " 32.416702,\n",
       " 32.490063,\n",
       " 32.559128,\n",
       " 32.62418,\n",
       " 32.685505,\n",
       " 32.743351,\n",
       " 32.797951,\n",
       " 32.849522,\n",
       " 32.898258,\n",
       " 32.944344,\n",
       " 32.987946,\n",
       " 33.029221,\n",
       " 33.06831,\n",
       " 33.10535,\n",
       " 33.140461,\n",
       " 33.173756,\n",
       " 33.205341,\n",
       " 33.235317,\n",
       " 33.263775,\n",
       " 33.290802,\n",
       " 33.316467,\n",
       " 33.340855,\n",
       " 33.364029,\n",
       " 33.386059,\n",
       " 33.40699,\n",
       " 33.426895,\n",
       " 33.44582,\n",
       " 33.463806,\n",
       " 33.480904,\n",
       " 33.497154,\n",
       " 33.512589,\n",
       " 33.527245,\n",
       " 33.541161,\n",
       " 33.554348,\n",
       " 33.566845,\n",
       " 33.578659,\n",
       " 33.589825,\n",
       " 33.600334,\n",
       " 33.610199,\n",
       " 33.619431,\n",
       " 33.628021]"
      ]
     },
     "execution_count": 90,
     "metadata": {},
     "output_type": "execute_result"
    }
   ],
   "source": [
    "[p[9] for p in pred_vals]"
   ]
  },
  {
   "cell_type": "markdown",
   "metadata": {},
   "source": [
    "### Check what happens if I do feed decoder inputs, and I do  train."
   ]
  },
  {
   "cell_type": "code",
   "execution_count": 112,
   "metadata": {
    "collapsed": true
   },
   "outputs": [],
   "source": [
    "last_s_preds = [p[8] for p in pred_vals]"
   ]
  },
  {
   "cell_type": "code",
   "execution_count": 116,
   "metadata": {},
   "outputs": [
    {
     "data": {
      "text/plain": [
       "[<matplotlib.lines.Line2D at 0x1260d3630>]"
      ]
     },
     "execution_count": 116,
     "metadata": {},
     "output_type": "execute_result"
    },
    {
     "data": {
      "image/png": "[encoded data removed]",
      "text/plain": [
       "<matplotlib.figure.Figure at 0x1260d3470>"
      ]
     },
     "metadata": {},
     "output_type": "display_data"
    }
   ],
   "source": [
    "plt.plot(last_s_preds)\n",
    "\n",
    "plt.plot([v_seq[8,i+1] for i in range(n_cond)])"
   ]
  },
  {
   "cell_type": "code",
   "execution_count": 62,
   "metadata": {},
   "outputs": [
    {
     "data": {
      "text/plain": [
       "145063"
      ]
     },
     "execution_count": 62,
     "metadata": {},
     "output_type": "execute_result"
    }
   ],
   "source": [
    "d = pd.read_csv('~/Downloads/median_smapes.csv')\n",
    "len(d)"
   ]
  },
  {
   "cell_type": "code",
   "execution_count": 103,
   "metadata": {},
   "outputs": [
    {
     "data": {
      "text/plain": [
       "array([[ 6.04784536],\n",
       "       [-0.58076155],\n",
       "       [ 5.3185668 ],\n",
       "       [ 0.19689314],\n",
       "       [ 6.33993053],\n",
       "       [ 5.79123735],\n",
       "       [-9.02900887],\n",
       "       [ 0.57483214],\n",
       "       [-6.69227028],\n",
       "       [-5.93069601]], dtype=float32)"
      ]
     },
     "execution_count": 103,
     "metadata": {},
     "output_type": "execute_result"
    }
   ],
   "source": [
    "sess.run(weights)"
   ]
  },
  {
   "cell_type": "code",
   "execution_count": 117,
   "metadata": {},
   "outputs": [
    {
     "name": "stdout",
     "output_type": "stream",
     "text": [
      "Help on function basic_rnn_seq2seq in module tensorflow.contrib.legacy_seq2seq.python.ops.seq2seq:\n",
      "\n",
      "basic_rnn_seq2seq(encoder_inputs, decoder_inputs, cell, dtype=tf.float32, scope=None)\n",
      "    Basic RNN sequence-to-sequence model.\n",
      "    \n",
      "    This model first runs an RNN to encode encoder_inputs into a state vector,\n",
      "    then runs decoder, initialized with the last encoder state, on decoder_inputs.\n",
      "    Encoder and decoder use the same RNN cell type, but don't share parameters.\n",
      "    \n",
      "    Args:\n",
      "      encoder_inputs: A list of 2D Tensors [batch_size x input_size].\n",
      "      decoder_inputs: A list of 2D Tensors [batch_size x input_size].\n",
      "      cell: tf.nn.rnn_cell.RNNCell defining the cell function and size.\n",
      "      dtype: The dtype of the initial state of the RNN cell (default: tf.float32).\n",
      "      scope: VariableScope for the created subgraph; default: \"basic_rnn_seq2seq\".\n",
      "    \n",
      "    Returns:\n",
      "      A tuple of the form (outputs, state), where:\n",
      "        outputs: A list of the same length as decoder_inputs of 2D Tensors with\n",
      "          shape [batch_size x output_size] containing the generated outputs.\n",
      "        state: The state of each decoder cell in the final time-step.\n",
      "          It is a 2D Tensor of shape [batch_size x cell.state_size].\n",
      "\n"
     ]
    }
   ],
   "source": [
    "from tensorflow.contrib.legacy_seq2seq import basic_rnn_seq2seq\n",
    "help(basic_rnn_seq2seq)"
   ]
  },
  {
   "cell_type": "code",
   "execution_count": null,
   "metadata": {
    "collapsed": true
   },
   "outputs": [],
   "source": []
  }
 ],
 "metadata": {
  "kernelspec": {
   "display_name": "Python 3",
   "language": "python",
   "name": "python3"
  },
  "language_info": {
   "codemirror_mode": {
    "name": "ipython",
    "version": 3
   },
   "file_extension": ".py",
   "mimetype": "text/x-python",
   "name": "python",
   "nbconvert_exporter": "python",
   "pygments_lexer": "ipython3",
   "version": "3.4.4"
  }
 },
 "nbformat": 4,
 "nbformat_minor": 2
}
