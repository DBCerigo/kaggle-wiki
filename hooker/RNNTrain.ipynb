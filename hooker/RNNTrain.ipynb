{
 "cells": [
  {
   "cell_type": "code",
   "execution_count": 1,
   "metadata": {},
   "outputs": [],
   "source": [
    "import pandas as pd\n",
    "import numpy as np\n",
    "from sklearn.preprocessing import StandardScaler\n",
    "\n",
    "from models import LegacySeq2Seq\n",
    "from data_providers import MultiTSDataProvider"
   ]
  },
  {
   "cell_type": "code",
   "execution_count": 2,
   "metadata": {},
   "outputs": [],
   "source": [
    "n_cond = 30\n",
    "n_pred = 30\n",
    "batch_size = 100\n",
    "num_hidden = 100\n",
    "\n",
    "rnn = LegacySeq2Seq(n_cond, n_pred, num_hidden, n_layers=2)"
   ]
  },
  {
   "cell_type": "code",
   "execution_count": 3,
   "metadata": {},
   "outputs": [
    {
     "name": "stdout",
     "output_type": "stream",
     "text": [
      "(100, 490)\n",
      "(100, 30) (100, 30)\n",
      "(100, 60)\n",
      "(100, 30) (100, 30)\n"
     ]
    }
   ],
   "source": [
    "base_dir = '../data/'\n",
    "full_df = pd.read_csv(base_dir+'train_1.csv', nrows=1000).fillna(0)\n",
    "X = np.log(full_df.drop('Page', axis=1).values + 1)\n",
    "scaler = StandardScaler()\n",
    "# discussion on which scaler to use here: https://www.kaggle.com/c/web-traffic-time-series-forecasting/discussion/38274\n",
    "# each ts should have 0 mean and unit variance\n",
    "# since the time series are the 'features' being scaled, transpose first\n",
    "X = scaler.fit_transform(X.T).T\n",
    "n_ts = 100\n",
    "train_data = MultiTSDataProvider(X,\n",
    "                                 n_ts=n_ts, \n",
    "                                 n_cond=n_cond, \n",
    "                                 n_pred=n_pred, \n",
    "                                 stride_length=-1,\n",
    "                                 batch_size=batch_size)\n",
    "val_data = MultiTSDataProvider(X,\n",
    "                               n_ts=n_ts,\n",
    "                               n_cond=n_cond,\n",
    "                               n_pred=n_pred,\n",
    "                               which_set='val',\n",
    "                               batch_size=batch_size)"
   ]
  },
  {
   "cell_type": "code",
   "execution_count": 4,
   "metadata": {},
   "outputs": [
    {
     "name": "stdout",
     "output_type": "stream",
     "text": [
      "Elapsed time 29.709122896194458 seconds\n",
      "End of epoch 1: running error average = 49.535\n",
      "                     mean error average = 19.108\n",
      "                     val error average = 70.032\n"
     ]
    },
    {
     "ename": "NameError",
     "evalue": "name 'close_session' is not defined",
     "output_type": "error",
     "traceback": [
      "\u001b[0;31m---------------------------------------------------------------------------\u001b[0m",
      "\u001b[0;31mNameError\u001b[0m                                 Traceback (most recent call last)",
      "\u001b[0;32m<ipython-input-4-b21ba1cdb0a0>\u001b[0m in \u001b[0;36m<module>\u001b[0;34m()\u001b[0m\n\u001b[0;32m----> 1\u001b[0;31m \u001b[0mrnn\u001b[0m\u001b[0;34m.\u001b[0m\u001b[0mtrain\u001b[0m\u001b[0;34m(\u001b[0m\u001b[0mtrain_data\u001b[0m\u001b[0;34m,\u001b[0m \u001b[0mval_data\u001b[0m\u001b[0;34m,\u001b[0m \u001b[0mepochs\u001b[0m\u001b[0;34m=\u001b[0m\u001b[0;36m1\u001b[0m\u001b[0;34m,\u001b[0m \u001b[0mkeep_prob\u001b[0m\u001b[0;34m=\u001b[0m\u001b[0;36m0.7\u001b[0m\u001b[0;34m,\u001b[0m \u001b[0msave\u001b[0m\u001b[0;34m=\u001b[0m\u001b[0;32mTrue\u001b[0m\u001b[0;34m)\u001b[0m\u001b[0;34m\u001b[0m\u001b[0m\n\u001b[0m",
      "\u001b[0;32m/Users/alexhooker/projects/kaggle/wikits/hooker/models.py\u001b[0m in \u001b[0;36mtrain\u001b[0;34m(self, train_data, valid_data, epochs, keep_prob, logdir, save)\u001b[0m\n\u001b[1;32m     71\u001b[0m                      val error average = {3:.3f}\"\"\".format(e + 1, running_error, median_running_error, val_error))\n\u001b[1;32m     72\u001b[0m \u001b[0;34m\u001b[0m\u001b[0m\n\u001b[0;32m---> 73\u001b[0;31m         \u001b[0;32mif\u001b[0m \u001b[0mclose_session\u001b[0m\u001b[0;34m:\u001b[0m\u001b[0;34m\u001b[0m\u001b[0m\n\u001b[0m\u001b[1;32m     74\u001b[0m             \u001b[0mself\u001b[0m\u001b[0;34m.\u001b[0m\u001b[0msess\u001b[0m\u001b[0;34m.\u001b[0m\u001b[0mclose\u001b[0m\u001b[0;34m(\u001b[0m\u001b[0;34m)\u001b[0m\u001b[0;34m\u001b[0m\u001b[0m\n\u001b[1;32m     75\u001b[0m \u001b[0;34m\u001b[0m\u001b[0m\n",
      "\u001b[0;31mNameError\u001b[0m: name 'close_session' is not defined"
     ]
    }
   ],
   "source": [
    "rnn.train(train_data, val_data, epochs=1, keep_prob=0.7, save=True)"
   ]
  },
  {
   "cell_type": "code",
   "execution_count": null,
   "metadata": {
    "collapsed": true
   },
   "outputs": [],
   "source": []
  }
 ],
 "metadata": {
  "kernelspec": {
   "display_name": "Python 3",
   "language": "python",
   "name": "python3"
  }
 },
 "nbformat": 4,
 "nbformat_minor": 2
}
