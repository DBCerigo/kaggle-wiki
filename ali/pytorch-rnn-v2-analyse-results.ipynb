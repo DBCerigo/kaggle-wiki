{
 "cells": [
  {
   "cell_type": "code",
   "execution_count": 2,
   "metadata": {},
   "outputs": [],
   "source": [
    "%load_ext autoreload\n",
    "%autoreload 2\n",
    "import sys\n",
    "import gc\n",
    "\n",
    "from multiprocessing import cpu_count, Pool\n",
    "import numpy as np\n",
    "import pandas as pd\n",
    "import torch\n",
    "import torch.nn as nn\n",
    "import torch.utils.data as data_utils\n",
    "import matplotlib.pyplot as plt\n",
    "\n",
    "from tqdm import tqdm\n",
    "\n",
    "sys.path.append('../')\n",
    "from wiki.utils import clock\n",
    "from wiki import rnn, rnn_predict, newphet, val\n",
    "%matplotlib inline"
   ]
  },
  {
   "cell_type": "code",
   "execution_count": 3,
   "metadata": {
    "collapsed": true
   },
   "outputs": [],
   "source": [
    "torch.manual_seed(1)\n",
    "torch.cuda.set_device(0)"
   ]
  },
  {
   "cell_type": "code",
   "execution_count": 4,
   "metadata": {
    "collapsed": true
   },
   "outputs": [],
   "source": [
    "batch_size = 1024\n",
    "pred_len = 62"
   ]
  },
  {
   "cell_type": "code",
   "execution_count": 5,
   "metadata": {
    "collapsed": true
   },
   "outputs": [],
   "source": [
    "base_dir = '../data/'\n",
    "train_df = pd.read_csv(base_dir+'train_2.csv').fillna(0)"
   ]
  },
  {
   "cell_type": "code",
   "execution_count": 6,
   "metadata": {
    "collapsed": true
   },
   "outputs": [],
   "source": [
    "X = train_df.drop('Page', axis=1).values\n",
    "X, scaler = rnn.scale_values(X)"
   ]
  },
  {
   "cell_type": "code",
   "execution_count": 7,
   "metadata": {},
   "outputs": [
    {
     "data": {
      "text/plain": [
       "(145063, 430, 1)"
      ]
     },
     "execution_count": 7,
     "metadata": {},
     "output_type": "execute_result"
    }
   ],
   "source": [
    "X[:,-2*pred_len-430:-2*pred_len,:].shape"
   ]
  },
  {
   "cell_type": "code",
   "execution_count": 8,
   "metadata": {
    "collapsed": true
   },
   "outputs": [],
   "source": [
    "trainloader = data_utils.DataLoader(\n",
    "    data_utils.TensorDataset(\n",
    "        torch.from_numpy(X[:,-2*pred_len-430:-2*pred_len,:]).float(),\n",
    "        torch.from_numpy(X[:,-2*pred_len:-pred_len,:]).float()\n",
    "    ),\n",
    "    batch_size=batch_size, shuffle=False\n",
    ")"
   ]
  },
  {
   "cell_type": "code",
   "execution_count": 9,
   "metadata": {
    "collapsed": true
   },
   "outputs": [],
   "source": [
    "valloader = data_utils.DataLoader(\n",
    "    data_utils.TensorDataset(\n",
    "        torch.from_numpy(X[:,:-pred_len,:]).float(),\n",
    "        torch.from_numpy(X[:,-pred_len:,:]).float()\n",
    "    ),\n",
    "    batch_size=batch_size, shuffle=False\n",
    ")"
   ]
  },
  {
   "cell_type": "code",
   "execution_count": 10,
   "metadata": {
    "collapsed": true
   },
   "outputs": [],
   "source": [
    "model = rnn.RNN().cuda()\n",
    "save_best_path = base_dir+'rnn_stage2_v2_lr2.mdl'\n",
    "model.load_state_dict(torch.load(save_best_path))"
   ]
  },
  {
   "cell_type": "code",
   "execution_count": 11,
   "metadata": {
    "collapsed": true
   },
   "outputs": [],
   "source": [
    "outputs, targets, sequences = model.predict(valloader)"
   ]
  },
  {
   "cell_type": "code",
   "execution_count": 12,
   "metadata": {
    "collapsed": true
   },
   "outputs": [],
   "source": [
    "_, predictions = rnn_predict.combine_prediction_data(outputs, targets, sequences)"
   ]
  },
  {
   "cell_type": "code",
   "execution_count": 13,
   "metadata": {
    "collapsed": true
   },
   "outputs": [],
   "source": [
    "prophet = pd.read_feather('../data/prophet/proph_v7_preds.f')"
   ]
  },
  {
   "cell_type": "code",
   "execution_count": 14,
   "metadata": {},
   "outputs": [
    {
     "data": {
      "text/html": [
       "<div>\n",
       "<style>\n",
       "    .dataframe thead tr:only-child th {\n",
       "        text-align: right;\n",
       "    }\n",
       "\n",
       "    .dataframe thead th {\n",
       "        text-align: left;\n",
       "    }\n",
       "\n",
       "    .dataframe tbody tr th {\n",
       "        vertical-align: top;\n",
       "    }\n",
       "</style>\n",
       "<table border=\"1\" class=\"dataframe\">\n",
       "  <thead>\n",
       "    <tr style=\"text-align: right;\">\n",
       "      <th></th>\n",
       "      <th>page_index</th>\n",
       "      <th>2017-07-03</th>\n",
       "      <th>2017-07-04</th>\n",
       "      <th>2017-07-05</th>\n",
       "      <th>2017-07-06</th>\n",
       "      <th>2017-07-07</th>\n",
       "      <th>2017-07-08</th>\n",
       "      <th>2017-07-09</th>\n",
       "      <th>2017-07-10</th>\n",
       "      <th>2017-07-11</th>\n",
       "      <th>...</th>\n",
       "      <th>2017-08-22</th>\n",
       "      <th>2017-08-23</th>\n",
       "      <th>2017-08-24</th>\n",
       "      <th>2017-08-25</th>\n",
       "      <th>2017-08-26</th>\n",
       "      <th>2017-08-27</th>\n",
       "      <th>2017-08-28</th>\n",
       "      <th>2017-08-29</th>\n",
       "      <th>2017-08-30</th>\n",
       "      <th>2017-08-31</th>\n",
       "    </tr>\n",
       "  </thead>\n",
       "  <tbody>\n",
       "    <tr>\n",
       "      <th>0</th>\n",
       "      <td>176</td>\n",
       "      <td>1.0</td>\n",
       "      <td>2.0</td>\n",
       "      <td>1.0</td>\n",
       "      <td>1.0</td>\n",
       "      <td>1.0</td>\n",
       "      <td>1.0</td>\n",
       "      <td>1.0</td>\n",
       "      <td>1.0</td>\n",
       "      <td>2.0</td>\n",
       "      <td>...</td>\n",
       "      <td>2.0</td>\n",
       "      <td>1.0</td>\n",
       "      <td>1.0</td>\n",
       "      <td>1.0</td>\n",
       "      <td>1.0</td>\n",
       "      <td>1.0</td>\n",
       "      <td>1.0</td>\n",
       "      <td>2.0</td>\n",
       "      <td>2.0</td>\n",
       "      <td>2.0</td>\n",
       "    </tr>\n",
       "    <tr>\n",
       "      <th>1</th>\n",
       "      <td>1388</td>\n",
       "      <td>10.0</td>\n",
       "      <td>10.0</td>\n",
       "      <td>11.0</td>\n",
       "      <td>11.0</td>\n",
       "      <td>10.0</td>\n",
       "      <td>12.0</td>\n",
       "      <td>10.0</td>\n",
       "      <td>10.0</td>\n",
       "      <td>9.0</td>\n",
       "      <td>...</td>\n",
       "      <td>10.0</td>\n",
       "      <td>11.0</td>\n",
       "      <td>12.0</td>\n",
       "      <td>11.0</td>\n",
       "      <td>13.0</td>\n",
       "      <td>11.0</td>\n",
       "      <td>11.0</td>\n",
       "      <td>10.0</td>\n",
       "      <td>11.0</td>\n",
       "      <td>12.0</td>\n",
       "    </tr>\n",
       "    <tr>\n",
       "      <th>2</th>\n",
       "      <td>1973</td>\n",
       "      <td>59.0</td>\n",
       "      <td>60.0</td>\n",
       "      <td>49.0</td>\n",
       "      <td>46.0</td>\n",
       "      <td>46.0</td>\n",
       "      <td>81.0</td>\n",
       "      <td>68.0</td>\n",
       "      <td>40.0</td>\n",
       "      <td>42.0</td>\n",
       "      <td>...</td>\n",
       "      <td>36.0</td>\n",
       "      <td>28.0</td>\n",
       "      <td>27.0</td>\n",
       "      <td>30.0</td>\n",
       "      <td>67.0</td>\n",
       "      <td>57.0</td>\n",
       "      <td>31.0</td>\n",
       "      <td>35.0</td>\n",
       "      <td>28.0</td>\n",
       "      <td>28.0</td>\n",
       "    </tr>\n",
       "    <tr>\n",
       "      <th>3</th>\n",
       "      <td>2837</td>\n",
       "      <td>40.0</td>\n",
       "      <td>24.0</td>\n",
       "      <td>20.0</td>\n",
       "      <td>22.0</td>\n",
       "      <td>22.0</td>\n",
       "      <td>23.0</td>\n",
       "      <td>38.0</td>\n",
       "      <td>43.0</td>\n",
       "      <td>27.0</td>\n",
       "      <td>...</td>\n",
       "      <td>25.0</td>\n",
       "      <td>21.0</td>\n",
       "      <td>22.0</td>\n",
       "      <td>22.0</td>\n",
       "      <td>23.0</td>\n",
       "      <td>37.0</td>\n",
       "      <td>42.0</td>\n",
       "      <td>26.0</td>\n",
       "      <td>22.0</td>\n",
       "      <td>23.0</td>\n",
       "    </tr>\n",
       "    <tr>\n",
       "      <th>4</th>\n",
       "      <td>4311</td>\n",
       "      <td>356.0</td>\n",
       "      <td>322.0</td>\n",
       "      <td>350.0</td>\n",
       "      <td>320.0</td>\n",
       "      <td>193.0</td>\n",
       "      <td>110.0</td>\n",
       "      <td>248.0</td>\n",
       "      <td>311.0</td>\n",
       "      <td>288.0</td>\n",
       "      <td>...</td>\n",
       "      <td>313.0</td>\n",
       "      <td>358.0</td>\n",
       "      <td>343.0</td>\n",
       "      <td>232.0</td>\n",
       "      <td>162.0</td>\n",
       "      <td>312.0</td>\n",
       "      <td>387.0</td>\n",
       "      <td>374.0</td>\n",
       "      <td>420.0</td>\n",
       "      <td>407.0</td>\n",
       "    </tr>\n",
       "  </tbody>\n",
       "</table>\n",
       "<p>5 rows × 61 columns</p>\n",
       "</div>"
      ],
      "text/plain": [
       "   page_index  2017-07-03  2017-07-04  2017-07-05  2017-07-06  2017-07-07  \\\n",
       "0         176         1.0         2.0         1.0         1.0         1.0   \n",
       "1        1388        10.0        10.0        11.0        11.0        10.0   \n",
       "2        1973        59.0        60.0        49.0        46.0        46.0   \n",
       "3        2837        40.0        24.0        20.0        22.0        22.0   \n",
       "4        4311       356.0       322.0       350.0       320.0       193.0   \n",
       "\n",
       "   2017-07-08  2017-07-09  2017-07-10  2017-07-11     ...      2017-08-22  \\\n",
       "0         1.0         1.0         1.0         2.0     ...             2.0   \n",
       "1        12.0        10.0        10.0         9.0     ...            10.0   \n",
       "2        81.0        68.0        40.0        42.0     ...            36.0   \n",
       "3        23.0        38.0        43.0        27.0     ...            25.0   \n",
       "4       110.0       248.0       311.0       288.0     ...           313.0   \n",
       "\n",
       "   2017-08-23  2017-08-24  2017-08-25  2017-08-26  2017-08-27  2017-08-28  \\\n",
       "0         1.0         1.0         1.0         1.0         1.0         1.0   \n",
       "1        11.0        12.0        11.0        13.0        11.0        11.0   \n",
       "2        28.0        27.0        30.0        67.0        57.0        31.0   \n",
       "3        21.0        22.0        22.0        23.0        37.0        42.0   \n",
       "4       358.0       343.0       232.0       162.0       312.0       387.0   \n",
       "\n",
       "   2017-08-29  2017-08-30  2017-08-31  \n",
       "0         2.0         2.0         2.0  \n",
       "1        10.0        11.0        12.0  \n",
       "2        35.0        28.0        28.0  \n",
       "3        26.0        22.0        23.0  \n",
       "4       374.0       420.0       407.0  \n",
       "\n",
       "[5 rows x 61 columns]"
      ]
     },
     "execution_count": 14,
     "metadata": {},
     "output_type": "execute_result"
    }
   ],
   "source": [
    "prophet.head()"
   ]
  },
  {
   "cell_type": "code",
   "execution_count": 15,
   "metadata": {
    "collapsed": true
   },
   "outputs": [],
   "source": [
    "base_dir = '../data/'\n",
    "train_df = pd.read_csv(base_dir+'train_2.csv')\n",
    "X = train_df.drop('Page', axis=1).values"
   ]
  },
  {
   "cell_type": "code",
   "execution_count": 16,
   "metadata": {
    "collapsed": true
   },
   "outputs": [],
   "source": [
    "predictions = scaler.inverse_transform(predictions.T).T\n",
    "true = X"
   ]
  },
  {
   "cell_type": "code",
   "execution_count": 17,
   "metadata": {
    "collapsed": true
   },
   "outputs": [],
   "source": [
    "predictions = predictions.round().clip(0)"
   ]
  },
  {
   "cell_type": "code",
   "execution_count": 18,
   "metadata": {},
   "outputs": [
    {
     "name": "stderr",
     "output_type": "stream",
     "text": [
      "/home/ubuntu/miniconda3/envs/basev1/lib/python3.6/site-packages/numpy/lib/function_base.py:3858: RuntimeWarning: All-NaN slice encountered\n",
      "  r = func(a, **kwargs)\n"
     ]
    }
   ],
   "source": [
    "median = np.nan_to_num(np.nanmedian(true[:,-49-60:-60], axis=1).reshape(-1,1).clip(0).round())"
   ]
  },
  {
   "cell_type": "code",
   "execution_count": 118,
   "metadata": {},
   "outputs": [
    {
     "name": "stderr",
     "output_type": "stream",
     "text": [
      "../wiki/val.py:6: RuntimeWarning: invalid value encountered in true_divide\n",
      "  diff = np.abs(y_true - y_pred) / denominator\n",
      "../wiki/val.py:8: RuntimeWarning: Mean of empty slice\n",
      "  return np.nanmean(diff) if axis is None else np.nanmean(diff, axis=axis)\n"
     ]
    },
    {
     "data": {
      "text/plain": [
       "43.341507158056743"
      ]
     },
     "execution_count": 118,
     "metadata": {},
     "output_type": "execute_result"
    }
   ],
   "source": [
    "np.nanmean(val.smape(true[:,-60:], predictions[:,-60:], axis=1))"
   ]
  },
  {
   "cell_type": "code",
   "execution_count": 119,
   "metadata": {},
   "outputs": [
    {
     "name": "stderr",
     "output_type": "stream",
     "text": [
      "../wiki/val.py:6: RuntimeWarning: invalid value encountered in true_divide\n",
      "  diff = np.abs(y_true - y_pred) / denominator\n",
      "../wiki/val.py:8: RuntimeWarning: Mean of empty slice\n",
      "  return np.nanmean(diff) if axis is None else np.nanmean(diff, axis=axis)\n"
     ]
    },
    {
     "data": {
      "text/plain": [
       "41.043204039840212"
      ]
     },
     "execution_count": 119,
     "metadata": {},
     "output_type": "execute_result"
    }
   ],
   "source": [
    "np.nanmean(val.smape(true[:,-60:], median, axis=1))"
   ]
  },
  {
   "cell_type": "code",
   "execution_count": 120,
   "metadata": {},
   "outputs": [
    {
     "name": "stderr",
     "output_type": "stream",
     "text": [
      "../wiki/val.py:6: RuntimeWarning: invalid value encountered in true_divide\n",
      "  diff = np.abs(y_true - y_pred) / denominator\n",
      "../wiki/val.py:8: RuntimeWarning: Mean of empty slice\n",
      "  return np.nanmean(diff) if axis is None else np.nanmean(diff, axis=axis)\n"
     ]
    },
    {
     "data": {
      "text/plain": [
       "40.54746183446337"
      ]
     },
     "execution_count": 120,
     "metadata": {},
     "output_type": "execute_result"
    }
   ],
   "source": [
    "np.nanmean(val.smape(true[:,-60:], (1.5*median+predictions[:,-60:])/2.5, axis=1))"
   ]
  },
  {
   "cell_type": "code",
   "execution_count": 19,
   "metadata": {
    "collapsed": true
   },
   "outputs": [],
   "source": [
    "broadcast = np.broadcast_to(median, (median.shape[0], 60))"
   ]
  },
  {
   "cell_type": "code",
   "execution_count": 122,
   "metadata": {
    "collapsed": true
   },
   "outputs": [],
   "source": [
    "median_prophet = []\n",
    "for row in broadcast:\n",
    "    median_prophet.append(row)"
   ]
  },
  {
   "cell_type": "code",
   "execution_count": 123,
   "metadata": {
    "collapsed": true
   },
   "outputs": [],
   "source": [
    "for _, row in prophet.iterrows():\n",
    "    median_prophet[int(row[0])] = row[1:]"
   ]
  },
  {
   "cell_type": "code",
   "execution_count": 124,
   "metadata": {
    "collapsed": true
   },
   "outputs": [],
   "source": [
    "median_prophet = np.stack(median_prophet)"
   ]
  },
  {
   "cell_type": "code",
   "execution_count": 125,
   "metadata": {},
   "outputs": [
    {
     "name": "stderr",
     "output_type": "stream",
     "text": [
      "../wiki/val.py:6: RuntimeWarning: invalid value encountered in true_divide\n",
      "  diff = np.abs(y_true - y_pred) / denominator\n",
      "../wiki/val.py:8: RuntimeWarning: Mean of empty slice\n",
      "  return np.nanmean(diff) if axis is None else np.nanmean(diff, axis=axis)\n"
     ]
    },
    {
     "data": {
      "text/plain": [
       "40.73234583840145"
      ]
     },
     "execution_count": 125,
     "metadata": {},
     "output_type": "execute_result"
    }
   ],
   "source": [
    "np.nanmean(val.smape(true[:,-60:], median_prophet, axis=1))"
   ]
  },
  {
   "cell_type": "code",
   "execution_count": 126,
   "metadata": {},
   "outputs": [
    {
     "name": "stderr",
     "output_type": "stream",
     "text": [
      "../wiki/val.py:6: RuntimeWarning: invalid value encountered in true_divide\n",
      "  diff = np.abs(y_true - y_pred) / denominator\n",
      "../wiki/val.py:8: RuntimeWarning: Mean of empty slice\n",
      "  return np.nanmean(diff) if axis is None else np.nanmean(diff, axis=axis)\n"
     ]
    },
    {
     "data": {
      "text/plain": [
       "40.058137745273854"
      ]
     },
     "execution_count": 126,
     "metadata": {},
     "output_type": "execute_result"
    }
   ],
   "source": [
    "np.nanmean(val.smape(true[:,-60:], (1.5*median_prophet+predictions[:,-60:])/2.5, axis=1))"
   ]
  },
  {
   "cell_type": "code",
   "execution_count": 127,
   "metadata": {
    "collapsed": true
   },
   "outputs": [],
   "source": [
    "def roll(true, predictions):\n",
    "    rolling_smapes = []\n",
    "    for i in range(59):\n",
    "        rolling_smapes.append(np.nanmean(val.smape(true[:, -60:-60+i+1], predictions[:,-60:-60+i+1], axis=1)))\n",
    "    rolling_smapes.append(np.nanmean(val.smape(true[:,-60:], predictions[:,-60:], axis=1)))\n",
    "    return rolling_smapes"
   ]
  },
  {
   "cell_type": "code",
   "execution_count": 128,
   "metadata": {},
   "outputs": [
    {
     "name": "stderr",
     "output_type": "stream",
     "text": [
      "../wiki/val.py:6: RuntimeWarning: invalid value encountered in true_divide\n",
      "  diff = np.abs(y_true - y_pred) / denominator\n",
      "../wiki/val.py:8: RuntimeWarning: Mean of empty slice\n",
      "  return np.nanmean(diff) if axis is None else np.nanmean(diff, axis=axis)\n"
     ]
    },
    {
     "name": "stdout",
     "output_type": "stream",
     "text": [
      "Elapsed time 16.554712295532227 seconds\n"
     ]
    }
   ],
   "source": [
    "with clock():\n",
    "    rolling_rnn = roll(true, predictions)\n",
    "    rolling_median = roll(true, median_prophet)"
   ]
  },
  {
   "cell_type": "code",
   "execution_count": 131,
   "metadata": {},
   "outputs": [
    {
     "data": {
      "text/plain": [
       "[<matplotlib.lines.Line2D at 0x7fe6b20342b0>]"
      ]
     },
     "execution_count": 131,
     "metadata": {},
     "output_type": "execute_result"
    },
    {
     "data": {
      "image/png": "[encoded data removed]",
      "text/plain": [
       "<matplotlib.figure.Figure at 0x7fe6b2034a90>"
      ]
     },
     "metadata": {},
     "output_type": "display_data"
    }
   ],
   "source": [
    "fig, ax = plt.subplots(figsize=(10,10))\n",
    "ax.grid(True)\n",
    "ax.plot([x-y for x,y in zip(rolling_rnn, rolling_median)])"
   ]
  },
  {
   "cell_type": "code",
   "execution_count": 174,
   "metadata": {
    "collapsed": true
   },
   "outputs": [],
   "source": [
    "rolling_blend = np.stack(\n",
    "    [(predictions[:, -60+x]*(2-x*0.05)+median_prophet[:,-60+x]*(1+x*0.05))/3 for x in range(20)],\n",
    "    axis=1\n",
    ")"
   ]
  },
  {
   "cell_type": "code",
   "execution_count": 175,
   "metadata": {
    "collapsed": true
   },
   "outputs": [],
   "source": [
    "rolling_blend = np.concatenate([rolling_blend, (2*median_prophet[:,-40:]+predictions[:,-40:])/3], axis=1)"
   ]
  },
  {
   "cell_type": "code",
   "execution_count": 183,
   "metadata": {},
   "outputs": [
    {
     "data": {
      "text/plain": [
       "(145063, 60)"
      ]
     },
     "execution_count": 183,
     "metadata": {},
     "output_type": "execute_result"
    }
   ],
   "source": [
    "median_prophet.shape"
   ]
  },
  {
   "cell_type": "code",
   "execution_count": 184,
   "metadata": {},
   "outputs": [
    {
     "data": {
      "text/plain": [
       "(145063, 60)"
      ]
     },
     "execution_count": 184,
     "metadata": {},
     "output_type": "execute_result"
    }
   ],
   "source": [
    "broadcast.shape"
   ]
  },
  {
   "cell_type": "code",
   "execution_count": 182,
   "metadata": {},
   "outputs": [
    {
     "data": {
      "text/plain": [
       "(145063, 60)"
      ]
     },
     "execution_count": 182,
     "metadata": {},
     "output_type": "execute_result"
    }
   ],
   "source": [
    "rolling_blend.shape"
   ]
  },
  {
   "cell_type": "code",
   "execution_count": 164,
   "metadata": {},
   "outputs": [
    {
     "name": "stderr",
     "output_type": "stream",
     "text": [
      "../wiki/val.py:6: RuntimeWarning: invalid value encountered in true_divide\n",
      "  diff = np.abs(y_true - y_pred) / denominator\n",
      "../wiki/val.py:8: RuntimeWarning: Mean of empty slice\n",
      "  return np.nanmean(diff) if axis is None else np.nanmean(diff, axis=axis)\n"
     ]
    },
    {
     "data": {
      "text/plain": [
       "40.008773240500567"
      ]
     },
     "execution_count": 164,
     "metadata": {},
     "output_type": "execute_result"
    }
   ],
   "source": [
    "np.nanmean(val.smape(true[:,-60:], rolling_blend, axis=1))"
   ]
  },
  {
   "cell_type": "markdown",
   "metadata": {},
   "source": [
    "Now gonna try both the good blends but just replacing with prophet at the end, rather than submitting it to blending"
   ]
  },
  {
   "cell_type": "code",
   "execution_count": 169,
   "metadata": {
    "collapsed": true
   },
   "outputs": [],
   "source": [
    "blended_1 = (1.5*median+predictions[:,-60:])/2.5"
   ]
  },
  {
   "cell_type": "code",
   "execution_count": 20,
   "metadata": {
    "collapsed": true
   },
   "outputs": [],
   "source": [
    "blended_roll = np.stack(\n",
    "    [(predictions[:, -60+x]*(2-x*0.05)+broadcast[:,-60+x]*(1+x*0.05))/3 for x in range(20)],\n",
    "    axis=1\n",
    ")\n",
    "blended_roll = np.concatenate([blended_roll, (2*broadcast[:,-40:]+predictions[:,-40:])/3], axis=1)"
   ]
  },
  {
   "cell_type": "code",
   "execution_count": 21,
   "metadata": {},
   "outputs": [
    {
     "name": "stderr",
     "output_type": "stream",
     "text": [
      "../wiki/val.py:6: RuntimeWarning: invalid value encountered in true_divide\n",
      "  diff = np.abs(y_true - y_pred) / denominator\n",
      "../wiki/val.py:8: RuntimeWarning: Mean of empty slice\n",
      "  return np.nanmean(diff) if axis is None else np.nanmean(diff, axis=axis)\n"
     ]
    },
    {
     "data": {
      "text/plain": [
       "40.487231721276565"
      ]
     },
     "execution_count": 21,
     "metadata": {},
     "output_type": "execute_result"
    }
   ],
   "source": [
    "np.nanmean(val.smape(true[:,-60:], blended_roll, axis=1))"
   ]
  },
  {
   "cell_type": "code",
   "execution_count": 191,
   "metadata": {
    "collapsed": true
   },
   "outputs": [],
   "source": [
    "blend_1_replace = []\n",
    "for row in blended_1:\n",
    "    blend_1_replace.append(row)\n",
    "for _, row in prophet.iterrows():\n",
    "    blend_1_replace[int(row[0])] = row[1:]\n",
    "blend_1_replace = np.stack(blend_1_replace)"
   ]
  },
  {
   "cell_type": "code",
   "execution_count": 192,
   "metadata": {
    "collapsed": true
   },
   "outputs": [],
   "source": [
    "blended_roll_replace = []\n",
    "for row in blended_roll:\n",
    "    blended_roll_replace.append(row)\n",
    "for _, row in prophet.iterrows():\n",
    "    blended_roll_replace[int(row[0])] = row[1:]\n",
    "blended_roll_replace = np.stack(blended_roll_replace)"
   ]
  },
  {
   "cell_type": "code",
   "execution_count": 193,
   "metadata": {},
   "outputs": [
    {
     "name": "stderr",
     "output_type": "stream",
     "text": [
      "../wiki/val.py:6: RuntimeWarning: invalid value encountered in true_divide\n",
      "  diff = np.abs(y_true - y_pred) / denominator\n",
      "../wiki/val.py:8: RuntimeWarning: Mean of empty slice\n",
      "  return np.nanmean(diff) if axis is None else np.nanmean(diff, axis=axis)\n"
     ]
    },
    {
     "data": {
      "text/plain": [
       "40.463441444326833"
      ]
     },
     "execution_count": 193,
     "metadata": {},
     "output_type": "execute_result"
    }
   ],
   "source": [
    "np.nanmean(val.smape(true[:,-60:], blend_1_replace, axis=1))"
   ]
  },
  {
   "cell_type": "code",
   "execution_count": 194,
   "metadata": {},
   "outputs": [
    {
     "name": "stderr",
     "output_type": "stream",
     "text": [
      "../wiki/val.py:6: RuntimeWarning: invalid value encountered in true_divide\n",
      "  diff = np.abs(y_true - y_pred) / denominator\n",
      "../wiki/val.py:8: RuntimeWarning: Mean of empty slice\n",
      "  return np.nanmean(diff) if axis is None else np.nanmean(diff, axis=axis)\n"
     ]
    },
    {
     "data": {
      "text/plain": [
       "40.402633660290768"
      ]
     },
     "execution_count": 194,
     "metadata": {},
     "output_type": "execute_result"
    }
   ],
   "source": [
    "np.nanmean(val.smape(true[:,-60:], blended_roll_replace, axis=1))"
   ]
  },
  {
   "cell_type": "markdown",
   "metadata": {},
   "source": [
    "Prepare predictions to send to Dan"
   ]
  },
  {
   "cell_type": "code",
   "execution_count": 206,
   "metadata": {
    "collapsed": true
   },
   "outputs": [],
   "source": [
    "pd.DataFrame(predictions[:,-60:], columns=['date '+str(i) for i in range(1,61)]).to_feather('../data/rnn_final_preds.f')"
   ]
  }
 ],
 "metadata": {
  "kernelspec": {
   "display_name": "Python 3",
   "language": "python",
   "name": "python3"
  },
  "language_info": {
   "codemirror_mode": {
    "name": "ipython",
    "version": 3
   },
   "file_extension": ".py",
   "mimetype": "text/x-python",
   "name": "python",
   "nbconvert_exporter": "python",
   "pygments_lexer": "ipython3",
   "version": "3.6.2"
  }
 },
 "nbformat": 4,
 "nbformat_minor": 2
}
