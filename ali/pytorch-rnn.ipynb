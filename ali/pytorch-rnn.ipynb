{
 "cells": [
  {
   "cell_type": "code",
   "execution_count": 2,
   "metadata": {
    "collapsed": true
   },
   "outputs": [],
   "source": [
    "import torch\n",
    "import torch.nn as nn\n",
    "from torch.autograd import Variable\n",
    "import numpy as np\n",
    "import torch.utils.data as data_utils\n",
    "import pandas as pd\n",
    "import os\n",
    "from sklearn.preprocessing import MinMaxScaler"
   ]
  },
  {
   "cell_type": "code",
   "execution_count": 3,
   "metadata": {},
   "outputs": [
    {
     "data": {
      "text/plain": [
       "<torch._C.Generator at 0x118093228>"
      ]
     },
     "execution_count": 3,
     "metadata": {},
     "output_type": "execute_result"
    }
   ],
   "source": [
    "torch.manual_seed(1)"
   ]
  },
  {
   "cell_type": "code",
   "execution_count": 29,
   "metadata": {
    "collapsed": true
   },
   "outputs": [],
   "source": [
    "batch_size = 16"
   ]
  },
  {
   "cell_type": "code",
   "execution_count": 4,
   "metadata": {
    "collapsed": true
   },
   "outputs": [],
   "source": [
    "base_dir = '../data/'"
   ]
  },
  {
   "cell_type": "code",
   "execution_count": 5,
   "metadata": {
    "collapsed": true
   },
   "outputs": [],
   "source": [
    "train = pd.read_csv(base_dir+'train_1.csv', nrows=100).fillna(0)"
   ]
  },
  {
   "cell_type": "code",
   "execution_count": 12,
   "metadata": {
    "collapsed": true
   },
   "outputs": [],
   "source": [
    "X = train.drop('Page', axis=1).values\n",
    "Y = train['2016-12-31'].values"
   ]
  },
  {
   "cell_type": "code",
   "execution_count": 16,
   "metadata": {},
   "outputs": [
    {
     "data": {
      "text/plain": [
       "(100, 550)"
      ]
     },
     "execution_count": 16,
     "metadata": {},
     "output_type": "execute_result"
    }
   ],
   "source": [
    "shape = X.shape ; shape"
   ]
  },
  {
   "cell_type": "code",
   "execution_count": 17,
   "metadata": {},
   "outputs": [
    {
     "data": {
      "text/plain": [
       "(100,)"
      ]
     },
     "execution_count": 17,
     "metadata": {},
     "output_type": "execute_result"
    }
   ],
   "source": [
    "Y.shape"
   ]
  },
  {
   "cell_type": "code",
   "execution_count": 21,
   "metadata": {
    "collapsed": true
   },
   "outputs": [],
   "source": [
    "sc = MinMaxScaler()\n",
    "X = np.reshape(sc.fit_transform(np.reshape(X,(-1,1))), shape)\n",
    "Y = np.reshape(sc.fit_transform(np.reshape(Y,(-1,1))), -1)"
   ]
  },
  {
   "cell_type": "code",
   "execution_count": 22,
   "metadata": {},
   "outputs": [
    {
     "data": {
      "text/plain": [
       "(100, 550)"
      ]
     },
     "execution_count": 22,
     "metadata": {},
     "output_type": "execute_result"
    }
   ],
   "source": [
    "X.shape"
   ]
  },
  {
   "cell_type": "code",
   "execution_count": 23,
   "metadata": {},
   "outputs": [
    {
     "data": {
      "text/plain": [
       "(100,)"
      ]
     },
     "execution_count": 23,
     "metadata": {},
     "output_type": "execute_result"
    }
   ],
   "source": [
    "Y.shape"
   ]
  },
  {
   "cell_type": "code",
   "execution_count": 33,
   "metadata": {},
   "outputs": [
    {
     "data": {
      "text/plain": [
       "torch.Size([100, 1])"
      ]
     },
     "execution_count": 33,
     "metadata": {},
     "output_type": "execute_result"
    }
   ],
   "source": [
    "torch.from_numpy(Y).unsqueeze(-1).shape"
   ]
  },
  {
   "cell_type": "markdown",
   "metadata": {},
   "source": [
    "The unsqueeze below is adding another dimension to the tensors (size 1, at the end). Also I believe the shuffle only shuffles the first dimension (thus shuffling the sequences whole). This could also probably be turned off with no ill effects"
   ]
  },
  {
   "cell_type": "code",
   "execution_count": 34,
   "metadata": {
    "collapsed": true
   },
   "outputs": [],
   "source": [
    "trainloader = data_utils.DataLoader(\n",
    "    data_utils.TensorDataset(\n",
    "        torch.from_numpy(X).float().unsqueeze(-1),\n",
    "        torch.from_numpy(Y).float().unsqueeze(-1)\n",
    "    ),\n",
    "    batch_size=batch_size, shuffle=True\n",
    ")"
   ]
  },
  {
   "cell_type": "markdown",
   "metadata": {},
   "source": [
    "The below is borrowed from some bloke on the discussion"
   ]
  },
  {
   "cell_type": "code",
   "execution_count": 35,
   "metadata": {
    "collapsed": true
   },
   "outputs": [],
   "source": [
    "seq_len = 1"
   ]
  },
  {
   "cell_type": "code",
   "execution_count": null,
   "metadata": {
    "collapsed": true
   },
   "outputs": [],
   "source": [
    "class RNN(nn.Module):\n",
    "    def __init__(self):\n",
    "        super().__init__()\n",
    "        \n",
    "        self.hidden_units = 128\n",
    "        self.model = nn.Sequential()\n",
    "        \n",
    "        self.rnn = nn.RNN(\n",
    "            input_size=seq_len,\n",
    "            hidden_size=self.hidden_units,\n",
    "            num_layers=2, #number of RNN layers\n",
    "            batch_first=True #batch dimension is first\n",
    "            nonlinearity='relu',\n",
    "            dropout=0.2\n",
    "        )\n",
    "        \n",
    "        #I can change the below to two softplus outputs for\n",
    "        #mean and variance in the paper version (see notes below)\n",
    "        self.out = nn.Linear(self.hidden_units, 1)\n",
    "        \n",
    "    def forward(self, x, h_state):\n",
    "        # dimensions:\n",
    "        # x (batch, time_step, input_size)\n",
    "        # h_state (n_layers, batch, hidden_size)\n",
    "        # r_out (batch, time_step, hidden_size)\n",
    "        r_out, h_state = self.rnn(x, h_state)\n",
    "        \n",
    "        #save all the outputs together (kinda assuming seq_len is bigger)\n",
    "        out = []\n",
    "        for time_step in range(r_out.size(1)):\n",
    "            outs.append(self.out(r_out[:,time_step,:]))\n",
    "        return torch.stack(outs, dim=1)[:,-1,:], h_state"
   ]
  },
  {
   "cell_type": "markdown",
   "metadata": {},
   "source": [
    "Notes on the above \n",
    "- should check which activation I use (remember something about atan being good for LSTM)\n",
    "- num hidden units is same, as is dropout, as if number of rnn layers\n",
    "- i explicitly gave whole sequence and number of timesteps (as opposed to `seq_len = 1` above - mine is literally just as if `seq_len` is larger) but should be the same thing (based on my somewhat shaky understanding of Keras LSTM). however might be more difficult to implement [this paper](https://arxiv.org/pdf/1704.04110.pdf) in the Keras version which suggests \n",
    "  - outputting mean and variance and maximising log likelihood of negative binomial distribution\n",
    "  - including extra features specifically day of week, week/month of year, and \n",
    "  - an embedding to capture groupings of like pages\n",
    "- however could be fine - eg metafeatures would be easily implemented via functional api\n",
    "- the only interesting bit is the bit which essentially saves the outputs as a sequence (aka, what I was doing via Keras' built in features) \n",
    "  "
   ]
  },
  {
   "cell_type": "markdown",
   "metadata": {},
   "source": [
    "Below directly ripped from discussion guy's gist"
   ]
  },
  {
   "cell_type": "code",
   "execution_count": null,
   "metadata": {
    "collapsed": true
   },
   "outputs": [],
   "source": [
    "def train():\n",
    "    rnn = RNN().cuda()\n",
    "    print(rnn)\n",
    "    optimizer = torch.optim.Adam(rnn.parameters(), lr=1e-3)   # optimize all cnn parameters\n",
    "    #here the loss function would have to be changed to the log likelihood version\n",
    "    #and possibly written - which would mean computing gradient (and hessian?) of it\n",
    "    loss_func = nn.MSELoss()\n",
    "    h_state = None      # for initial hidden state\n",
    "\n",
    "    dataiter=iter(trainloader)\n",
    "    for step in range(200):\n",
    "        x_all, _ = dataiter.next()\n",
    "        if x_all.size(0)<batch_size:\n",
    "            dataiter = iter(trainloader)\n",
    "            x_all, _ = dataiter.next()\n",
    "        pos=np.random.randint(pred_date_len,x_all.size(1)-pred_date_len)\n",
    "        # print('pos:',pos,x_all.size())\n",
    "        x=Variable(x_all[:,:pos,:]).cuda()\n",
    "        y=Variable(x_all[:,pos:pos+pred_date_len,:]).cuda()\n",
    "        y=y.view(batch_size,pred_date_len)\n",
    "        y=y.sum(dim=1)\n",
    "        # print(x, y)\n",
    "\n",
    "        prediction, h_state = rnn(x, h_state)   # rnn output\n",
    "        # !! next step is important !!\n",
    "        h_state = Variable(h_state.data)        # repack the hidden state, break the connection from last iteration\n",
    "\n",
    "        loss = loss_func(prediction, y)         # cross entropy loss\n",
    "        optimizer.zero_grad()                   # clear gradients for this training step\n",
    "        loss.backward()                         # backpropagation, compute gradients\n",
    "        print(step,loss.data[0])\n",
    "        optimizer.step()                        # apply gradients\n",
    "\n",
    "        # if step%10==0:\n",
    "        #     evaluate(rnn,h_state)\n",
    "\n",
    "    torch.save(rnn,'rnn.mdl')\n",
    "    pkl.dump(h_state,open('h_state','wb'))\n",
    "    print('saved rnn.mdl and h_state.')"
   ]
  },
  {
   "cell_type": "markdown",
   "metadata": {},
   "source": [
    "Notes on above:\n",
    "- rewriting the loss function to the log likelihood maximizer for negative binomial distribution is doable\n",
    "    - upon thinking further it seems that a poisson distribution more accurately should model pageviews (see [this paper](http://citeseerx.ist.psu.edu/viewdoc/download;jsessionid=18EDC4D891D952D5706850A0B33D0561?doi=10.1.1.77.3333&rep=rep1&type=pdf) for discussion to the contrary though) and pytorch has a loss function for negative likelihood w/ poisson distribution already\n",
    "    - _however_ we're scaling the inputs so we lose the whole integer thing anyway, in which case a logistic distribution might be more appropriate? hooker will know more about this. pytorch will have some log likelihood loss function \n",
    "- adding meta features again doable by concatenating them onto the `Variable`s x and y defined on line 18/19\n",
    "- to implement an embedding, would presumably have to add the embedding variables to to optimizer's initialiser, then do a lookup to concatentate them before giving them to the RNN. \n",
    "  - though it seems somewhat likely that pytorch has something built to deal with embeddings already too"
   ]
  }
 ],
 "metadata": {
  "kernelspec": {
   "display_name": "Python [conda env:explore]",
   "language": "python",
   "name": "conda-env-explore-py"
  },
  "language_info": {
   "codemirror_mode": {
    "name": "ipython",
    "version": 3
   },
   "file_extension": ".py",
   "mimetype": "text/x-python",
   "name": "python",
   "nbconvert_exporter": "python",
   "pygments_lexer": "ipython3",
   "version": "3.6.2"
  }
 },
 "nbformat": 4,
 "nbformat_minor": 2
}
