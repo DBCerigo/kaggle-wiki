{
 "cells": [
  {
   "cell_type": "code",
   "execution_count": 1,
   "metadata": {
    "collapsed": true
   },
   "outputs": [],
   "source": [
    "%load_ext autoreload\n",
    "%autoreload 2\n",
    "import pandas as pd\n",
    "import numpy as np\n",
    "import matplotlib.pyplot as plt\n",
    "from tqdm import tqdm\n",
    "import sys\n",
    "sys.path.append('../')\n",
    "from wiki.utils import clock\n",
    "from wiki.submissions import get_ids_df\n",
    "from wiki.rnn_predict import get_pages_df_template, get_dates\n",
    "%matplotlib inline"
   ]
  },
  {
   "cell_type": "code",
   "execution_count": 2,
   "metadata": {
    "collapsed": true
   },
   "outputs": [],
   "source": [
    "data_dir = '../data/'"
   ]
  },
  {
   "cell_type": "code",
   "execution_count": 3,
   "metadata": {},
   "outputs": [
    {
     "name": "stderr",
     "output_type": "stream",
     "text": [
      "11661it [00:00, 116609.83it/s]"
     ]
    },
    {
     "name": "stdout",
     "output_type": "stream",
     "text": [
      "No ids df found. Creating and saving...\n",
      "Creating page to id dictionary...\n"
     ]
    },
    {
     "name": "stderr",
     "output_type": "stream",
     "text": [
      "8993906it [01:13, 122302.46it/s]\n"
     ]
    },
    {
     "name": "stdout",
     "output_type": "stream",
     "text": [
      "Resorting to same order as train_2.csv...\n",
      "No pages df template found. Creating and saving...\n",
      "No dates df template found. Creating and saving...\n"
     ]
    }
   ],
   "source": [
    "ids_df = get_ids_df(data_dir)\n",
    "pages_tempalte = get_pages_df_template(data_dir)\n",
    "dates = get_dates(data_dir)"
   ]
  },
  {
   "cell_type": "code",
   "execution_count": 9,
   "metadata": {},
   "outputs": [
    {
     "data": {
      "text/html": [
       "<div>\n",
       "<style>\n",
       "    .dataframe thead tr:only-child th {\n",
       "        text-align: right;\n",
       "    }\n",
       "\n",
       "    .dataframe thead th {\n",
       "        text-align: left;\n",
       "    }\n",
       "\n",
       "    .dataframe tbody tr th {\n",
       "        vertical-align: top;\n",
       "    }\n",
       "</style>\n",
       "<table border=\"1\" class=\"dataframe\">\n",
       "  <thead>\n",
       "    <tr style=\"text-align: right;\">\n",
       "      <th></th>\n",
       "      <th>Page</th>\n",
       "      <th>2017-09-13</th>\n",
       "      <th>2017-09-14</th>\n",
       "      <th>2017-09-15</th>\n",
       "      <th>2017-09-16</th>\n",
       "      <th>2017-09-17</th>\n",
       "      <th>2017-09-18</th>\n",
       "      <th>2017-09-19</th>\n",
       "      <th>2017-09-20</th>\n",
       "      <th>2017-09-21</th>\n",
       "      <th>...</th>\n",
       "      <th>2017-11-04</th>\n",
       "      <th>2017-11-05</th>\n",
       "      <th>2017-11-06</th>\n",
       "      <th>2017-11-07</th>\n",
       "      <th>2017-11-08</th>\n",
       "      <th>2017-11-09</th>\n",
       "      <th>2017-11-10</th>\n",
       "      <th>2017-11-11</th>\n",
       "      <th>2017-11-12</th>\n",
       "      <th>2017-11-13</th>\n",
       "    </tr>\n",
       "  </thead>\n",
       "  <tbody>\n",
       "    <tr>\n",
       "      <th>0</th>\n",
       "      <td>2NE1_zh.wikipedia.org_all-access_spider</td>\n",
       "      <td>4ba4d551a031</td>\n",
       "      <td>34f6340ced6b</td>\n",
       "      <td>571ae88b39c8</td>\n",
       "      <td>16fb6ea72811</td>\n",
       "      <td>b153a0f1620f</td>\n",
       "      <td>3de66ba677f0</td>\n",
       "      <td>12b69ecd5ba0</td>\n",
       "      <td>050ccc7dec87</td>\n",
       "      <td>2c2817fa4aa0</td>\n",
       "      <td>...</td>\n",
       "      <td>15e3a39797b8</td>\n",
       "      <td>24d419f072ae</td>\n",
       "      <td>e31ae36ca920</td>\n",
       "      <td>f8d66e5665de</td>\n",
       "      <td>f08187c0319b</td>\n",
       "      <td>e5e4241f17a7</td>\n",
       "      <td>a42340d88229</td>\n",
       "      <td>7472c6841aa8</td>\n",
       "      <td>a4f53c2d5d50</td>\n",
       "      <td>15bb7a16f3ee</td>\n",
       "    </tr>\n",
       "    <tr>\n",
       "      <th>1</th>\n",
       "      <td>2PM_zh.wikipedia.org_all-access_spider</td>\n",
       "      <td>60d27ad56a15</td>\n",
       "      <td>835359b62d6e</td>\n",
       "      <td>4a7e625cf6f6</td>\n",
       "      <td>67eae31fa80f</td>\n",
       "      <td>22686e71cdc6</td>\n",
       "      <td>d4779b0aff78</td>\n",
       "      <td>63c6af6c6b7a</td>\n",
       "      <td>252b98bf184e</td>\n",
       "      <td>e202984b0e46</td>\n",
       "      <td>...</td>\n",
       "      <td>f03cb0e7cef8</td>\n",
       "      <td>4f0dca49f65b</td>\n",
       "      <td>11b6a4e79632</td>\n",
       "      <td>4f6611c91bca</td>\n",
       "      <td>6423b8fe42f0</td>\n",
       "      <td>6a21dac0daa5</td>\n",
       "      <td>f070734528d4</td>\n",
       "      <td>756f29a1a63d</td>\n",
       "      <td>81e6405110b7</td>\n",
       "      <td>325e9781aec4</td>\n",
       "    </tr>\n",
       "    <tr>\n",
       "      <th>2</th>\n",
       "      <td>3C_zh.wikipedia.org_all-access_spider</td>\n",
       "      <td>fd318ba35812</td>\n",
       "      <td>ce533dc64aca</td>\n",
       "      <td>e2d789c1eaca</td>\n",
       "      <td>f791bdb7e37a</td>\n",
       "      <td>3a9c25648ca4</td>\n",
       "      <td>9a652e4d38da</td>\n",
       "      <td>e8b71496a1b1</td>\n",
       "      <td>a4598d320691</td>\n",
       "      <td>69374cae703c</td>\n",
       "      <td>...</td>\n",
       "      <td>a2129c4837b5</td>\n",
       "      <td>c142d2a5d576</td>\n",
       "      <td>2e990cc34c08</td>\n",
       "      <td>4a8be55560ab</td>\n",
       "      <td>796adf64ecc2</td>\n",
       "      <td>d97750a9fcee</td>\n",
       "      <td>6b69c9861551</td>\n",
       "      <td>57f01f539498</td>\n",
       "      <td>47e7b0d3c5c5</td>\n",
       "      <td>2e64182fe3ae</td>\n",
       "    </tr>\n",
       "    <tr>\n",
       "      <th>3</th>\n",
       "      <td>4minute_zh.wikipedia.org_all-access_spider</td>\n",
       "      <td>6f94c9eff16b</td>\n",
       "      <td>5028c8733286</td>\n",
       "      <td>f3b4dd9aa96b</td>\n",
       "      <td>e296325d90bc</td>\n",
       "      <td>11ffd81f62d0</td>\n",
       "      <td>e1126e3363aa</td>\n",
       "      <td>0514f6b26e5b</td>\n",
       "      <td>67081514c240</td>\n",
       "      <td>3577fdcbafce</td>\n",
       "      <td>...</td>\n",
       "      <td>04437b1c7d0b</td>\n",
       "      <td>318786ada577</td>\n",
       "      <td>c60bbb29f433</td>\n",
       "      <td>e19cbd860c24</td>\n",
       "      <td>c96cf49a2594</td>\n",
       "      <td>fb0b01faf014</td>\n",
       "      <td>5456881020e7</td>\n",
       "      <td>ec2ccd8a1f44</td>\n",
       "      <td>405401a48953</td>\n",
       "      <td>caf0782bb3be</td>\n",
       "    </tr>\n",
       "    <tr>\n",
       "      <th>4</th>\n",
       "      <td>52_Hz_I_Love_You_zh.wikipedia.org_all-access_s...</td>\n",
       "      <td>3d831f757952</td>\n",
       "      <td>29f619198391</td>\n",
       "      <td>02255cbd9070</td>\n",
       "      <td>2c0b9474f2c9</td>\n",
       "      <td>7ad675a99cfa</td>\n",
       "      <td>2cef3f4e7616</td>\n",
       "      <td>9466dbccaedb</td>\n",
       "      <td>fd0a1591f86b</td>\n",
       "      <td>61d7f099abb3</td>\n",
       "      <td>...</td>\n",
       "      <td>1c89e76e8302</td>\n",
       "      <td>6a6629fd2eb6</td>\n",
       "      <td>f0c1f8a3c213</td>\n",
       "      <td>589a581644c9</td>\n",
       "      <td>00acc000f385</td>\n",
       "      <td>53b28a74fdd2</td>\n",
       "      <td>8253cdad7574</td>\n",
       "      <td>1f5893ffacda</td>\n",
       "      <td>035d20469951</td>\n",
       "      <td>b107978fbc85</td>\n",
       "    </tr>\n",
       "  </tbody>\n",
       "</table>\n",
       "<p>5 rows × 63 columns</p>\n",
       "</div>"
      ],
      "text/plain": [
       "                                                Page    2017-09-13  \\\n",
       "0            2NE1_zh.wikipedia.org_all-access_spider  4ba4d551a031   \n",
       "1             2PM_zh.wikipedia.org_all-access_spider  60d27ad56a15   \n",
       "2              3C_zh.wikipedia.org_all-access_spider  fd318ba35812   \n",
       "3         4minute_zh.wikipedia.org_all-access_spider  6f94c9eff16b   \n",
       "4  52_Hz_I_Love_You_zh.wikipedia.org_all-access_s...  3d831f757952   \n",
       "\n",
       "     2017-09-14    2017-09-15    2017-09-16    2017-09-17    2017-09-18  \\\n",
       "0  34f6340ced6b  571ae88b39c8  16fb6ea72811  b153a0f1620f  3de66ba677f0   \n",
       "1  835359b62d6e  4a7e625cf6f6  67eae31fa80f  22686e71cdc6  d4779b0aff78   \n",
       "2  ce533dc64aca  e2d789c1eaca  f791bdb7e37a  3a9c25648ca4  9a652e4d38da   \n",
       "3  5028c8733286  f3b4dd9aa96b  e296325d90bc  11ffd81f62d0  e1126e3363aa   \n",
       "4  29f619198391  02255cbd9070  2c0b9474f2c9  7ad675a99cfa  2cef3f4e7616   \n",
       "\n",
       "     2017-09-19    2017-09-20    2017-09-21      ...         2017-11-04  \\\n",
       "0  12b69ecd5ba0  050ccc7dec87  2c2817fa4aa0      ...       15e3a39797b8   \n",
       "1  63c6af6c6b7a  252b98bf184e  e202984b0e46      ...       f03cb0e7cef8   \n",
       "2  e8b71496a1b1  a4598d320691  69374cae703c      ...       a2129c4837b5   \n",
       "3  0514f6b26e5b  67081514c240  3577fdcbafce      ...       04437b1c7d0b   \n",
       "4  9466dbccaedb  fd0a1591f86b  61d7f099abb3      ...       1c89e76e8302   \n",
       "\n",
       "     2017-11-05    2017-11-06    2017-11-07    2017-11-08    2017-11-09  \\\n",
       "0  24d419f072ae  e31ae36ca920  f8d66e5665de  f08187c0319b  e5e4241f17a7   \n",
       "1  4f0dca49f65b  11b6a4e79632  4f6611c91bca  6423b8fe42f0  6a21dac0daa5   \n",
       "2  c142d2a5d576  2e990cc34c08  4a8be55560ab  796adf64ecc2  d97750a9fcee   \n",
       "3  318786ada577  c60bbb29f433  e19cbd860c24  c96cf49a2594  fb0b01faf014   \n",
       "4  6a6629fd2eb6  f0c1f8a3c213  589a581644c9  00acc000f385  53b28a74fdd2   \n",
       "\n",
       "     2017-11-10    2017-11-11    2017-11-12    2017-11-13  \n",
       "0  a42340d88229  7472c6841aa8  a4f53c2d5d50  15bb7a16f3ee  \n",
       "1  f070734528d4  756f29a1a63d  81e6405110b7  325e9781aec4  \n",
       "2  6b69c9861551  57f01f539498  47e7b0d3c5c5  2e64182fe3ae  \n",
       "3  5456881020e7  ec2ccd8a1f44  405401a48953  caf0782bb3be  \n",
       "4  8253cdad7574  1f5893ffacda  035d20469951  b107978fbc85  \n",
       "\n",
       "[5 rows x 63 columns]"
      ]
     },
     "execution_count": 9,
     "metadata": {},
     "output_type": "execute_result"
    }
   ],
   "source": [
    "ids_df.head()"
   ]
  },
  {
   "cell_type": "code",
   "execution_count": 16,
   "metadata": {},
   "outputs": [
    {
     "data": {
      "text/html": [
       "<div>\n",
       "<style>\n",
       "    .dataframe thead tr:only-child th {\n",
       "        text-align: right;\n",
       "    }\n",
       "\n",
       "    .dataframe thead th {\n",
       "        text-align: left;\n",
       "    }\n",
       "\n",
       "    .dataframe tbody tr th {\n",
       "        vertical-align: top;\n",
       "    }\n",
       "</style>\n",
       "<table border=\"1\" class=\"dataframe\">\n",
       "  <thead>\n",
       "    <tr style=\"text-align: right;\">\n",
       "      <th></th>\n",
       "      <th>Page</th>\n",
       "      <th>2015-07-01</th>\n",
       "      <th>2015-07-02</th>\n",
       "      <th>2015-07-03</th>\n",
       "      <th>2015-07-04</th>\n",
       "      <th>2015-07-05</th>\n",
       "      <th>2015-07-06</th>\n",
       "      <th>2015-07-07</th>\n",
       "      <th>2015-07-08</th>\n",
       "      <th>2015-07-09</th>\n",
       "      <th>...</th>\n",
       "      <th>2017-08-22</th>\n",
       "      <th>2017-08-23</th>\n",
       "      <th>2017-08-24</th>\n",
       "      <th>2017-08-25</th>\n",
       "      <th>2017-08-26</th>\n",
       "      <th>2017-08-27</th>\n",
       "      <th>2017-08-28</th>\n",
       "      <th>2017-08-29</th>\n",
       "      <th>2017-08-30</th>\n",
       "      <th>2017-08-31</th>\n",
       "    </tr>\n",
       "  </thead>\n",
       "  <tbody>\n",
       "    <tr>\n",
       "      <th>0</th>\n",
       "      <td>2NE1_zh.wikipedia.org_all-access_spider</td>\n",
       "      <td>18.0</td>\n",
       "      <td>11.0</td>\n",
       "      <td>5.0</td>\n",
       "      <td>13.0</td>\n",
       "      <td>14.0</td>\n",
       "      <td>9.0</td>\n",
       "      <td>9.0</td>\n",
       "      <td>22.0</td>\n",
       "      <td>26.0</td>\n",
       "      <td>...</td>\n",
       "      <td>37.0</td>\n",
       "      <td>58.0</td>\n",
       "      <td>25.0</td>\n",
       "      <td>23.0</td>\n",
       "      <td>25.0</td>\n",
       "      <td>47.0</td>\n",
       "      <td>44.0</td>\n",
       "      <td>26.0</td>\n",
       "      <td>24.0</td>\n",
       "      <td>21.0</td>\n",
       "    </tr>\n",
       "    <tr>\n",
       "      <th>1</th>\n",
       "      <td>2PM_zh.wikipedia.org_all-access_spider</td>\n",
       "      <td>11.0</td>\n",
       "      <td>14.0</td>\n",
       "      <td>15.0</td>\n",
       "      <td>18.0</td>\n",
       "      <td>11.0</td>\n",
       "      <td>13.0</td>\n",
       "      <td>22.0</td>\n",
       "      <td>11.0</td>\n",
       "      <td>10.0</td>\n",
       "      <td>...</td>\n",
       "      <td>14.0</td>\n",
       "      <td>34.0</td>\n",
       "      <td>16.0</td>\n",
       "      <td>31.0</td>\n",
       "      <td>34.0</td>\n",
       "      <td>33.0</td>\n",
       "      <td>32.0</td>\n",
       "      <td>29.0</td>\n",
       "      <td>34.0</td>\n",
       "      <td>25.0</td>\n",
       "    </tr>\n",
       "    <tr>\n",
       "      <th>2</th>\n",
       "      <td>3C_zh.wikipedia.org_all-access_spider</td>\n",
       "      <td>1.0</td>\n",
       "      <td>0.0</td>\n",
       "      <td>1.0</td>\n",
       "      <td>1.0</td>\n",
       "      <td>0.0</td>\n",
       "      <td>4.0</td>\n",
       "      <td>0.0</td>\n",
       "      <td>3.0</td>\n",
       "      <td>4.0</td>\n",
       "      <td>...</td>\n",
       "      <td>6.0</td>\n",
       "      <td>23.0</td>\n",
       "      <td>11.0</td>\n",
       "      <td>8.0</td>\n",
       "      <td>6.0</td>\n",
       "      <td>13.0</td>\n",
       "      <td>12.0</td>\n",
       "      <td>8.0</td>\n",
       "      <td>12.0</td>\n",
       "      <td>9.0</td>\n",
       "    </tr>\n",
       "    <tr>\n",
       "      <th>3</th>\n",
       "      <td>4minute_zh.wikipedia.org_all-access_spider</td>\n",
       "      <td>35.0</td>\n",
       "      <td>13.0</td>\n",
       "      <td>10.0</td>\n",
       "      <td>94.0</td>\n",
       "      <td>4.0</td>\n",
       "      <td>26.0</td>\n",
       "      <td>14.0</td>\n",
       "      <td>9.0</td>\n",
       "      <td>11.0</td>\n",
       "      <td>...</td>\n",
       "      <td>21.0</td>\n",
       "      <td>42.0</td>\n",
       "      <td>23.0</td>\n",
       "      <td>17.0</td>\n",
       "      <td>11.0</td>\n",
       "      <td>21.0</td>\n",
       "      <td>20.0</td>\n",
       "      <td>20.0</td>\n",
       "      <td>110.0</td>\n",
       "      <td>15.0</td>\n",
       "    </tr>\n",
       "    <tr>\n",
       "      <th>4</th>\n",
       "      <td>52_Hz_I_Love_You_zh.wikipedia.org_all-access_s...</td>\n",
       "      <td>NaN</td>\n",
       "      <td>NaN</td>\n",
       "      <td>NaN</td>\n",
       "      <td>NaN</td>\n",
       "      <td>NaN</td>\n",
       "      <td>NaN</td>\n",
       "      <td>NaN</td>\n",
       "      <td>NaN</td>\n",
       "      <td>NaN</td>\n",
       "      <td>...</td>\n",
       "      <td>23.0</td>\n",
       "      <td>41.0</td>\n",
       "      <td>25.0</td>\n",
       "      <td>22.0</td>\n",
       "      <td>20.0</td>\n",
       "      <td>24.0</td>\n",
       "      <td>29.0</td>\n",
       "      <td>20.0</td>\n",
       "      <td>17.0</td>\n",
       "      <td>24.0</td>\n",
       "    </tr>\n",
       "  </tbody>\n",
       "</table>\n",
       "<p>5 rows × 794 columns</p>\n",
       "</div>"
      ],
      "text/plain": [
       "                                                Page  2015-07-01  2015-07-02  \\\n",
       "0            2NE1_zh.wikipedia.org_all-access_spider        18.0        11.0   \n",
       "1             2PM_zh.wikipedia.org_all-access_spider        11.0        14.0   \n",
       "2              3C_zh.wikipedia.org_all-access_spider         1.0         0.0   \n",
       "3         4minute_zh.wikipedia.org_all-access_spider        35.0        13.0   \n",
       "4  52_Hz_I_Love_You_zh.wikipedia.org_all-access_s...         NaN         NaN   \n",
       "\n",
       "   2015-07-03  2015-07-04  2015-07-05  2015-07-06  2015-07-07  2015-07-08  \\\n",
       "0         5.0        13.0        14.0         9.0         9.0        22.0   \n",
       "1        15.0        18.0        11.0        13.0        22.0        11.0   \n",
       "2         1.0         1.0         0.0         4.0         0.0         3.0   \n",
       "3        10.0        94.0         4.0        26.0        14.0         9.0   \n",
       "4         NaN         NaN         NaN         NaN         NaN         NaN   \n",
       "\n",
       "   2015-07-09     ...      2017-08-22  2017-08-23  2017-08-24  2017-08-25  \\\n",
       "0        26.0     ...            37.0        58.0        25.0        23.0   \n",
       "1        10.0     ...            14.0        34.0        16.0        31.0   \n",
       "2         4.0     ...             6.0        23.0        11.0         8.0   \n",
       "3        11.0     ...            21.0        42.0        23.0        17.0   \n",
       "4         NaN     ...            23.0        41.0        25.0        22.0   \n",
       "\n",
       "   2017-08-26  2017-08-27  2017-08-28  2017-08-29  2017-08-30  2017-08-31  \n",
       "0        25.0        47.0        44.0        26.0        24.0        21.0  \n",
       "1        34.0        33.0        32.0        29.0        34.0        25.0  \n",
       "2         6.0        13.0        12.0         8.0        12.0         9.0  \n",
       "3        11.0        21.0        20.0        20.0       110.0        15.0  \n",
       "4        20.0        24.0        29.0        20.0        17.0        24.0  \n",
       "\n",
       "[5 rows x 794 columns]"
      ]
     },
     "execution_count": 16,
     "metadata": {},
     "output_type": "execute_result"
    }
   ],
   "source": [
    "train.head()"
   ]
  },
  {
   "cell_type": "code",
   "execution_count": 3,
   "metadata": {
    "collapsed": true
   },
   "outputs": [],
   "source": [
    "base_dir = '../data/'"
   ]
  },
  {
   "cell_type": "code",
   "execution_count": 4,
   "metadata": {
    "collapsed": true
   },
   "outputs": [],
   "source": [
    "train = pd.read_csv(base_dir+'train_2.csv')"
   ]
  },
  {
   "cell_type": "code",
   "execution_count": 5,
   "metadata": {
    "collapsed": true
   },
   "outputs": [],
   "source": [
    "key = pd.read_csv(base_dir+'key_2.csv')"
   ]
  },
  {
   "cell_type": "code",
   "execution_count": 11,
   "metadata": {},
   "outputs": [
    {
     "data": {
      "text/plain": [
       "'2015-07-01'"
      ]
     },
     "execution_count": 11,
     "metadata": {},
     "output_type": "execute_result"
    }
   ],
   "source": [
    "train.columns[1]"
   ]
  },
  {
   "cell_type": "code",
   "execution_count": 6,
   "metadata": {},
   "outputs": [
    {
     "name": "stdout",
     "output_type": "stream",
     "text": [
      "<class 'pandas.core.frame.DataFrame'>\n",
      "RangeIndex: 8993906 entries, 0 to 8993905\n",
      "Data columns (total 2 columns):\n",
      "Page    object\n",
      "Id      object\n",
      "dtypes: object(2)\n",
      "memory usage: 137.2+ MB\n"
     ]
    }
   ],
   "source": [
    "key.info()"
   ]
  },
  {
   "cell_type": "code",
   "execution_count": 10,
   "metadata": {},
   "outputs": [
    {
     "name": "stdout",
     "output_type": "stream",
     "text": [
      "<class 'pandas.core.frame.DataFrame'>\n",
      "RangeIndex: 145063 entries, 0 to 145062\n",
      "Columns: 794 entries, Page to 2017-08-31\n",
      "dtypes: float64(793), object(1)\n",
      "memory usage: 878.8+ MB\n"
     ]
    }
   ],
   "source": [
    "train.info()"
   ]
  },
  {
   "cell_type": "code",
   "execution_count": 84,
   "metadata": {},
   "outputs": [
    {
     "data": {
      "text/html": [
       "<div>\n",
       "<style>\n",
       "    .dataframe thead tr:only-child th {\n",
       "        text-align: right;\n",
       "    }\n",
       "\n",
       "    .dataframe thead th {\n",
       "        text-align: left;\n",
       "    }\n",
       "\n",
       "    .dataframe tbody tr th {\n",
       "        vertical-align: top;\n",
       "    }\n",
       "</style>\n",
       "<table border=\"1\" class=\"dataframe\">\n",
       "  <thead>\n",
       "    <tr style=\"text-align: right;\">\n",
       "      <th></th>\n",
       "      <th>Page</th>\n",
       "      <th>Id</th>\n",
       "    </tr>\n",
       "  </thead>\n",
       "  <tbody>\n",
       "    <tr>\n",
       "      <th>0</th>\n",
       "      <td>!vote_en.wikipedia.org_all-access_all-agents_2...</td>\n",
       "      <td>bf4edcf969af</td>\n",
       "    </tr>\n",
       "    <tr>\n",
       "      <th>1</th>\n",
       "      <td>!vote_en.wikipedia.org_all-access_all-agents_2...</td>\n",
       "      <td>929ed2bf52b9</td>\n",
       "    </tr>\n",
       "    <tr>\n",
       "      <th>2</th>\n",
       "      <td>!vote_en.wikipedia.org_all-access_all-agents_2...</td>\n",
       "      <td>ff29d0f51d5c</td>\n",
       "    </tr>\n",
       "    <tr>\n",
       "      <th>3</th>\n",
       "      <td>!vote_en.wikipedia.org_all-access_all-agents_2...</td>\n",
       "      <td>e98873359be6</td>\n",
       "    </tr>\n",
       "    <tr>\n",
       "      <th>4</th>\n",
       "      <td>!vote_en.wikipedia.org_all-access_all-agents_2...</td>\n",
       "      <td>fa012434263a</td>\n",
       "    </tr>\n",
       "  </tbody>\n",
       "</table>\n",
       "</div>"
      ],
      "text/plain": [
       "                                                Page            Id\n",
       "0  !vote_en.wikipedia.org_all-access_all-agents_2...  bf4edcf969af\n",
       "1  !vote_en.wikipedia.org_all-access_all-agents_2...  929ed2bf52b9\n",
       "2  !vote_en.wikipedia.org_all-access_all-agents_2...  ff29d0f51d5c\n",
       "3  !vote_en.wikipedia.org_all-access_all-agents_2...  e98873359be6\n",
       "4  !vote_en.wikipedia.org_all-access_all-agents_2...  fa012434263a"
      ]
     },
     "execution_count": 84,
     "metadata": {},
     "output_type": "execute_result"
    }
   ],
   "source": [
    "key.head()"
   ]
  },
  {
   "cell_type": "code",
   "execution_count": 6,
   "metadata": {},
   "outputs": [
    {
     "data": {
      "text/html": [
       "<div>\n",
       "<style>\n",
       "    .dataframe thead tr:only-child th {\n",
       "        text-align: right;\n",
       "    }\n",
       "\n",
       "    .dataframe thead th {\n",
       "        text-align: left;\n",
       "    }\n",
       "\n",
       "    .dataframe tbody tr th {\n",
       "        vertical-align: top;\n",
       "    }\n",
       "</style>\n",
       "<table border=\"1\" class=\"dataframe\">\n",
       "  <thead>\n",
       "    <tr style=\"text-align: right;\">\n",
       "      <th></th>\n",
       "      <th>Page</th>\n",
       "      <th>2015-07-01</th>\n",
       "      <th>2015-07-02</th>\n",
       "      <th>2015-07-03</th>\n",
       "      <th>2015-07-04</th>\n",
       "      <th>2015-07-05</th>\n",
       "      <th>2015-07-06</th>\n",
       "      <th>2015-07-07</th>\n",
       "      <th>2015-07-08</th>\n",
       "      <th>2015-07-09</th>\n",
       "      <th>...</th>\n",
       "      <th>2016-12-22</th>\n",
       "      <th>2016-12-23</th>\n",
       "      <th>2016-12-24</th>\n",
       "      <th>2016-12-25</th>\n",
       "      <th>2016-12-26</th>\n",
       "      <th>2016-12-27</th>\n",
       "      <th>2016-12-28</th>\n",
       "      <th>2016-12-29</th>\n",
       "      <th>2016-12-30</th>\n",
       "      <th>2016-12-31</th>\n",
       "    </tr>\n",
       "  </thead>\n",
       "  <tbody>\n",
       "    <tr>\n",
       "      <th>0</th>\n",
       "      <td>2NE1_zh.wikipedia.org_all-access_spider</td>\n",
       "      <td>18.0</td>\n",
       "      <td>11.0</td>\n",
       "      <td>5.0</td>\n",
       "      <td>13.0</td>\n",
       "      <td>14.0</td>\n",
       "      <td>9.0</td>\n",
       "      <td>9.0</td>\n",
       "      <td>22.0</td>\n",
       "      <td>26.0</td>\n",
       "      <td>...</td>\n",
       "      <td>32.0</td>\n",
       "      <td>63.0</td>\n",
       "      <td>15.0</td>\n",
       "      <td>26.0</td>\n",
       "      <td>14.0</td>\n",
       "      <td>20.0</td>\n",
       "      <td>22.0</td>\n",
       "      <td>19.0</td>\n",
       "      <td>18.0</td>\n",
       "      <td>20.0</td>\n",
       "    </tr>\n",
       "    <tr>\n",
       "      <th>1</th>\n",
       "      <td>2PM_zh.wikipedia.org_all-access_spider</td>\n",
       "      <td>11.0</td>\n",
       "      <td>14.0</td>\n",
       "      <td>15.0</td>\n",
       "      <td>18.0</td>\n",
       "      <td>11.0</td>\n",
       "      <td>13.0</td>\n",
       "      <td>22.0</td>\n",
       "      <td>11.0</td>\n",
       "      <td>10.0</td>\n",
       "      <td>...</td>\n",
       "      <td>17.0</td>\n",
       "      <td>42.0</td>\n",
       "      <td>28.0</td>\n",
       "      <td>15.0</td>\n",
       "      <td>9.0</td>\n",
       "      <td>30.0</td>\n",
       "      <td>52.0</td>\n",
       "      <td>45.0</td>\n",
       "      <td>26.0</td>\n",
       "      <td>20.0</td>\n",
       "    </tr>\n",
       "    <tr>\n",
       "      <th>2</th>\n",
       "      <td>3C_zh.wikipedia.org_all-access_spider</td>\n",
       "      <td>1.0</td>\n",
       "      <td>0.0</td>\n",
       "      <td>1.0</td>\n",
       "      <td>1.0</td>\n",
       "      <td>0.0</td>\n",
       "      <td>4.0</td>\n",
       "      <td>0.0</td>\n",
       "      <td>3.0</td>\n",
       "      <td>4.0</td>\n",
       "      <td>...</td>\n",
       "      <td>3.0</td>\n",
       "      <td>1.0</td>\n",
       "      <td>1.0</td>\n",
       "      <td>7.0</td>\n",
       "      <td>4.0</td>\n",
       "      <td>4.0</td>\n",
       "      <td>6.0</td>\n",
       "      <td>3.0</td>\n",
       "      <td>4.0</td>\n",
       "      <td>17.0</td>\n",
       "    </tr>\n",
       "    <tr>\n",
       "      <th>3</th>\n",
       "      <td>4minute_zh.wikipedia.org_all-access_spider</td>\n",
       "      <td>35.0</td>\n",
       "      <td>13.0</td>\n",
       "      <td>10.0</td>\n",
       "      <td>94.0</td>\n",
       "      <td>4.0</td>\n",
       "      <td>26.0</td>\n",
       "      <td>14.0</td>\n",
       "      <td>9.0</td>\n",
       "      <td>11.0</td>\n",
       "      <td>...</td>\n",
       "      <td>32.0</td>\n",
       "      <td>10.0</td>\n",
       "      <td>26.0</td>\n",
       "      <td>27.0</td>\n",
       "      <td>16.0</td>\n",
       "      <td>11.0</td>\n",
       "      <td>17.0</td>\n",
       "      <td>19.0</td>\n",
       "      <td>10.0</td>\n",
       "      <td>11.0</td>\n",
       "    </tr>\n",
       "    <tr>\n",
       "      <th>4</th>\n",
       "      <td>52_Hz_I_Love_You_zh.wikipedia.org_all-access_s...</td>\n",
       "      <td>0.0</td>\n",
       "      <td>0.0</td>\n",
       "      <td>0.0</td>\n",
       "      <td>0.0</td>\n",
       "      <td>0.0</td>\n",
       "      <td>0.0</td>\n",
       "      <td>0.0</td>\n",
       "      <td>0.0</td>\n",
       "      <td>0.0</td>\n",
       "      <td>...</td>\n",
       "      <td>48.0</td>\n",
       "      <td>9.0</td>\n",
       "      <td>25.0</td>\n",
       "      <td>13.0</td>\n",
       "      <td>3.0</td>\n",
       "      <td>11.0</td>\n",
       "      <td>27.0</td>\n",
       "      <td>13.0</td>\n",
       "      <td>36.0</td>\n",
       "      <td>10.0</td>\n",
       "    </tr>\n",
       "  </tbody>\n",
       "</table>\n",
       "<p>5 rows × 551 columns</p>\n",
       "</div>"
      ],
      "text/plain": [
       "                                                Page  2015-07-01  2015-07-02  \\\n",
       "0            2NE1_zh.wikipedia.org_all-access_spider        18.0        11.0   \n",
       "1             2PM_zh.wikipedia.org_all-access_spider        11.0        14.0   \n",
       "2              3C_zh.wikipedia.org_all-access_spider         1.0         0.0   \n",
       "3         4minute_zh.wikipedia.org_all-access_spider        35.0        13.0   \n",
       "4  52_Hz_I_Love_You_zh.wikipedia.org_all-access_s...         0.0         0.0   \n",
       "\n",
       "   2015-07-03  2015-07-04  2015-07-05  2015-07-06  2015-07-07  2015-07-08  \\\n",
       "0         5.0        13.0        14.0         9.0         9.0        22.0   \n",
       "1        15.0        18.0        11.0        13.0        22.0        11.0   \n",
       "2         1.0         1.0         0.0         4.0         0.0         3.0   \n",
       "3        10.0        94.0         4.0        26.0        14.0         9.0   \n",
       "4         0.0         0.0         0.0         0.0         0.0         0.0   \n",
       "\n",
       "   2015-07-09     ...      2016-12-22  2016-12-23  2016-12-24  2016-12-25  \\\n",
       "0        26.0     ...            32.0        63.0        15.0        26.0   \n",
       "1        10.0     ...            17.0        42.0        28.0        15.0   \n",
       "2         4.0     ...             3.0         1.0         1.0         7.0   \n",
       "3        11.0     ...            32.0        10.0        26.0        27.0   \n",
       "4         0.0     ...            48.0         9.0        25.0        13.0   \n",
       "\n",
       "   2016-12-26  2016-12-27  2016-12-28  2016-12-29  2016-12-30  2016-12-31  \n",
       "0        14.0        20.0        22.0        19.0        18.0        20.0  \n",
       "1         9.0        30.0        52.0        45.0        26.0        20.0  \n",
       "2         4.0         4.0         6.0         3.0         4.0        17.0  \n",
       "3        16.0        11.0        17.0        19.0        10.0        11.0  \n",
       "4         3.0        11.0        27.0        13.0        36.0        10.0  \n",
       "\n",
       "[5 rows x 551 columns]"
      ]
     },
     "execution_count": 6,
     "metadata": {},
     "output_type": "execute_result"
    }
   ],
   "source": [
    "train.head()"
   ]
  },
  {
   "cell_type": "code",
   "execution_count": null,
   "metadata": {
    "collapsed": true
   },
   "outputs": [],
   "source": []
  },
  {
   "cell_type": "markdown",
   "metadata": {
    "collapsed": true
   },
   "source": [
    "## How are the daily pageviews distributed per sequence?"
   ]
  },
  {
   "cell_type": "code",
   "execution_count": 92,
   "metadata": {
    "collapsed": true
   },
   "outputs": [],
   "source": [
    "sequences = train.sample(10).drop('Page', axis=1).reset_index()"
   ]
  },
  {
   "cell_type": "code",
   "execution_count": 94,
   "metadata": {},
   "outputs": [
    {
     "data": {
      "image/png": "[encoded data removed]",
      "text/plain": [
       "<matplotlib.figure.Figure at 0x12c4b38d0>"
      ]
     },
     "metadata": {},
     "output_type": "display_data"
    }
   ],
   "source": [
    "fig, axes = plt.subplots(10, figsize=(12,30))\n",
    "\n",
    "for idx, sequence in sequences.iterrows():\n",
    "    sns.distplot(sequence, kde=False, ax=axes[idx], bins=100)\n",
    "\n",
    "plt.show()"
   ]
  },
  {
   "cell_type": "markdown",
   "metadata": {},
   "source": [
    "Lets look at top 5 and bottom 5 (in terms of total count) \n",
    "_note that I've only loaded some of the rows of the data since I'm on my shitty laptop_\n",
    "\n",
    "It's likely that the bottom ones are gonna just be all zeros so probably not worth looking at tbh"
   ]
  },
  {
   "cell_type": "code",
   "execution_count": 104,
   "metadata": {
    "collapsed": true
   },
   "outputs": [],
   "source": [
    "sums = train.sum(axis=1).sort_values(ascending=False)\n",
    "top_idx = sums.head(8).index\n",
    "bot_idx = sums.tail(2).index"
   ]
  },
  {
   "cell_type": "code",
   "execution_count": 117,
   "metadata": {
    "scrolled": false
   },
   "outputs": [
    {
     "data": {
      "image/png": "[encoded data removed]",
      "text/plain": [
       "<matplotlib.figure.Figure at 0x12c362ba8>"
      ]
     },
     "metadata": {},
     "output_type": "display_data"
    }
   ],
   "source": [
    "fig, axes = plt.subplots(10, figsize=(13,30))\n",
    "\n",
    "for idx, sequence in train.iloc[top_idx].reset_index().iterrows():\n",
    "    axes[idx].set_title(sequence['Page'])\n",
    "    sns.distplot(sequence.drop('Page'), kde=False, ax=axes[idx], bins=100)\n",
    "    \n",
    "for idx, sequence in train.iloc[bot_idx].reset_index().iterrows():\n",
    "    ax_idx = idx+8\n",
    "    axes[ax_idx].set_title(sequence['Page'])\n",
    "    sns.distplot(sequence.drop('Page'), kde=False, ax=axes[ax_idx], bins=100)\n",
    "    \n",
    "plt.tight_layout()\n",
    "plt.show()"
   ]
  },
  {
   "cell_type": "markdown",
   "metadata": {},
   "source": [
    "and over the whole dataset?"
   ]
  },
  {
   "cell_type": "code",
   "execution_count": 70,
   "metadata": {
    "scrolled": true
   },
   "outputs": [
    {
     "data": {
      "text/plain": [
       "<matplotlib.axes._subplots.AxesSubplot at 0x11e64cb00>"
      ]
     },
     "execution_count": 70,
     "metadata": {},
     "output_type": "execute_result"
    },
    {
     "data": {
      "image/png": "[encoded data removed]",
      "text/plain": [
       "<matplotlib.figure.Figure at 0x12f6f7f60>"
      ]
     },
     "metadata": {},
     "output_type": "display_data"
    }
   ],
   "source": [
    "all_values = train.drop('Page', axis=1).values.flatten()\n",
    "plt.figure(figsize=(10, 10))\n",
    "sns.distplot(all_values, kde=False, bins=1000)"
   ]
  },
  {
   "cell_type": "markdown",
   "metadata": {},
   "source": [
    "the small values skew it hugely, lets get rid of them for now"
   ]
  },
  {
   "cell_type": "code",
   "execution_count": 80,
   "metadata": {
    "collapsed": true
   },
   "outputs": [],
   "source": [
    "all_values_no_zero = np.array([v for v in all_values if v>10000])"
   ]
  },
  {
   "cell_type": "code",
   "execution_count": 81,
   "metadata": {},
   "outputs": [
    {
     "data": {
      "text/plain": [
       "(5500000,)"
      ]
     },
     "execution_count": 81,
     "metadata": {},
     "output_type": "execute_result"
    }
   ],
   "source": [
    "all_values.shape"
   ]
  },
  {
   "cell_type": "code",
   "execution_count": 82,
   "metadata": {},
   "outputs": [
    {
     "data": {
      "text/plain": [
       "(35403,)"
      ]
     },
     "execution_count": 82,
     "metadata": {},
     "output_type": "execute_result"
    }
   ],
   "source": [
    "all_values_no_zero.shape"
   ]
  },
  {
   "cell_type": "code",
   "execution_count": 90,
   "metadata": {
    "scrolled": true
   },
   "outputs": [
    {
     "data": {
      "image/png": "[encoded data removed]",
      "text/plain": [
       "<matplotlib.figure.Figure at 0x12daab0f0>"
      ]
     },
     "metadata": {},
     "output_type": "display_data"
    }
   ],
   "source": [
    "plt.figure(figsize=(15, 15))\n",
    "sns.distplot(all_values_no_zero, kde=False)\n",
    "plt.show()"
   ]
  },
  {
   "cell_type": "markdown",
   "metadata": {},
   "source": [
    "Grim I need to check out wtf is happening there"
   ]
  },
  {
   "cell_type": "code",
   "execution_count": null,
   "metadata": {
    "collapsed": true
   },
   "outputs": [],
   "source": []
  }
 ],
 "metadata": {
  "kernelspec": {
   "display_name": "Python 3",
   "language": "python",
   "name": "python3"
  },
  "language_info": {
   "codemirror_mode": {
    "name": "ipython",
    "version": 3
   },
   "file_extension": ".py",
   "mimetype": "text/x-python",
   "name": "python",
   "nbconvert_exporter": "python",
   "pygments_lexer": "ipython3",
   "version": "3.6.2"
  }
 },
 "nbformat": 4,
 "nbformat_minor": 2
}
