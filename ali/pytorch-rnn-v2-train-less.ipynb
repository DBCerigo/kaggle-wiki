{
 "cells": [
  {
   "cell_type": "code",
   "execution_count": 1,
   "metadata": {
    "collapsed": true
   },
   "outputs": [],
   "source": [
    "%load_ext autoreload\n",
    "%autoreload 2\n",
    "import sys\n",
    "import gc\n",
    "\n",
    "from multiprocessing import cpu_count, Pool\n",
    "import numpy as np\n",
    "import pandas as pd\n",
    "import torch\n",
    "import torch.nn as nn\n",
    "import torch.utils.data as data_utils\n",
    "\n",
    "from tqdm import tqdm\n",
    "\n",
    "sys.path.append('../')\n",
    "from wiki.utils import clock\n",
    "from wiki import rnn, rnn_predict, newphet, val\n",
    "%matplotlib inline"
   ]
  },
  {
   "cell_type": "code",
   "execution_count": 2,
   "metadata": {
    "collapsed": true
   },
   "outputs": [],
   "source": [
    "torch.manual_seed(1)\n",
    "torch.cuda.set_device(0)"
   ]
  },
  {
   "cell_type": "code",
   "execution_count": 3,
   "metadata": {
    "collapsed": true
   },
   "outputs": [],
   "source": [
    "batch_size = 1024\n",
    "pred_len = 62"
   ]
  },
  {
   "cell_type": "code",
   "execution_count": 4,
   "metadata": {
    "collapsed": true
   },
   "outputs": [],
   "source": [
    "base_dir = '../data/'\n",
    "train_df = pd.read_csv(base_dir+'train_2.csv').fillna(0)"
   ]
  },
  {
   "cell_type": "code",
   "execution_count": 5,
   "metadata": {
    "collapsed": true
   },
   "outputs": [],
   "source": [
    "X = train_df.drop('Page', axis=1).values\n",
    "X, scaler = rnn.scale_values(X)"
   ]
  },
  {
   "cell_type": "code",
   "execution_count": 6,
   "metadata": {},
   "outputs": [
    {
     "data": {
      "text/plain": [
       "(145063, 430, 1)"
      ]
     },
     "execution_count": 6,
     "metadata": {},
     "output_type": "execute_result"
    }
   ],
   "source": [
    "X[:,-2*pred_len-430:-2*pred_len,:].shape"
   ]
  },
  {
   "cell_type": "code",
   "execution_count": 7,
   "metadata": {
    "collapsed": true
   },
   "outputs": [],
   "source": [
    "trainloader = data_utils.DataLoader(\n",
    "    data_utils.TensorDataset(\n",
    "        torch.from_numpy(X[:,-2*pred_len-430:-2*pred_len,:]).float(),\n",
    "        torch.from_numpy(X[:,-2*pred_len:-pred_len,:]).float()\n",
    "    ),\n",
    "    batch_size=batch_size, shuffle=False\n",
    ")"
   ]
  },
  {
   "cell_type": "code",
   "execution_count": 8,
   "metadata": {
    "collapsed": true
   },
   "outputs": [],
   "source": [
    "valloader = data_utils.DataLoader(\n",
    "    data_utils.TensorDataset(\n",
    "        torch.from_numpy(X[:,:-pred_len,:]).float(),\n",
    "        torch.from_numpy(X[:,-pred_len:,:]).float()\n",
    "    ),\n",
    "    batch_size=batch_size, shuffle=False\n",
    ")"
   ]
  },
  {
   "cell_type": "code",
   "execution_count": 9,
   "metadata": {
    "collapsed": true
   },
   "outputs": [],
   "source": [
    "loss_func = nn.L1Loss()\n",
    "model = rnn.RNN(loss_func=loss_func).cuda()"
   ]
  },
  {
   "cell_type": "code",
   "execution_count": 10,
   "metadata": {},
   "outputs": [
    {
     "name": "stdout",
     "output_type": "stream",
     "text": [
      "\n",
      "EPOCH 1\n",
      "Running average loss: 0.306826\n",
      "VALIDATION LOSS: 0.339932\n",
      "Elapsed time 128.67716574668884 seconds\n",
      "\n",
      "EPOCH 2\n",
      "Running average loss: 0.277324\n",
      "VALIDATION LOSS: 0.307616\n",
      "Elapsed time 130.39881134033203 seconds\n",
      "\n",
      "EPOCH 3\n",
      "Running average loss: 0.270736\n",
      "VALIDATION LOSS: 0.334855\n",
      "Elapsed time 130.2153697013855 seconds\n",
      "\n",
      "EPOCH 4\n",
      "Running average loss: 0.271408\n",
      "VALIDATION LOSS: 0.326930\n",
      "Elapsed time 130.79535484313965 seconds\n",
      "\n",
      "EPOCH 5\n",
      "Running average loss: 0.262628\n",
      "VALIDATION LOSS: 0.323913\n",
      "Elapsed time 130.9239535331726 seconds\n",
      "\n",
      "EPOCH 6\n",
      "Running average loss: 0.257636\n",
      "VALIDATION LOSS: 0.293759\n",
      "Elapsed time 130.9645779132843 seconds\n",
      "\n",
      "EPOCH 7\n",
      "Running average loss: 0.260767\n",
      "VALIDATION LOSS: 0.314939\n",
      "Elapsed time 131.15691661834717 seconds\n",
      "\n",
      "EPOCH 8\n",
      "Running average loss: 0.256758\n",
      "VALIDATION LOSS: 0.337092\n",
      "Elapsed time 131.0662636756897 seconds\n",
      "\n",
      "EPOCH 9\n",
      "Running average loss: 0.259481\n",
      "VALIDATION LOSS: 0.313699\n",
      "Elapsed time 130.8859040737152 seconds\n",
      "\n",
      "EPOCH 10\n",
      "Running average loss: 0.249812\n",
      "VALIDATION LOSS: 0.288287\n",
      "Elapsed time 130.9340615272522 seconds\n",
      "\n",
      "EPOCH 11\n",
      "Running average loss: 0.254210\n",
      "VALIDATION LOSS: 0.318277\n",
      "Elapsed time 130.80570125579834 seconds\n",
      "\n",
      "EPOCH 12\n",
      "Running average loss: 0.254076\n",
      "VALIDATION LOSS: 0.296938\n",
      "Elapsed time 131.03477787971497 seconds\n",
      "\n",
      "EPOCH 13\n",
      "Running average loss: 0.246993\n",
      "VALIDATION LOSS: 0.329220\n",
      "Elapsed time 130.82876801490784 seconds\n",
      "\n",
      "EPOCH 14\n",
      "Running average loss: 0.245970\n",
      "VALIDATION LOSS: 0.296374\n",
      "Elapsed time 130.93526816368103 seconds\n",
      "\n",
      "EPOCH 15\n",
      "Running average loss: 0.252903\n",
      "VALIDATION LOSS: 0.319981\n",
      "Elapsed time 130.96954560279846 seconds\n",
      "\n",
      "EPOCH 16\n",
      "Running average loss: 0.249602\n",
      "VALIDATION LOSS: 0.286221\n",
      "Elapsed time 130.9789161682129 seconds\n",
      "\n",
      "EPOCH 17\n",
      "Running average loss: 0.243146\n",
      "VALIDATION LOSS: 0.296526\n",
      "Elapsed time 130.93321561813354 seconds\n",
      "\n",
      "EPOCH 18\n",
      "Running average loss: 0.243182\n",
      "VALIDATION LOSS: 0.280035\n",
      "Elapsed time 131.15587091445923 seconds\n",
      "\n",
      "EPOCH 19\n",
      "Running average loss: 0.238779\n",
      "VALIDATION LOSS: 0.300648\n",
      "Elapsed time 130.98362517356873 seconds\n",
      "\n",
      "EPOCH 20\n",
      "Running average loss: 0.244602\n",
      "VALIDATION LOSS: 0.318888\n",
      "Elapsed time 130.91242170333862 seconds\n",
      "Elapsed time 2615.562206506729 seconds\n"
     ]
    }
   ],
   "source": [
    "optimizer = torch.optim.Adam(model.parameters(), lr=1e-3)\n",
    "save_best_path = base_dir+'rnn_stage2_v2_lr1.mdl'\n",
    "with clock():\n",
    "    model.fit(trainloader, valloader, optimizer=optimizer, num_epochs=20, save_best_path=save_best_path)"
   ]
  },
  {
   "cell_type": "code",
   "execution_count": 12,
   "metadata": {},
   "outputs": [],
   "source": [
    "save_best_path = base_dir+'rnn_stage2_v2_lr1.mdl'\n",
    "model.load_state_dict(torch.load(save_best_path))"
   ]
  },
  {
   "cell_type": "code",
   "execution_count": 13,
   "metadata": {},
   "outputs": [
    {
     "name": "stdout",
     "output_type": "stream",
     "text": [
      "\n",
      "EPOCH 1\n",
      "Running average loss: 0.240081\n",
      "VALIDATION LOSS: 0.277908\n",
      "Elapsed time 130.3156337738037 seconds\n",
      "\n",
      "EPOCH 2\n",
      "Running average loss: 0.234400\n",
      "VALIDATION LOSS: 0.275602\n",
      "Elapsed time 131.09065008163452 seconds\n",
      "\n",
      "EPOCH 3\n",
      "Running average loss: 0.241276\n",
      "VALIDATION LOSS: 0.275781\n",
      "Elapsed time 131.07211685180664 seconds\n",
      "\n",
      "EPOCH 4\n",
      "Running average loss: 0.237167\n",
      "VALIDATION LOSS: 0.275322\n",
      "Elapsed time 131.07584261894226 seconds\n",
      "\n",
      "EPOCH 5\n",
      "Running average loss: 0.242194\n",
      "VALIDATION LOSS: 0.277560\n",
      "Elapsed time 131.12250995635986 seconds\n",
      "\n",
      "EPOCH 6\n",
      "Running average loss: 0.235518\n",
      "VALIDATION LOSS: 0.273964\n",
      "Elapsed time 131.10485434532166 seconds\n",
      "\n",
      "EPOCH 7\n",
      "Running average loss: 0.239239\n",
      "VALIDATION LOSS: 0.275229\n",
      "Elapsed time 130.93220448493958 seconds\n",
      "\n",
      "EPOCH 8\n",
      "Running average loss: 0.240899\n",
      "VALIDATION LOSS: 0.274285\n",
      "Elapsed time 131.1715157032013 seconds\n",
      "\n",
      "EPOCH 9\n",
      "Running average loss: 0.239816\n",
      "VALIDATION LOSS: 0.274011\n",
      "Elapsed time 130.93414759635925 seconds\n",
      "\n",
      "EPOCH 10\n",
      "Running average loss: 0.237013\n",
      "VALIDATION LOSS: 0.275376\n",
      "Elapsed time 130.97777390480042 seconds\n",
      "Elapsed time 1309.801566362381 seconds\n"
     ]
    }
   ],
   "source": [
    "optimizer = torch.optim.Adam(model.parameters(), lr=1e-4)\n",
    "save_best_path = base_dir+'rnn_stage2_v2_lr2.mdl'\n",
    "with clock():\n",
    "    model.fit(trainloader, valloader, optimizer=optimizer, num_epochs=10, save_best_path=save_best_path)"
   ]
  },
  {
   "cell_type": "code",
   "execution_count": 15,
   "metadata": {},
   "outputs": [],
   "source": [
    "save_best_path = base_dir+'rnn_stage2_v2_lr2.mdl'\n",
    "model.load_state_dict(torch.load(save_best_path))"
   ]
  },
  {
   "cell_type": "code",
   "execution_count": 16,
   "metadata": {
    "collapsed": true
   },
   "outputs": [],
   "source": [
    "outputs, targets, sequences = model.predict(valloader)"
   ]
  },
  {
   "cell_type": "code",
   "execution_count": 17,
   "metadata": {
    "collapsed": true
   },
   "outputs": [],
   "source": [
    "_, predictions = rnn_predict.combine_prediction_data(outputs, targets, sequences)"
   ]
  },
  {
   "cell_type": "code",
   "execution_count": 18,
   "metadata": {
    "collapsed": true
   },
   "outputs": [],
   "source": [
    "base_dir = '../data/'\n",
    "train_df = pd.read_csv(base_dir+'train_2.csv')\n",
    "X = train_df.drop('Page', axis=1).values"
   ]
  },
  {
   "cell_type": "code",
   "execution_count": 19,
   "metadata": {
    "collapsed": true
   },
   "outputs": [],
   "source": [
    "predictions = scaler.inverse_transform(predictions.T).T\n",
    "true = X"
   ]
  },
  {
   "cell_type": "code",
   "execution_count": 20,
   "metadata": {},
   "outputs": [
    {
     "name": "stderr",
     "output_type": "stream",
     "text": [
      "../wiki/val.py:8: RuntimeWarning: Mean of empty slice\n",
      "  return np.nanmean(diff) if axis is None else np.nanmean(diff, axis=axis)\n",
      "../wiki/val.py:6: RuntimeWarning: invalid value encountered in true_divide\n",
      "  diff = np.abs(y_true - y_pred) / denominator\n"
     ]
    }
   ],
   "source": [
    "smapes = val.smape(true[:,-60:], predictions[:,-60:], axis=1)\n",
    "smapes_clipped = val.smape(true[:,-60:], predictions[:,-60:].round().clip(0), axis=1)"
   ]
  },
  {
   "cell_type": "code",
   "execution_count": 21,
   "metadata": {},
   "outputs": [
    {
     "data": {
      "text/plain": [
       "(45.292513613168069, 43.341507158056743)"
      ]
     },
     "execution_count": 21,
     "metadata": {},
     "output_type": "execute_result"
    }
   ],
   "source": [
    "np.nanmean(smapes), np.nanmean(smapes_clipped)"
   ]
  }
 ],
 "metadata": {
  "kernelspec": {
   "display_name": "Python 3",
   "language": "python",
   "name": "python3"
  },
  "language_info": {
   "codemirror_mode": {
    "name": "ipython",
    "version": 3
   },
   "file_extension": ".py",
   "mimetype": "text/x-python",
   "name": "python",
   "nbconvert_exporter": "python",
   "pygments_lexer": "ipython3",
   "version": "3.6.2"
  }
 },
 "nbformat": 4,
 "nbformat_minor": 2
}
