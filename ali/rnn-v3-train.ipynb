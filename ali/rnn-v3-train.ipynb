{
 "cells": [
  {
   "cell_type": "code",
   "execution_count": 1,
   "metadata": {
    "collapsed": true
   },
   "outputs": [],
   "source": [
    "%load_ext autoreload\n",
    "%autoreload 2\n",
    "import sys\n",
    "import gc\n",
    "\n",
    "import numpy as np\n",
    "import pandas as pd\n",
    "import torch\n",
    "import torch.nn as nn\n",
    "import torch.utils.data as data_utils\n",
    "from torch.autograd import Variable\n",
    "\n",
    "from tqdm import tqdm\n",
    "\n",
    "sys.path.append('../')\n",
    "from wiki.utils import clock\n",
    "from wiki import rnn, rnn_predict, newphet, val, submissions, rnn_meta as rnn_meta\n",
    "%matplotlib inline"
   ]
  },
  {
   "cell_type": "code",
   "execution_count": 2,
   "metadata": {
    "collapsed": true
   },
   "outputs": [],
   "source": [
    "base_dir = '../data/'\n",
    "pred_len = 62\n",
    "batch_size = 1024"
   ]
  },
  {
   "cell_type": "code",
   "execution_count": 3,
   "metadata": {
    "collapsed": true
   },
   "outputs": [],
   "source": [
    "train_df = pd.read_csv(base_dir+'train_2.csv').fillna(0)"
   ]
  },
  {
   "cell_type": "code",
   "execution_count": 4,
   "metadata": {},
   "outputs": [
    {
     "data": {
      "text/plain": [
       "(145063, 550)"
      ]
     },
     "execution_count": 4,
     "metadata": {},
     "output_type": "execute_result"
    }
   ],
   "source": [
    "values = train_df.drop('Page', axis=1).values ; values.shape"
   ]
  },
  {
   "cell_type": "code",
   "execution_count": 5,
   "metadata": {
    "collapsed": true
   },
   "outputs": [],
   "source": [
    "dates = train_df.columns[1:].values\n",
    "s_date = dates[0]\n",
    "e_date = dates[-1]"
   ]
  },
  {
   "cell_type": "code",
   "execution_count": 6,
   "metadata": {
    "collapsed": true
   },
   "outputs": [],
   "source": [
    "dates = pd.date_range(s_date, e_date)"
   ]
  },
  {
   "cell_type": "code",
   "execution_count": 7,
   "metadata": {
    "collapsed": true
   },
   "outputs": [],
   "source": [
    "ages = np.arange(len(dates))\n",
    "dows = dates.dayofweek.values\n",
    "woys = dates.weekofyear.values"
   ]
  },
  {
   "cell_type": "code",
   "execution_count": 8,
   "metadata": {
    "collapsed": true
   },
   "outputs": [],
   "source": [
    "#Expand the dims to make broadcasting work - since numpy\n",
    "#refuses to add dimensions to the right when broadcasting\n",
    "series_idxs = np.expand_dims(np.arange(values.shape[0]), axis=-1)"
   ]
  },
  {
   "cell_type": "code",
   "execution_count": 9,
   "metadata": {
    "collapsed": true
   },
   "outputs": [],
   "source": [
    "values, scaler = rnn.scale_values(values)"
   ]
  },
  {
   "cell_type": "code",
   "execution_count": 10,
   "metadata": {
    "collapsed": true
   },
   "outputs": [],
   "source": [
    "values = values.squeeze()"
   ]
  },
  {
   "cell_type": "code",
   "execution_count": 11,
   "metadata": {
    "collapsed": true
   },
   "outputs": [],
   "source": [
    "br = lambda x: np.broadcast_to(x, values.shape)"
   ]
  },
  {
   "cell_type": "code",
   "execution_count": 12,
   "metadata": {
    "collapsed": true
   },
   "outputs": [],
   "source": [
    "features = np.stack([values, br(ages), br(dows), br(woys), br(series_idxs)], axis=-1)"
   ]
  },
  {
   "cell_type": "code",
   "execution_count": 13,
   "metadata": {},
   "outputs": [
    {
     "data": {
      "text/plain": [
       "(145063, 550, 5)"
      ]
     },
     "execution_count": 13,
     "metadata": {},
     "output_type": "execute_result"
    }
   ],
   "source": [
    "features.shape"
   ]
  },
  {
   "cell_type": "markdown",
   "metadata": {},
   "source": [
    "Ok, the `DataLoaders` aren't gonna work anymore since it makes everything inside a Variable which require gradients. Our embedding indices compute gradient wrt to the embeddings, not the indices, so it breaks. That means we've gotta split it up - so we might as well just do it ourselves."
   ]
  },
  {
   "cell_type": "code",
   "execution_count": 14,
   "metadata": {
    "collapsed": true
   },
   "outputs": [],
   "source": [
    "trainloader = data_utils.DataLoader(\n",
    "    data_utils.TensorDataset(\n",
    "        torch.from_numpy(features[:,:-2*pred_len,:]).float(),\n",
    "        torch.from_numpy(features[:,-2*pred_len:-pred_len,:]).float()\n",
    "    ),\n",
    "    batch_size=batch_size, shuffle=False\n",
    ")\n",
    "valloader = data_utils.DataLoader(\n",
    "    data_utils.TensorDataset(\n",
    "        torch.from_numpy(features[:,:-pred_len,:]).float(),\n",
    "        torch.from_numpy(features[:,-pred_len:,:]).float()\n",
    "    ),\n",
    "    batch_size=batch_size, shuffle=False\n",
    ")"
   ]
  },
  {
   "cell_type": "code",
   "execution_count": null,
   "metadata": {
    "collapsed": true
   },
   "outputs": [],
   "source": [
    "model = rnn_meta.RNN().cuda()"
   ]
  },
  {
   "cell_type": "code",
   "execution_count": null,
   "metadata": {
    "scrolled": false
   },
   "outputs": [
    {
     "name": "stdout",
     "output_type": "stream",
     "text": [
      "\n",
      "EPOCH 1\n",
      "Running average loss: 0.451747\n",
      "VALIDATION LOSS: 0.506225\n",
      "Elapsed time 128.3827178478241 seconds\n",
      "\n",
      "EPOCH 2\n",
      "Running average loss: 0.442855\n",
      "VALIDATION LOSS: 0.504274\n",
      "Elapsed time 128.8742551803589 seconds\n",
      "\n",
      "EPOCH 3\n",
      "Running average loss: 0.439102\n",
      "VALIDATION LOSS: 0.495854\n",
      "Elapsed time 128.8277611732483 seconds\n",
      "\n",
      "EPOCH 4\n",
      "Running average loss: 0.429084\n",
      "VALIDATION LOSS: 0.482337\n",
      "Elapsed time 128.86404418945312 seconds\n",
      "\n",
      "EPOCH 5\n",
      "Running average loss: 0.387165\n",
      "VALIDATION LOSS: 0.467202\n",
      "Elapsed time 128.9026734828949 seconds\n",
      "\n",
      "EPOCH 8\n",
      "Running average loss: 0.381860\n",
      "VALIDATION LOSS: 0.467539\n",
      "Elapsed time 128.84917330741882 seconds\n",
      "\n",
      "EPOCH 9\n",
      "Running average loss: 0.377577\n",
      "VALIDATION LOSS: 0.442615\n",
      "Elapsed time 128.80337691307068 seconds\n",
      "\n",
      "EPOCH 10\n",
      "Running average loss: 0.376156\n",
      "VALIDATION LOSS: 0.457810\n",
      "Elapsed time 128.85196375846863 seconds\n",
      "\n",
      "EPOCH 11\n",
      "Running average loss: 0.372141\n",
      "VALIDATION LOSS: 0.448912\n",
      "Elapsed time 128.75375318527222 seconds\n",
      "\n",
      "EPOCH 12\n",
      "Running average loss: 0.369520\n",
      "VALIDATION LOSS: 0.435285\n",
      "Elapsed time 128.9503436088562 seconds\n",
      "\n",
      "EPOCH 13\n",
      "Running average loss: 0.366601\n",
      "VALIDATION LOSS: 0.453451\n",
      "Elapsed time 128.75814414024353 seconds\n",
      "\n",
      "EPOCH 14\n",
      "Running average loss: 0.364244\n",
      "VALIDATION LOSS: 0.453410\n",
      "Elapsed time 128.8681709766388 seconds\n",
      "\n",
      "EPOCH 15\n",
      "Running average loss: 0.363828\n",
      "VALIDATION LOSS: 0.444881\n",
      "Elapsed time 128.77394771575928 seconds\n",
      "\n",
      "EPOCH 16\n",
      "Running average loss: 0.363450\n",
      "VALIDATION LOSS: 0.439343\n",
      "Elapsed time 128.98761749267578 seconds\n",
      "\n",
      "EPOCH 17\n",
      "Running average loss: 0.363465\n",
      "VALIDATION LOSS: 0.453798\n",
      "Elapsed time 128.75519919395447 seconds\n",
      "\n",
      "EPOCH 18\n",
      "Running average loss: 0.360962\n",
      "VALIDATION LOSS: 0.449573\n",
      "Elapsed time 129.02317261695862 seconds\n",
      "\n",
      "EPOCH 19\n",
      "Running average loss: 0.361861\n",
      "VALIDATION LOSS: 0.460380\n",
      "Elapsed time 128.81976509094238 seconds\n",
      "\n",
      "EPOCH 20\n",
      "Running average loss: 0.360909\n",
      "VALIDATION LOSS: 0.461613\n",
      "Elapsed time 128.85108375549316 seconds\n",
      "\n",
      "EPOCH 21\n",
      "Running average loss: 0.360537\n",
      "VALIDATION LOSS: 0.446225\n",
      "Elapsed time 128.88679242134094 seconds\n",
      "\n",
      "EPOCH 22\n",
      "Running average loss: 0.358941\n",
      "VALIDATION LOSS: 0.448171\n",
      "Elapsed time 128.9444830417633 seconds\n",
      "\n",
      "EPOCH 23\n",
      "Running average loss: 0.358101\n",
      "VALIDATION LOSS: 0.444922\n",
      "Elapsed time 128.85652542114258 seconds\n",
      "\n",
      "EPOCH 24\n",
      "Running average loss: 0.356969\n",
      "VALIDATION LOSS: 0.450385\n",
      "Elapsed time 129.00014305114746 seconds\n",
      "\n",
      "EPOCH 25\n",
      "Running average loss: 0.359933\n",
      "VALIDATION LOSS: 0.449087\n",
      "Elapsed time 129.02030634880066 seconds\n",
      "Elapsed time 3221.5345389842987 seconds\n"
     ]
    }
   ],
   "source": [
    "optimizer = torch.optim.Adam(model.parameters(), lr=1e-3)\n",
    "save_best_path = base_dir+'rnn_stage2_v3_lr1_weights.mdl'\n",
    "with clock():\n",
    "    model.fit(trainloader, valloader, optimizer=optimizer, num_epochs=25, save_best_path=save_best_path)"
   ]
  },
  {
   "cell_type": "code",
   "execution_count": 28,
   "metadata": {},
   "outputs": [
    {
     "data": {
      "text/plain": [
       "RNN (\n",
       "  (embedding): Embedding(145063, 20)\n",
       "  (rnn): GRU(24, 128, num_layers=2, batch_first=True, dropout=0.2)\n",
       "  (out): Linear (128 -> 1)\n",
       "  (loss_func): L1Loss (\n",
       "  )\n",
       ")"
      ]
     },
     "execution_count": 28,
     "metadata": {},
     "output_type": "execute_result"
    }
   ],
   "source": [
    "model"
   ]
  },
  {
   "cell_type": "code",
   "execution_count": null,
   "metadata": {},
   "outputs": [
    {
     "name": "stdout",
     "output_type": "stream",
     "text": [
      "\n",
      "EPOCH 1\n",
      "Running average loss: 0.354721\n",
      "VALIDATION LOSS: 0.429406\n",
      "Elapsed time 128.99523210525513 seconds\n",
      "\n",
      "EPOCH 2\n",
      "Running average loss: 0.351667\n",
      "VALIDATION LOSS: 0.428612\n",
      "Elapsed time 128.9609522819519 seconds\n",
      "\n",
      "EPOCH 3\n",
      "Running average loss: 0.350720\n",
      "VALIDATION LOSS: 0.428199\n",
      "Elapsed time 128.92836594581604 seconds\n",
      "\n",
      "EPOCH 4\n",
      "Running average loss: 0.350254\n",
      "VALIDATION LOSS: 0.428064\n",
      "Elapsed time 129.02649664878845 seconds\n",
      "\n",
      "EPOCH 5\n",
      "Running average loss: 0.349885\n",
      "VALIDATION LOSS: 0.427551\n",
      "Elapsed time 128.936537027359 seconds\n",
      "\n",
      "EPOCH 6\n",
      "Running average loss: 0.349603\n",
      "VALIDATION LOSS: 0.427624\n",
      "Elapsed time 128.90549182891846 seconds\n",
      "\n",
      "EPOCH 7\n",
      "Running average loss: 0.349295\n",
      "VALIDATION LOSS: 0.427687\n",
      "Elapsed time 129.03417921066284 seconds\n",
      "\n",
      "EPOCH 8\n",
      "Running average loss: 0.349090\n",
      "VALIDATION LOSS: 0.427459\n",
      "Elapsed time 128.83287477493286 seconds\n",
      "\n",
      "EPOCH 9\n",
      "Running average loss: 0.348818\n",
      "VALIDATION LOSS: 0.427029\n",
      "Elapsed time 128.97450137138367 seconds\n",
      "\n",
      "EPOCH 10\n",
      "Running average loss: 0.348550\n",
      "VALIDATION LOSS: 0.427011\n",
      "Elapsed time 129.0636157989502 seconds\n",
      "\n",
      "EPOCH 11\n",
      "Running average loss: 0.348249\n",
      "VALIDATION LOSS: 0.427330\n",
      "Elapsed time 129.02937293052673 seconds\n",
      "\n",
      "EPOCH 12\n",
      "Running average loss: 0.348025\n",
      "VALIDATION LOSS: 0.427268\n",
      "Elapsed time 129.07182455062866 seconds\n",
      "\n",
      "EPOCH 13\n",
      "Running average loss: 0.347947\n",
      "VALIDATION LOSS: 0.427129\n",
      "Elapsed time 128.89099597930908 seconds\n",
      "\n",
      "EPOCH 14\n",
      "Running average loss: 0.347667\n",
      "VALIDATION LOSS: 0.427235\n",
      "Elapsed time 128.79002451896667 seconds\n",
      "\n",
      "EPOCH 15\n",
      "Running average loss: 0.347415\n",
      "VALIDATION LOSS: 0.427614\n",
      "Elapsed time 128.86153292655945 seconds\n",
      "\n",
      "EPOCH 16\n",
      "Running average loss: 0.356766\r"
     ]
    }
   ],
   "source": [
    "optimizer = torch.optim.Adam(model.parameters(), lr=1e-4)\n",
    "save_best_path = base_dir+'rnn_stage2_v3_lr2_weights.mdl'\n",
    "with clock():\n",
    "    model.fit(trainloader, valloader, optimizer=optimizer, num_epochs=20, save_best_path=save_best_path)"
   ]
  },
  {
   "cell_type": "code",
   "execution_count": null,
   "metadata": {
    "collapsed": true
   },
   "outputs": [],
   "source": [
    "save_best_path = base_dir+'rnn_stage2_v3_lr2_weights.mdl'\n",
    "model = rnn_meta.RNN().cuda()\n",
    "model.load_state_dict(torch.load(save_best_path))"
   ]
  },
  {
   "cell_type": "code",
   "execution_count": null,
   "metadata": {
    "collapsed": true
   },
   "outputs": [],
   "source": [
    "model.validate(valloader)"
   ]
  },
  {
   "cell_type": "code",
   "execution_count": null,
   "metadata": {
    "collapsed": true
   },
   "outputs": [],
   "source": [
    "outputs, targets, sequences = model.predict(valloader)"
   ]
  },
  {
   "cell_type": "code",
   "execution_count": null,
   "metadata": {
    "collapsed": true
   },
   "outputs": [],
   "source": [
    "_, predictions = rnn_predict.combine_prediction_data(outputs, targets, sequences)"
   ]
  },
  {
   "cell_type": "code",
   "execution_count": null,
   "metadata": {
    "collapsed": true
   },
   "outputs": [],
   "source": [
    "base_dir = '../data/'\n",
    "train_df = pd.read_csv(base_dir+'train_2.csv')\n",
    "X = train_df.drop('Page', axis=1).values"
   ]
  },
  {
   "cell_type": "code",
   "execution_count": null,
   "metadata": {
    "collapsed": true
   },
   "outputs": [],
   "source": [
    "predictions = scaler.inverse_transform(predictions.T).T\n",
    "true = X"
   ]
  },
  {
   "cell_type": "code",
   "execution_count": null,
   "metadata": {
    "collapsed": true
   },
   "outputs": [],
   "source": [
    "smapes = val.smape(true[:,-60:], predictions[:,-60:], axis=1)\n",
    "smapes_clipped = val.smape(true[:,-60:], predictions[:,-60:].round().clip(0), axis=1)"
   ]
  },
  {
   "cell_type": "code",
   "execution_count": null,
   "metadata": {
    "collapsed": true
   },
   "outputs": [],
   "source": [
    "np.nanmean(smapes), np.nanmean(smapes_clipped)"
   ]
  },
  {
   "cell_type": "code",
   "execution_count": null,
   "metadata": {
    "collapsed": true
   },
   "outputs": [],
   "source": [
    "np.save(base_dir+'rnn_v3_predictions.npy', outputs)"
   ]
  }
 ],
 "metadata": {
  "kernelspec": {
   "display_name": "Python 3",
   "language": "python",
   "name": "python3"
  },
  "language_info": {
   "codemirror_mode": {
    "name": "ipython",
    "version": 3
   },
   "file_extension": ".py",
   "mimetype": "text/x-python",
   "name": "python",
   "nbconvert_exporter": "python",
   "pygments_lexer": "ipython3",
   "version": "3.6.2"
  }
 },
 "nbformat": 4,
 "nbformat_minor": 2
}
